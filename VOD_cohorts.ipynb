{
 "cells": [
  {
   "cell_type": "code",
   "execution_count": 1,
   "metadata": {
    "collapsed": true
   },
   "outputs": [],
   "source": [
    "import pandas as pd\n",
    "import numpy as np\n",
    "import matplotlib.pyplot as plt\n",
    "%matplotlib inline"
   ]
  },
  {
   "cell_type": "code",
   "execution_count": 66,
   "metadata": {
    "collapsed": true
   },
   "outputs": [],
   "source": [
    "df = pd.read_csv(\"../VOD_EST/data/vod_cohorts.txt\", sep=\"\\t\", header=None)"
   ]
  },
  {
   "cell_type": "code",
   "execution_count": 67,
   "metadata": {},
   "outputs": [
    {
     "name": "stdout",
     "output_type": "stream",
     "text": [
      "(4823959, 4)\n"
     ]
    },
    {
     "data": {
      "text/html": [
       "<div>\n",
       "<style>\n",
       "    .dataframe thead tr:only-child th {\n",
       "        text-align: right;\n",
       "    }\n",
       "\n",
       "    .dataframe thead th {\n",
       "        text-align: left;\n",
       "    }\n",
       "\n",
       "    .dataframe tbody tr th {\n",
       "        vertical-align: top;\n",
       "    }\n",
       "</style>\n",
       "<table border=\"1\" class=\"dataframe\">\n",
       "  <thead>\n",
       "    <tr style=\"text-align: right;\">\n",
       "      <th></th>\n",
       "      <th>encrypted_customer_Id</th>\n",
       "      <th>first_purchase</th>\n",
       "      <th>transaction_date</th>\n",
       "      <th>content_type</th>\n",
       "      <th>transaction</th>\n",
       "    </tr>\n",
       "  </thead>\n",
       "  <tbody>\n",
       "    <tr>\n",
       "      <th>0</th>\n",
       "      <td>A8XJNM5X8008M</td>\n",
       "      <td>2016-04-02</td>\n",
       "      <td>2016-04-04</td>\n",
       "      <td>Movie VOD</td>\n",
       "      <td>1</td>\n",
       "    </tr>\n",
       "    <tr>\n",
       "      <th>1</th>\n",
       "      <td>A365VJ4VMPBLC</td>\n",
       "      <td>2016-03-06</td>\n",
       "      <td>2016-06-13</td>\n",
       "      <td>Movie VOD</td>\n",
       "      <td>1</td>\n",
       "    </tr>\n",
       "    <tr>\n",
       "      <th>2</th>\n",
       "      <td>ATFVH4L38OZAF</td>\n",
       "      <td>2016-01-02</td>\n",
       "      <td>2016-08-05</td>\n",
       "      <td>Movie EST</td>\n",
       "      <td>1</td>\n",
       "    </tr>\n",
       "    <tr>\n",
       "      <th>3</th>\n",
       "      <td>A370OUC2FAMFF0</td>\n",
       "      <td>2016-09-23</td>\n",
       "      <td>2016-09-28</td>\n",
       "      <td>Movie VOD</td>\n",
       "      <td>1</td>\n",
       "    </tr>\n",
       "    <tr>\n",
       "      <th>4</th>\n",
       "      <td>A18MFDSY5MG1BL</td>\n",
       "      <td>2016-05-20</td>\n",
       "      <td>2016-10-28</td>\n",
       "      <td>Movie VOD</td>\n",
       "      <td>1</td>\n",
       "    </tr>\n",
       "  </tbody>\n",
       "</table>\n",
       "</div>"
      ],
      "text/plain": [
       "  encrypted_customer_Id first_purchase transaction_date content_type  \\\n",
       "0         A8XJNM5X8008M     2016-04-02       2016-04-04    Movie VOD   \n",
       "1         A365VJ4VMPBLC     2016-03-06       2016-06-13    Movie VOD   \n",
       "2         ATFVH4L38OZAF     2016-01-02       2016-08-05    Movie EST   \n",
       "3        A370OUC2FAMFF0     2016-09-23       2016-09-28    Movie VOD   \n",
       "4        A18MFDSY5MG1BL     2016-05-20       2016-10-28    Movie VOD   \n",
       "\n",
       "   transaction  \n",
       "0            1  \n",
       "1            1  \n",
       "2            1  \n",
       "3            1  \n",
       "4            1  "
      ]
     },
     "execution_count": 67,
     "metadata": {},
     "output_type": "execute_result"
    }
   ],
   "source": [
    "print(df.shape)\n",
    "df.columns = ['encrypted_customer_Id','first_purchase','transaction_date','content_type']\n",
    "df['transaction'] = 1\n",
    "\n",
    "df['first_purchase'] = pd.to_datetime(df['first_purchase'])\n",
    "df['transaction_date'] = pd.to_datetime(df['transaction_date'])\n",
    "\n",
    "df.head()"
   ]
  },
  {
   "cell_type": "code",
   "execution_count": 68,
   "metadata": {},
   "outputs": [
    {
     "data": {
      "text/plain": [
       "483446"
      ]
     },
     "execution_count": 68,
     "metadata": {},
     "output_type": "execute_result"
    }
   ],
   "source": [
    "df['encrypted_customer_Id'].nunique()"
   ]
  },
  {
   "cell_type": "markdown",
   "metadata": {},
   "source": [
    "## Assign cohort: either VOD only or mixed"
   ]
  },
  {
   "cell_type": "code",
   "execution_count": 69,
   "metadata": {
    "collapsed": true
   },
   "outputs": [],
   "source": [
    "t = pd.pivot_table(df, index = 'encrypted_customer_Id', columns='content_type', values = 'transaction' , aggfunc = 'sum').reset_index()\n",
    "t = t.fillna(0)"
   ]
  },
  {
   "cell_type": "code",
   "execution_count": 80,
   "metadata": {},
   "outputs": [
    {
     "data": {
      "text/html": [
       "<div>\n",
       "<style>\n",
       "    .dataframe thead tr:only-child th {\n",
       "        text-align: right;\n",
       "    }\n",
       "\n",
       "    .dataframe thead th {\n",
       "        text-align: left;\n",
       "    }\n",
       "\n",
       "    .dataframe tbody tr th {\n",
       "        vertical-align: top;\n",
       "    }\n",
       "</style>\n",
       "<table border=\"1\" class=\"dataframe\">\n",
       "  <thead>\n",
       "    <tr style=\"text-align: right;\">\n",
       "      <th>content_type</th>\n",
       "      <th>encrypted_customer_Id</th>\n",
       "      <th>Movie EST</th>\n",
       "      <th>Movie VOD</th>\n",
       "      <th>class</th>\n",
       "      <th>total_units</th>\n",
       "    </tr>\n",
       "  </thead>\n",
       "  <tbody>\n",
       "    <tr>\n",
       "      <th>0</th>\n",
       "      <td>A00025383DJZ2L6FHXPI0</td>\n",
       "      <td>0.0</td>\n",
       "      <td>2.0</td>\n",
       "      <td>VOD Only</td>\n",
       "      <td>3.0</td>\n",
       "    </tr>\n",
       "    <tr>\n",
       "      <th>1</th>\n",
       "      <td>A00033702UP7WZQ5KSDAW</td>\n",
       "      <td>0.0</td>\n",
       "      <td>2.0</td>\n",
       "      <td>VOD Only</td>\n",
       "      <td>3.0</td>\n",
       "    </tr>\n",
       "    <tr>\n",
       "      <th>2</th>\n",
       "      <td>A00035188K6CXZDRM4MC</td>\n",
       "      <td>4.0</td>\n",
       "      <td>2.0</td>\n",
       "      <td>Mixed</td>\n",
       "      <td>7.0</td>\n",
       "    </tr>\n",
       "    <tr>\n",
       "      <th>3</th>\n",
       "      <td>A000391421LY0FAFBU9ZH</td>\n",
       "      <td>0.0</td>\n",
       "      <td>46.0</td>\n",
       "      <td>VOD Only</td>\n",
       "      <td>47.0</td>\n",
       "    </tr>\n",
       "    <tr>\n",
       "      <th>4</th>\n",
       "      <td>A00041341E6PP1JSO0RKN</td>\n",
       "      <td>0.0</td>\n",
       "      <td>21.0</td>\n",
       "      <td>VOD Only</td>\n",
       "      <td>22.0</td>\n",
       "    </tr>\n",
       "  </tbody>\n",
       "</table>\n",
       "</div>"
      ],
      "text/plain": [
       "content_type  encrypted_customer_Id  Movie EST  Movie VOD     class  \\\n",
       "0             A00025383DJZ2L6FHXPI0        0.0        2.0  VOD Only   \n",
       "1             A00033702UP7WZQ5KSDAW        0.0        2.0  VOD Only   \n",
       "2              A00035188K6CXZDRM4MC        4.0        2.0     Mixed   \n",
       "3             A000391421LY0FAFBU9ZH        0.0       46.0  VOD Only   \n",
       "4             A00041341E6PP1JSO0RKN        0.0       21.0  VOD Only   \n",
       "\n",
       "content_type  total_units  \n",
       "0                     3.0  \n",
       "1                     3.0  \n",
       "2                     7.0  \n",
       "3                    47.0  \n",
       "4                    22.0  "
      ]
     },
     "execution_count": 80,
     "metadata": {},
     "output_type": "execute_result"
    }
   ],
   "source": [
    "t.head()"
   ]
  },
  {
   "cell_type": "code",
   "execution_count": 71,
   "metadata": {},
   "outputs": [
    {
     "data": {
      "text/plain": [
       "483446"
      ]
     },
     "execution_count": 71,
     "metadata": {},
     "output_type": "execute_result"
    }
   ],
   "source": [
    "t['encrypted_customer_Id'].nunique()"
   ]
  },
  {
   "cell_type": "code",
   "execution_count": 72,
   "metadata": {},
   "outputs": [],
   "source": [
    "t['class'] = \"NA\"\n",
    "t['class'] = np.where(t['Movie EST'] == 0 , 'VOD Only', t['class'])\n",
    "t['class'] = np.where(t['Movie VOD'] == 0, 'Onlye_first_time_VOD', t['class'])\n",
    "t['class'] = np.where((t['Movie VOD'] == 0) | (t['Movie EST'] > 0) , 'Mixed', t['class'])\n"
   ]
  },
  {
   "cell_type": "code",
   "execution_count": 73,
   "metadata": {},
   "outputs": [
    {
     "data": {
      "text/plain": [
       "array(['VOD Only', 'Mixed'], dtype=object)"
      ]
     },
     "execution_count": 73,
     "metadata": {},
     "output_type": "execute_result"
    }
   ],
   "source": [
    "t['class'].unique()"
   ]
  },
  {
   "cell_type": "code",
   "execution_count": 74,
   "metadata": {},
   "outputs": [
    {
     "data": {
      "text/plain": [
       "class\n",
       "Mixed       220173\n",
       "VOD Only    263273\n",
       "dtype: int64"
      ]
     },
     "execution_count": 74,
     "metadata": {},
     "output_type": "execute_result"
    }
   ],
   "source": [
    "t.groupby(\"class\").size()"
   ]
  },
  {
   "cell_type": "code",
   "execution_count": 75,
   "metadata": {},
   "outputs": [],
   "source": [
    "t['total_units'] = t['Movie VOD'] + t['Movie EST'] + 1"
   ]
  },
  {
   "cell_type": "code",
   "execution_count": 76,
   "metadata": {},
   "outputs": [
    {
     "data": {
      "text/plain": [
       "class\n",
       "Mixed       3735200.0\n",
       "VOD Only    1572205.0\n",
       "Name: total_units, dtype: float64"
      ]
     },
     "execution_count": 76,
     "metadata": {},
     "output_type": "execute_result"
    }
   ],
   "source": [
    "t.groupby(\"class\")['total_units'].sum()"
   ]
  },
  {
   "cell_type": "markdown",
   "metadata": {
    "collapsed": true
   },
   "source": [
    "## Cohorts \n",
    "http://www.gregreda.com/2015/08/23/cohort-analysis-with-python/"
   ]
  },
  {
   "cell_type": "code",
   "execution_count": 77,
   "metadata": {},
   "outputs": [],
   "source": [
    "#create period column based on transaction date\n",
    "df['order_period'] = df['transaction_date'].apply(lambda x: x.strftime('%Y-%m'))"
   ]
  },
  {
   "cell_type": "code",
   "execution_count": 78,
   "metadata": {
    "collapsed": true
   },
   "outputs": [],
   "source": [
    "#determine user s cohort group\n",
    "df['cohortgroup'] = df['first_purchase'].apply(lambda x : x.strftime('%Y-%m'))"
   ]
  },
  {
   "cell_type": "code",
   "execution_count": 79,
   "metadata": {},
   "outputs": [
    {
     "data": {
      "text/html": [
       "<div>\n",
       "<style>\n",
       "    .dataframe thead tr:only-child th {\n",
       "        text-align: right;\n",
       "    }\n",
       "\n",
       "    .dataframe thead th {\n",
       "        text-align: left;\n",
       "    }\n",
       "\n",
       "    .dataframe tbody tr th {\n",
       "        vertical-align: top;\n",
       "    }\n",
       "</style>\n",
       "<table border=\"1\" class=\"dataframe\">\n",
       "  <thead>\n",
       "    <tr style=\"text-align: right;\">\n",
       "      <th></th>\n",
       "      <th>encrypted_customer_Id</th>\n",
       "      <th>first_purchase</th>\n",
       "      <th>transaction_date</th>\n",
       "      <th>content_type</th>\n",
       "      <th>transaction</th>\n",
       "      <th>order_period</th>\n",
       "      <th>cohortgroup</th>\n",
       "    </tr>\n",
       "  </thead>\n",
       "  <tbody>\n",
       "    <tr>\n",
       "      <th>0</th>\n",
       "      <td>A8XJNM5X8008M</td>\n",
       "      <td>2016-04-02</td>\n",
       "      <td>2016-04-04</td>\n",
       "      <td>Movie VOD</td>\n",
       "      <td>1</td>\n",
       "      <td>2016-04</td>\n",
       "      <td>2016-04</td>\n",
       "    </tr>\n",
       "    <tr>\n",
       "      <th>1</th>\n",
       "      <td>A365VJ4VMPBLC</td>\n",
       "      <td>2016-03-06</td>\n",
       "      <td>2016-06-13</td>\n",
       "      <td>Movie VOD</td>\n",
       "      <td>1</td>\n",
       "      <td>2016-06</td>\n",
       "      <td>2016-03</td>\n",
       "    </tr>\n",
       "    <tr>\n",
       "      <th>2</th>\n",
       "      <td>ATFVH4L38OZAF</td>\n",
       "      <td>2016-01-02</td>\n",
       "      <td>2016-08-05</td>\n",
       "      <td>Movie EST</td>\n",
       "      <td>1</td>\n",
       "      <td>2016-08</td>\n",
       "      <td>2016-01</td>\n",
       "    </tr>\n",
       "    <tr>\n",
       "      <th>3</th>\n",
       "      <td>A370OUC2FAMFF0</td>\n",
       "      <td>2016-09-23</td>\n",
       "      <td>2016-09-28</td>\n",
       "      <td>Movie VOD</td>\n",
       "      <td>1</td>\n",
       "      <td>2016-09</td>\n",
       "      <td>2016-09</td>\n",
       "    </tr>\n",
       "    <tr>\n",
       "      <th>4</th>\n",
       "      <td>A18MFDSY5MG1BL</td>\n",
       "      <td>2016-05-20</td>\n",
       "      <td>2016-10-28</td>\n",
       "      <td>Movie VOD</td>\n",
       "      <td>1</td>\n",
       "      <td>2016-10</td>\n",
       "      <td>2016-05</td>\n",
       "    </tr>\n",
       "  </tbody>\n",
       "</table>\n",
       "</div>"
      ],
      "text/plain": [
       "  encrypted_customer_Id first_purchase transaction_date content_type  \\\n",
       "0         A8XJNM5X8008M     2016-04-02       2016-04-04    Movie VOD   \n",
       "1         A365VJ4VMPBLC     2016-03-06       2016-06-13    Movie VOD   \n",
       "2         ATFVH4L38OZAF     2016-01-02       2016-08-05    Movie EST   \n",
       "3        A370OUC2FAMFF0     2016-09-23       2016-09-28    Movie VOD   \n",
       "4        A18MFDSY5MG1BL     2016-05-20       2016-10-28    Movie VOD   \n",
       "\n",
       "   transaction order_period cohortgroup  \n",
       "0            1      2016-04     2016-04  \n",
       "1            1      2016-06     2016-03  \n",
       "2            1      2016-08     2016-01  \n",
       "3            1      2016-09     2016-09  \n",
       "4            1      2016-10     2016-05  "
      ]
     },
     "execution_count": 79,
     "metadata": {},
     "output_type": "execute_result"
    }
   ],
   "source": [
    "df.head()"
   ]
  },
  {
   "cell_type": "code",
   "execution_count": 81,
   "metadata": {
    "collapsed": true
   },
   "outputs": [],
   "source": [
    "df_new = pd.merge(left=df,right=t,left_on='encrypted_customer_Id',right_on='encrypted_customer_Id', how=\"left\")"
   ]
  },
  {
   "cell_type": "code",
   "execution_count": 84,
   "metadata": {},
   "outputs": [
    {
     "data": {
      "text/html": [
       "<div>\n",
       "<style>\n",
       "    .dataframe thead tr:only-child th {\n",
       "        text-align: right;\n",
       "    }\n",
       "\n",
       "    .dataframe thead th {\n",
       "        text-align: left;\n",
       "    }\n",
       "\n",
       "    .dataframe tbody tr th {\n",
       "        vertical-align: top;\n",
       "    }\n",
       "</style>\n",
       "<table border=\"1\" class=\"dataframe\">\n",
       "  <thead>\n",
       "    <tr style=\"text-align: right;\">\n",
       "      <th></th>\n",
       "      <th>encrypted_customer_Id</th>\n",
       "      <th>first_purchase</th>\n",
       "      <th>transaction_date</th>\n",
       "      <th>content_type</th>\n",
       "      <th>transaction</th>\n",
       "      <th>order_period</th>\n",
       "      <th>cohortgroup</th>\n",
       "      <th>Movie EST</th>\n",
       "      <th>Movie VOD</th>\n",
       "      <th>class</th>\n",
       "      <th>total_units</th>\n",
       "    </tr>\n",
       "  </thead>\n",
       "  <tbody>\n",
       "    <tr>\n",
       "      <th>0</th>\n",
       "      <td>A8XJNM5X8008M</td>\n",
       "      <td>2016-04-02</td>\n",
       "      <td>2016-04-04</td>\n",
       "      <td>Movie VOD</td>\n",
       "      <td>1</td>\n",
       "      <td>2016-04</td>\n",
       "      <td>2016-04</td>\n",
       "      <td>0.0</td>\n",
       "      <td>12.0</td>\n",
       "      <td>VOD Only</td>\n",
       "      <td>13.0</td>\n",
       "    </tr>\n",
       "    <tr>\n",
       "      <th>1</th>\n",
       "      <td>A365VJ4VMPBLC</td>\n",
       "      <td>2016-03-06</td>\n",
       "      <td>2016-06-13</td>\n",
       "      <td>Movie VOD</td>\n",
       "      <td>1</td>\n",
       "      <td>2016-06</td>\n",
       "      <td>2016-03</td>\n",
       "      <td>51.0</td>\n",
       "      <td>148.0</td>\n",
       "      <td>Mixed</td>\n",
       "      <td>200.0</td>\n",
       "    </tr>\n",
       "    <tr>\n",
       "      <th>2</th>\n",
       "      <td>ATFVH4L38OZAF</td>\n",
       "      <td>2016-01-02</td>\n",
       "      <td>2016-08-05</td>\n",
       "      <td>Movie EST</td>\n",
       "      <td>1</td>\n",
       "      <td>2016-08</td>\n",
       "      <td>2016-01</td>\n",
       "      <td>33.0</td>\n",
       "      <td>17.0</td>\n",
       "      <td>Mixed</td>\n",
       "      <td>51.0</td>\n",
       "    </tr>\n",
       "    <tr>\n",
       "      <th>3</th>\n",
       "      <td>A370OUC2FAMFF0</td>\n",
       "      <td>2016-09-23</td>\n",
       "      <td>2016-09-28</td>\n",
       "      <td>Movie VOD</td>\n",
       "      <td>1</td>\n",
       "      <td>2016-09</td>\n",
       "      <td>2016-09</td>\n",
       "      <td>38.0</td>\n",
       "      <td>133.0</td>\n",
       "      <td>Mixed</td>\n",
       "      <td>172.0</td>\n",
       "    </tr>\n",
       "    <tr>\n",
       "      <th>4</th>\n",
       "      <td>A18MFDSY5MG1BL</td>\n",
       "      <td>2016-05-20</td>\n",
       "      <td>2016-10-28</td>\n",
       "      <td>Movie VOD</td>\n",
       "      <td>1</td>\n",
       "      <td>2016-10</td>\n",
       "      <td>2016-05</td>\n",
       "      <td>4.0</td>\n",
       "      <td>295.0</td>\n",
       "      <td>Mixed</td>\n",
       "      <td>300.0</td>\n",
       "    </tr>\n",
       "  </tbody>\n",
       "</table>\n",
       "</div>"
      ],
      "text/plain": [
       "  encrypted_customer_Id first_purchase transaction_date content_type  \\\n",
       "0         A8XJNM5X8008M     2016-04-02       2016-04-04    Movie VOD   \n",
       "1         A365VJ4VMPBLC     2016-03-06       2016-06-13    Movie VOD   \n",
       "2         ATFVH4L38OZAF     2016-01-02       2016-08-05    Movie EST   \n",
       "3        A370OUC2FAMFF0     2016-09-23       2016-09-28    Movie VOD   \n",
       "4        A18MFDSY5MG1BL     2016-05-20       2016-10-28    Movie VOD   \n",
       "\n",
       "   transaction order_period cohortgroup  Movie EST  Movie VOD     class  \\\n",
       "0            1      2016-04     2016-04        0.0       12.0  VOD Only   \n",
       "1            1      2016-06     2016-03       51.0      148.0     Mixed   \n",
       "2            1      2016-08     2016-01       33.0       17.0     Mixed   \n",
       "3            1      2016-09     2016-09       38.0      133.0     Mixed   \n",
       "4            1      2016-10     2016-05        4.0      295.0     Mixed   \n",
       "\n",
       "   total_units  \n",
       "0         13.0  \n",
       "1        200.0  \n",
       "2         51.0  \n",
       "3        172.0  \n",
       "4        300.0  "
      ]
     },
     "execution_count": 84,
     "metadata": {},
     "output_type": "execute_result"
    }
   ],
   "source": [
    "df_new.shape\n",
    "df_new.head()"
   ]
  },
  {
   "cell_type": "code",
   "execution_count": null,
   "metadata": {
    "collapsed": true
   },
   "outputs": [],
   "source": []
  },
  {
   "cell_type": "code",
   "execution_count": null,
   "metadata": {
    "collapsed": true
   },
   "outputs": [],
   "source": []
  },
  {
   "cell_type": "code",
   "execution_count": null,
   "metadata": {
    "collapsed": true
   },
   "outputs": [],
   "source": []
  },
  {
   "cell_type": "code",
   "execution_count": null,
   "metadata": {
    "collapsed": true
   },
   "outputs": [],
   "source": []
  },
  {
   "cell_type": "code",
   "execution_count": null,
   "metadata": {
    "collapsed": true
   },
   "outputs": [],
   "source": []
  },
  {
   "cell_type": "code",
   "execution_count": null,
   "metadata": {
    "collapsed": true
   },
   "outputs": [],
   "source": []
  },
  {
   "cell_type": "code",
   "execution_count": null,
   "metadata": {
    "collapsed": true
   },
   "outputs": [],
   "source": []
  },
  {
   "cell_type": "code",
   "execution_count": null,
   "metadata": {
    "collapsed": true
   },
   "outputs": [],
   "source": []
  },
  {
   "cell_type": "code",
   "execution_count": null,
   "metadata": {
    "collapsed": true
   },
   "outputs": [],
   "source": []
  },
  {
   "cell_type": "code",
   "execution_count": null,
   "metadata": {
    "collapsed": true
   },
   "outputs": [],
   "source": []
  },
  {
   "cell_type": "code",
   "execution_count": null,
   "metadata": {
    "collapsed": true
   },
   "outputs": [],
   "source": []
  },
  {
   "cell_type": "code",
   "execution_count": null,
   "metadata": {
    "collapsed": true
   },
   "outputs": [],
   "source": []
  },
  {
   "cell_type": "code",
   "execution_count": null,
   "metadata": {
    "collapsed": true
   },
   "outputs": [],
   "source": []
  },
  {
   "cell_type": "code",
   "execution_count": null,
   "metadata": {
    "collapsed": true
   },
   "outputs": [],
   "source": []
  },
  {
   "cell_type": "code",
   "execution_count": null,
   "metadata": {
    "collapsed": true
   },
   "outputs": [],
   "source": []
  },
  {
   "cell_type": "code",
   "execution_count": null,
   "metadata": {
    "collapsed": true
   },
   "outputs": [],
   "source": []
  }
 ],
 "metadata": {
  "kernelspec": {
   "display_name": "Python 3",
   "language": "python",
   "name": "python3"
  },
  "language_info": {
   "codemirror_mode": {
    "name": "ipython",
    "version": 3
   },
   "file_extension": ".py",
   "mimetype": "text/x-python",
   "name": "python",
   "nbconvert_exporter": "python",
   "pygments_lexer": "ipython3",
   "version": "3.6.3"
  }
 },
 "nbformat": 4,
 "nbformat_minor": 2
}
