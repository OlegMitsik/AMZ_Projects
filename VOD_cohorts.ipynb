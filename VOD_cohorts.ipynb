{
 "cells": [
  {
   "cell_type": "code",
   "execution_count": 1,
   "metadata": {},
   "outputs": [],
   "source": [
    "import pandas as pd\n",
    "import numpy as np\n",
    "import matplotlib.pyplot as plt\n",
    "%matplotlib inline\n"
   ]
  },
  {
   "cell_type": "code",
   "execution_count": 4,
   "metadata": {},
   "outputs": [],
   "source": [
    "df = pd.read_csv(\"vod_cohorts.txt\", sep=\"\\t\", header=None)"
   ]
  },
  {
   "cell_type": "markdown",
   "metadata": {},
   "source": [
    "# Preprocess the data and split customers into 2 groups"
   ]
  },
  {
   "cell_type": "code",
   "execution_count": 5,
   "metadata": {},
   "outputs": [],
   "source": [
    "def preprocess(df):\n",
    "    \"\"\"take raw data and process to return initial cohort and returning one\"\"\"\n",
    "    df.columns = ['encrypted_customer_Id','first_purchase','transaction_date','content_type']\n",
    "    #add transaction field\n",
    "    df['transaction'] = 1\n",
    "    \n",
    "    df['first_purchase'] = pd.to_datetime(df['first_purchase'])\n",
    "    df['transaction_date'] = pd.to_datetime(df['transaction_date'])\n",
    "\n",
    "    \n",
    "    #add dataframe to groupby by customer_id\n",
    "    t = pd.pivot_table(df, index = 'encrypted_customer_Id',\n",
    "                       columns='content_type', values = 'transaction' ,\n",
    "                       aggfunc = 'sum').reset_index()\n",
    "    t = t.fillna(0)\n",
    "    \n",
    "    #add classes\n",
    "    t['class'] = \"NA\"\n",
    "    t['class'] = np.where(t['Movie EST'] == 0 , 'VOD Only', t['class'])\n",
    "    t['class'] = np.where(t['Movie VOD'] == 0, 'Onlye_first_time_VOD', t['class'])\n",
    "    t['class'] = np.where((t['Movie VOD'] == 0) | (t['Movie EST'] > 0) , 'Mixed', t['class'])\n",
    "    t['total_units'] = t['Movie VOD'] + t['Movie EST'] + 1\n",
    "    \n",
    "    \n",
    "    #create period column based on transaction date\n",
    "    df['order_period'] = df['transaction_date'].apply(lambda x: x.strftime('%Y-%m'))\n",
    "\n",
    "    #determine user s cohort group\n",
    "    df['cohort_group'] = df['first_purchase'].apply(lambda x : x.strftime('%Y-%m'))\n",
    "    \n",
    "    df_new = pd.merge(left=df,right=t,\n",
    "                  left_on='encrypted_customer_Id',\n",
    "                  right_on='encrypted_customer_Id', how=\"left\")\n",
    "    \n",
    "    return df_new, t"
   ]
  },
  {
   "cell_type": "code",
   "execution_count": 6,
   "metadata": {},
   "outputs": [],
   "source": [
    "df_new, t = preprocess(df)"
   ]
  },
  {
   "cell_type": "code",
   "execution_count": 7,
   "metadata": {},
   "outputs": [
    {
     "data": {
      "text/html": [
       "<div>\n",
       "<style scoped>\n",
       "    .dataframe tbody tr th:only-of-type {\n",
       "        vertical-align: middle;\n",
       "    }\n",
       "\n",
       "    .dataframe tbody tr th {\n",
       "        vertical-align: top;\n",
       "    }\n",
       "\n",
       "    .dataframe thead th {\n",
       "        text-align: right;\n",
       "    }\n",
       "</style>\n",
       "<table border=\"1\" class=\"dataframe\">\n",
       "  <thead>\n",
       "    <tr style=\"text-align: right;\">\n",
       "      <th></th>\n",
       "      <th>encrypted_customer_Id</th>\n",
       "      <th>first_purchase</th>\n",
       "      <th>transaction_date</th>\n",
       "      <th>content_type</th>\n",
       "      <th>transaction</th>\n",
       "      <th>order_period</th>\n",
       "      <th>cohort_group</th>\n",
       "      <th>Movie EST</th>\n",
       "      <th>Movie VOD</th>\n",
       "      <th>class</th>\n",
       "      <th>total_units</th>\n",
       "    </tr>\n",
       "  </thead>\n",
       "  <tbody>\n",
       "    <tr>\n",
       "      <th>0</th>\n",
       "      <td>A8XJNM5X8008M</td>\n",
       "      <td>2016-04-02</td>\n",
       "      <td>2016-04-04</td>\n",
       "      <td>Movie VOD</td>\n",
       "      <td>1</td>\n",
       "      <td>2016-04</td>\n",
       "      <td>2016-04</td>\n",
       "      <td>0.0</td>\n",
       "      <td>12.0</td>\n",
       "      <td>VOD Only</td>\n",
       "      <td>13.0</td>\n",
       "    </tr>\n",
       "    <tr>\n",
       "      <th>1</th>\n",
       "      <td>A365VJ4VMPBLC</td>\n",
       "      <td>2016-03-06</td>\n",
       "      <td>2016-06-13</td>\n",
       "      <td>Movie VOD</td>\n",
       "      <td>1</td>\n",
       "      <td>2016-06</td>\n",
       "      <td>2016-03</td>\n",
       "      <td>51.0</td>\n",
       "      <td>148.0</td>\n",
       "      <td>Mixed</td>\n",
       "      <td>200.0</td>\n",
       "    </tr>\n",
       "    <tr>\n",
       "      <th>2</th>\n",
       "      <td>ATFVH4L38OZAF</td>\n",
       "      <td>2016-01-02</td>\n",
       "      <td>2016-08-05</td>\n",
       "      <td>Movie EST</td>\n",
       "      <td>1</td>\n",
       "      <td>2016-08</td>\n",
       "      <td>2016-01</td>\n",
       "      <td>33.0</td>\n",
       "      <td>17.0</td>\n",
       "      <td>Mixed</td>\n",
       "      <td>51.0</td>\n",
       "    </tr>\n",
       "    <tr>\n",
       "      <th>3</th>\n",
       "      <td>A370OUC2FAMFF0</td>\n",
       "      <td>2016-09-23</td>\n",
       "      <td>2016-09-28</td>\n",
       "      <td>Movie VOD</td>\n",
       "      <td>1</td>\n",
       "      <td>2016-09</td>\n",
       "      <td>2016-09</td>\n",
       "      <td>38.0</td>\n",
       "      <td>133.0</td>\n",
       "      <td>Mixed</td>\n",
       "      <td>172.0</td>\n",
       "    </tr>\n",
       "    <tr>\n",
       "      <th>4</th>\n",
       "      <td>A18MFDSY5MG1BL</td>\n",
       "      <td>2016-05-20</td>\n",
       "      <td>2016-10-28</td>\n",
       "      <td>Movie VOD</td>\n",
       "      <td>1</td>\n",
       "      <td>2016-10</td>\n",
       "      <td>2016-05</td>\n",
       "      <td>4.0</td>\n",
       "      <td>295.0</td>\n",
       "      <td>Mixed</td>\n",
       "      <td>300.0</td>\n",
       "    </tr>\n",
       "  </tbody>\n",
       "</table>\n",
       "</div>"
      ],
      "text/plain": [
       "  encrypted_customer_Id first_purchase transaction_date content_type  \\\n",
       "0         A8XJNM5X8008M     2016-04-02       2016-04-04    Movie VOD   \n",
       "1         A365VJ4VMPBLC     2016-03-06       2016-06-13    Movie VOD   \n",
       "2         ATFVH4L38OZAF     2016-01-02       2016-08-05    Movie EST   \n",
       "3        A370OUC2FAMFF0     2016-09-23       2016-09-28    Movie VOD   \n",
       "4        A18MFDSY5MG1BL     2016-05-20       2016-10-28    Movie VOD   \n",
       "\n",
       "   transaction order_period cohort_group  Movie EST  Movie VOD     class  \\\n",
       "0            1      2016-04      2016-04        0.0       12.0  VOD Only   \n",
       "1            1      2016-06      2016-03       51.0      148.0     Mixed   \n",
       "2            1      2016-08      2016-01       33.0       17.0     Mixed   \n",
       "3            1      2016-09      2016-09       38.0      133.0     Mixed   \n",
       "4            1      2016-10      2016-05        4.0      295.0     Mixed   \n",
       "\n",
       "   total_units  \n",
       "0         13.0  \n",
       "1        200.0  \n",
       "2         51.0  \n",
       "3        172.0  \n",
       "4        300.0  "
      ]
     },
     "execution_count": 7,
     "metadata": {},
     "output_type": "execute_result"
    }
   ],
   "source": [
    "df_new.head()"
   ]
  },
  {
   "cell_type": "code",
   "execution_count": 8,
   "metadata": {},
   "outputs": [
    {
     "data": {
      "text/html": [
       "<div>\n",
       "<style scoped>\n",
       "    .dataframe tbody tr th:only-of-type {\n",
       "        vertical-align: middle;\n",
       "    }\n",
       "\n",
       "    .dataframe tbody tr th {\n",
       "        vertical-align: top;\n",
       "    }\n",
       "\n",
       "    .dataframe thead th {\n",
       "        text-align: right;\n",
       "    }\n",
       "</style>\n",
       "<table border=\"1\" class=\"dataframe\">\n",
       "  <thead>\n",
       "    <tr style=\"text-align: right;\">\n",
       "      <th>content_type</th>\n",
       "      <th>encrypted_customer_Id</th>\n",
       "      <th>Movie EST</th>\n",
       "      <th>Movie VOD</th>\n",
       "      <th>class</th>\n",
       "      <th>total_units</th>\n",
       "    </tr>\n",
       "  </thead>\n",
       "  <tbody>\n",
       "    <tr>\n",
       "      <th>0</th>\n",
       "      <td>A00025383DJZ2L6FHXPI0</td>\n",
       "      <td>0.0</td>\n",
       "      <td>2.0</td>\n",
       "      <td>VOD Only</td>\n",
       "      <td>3.0</td>\n",
       "    </tr>\n",
       "    <tr>\n",
       "      <th>1</th>\n",
       "      <td>A00033702UP7WZQ5KSDAW</td>\n",
       "      <td>0.0</td>\n",
       "      <td>2.0</td>\n",
       "      <td>VOD Only</td>\n",
       "      <td>3.0</td>\n",
       "    </tr>\n",
       "    <tr>\n",
       "      <th>2</th>\n",
       "      <td>A00035188K6CXZDRM4MC</td>\n",
       "      <td>4.0</td>\n",
       "      <td>2.0</td>\n",
       "      <td>Mixed</td>\n",
       "      <td>7.0</td>\n",
       "    </tr>\n",
       "    <tr>\n",
       "      <th>3</th>\n",
       "      <td>A000391421LY0FAFBU9ZH</td>\n",
       "      <td>0.0</td>\n",
       "      <td>46.0</td>\n",
       "      <td>VOD Only</td>\n",
       "      <td>47.0</td>\n",
       "    </tr>\n",
       "    <tr>\n",
       "      <th>4</th>\n",
       "      <td>A00041341E6PP1JSO0RKN</td>\n",
       "      <td>0.0</td>\n",
       "      <td>21.0</td>\n",
       "      <td>VOD Only</td>\n",
       "      <td>22.0</td>\n",
       "    </tr>\n",
       "  </tbody>\n",
       "</table>\n",
       "</div>"
      ],
      "text/plain": [
       "content_type  encrypted_customer_Id  Movie EST  Movie VOD     class  \\\n",
       "0             A00025383DJZ2L6FHXPI0        0.0        2.0  VOD Only   \n",
       "1             A00033702UP7WZQ5KSDAW        0.0        2.0  VOD Only   \n",
       "2              A00035188K6CXZDRM4MC        4.0        2.0     Mixed   \n",
       "3             A000391421LY0FAFBU9ZH        0.0       46.0  VOD Only   \n",
       "4             A00041341E6PP1JSO0RKN        0.0       21.0  VOD Only   \n",
       "\n",
       "content_type  total_units  \n",
       "0                     3.0  \n",
       "1                     3.0  \n",
       "2                     7.0  \n",
       "3                    47.0  \n",
       "4                    22.0  "
      ]
     },
     "execution_count": 8,
     "metadata": {},
     "output_type": "execute_result"
    }
   ],
   "source": [
    "t.head()"
   ]
  },
  {
   "cell_type": "markdown",
   "metadata": {},
   "source": [
    "## Prepare cohorts and return rates for both groups"
   ]
  },
  {
   "cell_type": "code",
   "execution_count": 21,
   "metadata": {},
   "outputs": [],
   "source": [
    "def group_by_class(df):\n",
    "    grouped = df_new.groupby(['cohort_group', 'order_period', 'class'])\n",
    "    cohorts = grouped.agg({'encrypted_customer_Id': pd.Series.nunique}).reset_index()\n",
    "    total_cohort_size = pd.DataFrame(df_new.groupby(['cohort_group',\n",
    "    'class'])['encrypted_customer_Id'].nunique().reset_index())\n",
    "    \n",
    "    summary = pd.merge(left=cohorts,\n",
    "                  right=total_cohort_size,\n",
    "                  left_on=['cohort_group','class'],\n",
    "                  right_on=['cohort_group','class'], how = 'left')\n",
    "    summary['ratio'] = summary['encrypted_customer_Id_x'] / summary['encrypted_customer_Id_y']\n",
    "    \n",
    "    #back to pd_to_datetime\n",
    "    summary['order_period'] = pd.to_datetime(summary['order_period'])\n",
    "    summary['cohort_group'] = pd.to_datetime(summary['cohort_group'])\n",
    "    #Time diff of order_period relative to cohort_group\n",
    "    summary['cohort_period'] = round((summary['order_period'] \n",
    "                             - summary['cohort_group']) / np.timedelta64(1,'M'),0)\n",
    "    \n",
    "    return summary"
   ]
  },
  {
   "cell_type": "code",
   "execution_count": 22,
   "metadata": {},
   "outputs": [],
   "source": [
    "summary = group_by_class(df_new)"
   ]
  },
  {
   "cell_type": "code",
   "execution_count": 23,
   "metadata": {},
   "outputs": [
    {
     "data": {
      "text/html": [
       "<div>\n",
       "<style scoped>\n",
       "    .dataframe tbody tr th:only-of-type {\n",
       "        vertical-align: middle;\n",
       "    }\n",
       "\n",
       "    .dataframe tbody tr th {\n",
       "        vertical-align: top;\n",
       "    }\n",
       "\n",
       "    .dataframe thead th {\n",
       "        text-align: right;\n",
       "    }\n",
       "</style>\n",
       "<table border=\"1\" class=\"dataframe\">\n",
       "  <thead>\n",
       "    <tr style=\"text-align: right;\">\n",
       "      <th></th>\n",
       "      <th>cohort_group</th>\n",
       "      <th>order_period</th>\n",
       "      <th>class</th>\n",
       "      <th>encrypted_customer_Id_x</th>\n",
       "      <th>encrypted_customer_Id_y</th>\n",
       "      <th>ratio</th>\n",
       "      <th>cohort_period</th>\n",
       "    </tr>\n",
       "  </thead>\n",
       "  <tbody>\n",
       "    <tr>\n",
       "      <th>0</th>\n",
       "      <td>2016-01-01</td>\n",
       "      <td>2016-01-01</td>\n",
       "      <td>Mixed</td>\n",
       "      <td>4080</td>\n",
       "      <td>13029</td>\n",
       "      <td>0.313148</td>\n",
       "      <td>0.0</td>\n",
       "    </tr>\n",
       "    <tr>\n",
       "      <th>1</th>\n",
       "      <td>2016-01-01</td>\n",
       "      <td>2016-01-01</td>\n",
       "      <td>VOD Only</td>\n",
       "      <td>2007</td>\n",
       "      <td>9764</td>\n",
       "      <td>0.205551</td>\n",
       "      <td>0.0</td>\n",
       "    </tr>\n",
       "    <tr>\n",
       "      <th>2</th>\n",
       "      <td>2016-01-01</td>\n",
       "      <td>2016-02-01</td>\n",
       "      <td>Mixed</td>\n",
       "      <td>5239</td>\n",
       "      <td>13029</td>\n",
       "      <td>0.402103</td>\n",
       "      <td>1.0</td>\n",
       "    </tr>\n",
       "    <tr>\n",
       "      <th>3</th>\n",
       "      <td>2016-01-01</td>\n",
       "      <td>2016-02-01</td>\n",
       "      <td>VOD Only</td>\n",
       "      <td>2298</td>\n",
       "      <td>9764</td>\n",
       "      <td>0.235354</td>\n",
       "      <td>1.0</td>\n",
       "    </tr>\n",
       "    <tr>\n",
       "      <th>4</th>\n",
       "      <td>2016-01-01</td>\n",
       "      <td>2016-03-01</td>\n",
       "      <td>Mixed</td>\n",
       "      <td>5362</td>\n",
       "      <td>13029</td>\n",
       "      <td>0.411543</td>\n",
       "      <td>2.0</td>\n",
       "    </tr>\n",
       "  </tbody>\n",
       "</table>\n",
       "</div>"
      ],
      "text/plain": [
       "  cohort_group order_period     class  encrypted_customer_Id_x  \\\n",
       "0   2016-01-01   2016-01-01     Mixed                     4080   \n",
       "1   2016-01-01   2016-01-01  VOD Only                     2007   \n",
       "2   2016-01-01   2016-02-01     Mixed                     5239   \n",
       "3   2016-01-01   2016-02-01  VOD Only                     2298   \n",
       "4   2016-01-01   2016-03-01     Mixed                     5362   \n",
       "\n",
       "   encrypted_customer_Id_y     ratio  cohort_period  \n",
       "0                    13029  0.313148            0.0  \n",
       "1                     9764  0.205551            0.0  \n",
       "2                    13029  0.402103            1.0  \n",
       "3                     9764  0.235354            1.0  \n",
       "4                    13029  0.411543            2.0  "
      ]
     },
     "execution_count": 23,
     "metadata": {},
     "output_type": "execute_result"
    }
   ],
   "source": [
    "summary.head()"
   ]
  },
  {
   "cell_type": "code",
   "execution_count": 26,
   "metadata": {},
   "outputs": [
    {
     "data": {
      "text/plain": [
       "4080"
      ]
     },
     "execution_count": 26,
     "metadata": {},
     "output_type": "execute_result"
    }
   ],
   "source": [
    "#Sanity check\n",
    "df_new[ (df_new['cohort_group'] == '2016-01') \n",
    "       & (df_new['order_period'] == '2016-01')\n",
    "       & (df_new['class'] == 'Mixed')]['encrypted_customer_Id'].nunique()"
   ]
  },
  {
   "cell_type": "markdown",
   "metadata": {},
   "source": [
    "## Visualize"
   ]
  },
  {
   "cell_type": "code",
   "execution_count": 24,
   "metadata": {},
   "outputs": [
    {
     "data": {
      "image/png": "[encoded data removed]",
      "text/plain": [
       "<matplotlib.figure.Figure at 0x108f8af60>"
      ]
     },
     "metadata": {},
     "output_type": "display_data"
    }
   ],
   "source": [
    "d = summary[summary['cohort_group' ] == '2016-01-01']\n",
    "\n",
    "plt.figure(figsize = (15,10))\n",
    "d.set_index('cohort_period', inplace=True)\n",
    "d.groupby('class')['ratio'].plot(legend=True)\n",
    "plt.show()"
   ]
  }
 ],
 "metadata": {
  "kernelspec": {
   "display_name": "Python 3",
   "language": "python",
   "name": "python3"
  },
  "language_info": {
   "codemirror_mode": {
    "name": "ipython",
    "version": 3
   },
   "file_extension": ".py",
   "mimetype": "text/x-python",
   "name": "python",
   "nbconvert_exporter": "python",
   "pygments_lexer": "ipython3",
   "version": "3.6.4"
  }
 },
 "nbformat": 4,
 "nbformat_minor": 2
}
