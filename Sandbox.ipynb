{
 "cells": [
  {
   "cell_type": "code",
   "execution_count": 1,
   "metadata": {
    "collapsed": true
   },
   "outputs": [],
   "source": [
    "import pandas as pd\n",
    "import itertools"
   ]
  },
  {
   "cell_type": "code",
   "execution_count": 110,
   "metadata": {},
   "outputs": [
    {
     "data": {
      "text/html": [
       "<div>\n",
       "<style>\n",
       "    .dataframe thead tr:only-child th {\n",
       "        text-align: right;\n",
       "    }\n",
       "\n",
       "    .dataframe thead th {\n",
       "        text-align: left;\n",
       "    }\n",
       "\n",
       "    .dataframe tbody tr th {\n",
       "        vertical-align: top;\n",
       "    }\n",
       "</style>\n",
       "<table border=\"1\" class=\"dataframe\">\n",
       "  <thead>\n",
       "    <tr style=\"text-align: right;\">\n",
       "      <th></th>\n",
       "      <th>customer_id</th>\n",
       "      <th>gl60</th>\n",
       "      <th>gl265</th>\n",
       "      <th>gl75</th>\n",
       "      <th>gl201</th>\n",
       "      <th>gl193</th>\n",
       "      <th>gl199</th>\n",
       "      <th>gl79</th>\n",
       "      <th>gl74</th>\n",
       "      <th>gl469</th>\n",
       "      <th>...</th>\n",
       "      <th>gl263</th>\n",
       "      <th>gl229</th>\n",
       "      <th>gl325</th>\n",
       "      <th>gl147</th>\n",
       "      <th>gl364</th>\n",
       "      <th>gl197</th>\n",
       "      <th>gl21</th>\n",
       "      <th>gl241</th>\n",
       "      <th>gl267</th>\n",
       "      <th>gl15</th>\n",
       "    </tr>\n",
       "  </thead>\n",
       "  <tbody>\n",
       "    <tr>\n",
       "      <th>0</th>\n",
       "      <td>6.890000e+08</td>\n",
       "      <td>0</td>\n",
       "      <td>0</td>\n",
       "      <td>75</td>\n",
       "      <td>0</td>\n",
       "      <td>0</td>\n",
       "      <td>0</td>\n",
       "      <td>0</td>\n",
       "      <td>74</td>\n",
       "      <td>469</td>\n",
       "      <td>...</td>\n",
       "      <td>0</td>\n",
       "      <td>0</td>\n",
       "      <td>0</td>\n",
       "      <td>0</td>\n",
       "      <td>0</td>\n",
       "      <td>0</td>\n",
       "      <td>0</td>\n",
       "      <td>0</td>\n",
       "      <td>267</td>\n",
       "      <td>0</td>\n",
       "    </tr>\n",
       "    <tr>\n",
       "      <th>1</th>\n",
       "      <td>1.020000e+09</td>\n",
       "      <td>0</td>\n",
       "      <td>265</td>\n",
       "      <td>75</td>\n",
       "      <td>0</td>\n",
       "      <td>0</td>\n",
       "      <td>199</td>\n",
       "      <td>0</td>\n",
       "      <td>0</td>\n",
       "      <td>469</td>\n",
       "      <td>...</td>\n",
       "      <td>0</td>\n",
       "      <td>0</td>\n",
       "      <td>325</td>\n",
       "      <td>0</td>\n",
       "      <td>0</td>\n",
       "      <td>0</td>\n",
       "      <td>0</td>\n",
       "      <td>0</td>\n",
       "      <td>0</td>\n",
       "      <td>0</td>\n",
       "    </tr>\n",
       "    <tr>\n",
       "      <th>2</th>\n",
       "      <td>7.780000e+07</td>\n",
       "      <td>0</td>\n",
       "      <td>265</td>\n",
       "      <td>75</td>\n",
       "      <td>0</td>\n",
       "      <td>0</td>\n",
       "      <td>199</td>\n",
       "      <td>0</td>\n",
       "      <td>74</td>\n",
       "      <td>469</td>\n",
       "      <td>...</td>\n",
       "      <td>263</td>\n",
       "      <td>0</td>\n",
       "      <td>325</td>\n",
       "      <td>147</td>\n",
       "      <td>0</td>\n",
       "      <td>0</td>\n",
       "      <td>21</td>\n",
       "      <td>241</td>\n",
       "      <td>267</td>\n",
       "      <td>15</td>\n",
       "    </tr>\n",
       "    <tr>\n",
       "      <th>3</th>\n",
       "      <td>9.240000e+08</td>\n",
       "      <td>0</td>\n",
       "      <td>0</td>\n",
       "      <td>0</td>\n",
       "      <td>0</td>\n",
       "      <td>0</td>\n",
       "      <td>199</td>\n",
       "      <td>0</td>\n",
       "      <td>0</td>\n",
       "      <td>469</td>\n",
       "      <td>...</td>\n",
       "      <td>0</td>\n",
       "      <td>0</td>\n",
       "      <td>325</td>\n",
       "      <td>0</td>\n",
       "      <td>0</td>\n",
       "      <td>197</td>\n",
       "      <td>0</td>\n",
       "      <td>0</td>\n",
       "      <td>267</td>\n",
       "      <td>0</td>\n",
       "    </tr>\n",
       "    <tr>\n",
       "      <th>4</th>\n",
       "      <td>8.780000e+08</td>\n",
       "      <td>0</td>\n",
       "      <td>0</td>\n",
       "      <td>0</td>\n",
       "      <td>0</td>\n",
       "      <td>0</td>\n",
       "      <td>199</td>\n",
       "      <td>0</td>\n",
       "      <td>0</td>\n",
       "      <td>469</td>\n",
       "      <td>...</td>\n",
       "      <td>0</td>\n",
       "      <td>0</td>\n",
       "      <td>325</td>\n",
       "      <td>0</td>\n",
       "      <td>0</td>\n",
       "      <td>197</td>\n",
       "      <td>0</td>\n",
       "      <td>0</td>\n",
       "      <td>267</td>\n",
       "      <td>15</td>\n",
       "    </tr>\n",
       "  </tbody>\n",
       "</table>\n",
       "<p>5 rows × 26 columns</p>\n",
       "</div>"
      ],
      "text/plain": [
       "    customer_id  gl60  gl265  gl75  gl201  gl193  gl199  gl79  gl74  gl469  \\\n",
       "0  6.890000e+08     0      0    75      0      0      0     0    74    469   \n",
       "1  1.020000e+09     0    265    75      0      0    199     0     0    469   \n",
       "2  7.780000e+07     0    265    75      0      0    199     0    74    469   \n",
       "3  9.240000e+08     0      0     0      0      0    199     0     0    469   \n",
       "4  8.780000e+08     0      0     0      0      0    199     0     0    469   \n",
       "\n",
       "   ...   gl263  gl229  gl325  gl147  gl364  gl197  gl21  gl241  gl267  gl15  \n",
       "0  ...       0      0      0      0      0      0     0      0    267     0  \n",
       "1  ...       0      0    325      0      0      0     0      0      0     0  \n",
       "2  ...     263      0    325    147      0      0    21    241    267    15  \n",
       "3  ...       0      0    325      0      0    197     0      0    267     0  \n",
       "4  ...       0      0    325      0      0    197     0      0    267    15  \n",
       "\n",
       "[5 rows x 26 columns]"
      ]
     },
     "execution_count": 110,
     "metadata": {},
     "output_type": "execute_result"
    }
   ],
   "source": [
    "df = pd.read_csv(\"../Combinations/data/sample_reversed.csv\", sep=\",\")\n",
    "df = df.fillna(0)\n",
    "df.head()"
   ]
  },
  {
   "cell_type": "code",
   "execution_count": 3,
   "metadata": {
    "collapsed": true
   },
   "outputs": [],
   "source": [
    "def get_most_common_combinations(df,length):\n",
    "    \"\"\"\n",
    "    function takes all combinations of \n",
    "    non zero entries of length l per row and counts their occurences.\n",
    "    Then it sorts these occurences in decreasing order, from most common to least common\n",
    "    \"\"\"\n",
    "    \n",
    "    #Step one, select rows from a dataframe and convert to list\n",
    "    temp = df.values.tolist()\n",
    "    \n",
    "    #Step two, eliminate all zeros\n",
    "    out = [[element for element in row if element != 0] for row in temp]\n",
    "    \n",
    "    #Step three, create dataframe \n",
    "    newList = []\n",
    "    for i in out:\n",
    "        newList.append([[element for element in list(set(comb))] for comb in itertools.combinations(i, length)])\n",
    "    \n",
    "    #Step four, flatten the list\n",
    "    flat_list = [item for sublist in newList for item in sublist]\n",
    "    \n",
    "    #Step five, calculate occurences\n",
    "    listOfItems = flat_list\n",
    "    setOfItems = []\n",
    "    newListOfItems = []\n",
    "    for item in listOfItems:\n",
    "        if item in setOfItems:\n",
    "            continue\n",
    "        setOfItems.append(item)\n",
    "        temp = list(item)\n",
    "        occurence = listOfItems.count(item)\n",
    "        temp.append(occurence)\n",
    "        newListOfItems.append(temp)\n",
    "\n",
    "        \n",
    "    #Step six, sort the output\n",
    "    return sorted(newListOfItems, key = lambda x: int(x[-1]), reverse  = True) "
   ]
  },
  {
   "cell_type": "code",
   "execution_count": 4,
   "metadata": {
    "collapsed": true
   },
   "outputs": [],
   "source": [
    "final = get_most_common_combinations(df.iloc[:,1:], 3)"
   ]
  },
  {
   "cell_type": "code",
   "execution_count": 5,
   "metadata": {},
   "outputs": [
    {
     "data": {
      "text/plain": [
       "[[325, 469, 199, 6],\n",
       " [265, 267, 469, 5],\n",
       " [267, 469, 199, 5],\n",
       " [267, 325, 199, 5],\n",
       " [267, 325, 469, 5],\n",
       " [265, 469, 199, 4],\n",
       " [265, 325, 199, 4],\n",
       " [265, 325, 469, 4],\n",
       " [265, 241, 469, 4],\n",
       " [265, 267, 241, 4]]"
      ]
     },
     "execution_count": 5,
     "metadata": {},
     "output_type": "execute_result"
    }
   ],
   "source": [
    "final[0:10]"
   ]
  },
  {
   "cell_type": "markdown",
   "metadata": {},
   "source": [
    "# Create non overlapping segments and retrieve customers"
   ]
  },
  {
   "cell_type": "code",
   "execution_count": 63,
   "metadata": {
    "collapsed": true
   },
   "outputs": [],
   "source": [
    "temp = df.values.tolist()\n",
    "values = [[element for element in row if element != 0] for row in temp]"
   ]
  },
  {
   "cell_type": "code",
   "execution_count": 65,
   "metadata": {
    "collapsed": true
   },
   "outputs": [],
   "source": [
    "#Using dict comphrehension\n",
    "itemDict = {item[0]: item[1:] for item in values}"
   ]
  },
  {
   "cell_type": "code",
   "execution_count": 66,
   "metadata": {
    "collapsed": true
   },
   "outputs": [],
   "source": [
    "newList = []\n",
    "\n",
    "for keys in itemDict:\n",
    "    newList.append([[element for element in list(set(comb))] for comb in itertools.combinations(itemDict[keys], 3)])"
   ]
  },
  {
   "cell_type": "code",
   "execution_count": 69,
   "metadata": {
    "collapsed": true
   },
   "outputs": [],
   "source": [
    "dictionary = dict(zip(itemDict.keys(), newList))"
   ]
  },
  {
   "cell_type": "code",
   "execution_count": 225,
   "metadata": {},
   "outputs": [],
   "source": [
    "# n = 0\n",
    "# while (n < df.shape[0]):\n",
    "    \n",
    "#     for k, v in dictionary.items():\n",
    "        \n",
    "#         if final[n][0:-1] in v:\n",
    "#             print(\"Rank of most common combo: \", n, \"Combo: \", final[n][0:-1], \"CustomerId:\", int(k))\n",
    "#     n = n + 1"
   ]
  },
  {
   "cell_type": "code",
   "execution_count": 229,
   "metadata": {},
   "outputs": [
    {
     "name": "stdout",
     "output_type": "stream",
     "text": [
      "[1020000000, 924000000, 77800000, 1120000000, 878000000, 1170000000, 6760000000, 311000000, 689000000]\n"
     ]
    }
   ],
   "source": [
    "#While loop covers cumulatively all the customers eligible for combinations mentioned above\n",
    "n = 0\n",
    "list_of_keys_so_far = [] #collect old previous keys\n",
    "\n",
    "while (n < len(final)):\n",
    "    \n",
    "    for k, v in dictionary.items():\n",
    "    \n",
    "        if final[n][0:-1] in v:\n",
    "             list_of_keys_so_far.append(int(k))\n",
    "    #print(list(set(list_of_keys_so_far)),final[n][0:-1])\n",
    "    n += 1\n",
    "print(list(set(list_of_keys_so_far)))"
   ]
  },
  {
   "cell_type": "code",
   "execution_count": null,
   "metadata": {
    "collapsed": true
   },
   "outputs": [],
   "source": []
  }
 ],
 "metadata": {
  "kernelspec": {
   "display_name": "Python 3",
   "language": "python",
   "name": "python3"
  },
  "language_info": {
   "codemirror_mode": {
    "name": "ipython",
    "version": 3
   },
   "file_extension": ".py",
   "mimetype": "text/x-python",
   "name": "python",
   "nbconvert_exporter": "python",
   "pygments_lexer": "ipython3",
   "version": "3.6.3"
  }
 },
 "nbformat": 4,
 "nbformat_minor": 2
}
