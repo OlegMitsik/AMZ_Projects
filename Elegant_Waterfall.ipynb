{
 "cells": [
  {
   "cell_type": "markdown",
   "metadata": {},
   "source": [
    "# Waterfall \n",
    "\n",
    "<p> The notebook calculates how many customers bought sequentially all subsequent seasons of a particular series </p>"
   ]
  },
  {
   "cell_type": "code",
   "execution_count": 19,
   "metadata": {
    "collapsed": true
   },
   "outputs": [],
   "source": [
    "import pandas as pd\n",
    "import numpy as np\n",
    "\n",
    "import math\n",
    "from collections import Counter"
   ]
  },
  {
   "cell_type": "code",
   "execution_count": 2,
   "metadata": {
    "collapsed": true
   },
   "outputs": [],
   "source": [
    "df = pd.read_csv(\"../GOT/data/waterfall_4.txt\", sep=\"\\t\",\n",
    "                 names = ['encrypted_customer_id',\n",
    "                          'transaction_date','asin',\n",
    "                          'content_type','title'])"
   ]
  },
  {
   "cell_type": "code",
   "execution_count": 3,
   "metadata": {},
   "outputs": [
    {
     "name": "stdout",
     "output_type": "stream",
     "text": [
      "(1229481, 5)\n"
     ]
    },
    {
     "data": {
      "text/html": [
       "<div>\n",
       "<style>\n",
       "    .dataframe thead tr:only-child th {\n",
       "        text-align: right;\n",
       "    }\n",
       "\n",
       "    .dataframe thead th {\n",
       "        text-align: left;\n",
       "    }\n",
       "\n",
       "    .dataframe tbody tr th {\n",
       "        vertical-align: top;\n",
       "    }\n",
       "</style>\n",
       "<table border=\"1\" class=\"dataframe\">\n",
       "  <thead>\n",
       "    <tr style=\"text-align: right;\">\n",
       "      <th></th>\n",
       "      <th>encrypted_customer_id</th>\n",
       "      <th>transaction_date</th>\n",
       "      <th>asin</th>\n",
       "      <th>content_type</th>\n",
       "      <th>title</th>\n",
       "    </tr>\n",
       "  </thead>\n",
       "  <tbody>\n",
       "    <tr>\n",
       "      <th>0</th>\n",
       "      <td>A3PCW9WC0GTF2Q</td>\n",
       "      <td>2017-08-15 00:00:00</td>\n",
       "      <td>B073VVVKNB</td>\n",
       "      <td>TV Season</td>\n",
       "      <td>Game of Thrones - Staffel 7 [dt./OV]</td>\n",
       "    </tr>\n",
       "    <tr>\n",
       "      <th>1</th>\n",
       "      <td>A1A77UBUPOPZI1</td>\n",
       "      <td>2017-08-21 00:00:00</td>\n",
       "      <td>B00M3LG74C</td>\n",
       "      <td>TV Season</td>\n",
       "      <td>Game of Thrones - Staffel 4 [dt./OV]</td>\n",
       "    </tr>\n",
       "    <tr>\n",
       "      <th>2</th>\n",
       "      <td>A3GKVH6E99LI3V</td>\n",
       "      <td>2017-07-30 00:00:00</td>\n",
       "      <td>B00I8ZYTRO</td>\n",
       "      <td>TV Season</td>\n",
       "      <td>Game of Thrones - Staffel 1 [dt./OV]</td>\n",
       "    </tr>\n",
       "    <tr>\n",
       "      <th>3</th>\n",
       "      <td>A2R45O6WIV592C</td>\n",
       "      <td>2014-08-05 00:00:00</td>\n",
       "      <td>B00M3LG74C</td>\n",
       "      <td>TV Season</td>\n",
       "      <td>Game of Thrones - Staffel 4 [dt./OV]</td>\n",
       "    </tr>\n",
       "    <tr>\n",
       "      <th>4</th>\n",
       "      <td>A9E4FJS969OCG</td>\n",
       "      <td>2016-09-18 00:00:00</td>\n",
       "      <td>B00I8ZVHDI</td>\n",
       "      <td>TV Season</td>\n",
       "      <td>Game of Thrones - Staffel 3 [dt./OV]</td>\n",
       "    </tr>\n",
       "  </tbody>\n",
       "</table>\n",
       "</div>"
      ],
      "text/plain": [
       "  encrypted_customer_id     transaction_date        asin content_type  \\\n",
       "0        A3PCW9WC0GTF2Q  2017-08-15 00:00:00  B073VVVKNB    TV Season   \n",
       "1        A1A77UBUPOPZI1  2017-08-21 00:00:00  B00M3LG74C    TV Season   \n",
       "2        A3GKVH6E99LI3V  2017-07-30 00:00:00  B00I8ZYTRO    TV Season   \n",
       "3        A2R45O6WIV592C  2014-08-05 00:00:00  B00M3LG74C    TV Season   \n",
       "4         A9E4FJS969OCG  2016-09-18 00:00:00  B00I8ZVHDI    TV Season   \n",
       "\n",
       "                                  title  \n",
       "0  Game of Thrones - Staffel 7 [dt./OV]  \n",
       "1  Game of Thrones - Staffel 4 [dt./OV]  \n",
       "2  Game of Thrones - Staffel 1 [dt./OV]  \n",
       "3  Game of Thrones - Staffel 4 [dt./OV]  \n",
       "4  Game of Thrones - Staffel 3 [dt./OV]  "
      ]
     },
     "execution_count": 3,
     "metadata": {},
     "output_type": "execute_result"
    }
   ],
   "source": [
    "print(df.shape)\n",
    "df.head()"
   ]
  },
  {
   "cell_type": "code",
   "execution_count": 4,
   "metadata": {},
   "outputs": [
    {
     "name": "stderr",
     "output_type": "stream",
     "text": [
      "C:\\Users\\dfadeeff\\AppData\\Local\\Continuum\\anaconda3\\lib\\site-packages\\ipykernel_launcher.py:2: FutureWarning: currently extract(expand=None) means expand=False (return Index/Series/DataFrame) but in a future version of pandas this will be changed to expand=True (return DataFrame)\n",
      "  \n"
     ]
    }
   ],
   "source": [
    "def to_preprocess(df):\n",
    "    df['season_number'] =    df.title.str.extract('(\\d+)')\n",
    "    df['season_number'] =    pd.to_numeric(df['season_number'] , errors='coerce')\n",
    "\n",
    "    df['transaction_date'] = pd.to_datetime(df['transaction_date'])\n",
    "    df['days_since_epoch'] = (pd.to_datetime(df['transaction_date']) - pd.datetime(1970,1,1)).dt.days\n",
    "    return df\n",
    "    \n",
    "new_df = to_preprocess(df)"
   ]
  },
  {
   "cell_type": "code",
   "execution_count": 5,
   "metadata": {},
   "outputs": [
    {
     "name": "stdout",
     "output_type": "stream",
     "text": [
      "Overall number of unique customers who bought:  515182\n",
      "Unique asins:  14\n"
     ]
    }
   ],
   "source": [
    "print(\"Overall number of unique customers who bought: \" , new_df['encrypted_customer_id'].nunique())\n",
    "print(\"Unique asins: \", new_df['asin'].nunique())"
   ]
  },
  {
   "cell_type": "code",
   "execution_count": 6,
   "metadata": {
    "collapsed": true
   },
   "outputs": [],
   "source": [
    "def recursive_call_funnel(df,staffel, base):\n",
    "    \"\"\"calculates customers who watched all previous seasons\"\"\"\n",
    "    if staffel <= base:\n",
    "        return df[df['season_number'] == base]['encrypted_customer_id']\n",
    "    else :\n",
    "        return df[(df['season_number'] == staffel) \n",
    "                  & (df['encrypted_customer_id'].isin(recursive_call_funnel(df,staffel-1,base)))]['encrypted_customer_id']   \n"
   ]
  },
  {
   "cell_type": "code",
   "execution_count": 9,
   "metadata": {
    "collapsed": true
   },
   "outputs": [],
   "source": [
    "def create_matrix(df,range_start,range_end):\n",
    "    \"\"\"function calculates recursively how many bought in a specific season of a series\"\"\"\n",
    "    new_table = []\n",
    "    \n",
    "    for i in range(range_start,range_end + 1):\n",
    "        new_list = []\n",
    "        for j in range(i, range_end + 1):\n",
    "            new_list.append(recursive_call_funnel(df,j,i).nunique())\n",
    "        new_table.append(new_list)\n",
    "        \n",
    "        \n",
    "    output = []\n",
    "    for j in range(0, len(new_table)):\n",
    "        output.append([ round(i  /  new_table[j][0],2) for i in new_table[j]])\n",
    "    \n",
    "    return output"
   ]
  },
  {
   "cell_type": "code",
   "execution_count": 11,
   "metadata": {},
   "outputs": [],
   "source": [
    "new_table_total = create_matrix(new_df, 1, 7)"
   ]
  },
  {
   "cell_type": "code",
   "execution_count": 12,
   "metadata": {},
   "outputs": [
    {
     "data": {
      "text/plain": [
       "[[1.0, 0.68, 0.57, 0.51, 0.45, 0.41, 0.36],\n",
       " [1.0, 0.8, 0.71, 0.62, 0.56, 0.49],\n",
       " [1.0, 0.85, 0.73, 0.65, 0.57],\n",
       " [1.0, 0.76, 0.66, 0.56],\n",
       " [1.0, 0.79, 0.66],\n",
       " [1.0, 0.75],\n",
       " [1.0]]"
      ]
     },
     "execution_count": 12,
     "metadata": {},
     "output_type": "execute_result"
    }
   ],
   "source": [
    "new_table_total"
   ]
  },
  {
   "cell_type": "markdown",
   "metadata": {},
   "source": [
    "# Median time between purchases"
   ]
  },
  {
   "cell_type": "code",
   "execution_count": 13,
   "metadata": {
    "collapsed": true
   },
   "outputs": [],
   "source": [
    "def from_long_to_wide(df,dimension1, dimension2):\n",
    "    \"\"\"convert from wide to long\"\"\"\n",
    "    return df.pivot_table(index = 'encrypted_customer_id', \n",
    "                          columns = dimension1, values = dimension2).reset_index()\n",
    "\n",
    "\n",
    "def add_intervals(df):\n",
    "    \"\"\"function goes thru all combinations of season purchases\n",
    "    and calculates time frame between purchases\"\"\"\n",
    "    df_wide = from_long_to_wide(df,\"title\",\"days_since_epoch\")\n",
    "    \n",
    "    for i in range(2,df_wide.shape[1]):\n",
    "        df_wide[i] = df_wide.iloc[:,i] - df_wide.iloc[:,i-1]\n",
    "    return df_wide    "
   ]
  },
  {
   "cell_type": "code",
   "execution_count": 15,
   "metadata": {
    "collapsed": true
   },
   "outputs": [],
   "source": [
    "df_wide = add_intervals(new_df)"
   ]
  },
  {
   "cell_type": "code",
   "execution_count": 20,
   "metadata": {},
   "outputs": [],
   "source": [
    "def get_combinations(df):\n",
    "    \n",
    "    df = df.sort_values(by = ['encrypted_customer_id','transaction_date'])\n",
    "    \n",
    "    t = pd.DataFrame(df.groupby(\"encrypted_customer_id\")['season_number'].agg(lambda x: x.tolist())).reset_index()\n",
    "    t.columns = ['encrypted_customer_id','combination']\n",
    "    \n",
    "    #Get intersection in case you have have 2 column of lists\n",
    "    #df['intersection'] = [list(set(a).intersection(set(b))) for a, b in zip(df.A, df.B)]\n",
    "    \n",
    "    \n",
    "    t['combination'] = t.apply(lambda row: set(row['combination']), axis=1)    \n",
    "    \n",
    "    count_combo = t['combination'].apply(tuple)\n",
    "    d = Counter(elem for elem in count_combo)\n",
    "    \n",
    "    df_output = pd.DataFrame.from_dict(d, orient='index').reset_index()\n",
    "    \n",
    "    df_output.columns = ['combination','count']\n",
    "    return df_output, t"
   ]
  },
  {
   "cell_type": "code",
   "execution_count": 21,
   "metadata": {},
   "outputs": [
    {
     "data": {
      "text/html": [
       "<div>\n",
       "<style>\n",
       "    .dataframe thead tr:only-child th {\n",
       "        text-align: right;\n",
       "    }\n",
       "\n",
       "    .dataframe thead th {\n",
       "        text-align: left;\n",
       "    }\n",
       "\n",
       "    .dataframe tbody tr th {\n",
       "        vertical-align: top;\n",
       "    }\n",
       "</style>\n",
       "<table border=\"1\" class=\"dataframe\">\n",
       "  <thead>\n",
       "    <tr style=\"text-align: right;\">\n",
       "      <th></th>\n",
       "      <th>combination</th>\n",
       "      <th>count</th>\n",
       "    </tr>\n",
       "  </thead>\n",
       "  <tbody>\n",
       "    <tr>\n",
       "      <th>0</th>\n",
       "      <td>(7,)</td>\n",
       "      <td>183903</td>\n",
       "    </tr>\n",
       "    <tr>\n",
       "      <th>8</th>\n",
       "      <td>(6, 7)</td>\n",
       "      <td>53593</td>\n",
       "    </tr>\n",
       "    <tr>\n",
       "      <th>6</th>\n",
       "      <td>(1, 2, 3, 4, 5, 6, 7)</td>\n",
       "      <td>53340</td>\n",
       "    </tr>\n",
       "    <tr>\n",
       "      <th>4</th>\n",
       "      <td>(1,)</td>\n",
       "      <td>32802</td>\n",
       "    </tr>\n",
       "    <tr>\n",
       "      <th>11</th>\n",
       "      <td>(6,)</td>\n",
       "      <td>30050</td>\n",
       "    </tr>\n",
       "  </tbody>\n",
       "</table>\n",
       "</div>"
      ],
      "text/plain": [
       "              combination   count\n",
       "0                    (7,)  183903\n",
       "8                  (6, 7)   53593\n",
       "6   (1, 2, 3, 4, 5, 6, 7)   53340\n",
       "4                    (1,)   32802\n",
       "11                   (6,)   30050"
      ]
     },
     "execution_count": 21,
     "metadata": {},
     "output_type": "execute_result"
    }
   ],
   "source": [
    "final, t = get_combinations(df)\n",
    "\n",
    "final = final.sort_values(by = \"count\", ascending=False)\n",
    "final.head()"
   ]
  },
  {
   "cell_type": "markdown",
   "metadata": {},
   "source": [
    "# Days between purchases"
   ]
  },
  {
   "cell_type": "code",
   "execution_count": 22,
   "metadata": {
    "collapsed": true
   },
   "outputs": [],
   "source": [
    "# for i in range(2,7+1):\n",
    "#     print(\"Percentiles from season %d to previous one\" %i)   \n",
    "#     print(df_wide[ pd.isnull(df_wide[i]) == False ][i].quantile(np.linspace(.1, 1, 9, 0), 'lower'))"
   ]
  },
  {
   "cell_type": "code",
   "execution_count": null,
   "metadata": {
    "collapsed": true
   },
   "outputs": [],
   "source": []
  }
 ],
 "metadata": {
  "kernelspec": {
   "display_name": "Python 3",
   "language": "python",
   "name": "python3"
  },
  "language_info": {
   "codemirror_mode": {
    "name": "ipython",
    "version": 3
   },
   "file_extension": ".py",
   "mimetype": "text/x-python",
   "name": "python",
   "nbconvert_exporter": "python",
   "pygments_lexer": "ipython3",
   "version": "3.6.3"
  }
 },
 "nbformat": 4,
 "nbformat_minor": 2
}
