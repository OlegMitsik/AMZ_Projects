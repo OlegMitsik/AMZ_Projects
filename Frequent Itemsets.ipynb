{
 "cells": [
  {
   "cell_type": "code",
   "execution_count": 1,
   "metadata": {
    "collapsed": true
   },
   "outputs": [],
   "source": [
    "import pandas as pd\n",
    "import numpy as np\n",
    "\n",
    "import matplotlib.pyplot\n",
    "%matplotlib inline\n",
    "\n",
    "from collections import Counter"
   ]
  },
  {
   "cell_type": "code",
   "execution_count": 4,
   "metadata": {
    "collapsed": true
   },
   "outputs": [],
   "source": [
    "df = pd.read_csv(\"../Frequent_Itemsets/data/sample.txt\", sep= \"\\t\", encoding = \"ISO-8859-1\", header=None)\n",
    "df.columns = ['revenue','title','timestamp','customer_id']"
   ]
  },
  {
   "cell_type": "code",
   "execution_count": 5,
   "metadata": {
    "collapsed": true
   },
   "outputs": [],
   "source": [
    "def preprocessing(df):\n",
    "    df['timestamp'] = pd.to_datetime(df['timestamp'])\n",
    "    df = df.dropna()\n",
    "    return df"
   ]
  },
  {
   "cell_type": "code",
   "execution_count": 6,
   "metadata": {},
   "outputs": [
    {
     "name": "stdout",
     "output_type": "stream",
     "text": [
      "(2969511, 4) (2988222, 4)\n",
      "Unique number of customers: 1437925\n"
     ]
    },
    {
     "data": {
      "text/html": [
       "<div>\n",
       "<style>\n",
       "    .dataframe thead tr:only-child th {\n",
       "        text-align: right;\n",
       "    }\n",
       "\n",
       "    .dataframe thead th {\n",
       "        text-align: left;\n",
       "    }\n",
       "\n",
       "    .dataframe tbody tr th {\n",
       "        vertical-align: top;\n",
       "    }\n",
       "</style>\n",
       "<table border=\"1\" class=\"dataframe\">\n",
       "  <thead>\n",
       "    <tr style=\"text-align: right;\">\n",
       "      <th></th>\n",
       "      <th>revenue</th>\n",
       "      <th>title</th>\n",
       "      <th>timestamp</th>\n",
       "      <th>customer_id</th>\n",
       "    </tr>\n",
       "  </thead>\n",
       "  <tbody>\n",
       "    <tr>\n",
       "      <th>0</th>\n",
       "      <td>1.67</td>\n",
       "      <td>Sport ist Mord</td>\n",
       "      <td>2019-07-05</td>\n",
       "      <td>A2UAJ8NW9XIIS0</td>\n",
       "    </tr>\n",
       "    <tr>\n",
       "      <th>1</th>\n",
       "      <td>0.83</td>\n",
       "      <td>The First Avenger: Civil War [dt./OV]</td>\n",
       "      <td>2019-07-14</td>\n",
       "      <td>AIDSKOPJNZJ93</td>\n",
       "    </tr>\n",
       "    <tr>\n",
       "      <th>3</th>\n",
       "      <td>3.35</td>\n",
       "      <td>Michael Clayton</td>\n",
       "      <td>2019-07-13</td>\n",
       "      <td>A290LGW9N2RY19</td>\n",
       "    </tr>\n",
       "    <tr>\n",
       "      <th>4</th>\n",
       "      <td>0.83</td>\n",
       "      <td>Deadpool [dt./OV]</td>\n",
       "      <td>2019-07-12</td>\n",
       "      <td>A3VIQZ7YAKNZR0</td>\n",
       "    </tr>\n",
       "    <tr>\n",
       "      <th>5</th>\n",
       "      <td>0.83</td>\n",
       "      <td>Männertag</td>\n",
       "      <td>2019-07-13</td>\n",
       "      <td>A1Z9CMUOVNZL5</td>\n",
       "    </tr>\n",
       "  </tbody>\n",
       "</table>\n",
       "</div>"
      ],
      "text/plain": [
       "   revenue                                  title  timestamp     customer_id\n",
       "0     1.67                         Sport ist Mord 2019-07-05  A2UAJ8NW9XIIS0\n",
       "1     0.83  The First Avenger: Civil War [dt./OV] 2019-07-14   AIDSKOPJNZJ93\n",
       "3     3.35                        Michael Clayton 2019-07-13  A290LGW9N2RY19\n",
       "4     0.83                      Deadpool [dt./OV] 2019-07-12  A3VIQZ7YAKNZR0\n",
       "5     0.83                              Männertag 2019-07-13   A1Z9CMUOVNZL5"
      ]
     },
     "execution_count": 6,
     "metadata": {},
     "output_type": "execute_result"
    }
   ],
   "source": [
    "df_new = preprocessing(df)\n",
    "print(df_new.shape, df.shape)\n",
    "print(\"Unique number of customers:\", df['customer_id'].nunique())\n",
    "df_new.head()"
   ]
  },
  {
   "cell_type": "code",
   "execution_count": 7,
   "metadata": {
    "collapsed": true
   },
   "outputs": [],
   "source": [
    "def get_combinations(df):\n",
    "    \n",
    "    df = df.sort_values(by = ['customer_id','timestamp'])\n",
    "    \n",
    "    t = pd.DataFrame(df.groupby(\"customer_id\")['title'].agg(lambda x: x.tolist())).reset_index()\n",
    "    t.columns = ['customer_id','combination']\n",
    "    \n",
    "    #Get intersection in case you have have 2 column of lists\n",
    "    #df['intersection'] = [list(set(a).intersection(set(b))) for a, b in zip(df.A, df.B)]\n",
    "    \n",
    "    \n",
    "    t['combination'] = t.apply(lambda row: set(row['combination']), axis=1)    \n",
    "    \n",
    "    count_combo = t['combination'].apply(tuple)\n",
    "    d = Counter(elem for elem in count_combo)\n",
    "    \n",
    "    df_output = pd.DataFrame.from_dict(d, orient='index').reset_index()\n",
    "    \n",
    "    df_output.columns = ['combination','count']\n",
    "    return df_output, t"
   ]
  },
  {
   "cell_type": "code",
   "execution_count": 8,
   "metadata": {
    "collapsed": true
   },
   "outputs": [],
   "source": [
    "a,b = get_combinations(df_new)"
   ]
  },
  {
   "cell_type": "code",
   "execution_count": 27,
   "metadata": {},
   "outputs": [
    {
     "data": {
      "text/html": [
       "<div>\n",
       "<style>\n",
       "    .dataframe thead tr:only-child th {\n",
       "        text-align: right;\n",
       "    }\n",
       "\n",
       "    .dataframe thead th {\n",
       "        text-align: left;\n",
       "    }\n",
       "\n",
       "    .dataframe tbody tr th {\n",
       "        vertical-align: top;\n",
       "    }\n",
       "</style>\n",
       "<table border=\"1\" class=\"dataframe\">\n",
       "  <thead>\n",
       "    <tr style=\"text-align: right;\">\n",
       "      <th></th>\n",
       "      <th>customer_id</th>\n",
       "      <th>combination</th>\n",
       "    </tr>\n",
       "  </thead>\n",
       "  <tbody>\n",
       "    <tr>\n",
       "      <th>0</th>\n",
       "      <td>A0000366A0GK5998YBDT</td>\n",
       "      <td>{Die Royal Tenenbaums}</td>\n",
       "    </tr>\n",
       "    <tr>\n",
       "      <th>1</th>\n",
       "      <td>A0000434260Q6LEE180GF</td>\n",
       "      <td>{Warcraft: The Beginning [dt./OV]}</td>\n",
       "    </tr>\n",
       "    <tr>\n",
       "      <th>2</th>\n",
       "      <td>A0001210LXBR1BZ5BP3</td>\n",
       "      <td>{Polaroid, Bailey - Ein Freund fürs Leben [dt....</td>\n",
       "    </tr>\n",
       "    <tr>\n",
       "      <th>3</th>\n",
       "      <td>A00019461IMC9V3PF4AFN</td>\n",
       "      <td>{Bohemian Rhapsody [dt./OV]}</td>\n",
       "    </tr>\n",
       "    <tr>\n",
       "      <th>4</th>\n",
       "      <td>A00021686F07H1Z9ODO7</td>\n",
       "      <td>{Bent - Korruption kennt keine Regeln}</td>\n",
       "    </tr>\n",
       "  </tbody>\n",
       "</table>\n",
       "</div>"
      ],
      "text/plain": [
       "             customer_id                                        combination\n",
       "0   A0000366A0GK5998YBDT                             {Die Royal Tenenbaums}\n",
       "1  A0000434260Q6LEE180GF                 {Warcraft: The Beginning [dt./OV]}\n",
       "2    A0001210LXBR1BZ5BP3  {Polaroid, Bailey - Ein Freund fürs Leben [dt....\n",
       "3  A00019461IMC9V3PF4AFN                       {Bohemian Rhapsody [dt./OV]}\n",
       "4   A00021686F07H1Z9ODO7             {Bent - Korruption kennt keine Regeln}"
      ]
     },
     "execution_count": 27,
     "metadata": {},
     "output_type": "execute_result"
    }
   ],
   "source": [
    "b.head()"
   ]
  },
  {
   "cell_type": "code",
   "execution_count": 19,
   "metadata": {},
   "outputs": [],
   "source": [
    "c = a.sort_values(by = \"count\", ascending = False)\n",
    "c['count_elements'] = c.apply(lambda row: len(row['combination']), axis=1)"
   ]
  },
  {
   "cell_type": "code",
   "execution_count": 20,
   "metadata": {},
   "outputs": [
    {
     "data": {
      "text/html": [
       "<div>\n",
       "<style>\n",
       "    .dataframe thead tr:only-child th {\n",
       "        text-align: right;\n",
       "    }\n",
       "\n",
       "    .dataframe thead th {\n",
       "        text-align: left;\n",
       "    }\n",
       "\n",
       "    .dataframe tbody tr th {\n",
       "        vertical-align: top;\n",
       "    }\n",
       "</style>\n",
       "<table border=\"1\" class=\"dataframe\">\n",
       "  <thead>\n",
       "    <tr style=\"text-align: right;\">\n",
       "      <th></th>\n",
       "      <th>combination</th>\n",
       "      <th>count</th>\n",
       "      <th>count_elements</th>\n",
       "    </tr>\n",
       "  </thead>\n",
       "  <tbody>\n",
       "    <tr>\n",
       "      <th>48</th>\n",
       "      <td>(25 km/h,)</td>\n",
       "      <td>18764</td>\n",
       "      <td>1</td>\n",
       "    </tr>\n",
       "    <tr>\n",
       "      <th>195</th>\n",
       "      <td>(Drachenzähmen leicht gemacht 3: Die geheime W...</td>\n",
       "      <td>11121</td>\n",
       "      <td>1</td>\n",
       "    </tr>\n",
       "    <tr>\n",
       "      <th>189</th>\n",
       "      <td>(Spider-Man: A New Universe [dt./OV],)</td>\n",
       "      <td>10906</td>\n",
       "      <td>1</td>\n",
       "    </tr>\n",
       "    <tr>\n",
       "      <th>88</th>\n",
       "      <td>(Pets [dt./OV],)</td>\n",
       "      <td>10581</td>\n",
       "      <td>1</td>\n",
       "    </tr>\n",
       "    <tr>\n",
       "      <th>190</th>\n",
       "      <td>(Mary Poppins? Rückkehr [dt./OV],)</td>\n",
       "      <td>9229</td>\n",
       "      <td>1</td>\n",
       "    </tr>\n",
       "  </tbody>\n",
       "</table>\n",
       "</div>"
      ],
      "text/plain": [
       "                                           combination  count  count_elements\n",
       "48                                          (25 km/h,)  18764               1\n",
       "195  (Drachenzähmen leicht gemacht 3: Die geheime W...  11121               1\n",
       "189             (Spider-Man: A New Universe [dt./OV],)  10906               1\n",
       "88                                    (Pets [dt./OV],)  10581               1\n",
       "190                 (Mary Poppins? Rückkehr [dt./OV],)   9229               1"
      ]
     },
     "execution_count": 20,
     "metadata": {},
     "output_type": "execute_result"
    }
   ],
   "source": [
    "c.head()"
   ]
  },
  {
   "cell_type": "code",
   "execution_count": 25,
   "metadata": {},
   "outputs": [
    {
     "data": {
      "text/html": [
       "<div>\n",
       "<style>\n",
       "    .dataframe thead tr:only-child th {\n",
       "        text-align: right;\n",
       "    }\n",
       "\n",
       "    .dataframe thead th {\n",
       "        text-align: left;\n",
       "    }\n",
       "\n",
       "    .dataframe tbody tr th {\n",
       "        vertical-align: top;\n",
       "    }\n",
       "</style>\n",
       "<table border=\"1\" class=\"dataframe\">\n",
       "  <thead>\n",
       "    <tr style=\"text-align: right;\">\n",
       "      <th></th>\n",
       "      <th>combination</th>\n",
       "      <th>count</th>\n",
       "      <th>count_elements</th>\n",
       "    </tr>\n",
       "  </thead>\n",
       "  <tbody>\n",
       "    <tr>\n",
       "      <th>139</th>\n",
       "      <td>(John Wick [dt./OV], John Wick: Kapitel 2 [dt....</td>\n",
       "      <td>1910</td>\n",
       "      <td>2</td>\n",
       "    </tr>\n",
       "    <tr>\n",
       "      <th>610</th>\n",
       "      <td>(Die Tribute von Panem - Mockingjay Teil 1 [dt...</td>\n",
       "      <td>1288</td>\n",
       "      <td>2</td>\n",
       "    </tr>\n",
       "    <tr>\n",
       "      <th>364</th>\n",
       "      <td>(Drachenzähmen leicht gemacht 3: Die geheime W...</td>\n",
       "      <td>939</td>\n",
       "      <td>2</td>\n",
       "    </tr>\n",
       "    <tr>\n",
       "      <th>2803</th>\n",
       "      <td>(Paw Patrol - Staffel 4 Teil 2 [dt./OV], Paw P...</td>\n",
       "      <td>883</td>\n",
       "      <td>2</td>\n",
       "    </tr>\n",
       "    <tr>\n",
       "      <th>57</th>\n",
       "      <td>(Träume von Schäfchen, Was sagen die Gene?)</td>\n",
       "      <td>713</td>\n",
       "      <td>2</td>\n",
       "    </tr>\n",
       "    <tr>\n",
       "      <th>450</th>\n",
       "      <td>(Mary Poppins? Rückkehr [dt./OV], Spider-Man: ...</td>\n",
       "      <td>697</td>\n",
       "      <td>2</td>\n",
       "    </tr>\n",
       "    <tr>\n",
       "      <th>247</th>\n",
       "      <td>(Game of Thrones - Staffel 8 [dt./OV], Game of...</td>\n",
       "      <td>666</td>\n",
       "      <td>2</td>\n",
       "    </tr>\n",
       "    <tr>\n",
       "      <th>8077</th>\n",
       "      <td>(25 km/h, Mary Poppins? Rückkehr [dt./OV])</td>\n",
       "      <td>649</td>\n",
       "      <td>2</td>\n",
       "    </tr>\n",
       "    <tr>\n",
       "      <th>3303</th>\n",
       "      <td>(25 km/h, Sauerkrautkoma)</td>\n",
       "      <td>645</td>\n",
       "      <td>2</td>\n",
       "    </tr>\n",
       "    <tr>\n",
       "      <th>2021</th>\n",
       "      <td>(Die Hüterin der Wahrheit ? Dinas Bestimmung, ...</td>\n",
       "      <td>605</td>\n",
       "      <td>2</td>\n",
       "    </tr>\n",
       "    <tr>\n",
       "      <th>1073</th>\n",
       "      <td>(Sauerkrautkoma, Grießnockerlaffäre)</td>\n",
       "      <td>597</td>\n",
       "      <td>2</td>\n",
       "    </tr>\n",
       "    <tr>\n",
       "      <th>2156</th>\n",
       "      <td>(Jurassic World: Das Gefallene Königreich [dt....</td>\n",
       "      <td>579</td>\n",
       "      <td>2</td>\n",
       "    </tr>\n",
       "    <tr>\n",
       "      <th>2258</th>\n",
       "      <td>(25 km/h, Spider-Man: A New Universe [dt./OV])</td>\n",
       "      <td>531</td>\n",
       "      <td>2</td>\n",
       "    </tr>\n",
       "    <tr>\n",
       "      <th>1484</th>\n",
       "      <td>(Sauerkrautkoma, Schweinskopf al dente)</td>\n",
       "      <td>519</td>\n",
       "      <td>2</td>\n",
       "    </tr>\n",
       "    <tr>\n",
       "      <th>3623</th>\n",
       "      <td>(Descendants: Die Nachkommen [dt./OV], Descend...</td>\n",
       "      <td>510</td>\n",
       "      <td>2</td>\n",
       "    </tr>\n",
       "    <tr>\n",
       "      <th>863</th>\n",
       "      <td>(25 km/h, Peppermint - Angel of Vengeance)</td>\n",
       "      <td>479</td>\n",
       "      <td>2</td>\n",
       "    </tr>\n",
       "    <tr>\n",
       "      <th>2421</th>\n",
       "      <td>(Alita: Battle Angel [dt./OV], Marvel Studios'...</td>\n",
       "      <td>474</td>\n",
       "      <td>2</td>\n",
       "    </tr>\n",
       "    <tr>\n",
       "      <th>4179</th>\n",
       "      <td>(The Happytime Murders, Spider-Man: A New Univ...</td>\n",
       "      <td>446</td>\n",
       "      <td>2</td>\n",
       "    </tr>\n",
       "    <tr>\n",
       "      <th>3658</th>\n",
       "      <td>(Pitch Perfect 3 [dt./OV], Pitch Perfect 2 [dt...</td>\n",
       "      <td>437</td>\n",
       "      <td>2</td>\n",
       "    </tr>\n",
       "    <tr>\n",
       "      <th>1761</th>\n",
       "      <td>(New Kids Turbo, New Kids Nitro)</td>\n",
       "      <td>429</td>\n",
       "      <td>2</td>\n",
       "    </tr>\n",
       "  </tbody>\n",
       "</table>\n",
       "</div>"
      ],
      "text/plain": [
       "                                            combination  count  count_elements\n",
       "139   (John Wick [dt./OV], John Wick: Kapitel 2 [dt....   1910               2\n",
       "610   (Die Tribute von Panem - Mockingjay Teil 1 [dt...   1288               2\n",
       "364   (Drachenzähmen leicht gemacht 3: Die geheime W...    939               2\n",
       "2803  (Paw Patrol - Staffel 4 Teil 2 [dt./OV], Paw P...    883               2\n",
       "57          (Träume von Schäfchen, Was sagen die Gene?)    713               2\n",
       "450   (Mary Poppins? Rückkehr [dt./OV], Spider-Man: ...    697               2\n",
       "247   (Game of Thrones - Staffel 8 [dt./OV], Game of...    666               2\n",
       "8077         (25 km/h, Mary Poppins? Rückkehr [dt./OV])    649               2\n",
       "3303                          (25 km/h, Sauerkrautkoma)    645               2\n",
       "2021  (Die Hüterin der Wahrheit ? Dinas Bestimmung, ...    605               2\n",
       "1073               (Sauerkrautkoma, Grießnockerlaffäre)    597               2\n",
       "2156  (Jurassic World: Das Gefallene Königreich [dt....    579               2\n",
       "2258     (25 km/h, Spider-Man: A New Universe [dt./OV])    531               2\n",
       "1484            (Sauerkrautkoma, Schweinskopf al dente)    519               2\n",
       "3623  (Descendants: Die Nachkommen [dt./OV], Descend...    510               2\n",
       "863          (25 km/h, Peppermint - Angel of Vengeance)    479               2\n",
       "2421  (Alita: Battle Angel [dt./OV], Marvel Studios'...    474               2\n",
       "4179  (The Happytime Murders, Spider-Man: A New Univ...    446               2\n",
       "3658  (Pitch Perfect 3 [dt./OV], Pitch Perfect 2 [dt...    437               2\n",
       "1761                   (New Kids Turbo, New Kids Nitro)    429               2"
      ]
     },
     "execution_count": 25,
     "metadata": {},
     "output_type": "execute_result"
    }
   ],
   "source": [
    "c[c['count_elements'] == 2][0:20]"
   ]
  },
  {
   "cell_type": "code",
   "execution_count": 36,
   "metadata": {},
   "outputs": [
    {
     "data": {
      "text/plain": [
       "('Träume von Schäfchen', 'Was sagen die Gene?')"
      ]
     },
     "execution_count": 36,
     "metadata": {},
     "output_type": "execute_result"
    }
   ],
   "source": [
    "c.loc[57]['combination']"
   ]
  }
 ],
 "metadata": {
  "kernelspec": {
   "display_name": "Python 3",
   "language": "python",
   "name": "python3"
  },
  "language_info": {
   "codemirror_mode": {
    "name": "ipython",
    "version": 3
   },
   "file_extension": ".py",
   "mimetype": "text/x-python",
   "name": "python",
   "nbconvert_exporter": "python",
   "pygments_lexer": "ipython3",
   "version": "3.6.3"
  }
 },
 "nbformat": 4,
 "nbformat_minor": 2
}
