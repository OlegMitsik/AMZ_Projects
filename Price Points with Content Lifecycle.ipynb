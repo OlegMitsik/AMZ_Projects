{
 "cells": [
  {
   "cell_type": "markdown",
   "metadata": {},
   "source": [
    "# Workbook explores results of the test by price points"
   ]
  },
  {
   "cell_type": "code",
   "execution_count": 2,
   "metadata": {
    "collapsed": true
   },
   "outputs": [],
   "source": [
    "import pandas as pd\n",
    "import numpy as np\n",
    "\n",
    "import matplotlib.pyplot as plt\n",
    "%matplotlib inline"
   ]
  },
  {
   "cell_type": "code",
   "execution_count": 3,
   "metadata": {
    "collapsed": true
   },
   "outputs": [],
   "source": [
    "df = pd.read_csv(\"Z://00_ETL/TV_test/asin_date_4.txt\", sep=\"\\t\",\n",
    "                 encoding = \"ISO-8859-1\", header=None, \n",
    "                 names = ['week_ending','is_promo','asin','is_promo_asin',\n",
    "                          'content','title_name',\n",
    "                         'studio_name','contract_id',\n",
    "                          'release_date','is_hd',\n",
    "                          'display_price','lifecycle','season_number','customers',\n",
    "                          'new_customers','OPS','units','cogs','ppm'])\n",
    "df['week_ending'] = pd.to_datetime(df['week_ending'])\n",
    "df['release_date'] = pd.to_datetime(df['release_date'])"
   ]
  },
  {
   "cell_type": "code",
   "execution_count": 4,
   "metadata": {},
   "outputs": [
    {
     "name": "stdout",
     "output_type": "stream",
     "text": [
      "(1202086, 19)\n"
     ]
    },
    {
     "data": {
      "text/html": [
       "<div>\n",
       "<style>\n",
       "    .dataframe thead tr:only-child th {\n",
       "        text-align: right;\n",
       "    }\n",
       "\n",
       "    .dataframe thead th {\n",
       "        text-align: left;\n",
       "    }\n",
       "\n",
       "    .dataframe tbody tr th {\n",
       "        vertical-align: top;\n",
       "    }\n",
       "</style>\n",
       "<table border=\"1\" class=\"dataframe\">\n",
       "  <thead>\n",
       "    <tr style=\"text-align: right;\">\n",
       "      <th></th>\n",
       "      <th>week_ending</th>\n",
       "      <th>is_promo</th>\n",
       "      <th>asin</th>\n",
       "      <th>is_promo_asin</th>\n",
       "      <th>content</th>\n",
       "      <th>title_name</th>\n",
       "      <th>studio_name</th>\n",
       "      <th>contract_id</th>\n",
       "      <th>release_date</th>\n",
       "      <th>is_hd</th>\n",
       "      <th>display_price</th>\n",
       "      <th>lifecycle</th>\n",
       "      <th>season_number</th>\n",
       "      <th>customers</th>\n",
       "      <th>new_customers</th>\n",
       "      <th>OPS</th>\n",
       "      <th>units</th>\n",
       "      <th>cogs</th>\n",
       "      <th>ppm</th>\n",
       "    </tr>\n",
       "  </thead>\n",
       "  <tbody>\n",
       "    <tr>\n",
       "      <th>0</th>\n",
       "      <td>2018-01-06</td>\n",
       "      <td>non_promo_period</td>\n",
       "      <td>B00HWWF21Q</td>\n",
       "      <td>non_promo_asins</td>\n",
       "      <td>Movie</td>\n",
       "      <td>Surrogates - Mein zweites Ich</td>\n",
       "      <td>Disney</td>\n",
       "      <td>UXDY4</td>\n",
       "      <td>2013-12-01</td>\n",
       "      <td>Y</td>\n",
       "      <td>3.99</td>\n",
       "      <td>Deep Catalogue</td>\n",
       "      <td>NaN</td>\n",
       "      <td>16</td>\n",
       "      <td>0</td>\n",
       "      <td>53.51</td>\n",
       "      <td>16</td>\n",
       "      <td>32.48</td>\n",
       "      <td>0.3930</td>\n",
       "    </tr>\n",
       "    <tr>\n",
       "      <th>1</th>\n",
       "      <td>2018-01-06</td>\n",
       "      <td>non_promo_period</td>\n",
       "      <td>B00QTV9OP6</td>\n",
       "      <td>non_promo_asins</td>\n",
       "      <td>Movie</td>\n",
       "      <td>Love Stories - Erste Lieben, Zweite Chancen</td>\n",
       "      <td>KOCH INTERNATIONAL</td>\n",
       "      <td>UXUV4</td>\n",
       "      <td>2015-05-22</td>\n",
       "      <td>Y</td>\n",
       "      <td>3.99</td>\n",
       "      <td>2_3yr_Catalogue</td>\n",
       "      <td>NaN</td>\n",
       "      <td>16</td>\n",
       "      <td>0</td>\n",
       "      <td>53.57</td>\n",
       "      <td>16</td>\n",
       "      <td>26.68</td>\n",
       "      <td>0.5019</td>\n",
       "    </tr>\n",
       "    <tr>\n",
       "      <th>2</th>\n",
       "      <td>2018-01-06</td>\n",
       "      <td>non_promo_period</td>\n",
       "      <td>B01D3TSUVK</td>\n",
       "      <td>non_promo_asins</td>\n",
       "      <td>Movie</td>\n",
       "      <td>Baggage Claim</td>\n",
       "      <td>FOX</td>\n",
       "      <td>UXFX4</td>\n",
       "      <td>2016-04-01</td>\n",
       "      <td>Y</td>\n",
       "      <td>3.99</td>\n",
       "      <td>1_2yr_Catalogue</td>\n",
       "      <td>NaN</td>\n",
       "      <td>5</td>\n",
       "      <td>0</td>\n",
       "      <td>16.75</td>\n",
       "      <td>5</td>\n",
       "      <td>8.04</td>\n",
       "      <td>0.5200</td>\n",
       "    </tr>\n",
       "    <tr>\n",
       "      <th>3</th>\n",
       "      <td>2018-01-06</td>\n",
       "      <td>non_promo_period</td>\n",
       "      <td>B00HFDYW0O</td>\n",
       "      <td>non_promo_asins</td>\n",
       "      <td>Movie</td>\n",
       "      <td>Road to Perdition</td>\n",
       "      <td>FOX</td>\n",
       "      <td>UXFX4</td>\n",
       "      <td>2013-11-15</td>\n",
       "      <td>N</td>\n",
       "      <td>2.99</td>\n",
       "      <td>Deep Catalogue</td>\n",
       "      <td>NaN</td>\n",
       "      <td>37</td>\n",
       "      <td>0</td>\n",
       "      <td>92.83</td>\n",
       "      <td>37</td>\n",
       "      <td>54.36</td>\n",
       "      <td>0.4144</td>\n",
       "    </tr>\n",
       "    <tr>\n",
       "      <th>4</th>\n",
       "      <td>2018-01-13</td>\n",
       "      <td>non_promo_period</td>\n",
       "      <td>B00FZ2738A</td>\n",
       "      <td>non_promo_asins</td>\n",
       "      <td>Movie</td>\n",
       "      <td>Veronika beschließt zu sterben</td>\n",
       "      <td>Universum Film</td>\n",
       "      <td>UXUV4</td>\n",
       "      <td>2011-09-11</td>\n",
       "      <td>N</td>\n",
       "      <td>2.99</td>\n",
       "      <td>Deep Catalogue</td>\n",
       "      <td>NaN</td>\n",
       "      <td>37</td>\n",
       "      <td>1</td>\n",
       "      <td>92.81</td>\n",
       "      <td>38</td>\n",
       "      <td>49.18</td>\n",
       "      <td>0.4701</td>\n",
       "    </tr>\n",
       "  </tbody>\n",
       "</table>\n",
       "</div>"
      ],
      "text/plain": [
       "  week_ending          is_promo        asin    is_promo_asin content  \\\n",
       "0  2018-01-06  non_promo_period  B00HWWF21Q  non_promo_asins   Movie   \n",
       "1  2018-01-06  non_promo_period  B00QTV9OP6  non_promo_asins   Movie   \n",
       "2  2018-01-06  non_promo_period  B01D3TSUVK  non_promo_asins   Movie   \n",
       "3  2018-01-06  non_promo_period  B00HFDYW0O  non_promo_asins   Movie   \n",
       "4  2018-01-13  non_promo_period  B00FZ2738A  non_promo_asins   Movie   \n",
       "\n",
       "                                    title_name         studio_name  \\\n",
       "0                Surrogates - Mein zweites Ich              Disney   \n",
       "1  Love Stories - Erste Lieben, Zweite Chancen  KOCH INTERNATIONAL   \n",
       "2                                Baggage Claim                 FOX   \n",
       "3                            Road to Perdition                 FOX   \n",
       "4               Veronika beschließt zu sterben      Universum Film   \n",
       "\n",
       "  contract_id release_date is_hd  display_price        lifecycle  \\\n",
       "0       UXDY4   2013-12-01     Y           3.99   Deep Catalogue   \n",
       "1       UXUV4   2015-05-22     Y           3.99  2_3yr_Catalogue   \n",
       "2       UXFX4   2016-04-01     Y           3.99  1_2yr_Catalogue   \n",
       "3       UXFX4   2013-11-15     N           2.99   Deep Catalogue   \n",
       "4       UXUV4   2011-09-11     N           2.99   Deep Catalogue   \n",
       "\n",
       "   season_number  customers  new_customers    OPS  units   cogs     ppm  \n",
       "0            NaN         16              0  53.51     16  32.48  0.3930  \n",
       "1            NaN         16              0  53.57     16  26.68  0.5019  \n",
       "2            NaN          5              0  16.75      5   8.04  0.5200  \n",
       "3            NaN         37              0  92.83     37  54.36  0.4144  \n",
       "4            NaN         37              1  92.81     38  49.18  0.4701  "
      ]
     },
     "execution_count": 4,
     "metadata": {},
     "output_type": "execute_result"
    }
   ],
   "source": [
    "print(df.shape)\n",
    "df.head()"
   ]
  },
  {
   "cell_type": "markdown",
   "metadata": {},
   "source": [
    "# Subset Seasons, ie leave only Seasons in the dataset"
   ]
  },
  {
   "cell_type": "code",
   "execution_count": 5,
   "metadata": {},
   "outputs": [
    {
     "data": {
      "text/plain": [
       "2249635.3299998385"
      ]
     },
     "execution_count": 5,
     "metadata": {},
     "output_type": "execute_result"
    }
   ],
   "source": [
    "df = df[df['content'] == \"Season\"]\n",
    "df[(df['is_promo'] == 'promo_period')&(df['is_promo_asin'] == \"promo_asins\")]['OPS'].sum()"
   ]
  },
  {
   "cell_type": "markdown",
   "metadata": {},
   "source": [
    "# Distribution of promo OPS by price points"
   ]
  },
  {
   "cell_type": "code",
   "execution_count": 6,
   "metadata": {
    "collapsed": true
   },
   "outputs": [],
   "source": [
    "def dist_by_revenue(df):\n",
    "    t = pd.DataFrame(df[(df['is_promo'] == 'promo_period')\n",
    "                        & (df['is_promo_asin'] == \"promo_asins\")].groupby(\"display_price\")['OPS'].sum().reset_index())\n",
    "    t.columns = ['display_price','OPS']\n",
    "    t['share'] = t['OPS'] / t['OPS'].sum()\n",
    "    t['cumsum'] = t['share'].cumsum()\n",
    "    return t"
   ]
  },
  {
   "cell_type": "code",
   "execution_count": 8,
   "metadata": {},
   "outputs": [
    {
     "name": "stdout",
     "output_type": "stream",
     "text": [
      "Revenue generated from promo ASINs in the promo period: 2249635.329999947\n"
     ]
    },
    {
     "data": {
      "text/html": [
       "<div>\n",
       "<style>\n",
       "    .dataframe thead tr:only-child th {\n",
       "        text-align: right;\n",
       "    }\n",
       "\n",
       "    .dataframe thead th {\n",
       "        text-align: left;\n",
       "    }\n",
       "\n",
       "    .dataframe tbody tr th {\n",
       "        vertical-align: top;\n",
       "    }\n",
       "</style>\n",
       "<table border=\"1\" class=\"dataframe\">\n",
       "  <thead>\n",
       "    <tr style=\"text-align: right;\">\n",
       "      <th></th>\n",
       "      <th>display_price</th>\n",
       "      <th>OPS</th>\n",
       "      <th>share</th>\n",
       "      <th>cumsum</th>\n",
       "    </tr>\n",
       "  </thead>\n",
       "  <tbody>\n",
       "    <tr>\n",
       "      <th>0</th>\n",
       "      <td>2.49</td>\n",
       "      <td>2.09</td>\n",
       "      <td>9.290395e-07</td>\n",
       "      <td>9.290395e-07</td>\n",
       "    </tr>\n",
       "    <tr>\n",
       "      <th>1</th>\n",
       "      <td>2.99</td>\n",
       "      <td>12.53</td>\n",
       "      <td>5.569792e-06</td>\n",
       "      <td>6.498831e-06</td>\n",
       "    </tr>\n",
       "    <tr>\n",
       "      <th>2</th>\n",
       "      <td>3.49</td>\n",
       "      <td>35.16</td>\n",
       "      <td>1.562920e-05</td>\n",
       "      <td>2.212803e-05</td>\n",
       "    </tr>\n",
       "    <tr>\n",
       "      <th>3</th>\n",
       "      <td>3.99</td>\n",
       "      <td>2422.06</td>\n",
       "      <td>1.076646e-03</td>\n",
       "      <td>1.098774e-03</td>\n",
       "    </tr>\n",
       "    <tr>\n",
       "      <th>4</th>\n",
       "      <td>4.47</td>\n",
       "      <td>33.84</td>\n",
       "      <td>1.504244e-05</td>\n",
       "      <td>1.113816e-03</td>\n",
       "    </tr>\n",
       "  </tbody>\n",
       "</table>\n",
       "</div>"
      ],
      "text/plain": [
       "   display_price      OPS         share        cumsum\n",
       "0           2.49     2.09  9.290395e-07  9.290395e-07\n",
       "1           2.99    12.53  5.569792e-06  6.498831e-06\n",
       "2           3.49    35.16  1.562920e-05  2.212803e-05\n",
       "3           3.99  2422.06  1.076646e-03  1.098774e-03\n",
       "4           4.47    33.84  1.504244e-05  1.113816e-03"
      ]
     },
     "execution_count": 8,
     "metadata": {},
     "output_type": "execute_result"
    }
   ],
   "source": [
    "t = dist_by_revenue(df)\n",
    "print(\"Revenue generated from promo ASINs in the promo period:\", t['OPS'].sum())\n",
    "t.head()"
   ]
  },
  {
   "cell_type": "code",
   "execution_count": 9,
   "metadata": {},
   "outputs": [
    {
     "data": {
      "text/plain": [
       "0.9287561197751971"
      ]
     },
     "execution_count": 9,
     "metadata": {},
     "output_type": "execute_result"
    }
   ],
   "source": [
    "#Check the share of OPS covered by those 3 price points\n",
    "t[t['display_price'].isin([4.99, 9.99, 14.99])]['OPS'].sum() / t['OPS'].sum()"
   ]
  },
  {
   "cell_type": "markdown",
   "metadata": {},
   "source": [
    "## Make adjustment to time frame for non period"
   ]
  },
  {
   "cell_type": "code",
   "execution_count": 10,
   "metadata": {
    "collapsed": true
   },
   "outputs": [],
   "source": [
    "df = df[df['week_ending'] >= '2018-01-27']"
   ]
  },
  {
   "cell_type": "markdown",
   "metadata": {},
   "source": [
    "## Get ASINs in promo at these price points in the non promo period \n",
    "\n",
    "<p> The idea is to compare ASINs which are at this price points in the promo and non promo period </p>"
   ]
  },
  {
   "cell_type": "code",
   "execution_count": 11,
   "metadata": {
    "collapsed": true
   },
   "outputs": [],
   "source": [
    "def get_asin_at_price_points(df):\n",
    "    \"\"\"function selects asins that had certain price points\n",
    "    and selects from pre period the same ones to make proper comparison\"\"\"\n",
    "    asin_list = df[(df['is_promo'] == 'promo_period') \n",
    "               & (df['is_promo_asin'] == \"promo_asins\") \n",
    "               & (df['display_price'].isin([4.99, 9.99, 14.99]))]\n",
    "    \n",
    "    asin_subset = df[(df['asin'].isin(asin_list['asin']))]\n",
    "    \n",
    "    #Here you delete all rows which dont satisfy some condition\n",
    "    asin_subset = asin_subset.drop(asin_subset[(asin_subset['is_promo'] == \"promo_period\") \n",
    "                                           & (asin_subset['is_promo_asin'] == \"promo_asins\")\n",
    "                                          & (~asin_subset['display_price'].isin([4.99,9.99,14.99]))].index)\n",
    "    return asin_subset"
   ]
  },
  {
   "cell_type": "code",
   "execution_count": 12,
   "metadata": {
    "collapsed": true
   },
   "outputs": [],
   "source": [
    "def prep_dataset(df):\n",
    "    a = pd.DataFrame(df.groupby([\"is_promo\",\"asin\"])['week_ending'].size().reset_index())\n",
    "    key_metrics = pd.DataFrame(df.groupby([\"is_promo\",\"asin\"])['OPS','units'].sum().reset_index())\n",
    "    m = pd.merge(left=key_metrics,right=a,left_on=['is_promo','asin'],right_on=['is_promo','asin'], how = 'left')\n",
    "    m['OPS_per_week'] = m['OPS'] / m['week_ending']\n",
    "    m['units_per_week'] = m['units'] / m['week_ending']\n",
    "    \n",
    "    after = pd.DataFrame(asin_subset[asin_subset['is_promo']=='promo_period'].\n",
    "                         groupby([\"asin\",'is_promo'])[\"display_price\"].min().reset_index())\n",
    "    before = pd.DataFrame(asin_subset[asin_subset['is_promo']=='non_promo_period'].\n",
    "                          groupby([\"asin\",'is_promo'])[\"display_price\"].mean().reset_index())\n",
    "    all_prices = after.append(before, ignore_index=True)\n",
    "    key_out = pd.merge(left=m,right=all_prices,left_on=['is_promo','asin'],right_on=['is_promo','asin'],how=\"left\")\n",
    "    key_out = pd.merge(left=key_out,right=after[['asin','display_price']],left_on=\"asin\",right_on=\"asin\",how=\"left\")\n",
    "    \n",
    "    return key_out"
   ]
  },
  {
   "cell_type": "code",
   "execution_count": 13,
   "metadata": {
    "collapsed": true
   },
   "outputs": [],
   "source": [
    "asin_subset = get_asin_at_price_points(df)"
   ]
  },
  {
   "cell_type": "code",
   "execution_count": 14,
   "metadata": {
    "collapsed": true
   },
   "outputs": [],
   "source": [
    "key_metrics = prep_dataset(asin_subset)"
   ]
  },
  {
   "cell_type": "code",
   "execution_count": 15,
   "metadata": {},
   "outputs": [
    {
     "data": {
      "text/html": [
       "<div>\n",
       "<style>\n",
       "    .dataframe thead tr:only-child th {\n",
       "        text-align: right;\n",
       "    }\n",
       "\n",
       "    .dataframe thead th {\n",
       "        text-align: left;\n",
       "    }\n",
       "\n",
       "    .dataframe tbody tr th {\n",
       "        vertical-align: top;\n",
       "    }\n",
       "</style>\n",
       "<table border=\"1\" class=\"dataframe\">\n",
       "  <thead>\n",
       "    <tr style=\"text-align: right;\">\n",
       "      <th></th>\n",
       "      <th>OPS_per_week</th>\n",
       "      <th>units_per_week</th>\n",
       "    </tr>\n",
       "    <tr>\n",
       "      <th>is_promo</th>\n",
       "      <th></th>\n",
       "      <th></th>\n",
       "    </tr>\n",
       "  </thead>\n",
       "  <tbody>\n",
       "    <tr>\n",
       "      <th>non_promo_period</th>\n",
       "      <td>94.495656</td>\n",
       "      <td>6.921644</td>\n",
       "    </tr>\n",
       "    <tr>\n",
       "      <th>promo_period</th>\n",
       "      <td>83.669155</td>\n",
       "      <td>14.566081</td>\n",
       "    </tr>\n",
       "  </tbody>\n",
       "</table>\n",
       "</div>"
      ],
      "text/plain": [
       "                  OPS_per_week  units_per_week\n",
       "is_promo                                      \n",
       "non_promo_period     94.495656        6.921644\n",
       "promo_period         83.669155       14.566081"
      ]
     },
     "execution_count": 15,
     "metadata": {},
     "output_type": "execute_result"
    }
   ],
   "source": [
    "#Overall stats\n",
    "key_metrics.groupby(\"is_promo\")['OPS_per_week','units_per_week'].mean()"
   ]
  },
  {
   "cell_type": "code",
   "execution_count": null,
   "metadata": {
    "collapsed": true
   },
   "outputs": [],
   "source": [
    "#key_metrics.groupby(\"is_promo\")['OPS_per_week','units_per_week'].mean().to_csv(\"UK_overall.csv\")"
   ]
  },
  {
   "cell_type": "code",
   "execution_count": 18,
   "metadata": {
    "collapsed": true
   },
   "outputs": [],
   "source": [
    "def get_output(df, metric):\n",
    "    output = pd.DataFrame(df.groupby([\"is_promo\",'display_price_y'])\n",
    "                          ['OPS_per_week','units_per_week'].mean().reset_index())\n",
    "    \n",
    "    \n",
    "    kk = pd.pivot_table(output, index = \"display_price_y\",\n",
    "                        columns=\"is_promo\", values = [metric])\n",
    "    kk.columns = kk.columns.droplevel()\n",
    "    kk = kk.reset_index()\n",
    "    kk['change_in_metric'] = (kk['non_promo_period'] - kk['promo_period']) / kk['non_promo_period']\n",
    "    kk['change_promo_vs_non_promo_in_%'] = (kk['promo_period'] / kk['non_promo_period']-1)*100\n",
    "    return kk    "
   ]
  },
  {
   "cell_type": "markdown",
   "metadata": {},
   "source": [
    "## Initialize metrics to break down the dataset by "
   ]
  },
  {
   "cell_type": "code",
   "execution_count": 77,
   "metadata": {
    "collapsed": true
   },
   "outputs": [],
   "source": [
    "dimension = \"season_number\"\n",
    "metric1 = \"OPS_per_week\"\n",
    "metric2 = \"units_per_week\""
   ]
  },
  {
   "cell_type": "code",
   "execution_count": 78,
   "metadata": {},
   "outputs": [
    {
     "data": {
      "text/html": [
       "<div>\n",
       "<style>\n",
       "    .dataframe thead tr:only-child th {\n",
       "        text-align: right;\n",
       "    }\n",
       "\n",
       "    .dataframe thead th {\n",
       "        text-align: left;\n",
       "    }\n",
       "\n",
       "    .dataframe tbody tr th {\n",
       "        vertical-align: top;\n",
       "    }\n",
       "</style>\n",
       "<table border=\"1\" class=\"dataframe\">\n",
       "  <thead>\n",
       "    <tr style=\"text-align: right;\">\n",
       "      <th>is_promo</th>\n",
       "      <th>display_price_y</th>\n",
       "      <th>non_promo_period</th>\n",
       "      <th>promo_period</th>\n",
       "      <th>change_in_metric</th>\n",
       "      <th>change_promo_vs_non_promo_in_%</th>\n",
       "    </tr>\n",
       "  </thead>\n",
       "  <tbody>\n",
       "    <tr>\n",
       "      <th>0</th>\n",
       "      <td>4.99</td>\n",
       "      <td>67.831048</td>\n",
       "      <td>58.378608</td>\n",
       "      <td>0.139353</td>\n",
       "      <td>-13.935270</td>\n",
       "    </tr>\n",
       "    <tr>\n",
       "      <th>1</th>\n",
       "      <td>9.99</td>\n",
       "      <td>123.303979</td>\n",
       "      <td>124.329203</td>\n",
       "      <td>-0.008315</td>\n",
       "      <td>0.831461</td>\n",
       "    </tr>\n",
       "    <tr>\n",
       "      <th>2</th>\n",
       "      <td>14.99</td>\n",
       "      <td>288.155898</td>\n",
       "      <td>233.657400</td>\n",
       "      <td>0.189129</td>\n",
       "      <td>-18.912852</td>\n",
       "    </tr>\n",
       "  </tbody>\n",
       "</table>\n",
       "</div>"
      ],
      "text/plain": [
       "is_promo  display_price_y  non_promo_period  promo_period  change_in_metric  \\\n",
       "0                    4.99         67.831048     58.378608          0.139353   \n",
       "1                    9.99        123.303979    124.329203         -0.008315   \n",
       "2                   14.99        288.155898    233.657400          0.189129   \n",
       "\n",
       "is_promo  change_promo_vs_non_promo_in_%  \n",
       "0                             -13.935270  \n",
       "1                               0.831461  \n",
       "2                             -18.912852  "
      ]
     },
     "execution_count": 78,
     "metadata": {},
     "output_type": "execute_result"
    }
   ],
   "source": [
    "output = get_output(key_metrics,metric1)\n",
    "output"
   ]
  },
  {
   "cell_type": "markdown",
   "metadata": {},
   "source": [
    "# Evaluate elasticity of demand\n",
    "<p> E = percentage_change_in_quantity to percentage_change_in_price </p>"
   ]
  },
  {
   "cell_type": "code",
   "execution_count": 86,
   "metadata": {
    "collapsed": true
   },
   "outputs": [],
   "source": [
    "def get_change_in_price(df, metric):\n",
    "    df['per_change_price'] = (df['display_price_x'] \n",
    "                                   - df['display_price_y']) / df['display_price_x']\n",
    "    k = pd.DataFrame(df[df['is_promo'] == \"non_promo_period\"].\n",
    "                     groupby(\"display_price_y\")['per_change_price'].mean().reset_index())\n",
    "    \n",
    "    f = get_output(df, metric)\n",
    "    final = pd.merge(left=f,right=k,left_on=\"display_price_y\",right_on=\"display_price_y\",how=\"left\")\n",
    "    final['elasticity'] = final['change_in_metric'] / final['per_change_price']\n",
    "    \n",
    "    mp = pd.merge(left=final, right=get_output(key_metrics,metric1),\n",
    "                  left_on=\"display_price_y\",right_on = \"display_price_y\", how = \"left\")\n",
    "    mp.columns = ['price_point','avg_non_period_units','avg_promo_units',\n",
    "                 'change_in_units','change_in_units_in_percentages',\n",
    "                 'change_in_price','elasticity','non_promo_ops','promo_ops','change_in_ops','change_in_ops_in_percentages']\n",
    "    return mp"
   ]
  },
  {
   "cell_type": "code",
   "execution_count": 87,
   "metadata": {},
   "outputs": [
    {
     "data": {
      "text/html": [
       "<div>\n",
       "<style>\n",
       "    .dataframe thead tr:only-child th {\n",
       "        text-align: right;\n",
       "    }\n",
       "\n",
       "    .dataframe thead th {\n",
       "        text-align: left;\n",
       "    }\n",
       "\n",
       "    .dataframe tbody tr th {\n",
       "        vertical-align: top;\n",
       "    }\n",
       "</style>\n",
       "<table border=\"1\" class=\"dataframe\">\n",
       "  <thead>\n",
       "    <tr style=\"text-align: right;\">\n",
       "      <th></th>\n",
       "      <th>price_point</th>\n",
       "      <th>avg_non_period_units</th>\n",
       "      <th>avg_promo_units</th>\n",
       "      <th>change_in_units</th>\n",
       "      <th>change_in_units_in_percentages</th>\n",
       "      <th>change_in_price</th>\n",
       "      <th>elasticity</th>\n",
       "      <th>non_promo_ops</th>\n",
       "      <th>promo_ops</th>\n",
       "      <th>change_in_ops</th>\n",
       "      <th>change_in_ops_in_percentages</th>\n",
       "    </tr>\n",
       "  </thead>\n",
       "  <tbody>\n",
       "    <tr>\n",
       "      <th>0</th>\n",
       "      <td>4.99</td>\n",
       "      <td>5.793241</td>\n",
       "      <td>14.037450</td>\n",
       "      <td>-1.423074</td>\n",
       "      <td>142.307367</td>\n",
       "      <td>0.644145</td>\n",
       "      <td>-2.209244</td>\n",
       "      <td>67.831048</td>\n",
       "      <td>58.378608</td>\n",
       "      <td>0.139353</td>\n",
       "      <td>-13.935270</td>\n",
       "    </tr>\n",
       "    <tr>\n",
       "      <th>1</th>\n",
       "      <td>9.99</td>\n",
       "      <td>8.556140</td>\n",
       "      <td>14.984418</td>\n",
       "      <td>-0.751306</td>\n",
       "      <td>75.130589</td>\n",
       "      <td>0.415320</td>\n",
       "      <td>-1.808980</td>\n",
       "      <td>123.303979</td>\n",
       "      <td>124.329203</td>\n",
       "      <td>-0.008315</td>\n",
       "      <td>0.831461</td>\n",
       "    </tr>\n",
       "    <tr>\n",
       "      <th>2</th>\n",
       "      <td>14.99</td>\n",
       "      <td>13.304485</td>\n",
       "      <td>19.598794</td>\n",
       "      <td>-0.473097</td>\n",
       "      <td>47.309687</td>\n",
       "      <td>0.354754</td>\n",
       "      <td>-1.333591</td>\n",
       "      <td>288.155898</td>\n",
       "      <td>233.657400</td>\n",
       "      <td>0.189129</td>\n",
       "      <td>-18.912852</td>\n",
       "    </tr>\n",
       "  </tbody>\n",
       "</table>\n",
       "</div>"
      ],
      "text/plain": [
       "   price_point  avg_non_period_units  avg_promo_units  change_in_units  \\\n",
       "0         4.99              5.793241        14.037450        -1.423074   \n",
       "1         9.99              8.556140        14.984418        -0.751306   \n",
       "2        14.99             13.304485        19.598794        -0.473097   \n",
       "\n",
       "   change_in_units_in_percentages  change_in_price  elasticity  non_promo_ops  \\\n",
       "0                      142.307367         0.644145   -2.209244      67.831048   \n",
       "1                       75.130589         0.415320   -1.808980     123.303979   \n",
       "2                       47.309687         0.354754   -1.333591     288.155898   \n",
       "\n",
       "    promo_ops  change_in_ops  change_in_ops_in_percentages  \n",
       "0   58.378608       0.139353                    -13.935270  \n",
       "1  124.329203      -0.008315                      0.831461  \n",
       "2  233.657400       0.189129                    -18.912852  "
      ]
     },
     "execution_count": 87,
     "metadata": {},
     "output_type": "execute_result"
    }
   ],
   "source": [
    "final = get_change_in_price(key_metrics,metric2)\n",
    "final"
   ]
  },
  {
   "cell_type": "code",
   "execution_count": 89,
   "metadata": {
    "collapsed": true
   },
   "outputs": [],
   "source": [
    "#final.to_csv(\"output_DE.csv\")"
   ]
  },
  {
   "cell_type": "markdown",
   "metadata": {},
   "source": [
    "# Add dimensions to the analysis"
   ]
  },
  {
   "cell_type": "markdown",
   "metadata": {},
   "source": [
    "## Here add complexity to get new dimensions"
   ]
  },
  {
   "cell_type": "code",
   "execution_count": 98,
   "metadata": {
    "collapsed": true
   },
   "outputs": [],
   "source": [
    "def prep_dataset_dimension(df, dimension):\n",
    "    \"\"\"adds complexity to the analysis in the dimension\"\"\"\n",
    "    \n",
    "    a = pd.DataFrame(df.groupby([\"is_promo\",\"asin\"])['week_ending'].size().reset_index())\n",
    "    key_metrics = pd.DataFrame(df.groupby([\"is_promo\",\"asin\"])['OPS','units'].sum().reset_index())\n",
    "    m = pd.merge(left=key_metrics,right=a,left_on=['is_promo','asin'],right_on=['is_promo','asin'], how = 'left')\n",
    "    \n",
    "    m['OPS_per_week'] = m['OPS'] / m['week_ending']\n",
    "    m['units_per_week'] = m['units'] / m['week_ending']\n",
    "    \n",
    "    lifecycles = pd.DataFrame(asin_subset.groupby(['asin'])[dimension].max().reset_index())\n",
    "    ops = pd.merge(left=m,right=lifecycles,left_on=\"asin\",right_on=\"asin\",how = \"left\")\n",
    "    \n",
    "    after = pd.DataFrame(asin_subset[asin_subset['is_promo']=='promo_period'].\n",
    "                         groupby([\"asin\",'is_promo'])[\"display_price\"].min().reset_index())\n",
    "    \n",
    "    before = pd.DataFrame(asin_subset[asin_subset['is_promo']=='non_promo_period'].\n",
    "                          groupby([\"asin\",'is_promo'])[\"display_price\"].mean().reset_index())\n",
    "    \n",
    "    all_prices = after.append(before, ignore_index=True)\n",
    "    key_out = pd.merge(left=ops,right=all_prices,left_on=['is_promo','asin'],right_on=['is_promo','asin'],how=\"left\")\n",
    "    key_out = pd.merge(left=key_out,right=after[['asin','display_price']],left_on=\"asin\",right_on=\"asin\",how=\"left\")\n",
    "    \n",
    "    \n",
    "    return key_out"
   ]
  },
  {
   "cell_type": "code",
   "execution_count": 114,
   "metadata": {
    "collapsed": true
   },
   "outputs": [],
   "source": [
    "def get_output_dimension(df, metric, dimension):\n",
    "    output = pd.DataFrame(df.groupby([\"is_promo\",'display_price_y',dimension])\n",
    "                          ['OPS_per_week','units_per_week'].mean().reset_index())\n",
    "    \n",
    "    \n",
    "    kk = pd.pivot_table(output, index = [\"display_price_y\",dimension],\n",
    "                        columns=\"is_promo\", values = [metric])\n",
    "    kk.columns = kk.columns.droplevel()\n",
    "    kk = kk.reset_index()\n",
    "    kk['change_in_metric'] = (kk['non_promo_period'] - kk['promo_period']) / kk['non_promo_period']\n",
    "    kk['change_promo_vs_non_promo_in_%'] = (kk['promo_period'] / kk['non_promo_period']-1)*100\n",
    "    return kk  "
   ]
  },
  {
   "cell_type": "code",
   "execution_count": 100,
   "metadata": {
    "collapsed": true
   },
   "outputs": [],
   "source": [
    "def get_change_in_price_dimension(df, metric, dimension):\n",
    "    \"\"\"make output table with additional dimension\"\"\"\n",
    "    \n",
    "    df['per_change_price'] = (df['display_price_x'] \n",
    "                                   - df['display_price_y']) / df['display_price_x']\n",
    "    k = pd.DataFrame(df[df['is_promo'] == \"non_promo_period\"].\n",
    "                     groupby([\"display_price_y\",dimension])['per_change_price'].mean().reset_index())\n",
    "    \n",
    "    f = get_output_dimension(df, metric, dimension)\n",
    "    \n",
    "    final = pd.merge(left=f,right=k,\n",
    "                     left_on=[\"display_price_y\",dimension],\n",
    "                     right_on=[\"display_price_y\",dimension],how=\"left\")\n",
    "    final['elasticity'] = final['change_in_metric'] / final['per_change_price']\n",
    "    return final"
   ]
  },
  {
   "cell_type": "code",
   "execution_count": 101,
   "metadata": {},
   "outputs": [
    {
     "name": "stdout",
     "output_type": "stream",
     "text": [
      "ASIN subset shape:  (30791, 19)\n",
      "Number of unique ASINs in the dataset:  2594\n"
     ]
    }
   ],
   "source": [
    "print(\"ASIN subset shape: \", asin_subset.shape)\n",
    "print(\"Number of unique ASINs in the dataset: \", asin_subset['asin'].nunique())"
   ]
  },
  {
   "cell_type": "markdown",
   "metadata": {},
   "source": [
    "# Run by dimensions"
   ]
  },
  {
   "cell_type": "code",
   "execution_count": 113,
   "metadata": {},
   "outputs": [
    {
     "data": {
      "text/html": [
       "<div>\n",
       "<style>\n",
       "    .dataframe thead tr:only-child th {\n",
       "        text-align: right;\n",
       "    }\n",
       "\n",
       "    .dataframe thead th {\n",
       "        text-align: left;\n",
       "    }\n",
       "\n",
       "    .dataframe tbody tr th {\n",
       "        vertical-align: top;\n",
       "    }\n",
       "</style>\n",
       "<table border=\"1\" class=\"dataframe\">\n",
       "  <thead>\n",
       "    <tr style=\"text-align: right;\">\n",
       "      <th></th>\n",
       "      <th>is_promo</th>\n",
       "      <th>asin</th>\n",
       "      <th>OPS</th>\n",
       "      <th>units</th>\n",
       "      <th>week_ending</th>\n",
       "      <th>OPS_per_week</th>\n",
       "      <th>units_per_week</th>\n",
       "      <th>season_number</th>\n",
       "      <th>display_price_x</th>\n",
       "      <th>display_price_y</th>\n",
       "    </tr>\n",
       "  </thead>\n",
       "  <tbody>\n",
       "    <tr>\n",
       "      <th>0</th>\n",
       "      <td>non_promo_period</td>\n",
       "      <td>B00ERIF4RK</td>\n",
       "      <td>3416.45</td>\n",
       "      <td>241</td>\n",
       "      <td>9</td>\n",
       "      <td>379.605556</td>\n",
       "      <td>26.777778</td>\n",
       "      <td>2.0</td>\n",
       "      <td>18.267778</td>\n",
       "      <td>4.99</td>\n",
       "    </tr>\n",
       "    <tr>\n",
       "      <th>1</th>\n",
       "      <td>non_promo_period</td>\n",
       "      <td>B00ERIF6S2</td>\n",
       "      <td>90.69</td>\n",
       "      <td>5</td>\n",
       "      <td>5</td>\n",
       "      <td>18.138000</td>\n",
       "      <td>1.000000</td>\n",
       "      <td>3.0</td>\n",
       "      <td>21.582000</td>\n",
       "      <td>4.99</td>\n",
       "    </tr>\n",
       "    <tr>\n",
       "      <th>2</th>\n",
       "      <td>non_promo_period</td>\n",
       "      <td>B00ERIFUK6</td>\n",
       "      <td>43.64</td>\n",
       "      <td>5</td>\n",
       "      <td>3</td>\n",
       "      <td>14.546667</td>\n",
       "      <td>1.666667</td>\n",
       "      <td>1.0</td>\n",
       "      <td>10.656667</td>\n",
       "      <td>4.99</td>\n",
       "    </tr>\n",
       "    <tr>\n",
       "      <th>3</th>\n",
       "      <td>non_promo_period</td>\n",
       "      <td>B00ERIG3Z2</td>\n",
       "      <td>33.60</td>\n",
       "      <td>2</td>\n",
       "      <td>2</td>\n",
       "      <td>16.800000</td>\n",
       "      <td>1.000000</td>\n",
       "      <td>3.0</td>\n",
       "      <td>19.990000</td>\n",
       "      <td>4.99</td>\n",
       "    </tr>\n",
       "    <tr>\n",
       "      <th>4</th>\n",
       "      <td>non_promo_period</td>\n",
       "      <td>B00ERIHD1K</td>\n",
       "      <td>214.53</td>\n",
       "      <td>22</td>\n",
       "      <td>7</td>\n",
       "      <td>30.647143</td>\n",
       "      <td>3.142857</td>\n",
       "      <td>1.0</td>\n",
       "      <td>11.842857</td>\n",
       "      <td>4.99</td>\n",
       "    </tr>\n",
       "  </tbody>\n",
       "</table>\n",
       "</div>"
      ],
      "text/plain": [
       "           is_promo        asin      OPS  units  week_ending  OPS_per_week  \\\n",
       "0  non_promo_period  B00ERIF4RK  3416.45    241            9    379.605556   \n",
       "1  non_promo_period  B00ERIF6S2    90.69      5            5     18.138000   \n",
       "2  non_promo_period  B00ERIFUK6    43.64      5            3     14.546667   \n",
       "3  non_promo_period  B00ERIG3Z2    33.60      2            2     16.800000   \n",
       "4  non_promo_period  B00ERIHD1K   214.53     22            7     30.647143   \n",
       "\n",
       "   units_per_week  season_number  display_price_x  display_price_y  \n",
       "0       26.777778            2.0        18.267778             4.99  \n",
       "1        1.000000            3.0        21.582000             4.99  \n",
       "2        1.666667            1.0        10.656667             4.99  \n",
       "3        1.000000            3.0        19.990000             4.99  \n",
       "4        3.142857            1.0        11.842857             4.99  "
      ]
     },
     "execution_count": 113,
     "metadata": {},
     "output_type": "execute_result"
    }
   ],
   "source": [
    "key_metrics_l = prep_dataset_dimension(asin_subset,dimension)\n",
    "key_metrics_l.head()"
   ]
  },
  {
   "cell_type": "code",
   "execution_count": 117,
   "metadata": {},
   "outputs": [
    {
     "data": {
      "text/html": [
       "<div>\n",
       "<style>\n",
       "    .dataframe thead tr:only-child th {\n",
       "        text-align: right;\n",
       "    }\n",
       "\n",
       "    .dataframe thead th {\n",
       "        text-align: left;\n",
       "    }\n",
       "\n",
       "    .dataframe tbody tr th {\n",
       "        vertical-align: top;\n",
       "    }\n",
       "</style>\n",
       "<table border=\"1\" class=\"dataframe\">\n",
       "  <thead>\n",
       "    <tr style=\"text-align: right;\">\n",
       "      <th>is_promo</th>\n",
       "      <th>display_price_y</th>\n",
       "      <th>season_number</th>\n",
       "      <th>non_promo_period</th>\n",
       "      <th>promo_period</th>\n",
       "      <th>change_in_metric</th>\n",
       "      <th>change_promo_vs_non_promo_in_%</th>\n",
       "    </tr>\n",
       "  </thead>\n",
       "  <tbody>\n",
       "    <tr>\n",
       "      <th>0</th>\n",
       "      <td>4.99</td>\n",
       "      <td>0.0</td>\n",
       "      <td>6.347222</td>\n",
       "      <td>20.775000</td>\n",
       "      <td>-2.273085</td>\n",
       "      <td>227.308534</td>\n",
       "    </tr>\n",
       "    <tr>\n",
       "      <th>1</th>\n",
       "      <td>4.99</td>\n",
       "      <td>1.0</td>\n",
       "      <td>7.196540</td>\n",
       "      <td>16.772286</td>\n",
       "      <td>-1.330604</td>\n",
       "      <td>133.060407</td>\n",
       "    </tr>\n",
       "    <tr>\n",
       "      <th>2</th>\n",
       "      <td>4.99</td>\n",
       "      <td>2.0</td>\n",
       "      <td>4.929498</td>\n",
       "      <td>11.870753</td>\n",
       "      <td>-1.408106</td>\n",
       "      <td>140.810579</td>\n",
       "    </tr>\n",
       "    <tr>\n",
       "      <th>3</th>\n",
       "      <td>4.99</td>\n",
       "      <td>3.0</td>\n",
       "      <td>5.349888</td>\n",
       "      <td>14.123084</td>\n",
       "      <td>-1.639884</td>\n",
       "      <td>163.988391</td>\n",
       "    </tr>\n",
       "    <tr>\n",
       "      <th>4</th>\n",
       "      <td>4.99</td>\n",
       "      <td>4.0</td>\n",
       "      <td>5.437494</td>\n",
       "      <td>12.736406</td>\n",
       "      <td>-1.342330</td>\n",
       "      <td>134.233025</td>\n",
       "    </tr>\n",
       "  </tbody>\n",
       "</table>\n",
       "</div>"
      ],
      "text/plain": [
       "is_promo  display_price_y  season_number  non_promo_period  promo_period  \\\n",
       "0                    4.99            0.0          6.347222     20.775000   \n",
       "1                    4.99            1.0          7.196540     16.772286   \n",
       "2                    4.99            2.0          4.929498     11.870753   \n",
       "3                    4.99            3.0          5.349888     14.123084   \n",
       "4                    4.99            4.0          5.437494     12.736406   \n",
       "\n",
       "is_promo  change_in_metric  change_promo_vs_non_promo_in_%  \n",
       "0                -2.273085                      227.308534  \n",
       "1                -1.330604                      133.060407  \n",
       "2                -1.408106                      140.810579  \n",
       "3                -1.639884                      163.988391  \n",
       "4                -1.342330                      134.233025  "
      ]
     },
     "execution_count": 117,
     "metadata": {},
     "output_type": "execute_result"
    }
   ],
   "source": [
    "outputl = get_output_dimension(key_metrics_l,metric2,dimension)\n",
    "outputl.head()"
   ]
  },
  {
   "cell_type": "code",
   "execution_count": 127,
   "metadata": {},
   "outputs": [
    {
     "data": {
      "text/html": [
       "<div>\n",
       "<style>\n",
       "    .dataframe thead tr:only-child th {\n",
       "        text-align: right;\n",
       "    }\n",
       "\n",
       "    .dataframe thead th {\n",
       "        text-align: left;\n",
       "    }\n",
       "\n",
       "    .dataframe tbody tr th {\n",
       "        vertical-align: top;\n",
       "    }\n",
       "</style>\n",
       "<table border=\"1\" class=\"dataframe\">\n",
       "  <thead>\n",
       "    <tr style=\"text-align: right;\">\n",
       "      <th></th>\n",
       "      <th>display_price_y</th>\n",
       "      <th>season_number</th>\n",
       "      <th>non_promo_period</th>\n",
       "      <th>promo_period</th>\n",
       "      <th>change_in_metric</th>\n",
       "      <th>change_promo_vs_non_promo_in_%</th>\n",
       "      <th>per_change_price</th>\n",
       "      <th>elasticity</th>\n",
       "    </tr>\n",
       "  </thead>\n",
       "  <tbody>\n",
       "    <tr>\n",
       "      <th>46</th>\n",
       "      <td>9.99</td>\n",
       "      <td>1.0</td>\n",
       "      <td>5.456611</td>\n",
       "      <td>9.074638</td>\n",
       "      <td>-0.663054</td>\n",
       "      <td>66.305384</td>\n",
       "      <td>0.392328</td>\n",
       "      <td>-1.690048</td>\n",
       "    </tr>\n",
       "    <tr>\n",
       "      <th>47</th>\n",
       "      <td>9.99</td>\n",
       "      <td>2.0</td>\n",
       "      <td>7.575694</td>\n",
       "      <td>13.863788</td>\n",
       "      <td>-0.830035</td>\n",
       "      <td>83.003523</td>\n",
       "      <td>0.394730</td>\n",
       "      <td>-2.102795</td>\n",
       "    </tr>\n",
       "    <tr>\n",
       "      <th>48</th>\n",
       "      <td>9.99</td>\n",
       "      <td>3.0</td>\n",
       "      <td>6.619553</td>\n",
       "      <td>12.964064</td>\n",
       "      <td>-0.958450</td>\n",
       "      <td>95.845005</td>\n",
       "      <td>0.446675</td>\n",
       "      <td>-2.145742</td>\n",
       "    </tr>\n",
       "    <tr>\n",
       "      <th>49</th>\n",
       "      <td>9.99</td>\n",
       "      <td>4.0</td>\n",
       "      <td>9.421849</td>\n",
       "      <td>18.274634</td>\n",
       "      <td>-0.939602</td>\n",
       "      <td>93.960155</td>\n",
       "      <td>0.414377</td>\n",
       "      <td>-2.267504</td>\n",
       "    </tr>\n",
       "    <tr>\n",
       "      <th>50</th>\n",
       "      <td>9.99</td>\n",
       "      <td>5.0</td>\n",
       "      <td>17.599795</td>\n",
       "      <td>25.156604</td>\n",
       "      <td>-0.429369</td>\n",
       "      <td>42.936916</td>\n",
       "      <td>0.423813</td>\n",
       "      <td>-1.013110</td>\n",
       "    </tr>\n",
       "  </tbody>\n",
       "</table>\n",
       "</div>"
      ],
      "text/plain": [
       "    display_price_y  season_number  non_promo_period  promo_period  \\\n",
       "46             9.99            1.0          5.456611      9.074638   \n",
       "47             9.99            2.0          7.575694     13.863788   \n",
       "48             9.99            3.0          6.619553     12.964064   \n",
       "49             9.99            4.0          9.421849     18.274634   \n",
       "50             9.99            5.0         17.599795     25.156604   \n",
       "\n",
       "    change_in_metric  change_promo_vs_non_promo_in_%  per_change_price  \\\n",
       "46         -0.663054                       66.305384          0.392328   \n",
       "47         -0.830035                       83.003523          0.394730   \n",
       "48         -0.958450                       95.845005          0.446675   \n",
       "49         -0.939602                       93.960155          0.414377   \n",
       "50         -0.429369                       42.936916          0.423813   \n",
       "\n",
       "    elasticity  \n",
       "46   -1.690048  \n",
       "47   -2.102795  \n",
       "48   -2.145742  \n",
       "49   -2.267504  \n",
       "50   -1.013110  "
      ]
     },
     "execution_count": 127,
     "metadata": {},
     "output_type": "execute_result"
    }
   ],
   "source": [
    "#COMMENT Distribution of each price point by content age in terms of OPS, number of asins, change in price, units, OPS\n",
    "final_d = get_change_in_price_dimension(key_metrics_l,metric2,dimension)\n",
    "#final_d[final_d['season_number'].isin([1.0,2.0,3.0,4.0])]\n",
    "final_d[final_d['display_price_y'] == 9.99].head()"
   ]
  },
  {
   "cell_type": "markdown",
   "metadata": {},
   "source": [
    "## Add on to the table\n",
    "\n",
    "<p> \n",
    "For DE, according to the data here, total promo OPS was 2.089m. It is cleaned of all ASINs that were not sold at price points of 4.99, 9.99 or 14.99 representing still over 90% of total OPS in the promo. Now, I dissect the revenue by dimensions, either by content age or by season number. Similar % part is in the UK. </p>"
   ]
  },
  {
   "cell_type": "code",
   "execution_count": 119,
   "metadata": {},
   "outputs": [
    {
     "data": {
      "text/plain": [
       "2089362.5799999856"
      ]
     },
     "execution_count": 119,
     "metadata": {},
     "output_type": "execute_result"
    }
   ],
   "source": [
    "key_metrics_l[key_metrics_l['is_promo'] == 'promo_period'][\"OPS\"].sum()"
   ]
  },
  {
   "cell_type": "code",
   "execution_count": 120,
   "metadata": {},
   "outputs": [
    {
     "name": "stdout",
     "output_type": "stream",
     "text": [
      "(2594, 11) 2089362.5799999856\n"
     ]
    },
    {
     "data": {
      "text/html": [
       "<div>\n",
       "<style>\n",
       "    .dataframe thead tr:only-child th {\n",
       "        text-align: right;\n",
       "    }\n",
       "\n",
       "    .dataframe thead th {\n",
       "        text-align: left;\n",
       "    }\n",
       "\n",
       "    .dataframe tbody tr th {\n",
       "        vertical-align: top;\n",
       "    }\n",
       "</style>\n",
       "<table border=\"1\" class=\"dataframe\">\n",
       "  <thead>\n",
       "    <tr style=\"text-align: right;\">\n",
       "      <th></th>\n",
       "      <th>is_promo</th>\n",
       "      <th>asin</th>\n",
       "      <th>OPS</th>\n",
       "      <th>units</th>\n",
       "      <th>week_ending</th>\n",
       "      <th>OPS_per_week</th>\n",
       "      <th>units_per_week</th>\n",
       "      <th>season_number</th>\n",
       "      <th>display_price_x</th>\n",
       "      <th>display_price_y</th>\n",
       "      <th>per_change_price</th>\n",
       "    </tr>\n",
       "  </thead>\n",
       "  <tbody>\n",
       "    <tr>\n",
       "      <th>2289</th>\n",
       "      <td>promo_period</td>\n",
       "      <td>B00ERIF4RK</td>\n",
       "      <td>5862.71</td>\n",
       "      <td>1421</td>\n",
       "      <td>10</td>\n",
       "      <td>586.271000</td>\n",
       "      <td>142.100000</td>\n",
       "      <td>2.0</td>\n",
       "      <td>4.99</td>\n",
       "      <td>4.99</td>\n",
       "      <td>0.0</td>\n",
       "    </tr>\n",
       "    <tr>\n",
       "      <th>2290</th>\n",
       "      <td>promo_period</td>\n",
       "      <td>B00ERIF6S2</td>\n",
       "      <td>163.33</td>\n",
       "      <td>41</td>\n",
       "      <td>10</td>\n",
       "      <td>16.333000</td>\n",
       "      <td>4.100000</td>\n",
       "      <td>3.0</td>\n",
       "      <td>4.99</td>\n",
       "      <td>4.99</td>\n",
       "      <td>0.0</td>\n",
       "    </tr>\n",
       "    <tr>\n",
       "      <th>2291</th>\n",
       "      <td>promo_period</td>\n",
       "      <td>B00ERIFGY6</td>\n",
       "      <td>4.19</td>\n",
       "      <td>1</td>\n",
       "      <td>1</td>\n",
       "      <td>4.190000</td>\n",
       "      <td>1.000000</td>\n",
       "      <td>3.0</td>\n",
       "      <td>4.99</td>\n",
       "      <td>4.99</td>\n",
       "      <td>0.0</td>\n",
       "    </tr>\n",
       "    <tr>\n",
       "      <th>2292</th>\n",
       "      <td>promo_period</td>\n",
       "      <td>B00ERIFUK6</td>\n",
       "      <td>35.59</td>\n",
       "      <td>9</td>\n",
       "      <td>7</td>\n",
       "      <td>5.084286</td>\n",
       "      <td>1.285714</td>\n",
       "      <td>1.0</td>\n",
       "      <td>4.99</td>\n",
       "      <td>4.99</td>\n",
       "      <td>0.0</td>\n",
       "    </tr>\n",
       "    <tr>\n",
       "      <th>2293</th>\n",
       "      <td>promo_period</td>\n",
       "      <td>B00ERIG3Z2</td>\n",
       "      <td>87.96</td>\n",
       "      <td>22</td>\n",
       "      <td>9</td>\n",
       "      <td>9.773333</td>\n",
       "      <td>2.444444</td>\n",
       "      <td>3.0</td>\n",
       "      <td>4.99</td>\n",
       "      <td>4.99</td>\n",
       "      <td>0.0</td>\n",
       "    </tr>\n",
       "  </tbody>\n",
       "</table>\n",
       "</div>"
      ],
      "text/plain": [
       "          is_promo        asin      OPS  units  week_ending  OPS_per_week  \\\n",
       "2289  promo_period  B00ERIF4RK  5862.71   1421           10    586.271000   \n",
       "2290  promo_period  B00ERIF6S2   163.33     41           10     16.333000   \n",
       "2291  promo_period  B00ERIFGY6     4.19      1            1      4.190000   \n",
       "2292  promo_period  B00ERIFUK6    35.59      9            7      5.084286   \n",
       "2293  promo_period  B00ERIG3Z2    87.96     22            9      9.773333   \n",
       "\n",
       "      units_per_week  season_number  display_price_x  display_price_y  \\\n",
       "2289      142.100000            2.0             4.99             4.99   \n",
       "2290        4.100000            3.0             4.99             4.99   \n",
       "2291        1.000000            3.0             4.99             4.99   \n",
       "2292        1.285714            1.0             4.99             4.99   \n",
       "2293        2.444444            3.0             4.99             4.99   \n",
       "\n",
       "      per_change_price  \n",
       "2289               0.0  \n",
       "2290               0.0  \n",
       "2291               0.0  \n",
       "2292               0.0  \n",
       "2293               0.0  "
      ]
     },
     "execution_count": 120,
     "metadata": {},
     "output_type": "execute_result"
    }
   ],
   "source": [
    "in_promo = key_metrics_l[key_metrics_l['is_promo'] == 'promo_period']\n",
    "print(in_promo.shape, in_promo['OPS'].sum())\n",
    "in_promo.head()"
   ]
  },
  {
   "cell_type": "code",
   "execution_count": 121,
   "metadata": {
    "collapsed": true
   },
   "outputs": [],
   "source": [
    "def get_asin_by_dimension(df,dimension):\n",
    "    t1 = pd.DataFrame(df.groupby(['display_price_y',dimension]).size().reset_index())\n",
    "    t1.columns = ['display_price_y', dimension, \"size\"]\n",
    "    \n",
    "    t2 = pd.DataFrame(df.groupby(['display_price_y',dimension])['OPS','units'].sum().reset_index())\n",
    "    t2.columns = ['display_price_y', dimension, \"ops\",'units']\n",
    "    \n",
    "    t = pd.merge(left=t2,right=t1,left_on=['display_price_y',dimension],\n",
    "                right_on=['display_price_y',dimension], how = 'left')\n",
    "    \n",
    "    total = pd.DataFrame(t.groupby(\"display_price_y\")['ops','units'].sum().reset_index())\n",
    "    total.columns = ['display_price_y','total_ops','total_units']\n",
    "    t = pd.merge(left=t,right=total,left_on=\"display_price_y\",right_on=\"display_price_y\", how = \"left\")\n",
    "    t['share_ops'] = t['ops'] / t['total_ops']\n",
    "    t['share_units'] = t['units'] / t['total_units']\n",
    "    return t"
   ]
  },
  {
   "cell_type": "code",
   "execution_count": 144,
   "metadata": {
    "collapsed": true
   },
   "outputs": [],
   "source": [
    "asin_dim = get_asin_by_dimension(in_promo,dimension)"
   ]
  },
  {
   "cell_type": "code",
   "execution_count": 145,
   "metadata": {
    "collapsed": true
   },
   "outputs": [],
   "source": [
    "def final_join(d1,d2,dimension):\n",
    "    g= pd.merge(left=d1,right=d2,left_on=['display_price_y',dimension],right_on=['display_price_y',dimension],how='left')\n",
    "    g['avg_ops_old'] = g['display_price_y'] / g['per_change_price'] * g['non_promo_period']\n",
    "    g['avg_ops_new'] = g['display_price_y'] * g['promo_period']\n",
    "    g['ops_diff_in_%'] = (g['avg_ops_new'] - g['avg_ops_old']) / g['avg_ops_old']\n",
    "    return g"
   ]
  },
  {
   "cell_type": "code",
   "execution_count": 146,
   "metadata": {
    "collapsed": true
   },
   "outputs": [],
   "source": [
    "fff = final_join(final_d,asin_dim,dimension)"
   ]
  },
  {
   "cell_type": "code",
   "execution_count": 147,
   "metadata": {},
   "outputs": [
    {
     "data": {
      "text/html": [
       "<div>\n",
       "<style>\n",
       "    .dataframe thead tr:only-child th {\n",
       "        text-align: right;\n",
       "    }\n",
       "\n",
       "    .dataframe thead th {\n",
       "        text-align: left;\n",
       "    }\n",
       "\n",
       "    .dataframe tbody tr th {\n",
       "        vertical-align: top;\n",
       "    }\n",
       "</style>\n",
       "<table border=\"1\" class=\"dataframe\">\n",
       "  <thead>\n",
       "    <tr style=\"text-align: right;\">\n",
       "      <th></th>\n",
       "      <th>display_price_y</th>\n",
       "      <th>season_number</th>\n",
       "      <th>non_promo_period</th>\n",
       "      <th>promo_period</th>\n",
       "      <th>change_in_metric</th>\n",
       "      <th>change_promo_vs_non_promo_in_%</th>\n",
       "      <th>per_change_price</th>\n",
       "      <th>elasticity</th>\n",
       "      <th>ops</th>\n",
       "      <th>units</th>\n",
       "      <th>size</th>\n",
       "      <th>total_ops</th>\n",
       "      <th>total_units</th>\n",
       "      <th>share_ops</th>\n",
       "      <th>share_units</th>\n",
       "      <th>avg_ops_old</th>\n",
       "      <th>avg_ops_new</th>\n",
       "      <th>ops_diff_in_%</th>\n",
       "    </tr>\n",
       "  </thead>\n",
       "  <tbody>\n",
       "    <tr>\n",
       "      <th>0</th>\n",
       "      <td>4.99</td>\n",
       "      <td>0.0</td>\n",
       "      <td>6.347222</td>\n",
       "      <td>20.775000</td>\n",
       "      <td>-2.273085</td>\n",
       "      <td>227.308534</td>\n",
       "      <td>0.632823</td>\n",
       "      <td>-3.591974</td>\n",
       "      <td>2062.86</td>\n",
       "      <td>492</td>\n",
       "      <td>2</td>\n",
       "      <td>1053397.3</td>\n",
       "      <td>252230</td>\n",
       "      <td>0.001958</td>\n",
       "      <td>0.001951</td>\n",
       "      <td>50.049727</td>\n",
       "      <td>103.667250</td>\n",
       "      <td>1.071285</td>\n",
       "    </tr>\n",
       "    <tr>\n",
       "      <th>1</th>\n",
       "      <td>4.99</td>\n",
       "      <td>1.0</td>\n",
       "      <td>7.196540</td>\n",
       "      <td>16.772286</td>\n",
       "      <td>-1.330604</td>\n",
       "      <td>133.060407</td>\n",
       "      <td>0.602761</td>\n",
       "      <td>-2.207514</td>\n",
       "      <td>430263.55</td>\n",
       "      <td>101011</td>\n",
       "      <td>616</td>\n",
       "      <td>1053397.3</td>\n",
       "      <td>252230</td>\n",
       "      <td>0.408453</td>\n",
       "      <td>0.400472</td>\n",
       "      <td>59.577036</td>\n",
       "      <td>83.693709</td>\n",
       "      <td>0.404798</td>\n",
       "    </tr>\n",
       "    <tr>\n",
       "      <th>2</th>\n",
       "      <td>4.99</td>\n",
       "      <td>2.0</td>\n",
       "      <td>4.929498</td>\n",
       "      <td>11.870753</td>\n",
       "      <td>-1.408106</td>\n",
       "      <td>140.810579</td>\n",
       "      <td>0.652094</td>\n",
       "      <td>-2.159360</td>\n",
       "      <td>155028.24</td>\n",
       "      <td>37508</td>\n",
       "      <td>317</td>\n",
       "      <td>1053397.3</td>\n",
       "      <td>252230</td>\n",
       "      <td>0.147170</td>\n",
       "      <td>0.148706</td>\n",
       "      <td>37.721854</td>\n",
       "      <td>59.235060</td>\n",
       "      <td>0.570311</td>\n",
       "    </tr>\n",
       "    <tr>\n",
       "      <th>3</th>\n",
       "      <td>4.99</td>\n",
       "      <td>3.0</td>\n",
       "      <td>5.349888</td>\n",
       "      <td>14.123084</td>\n",
       "      <td>-1.639884</td>\n",
       "      <td>163.988391</td>\n",
       "      <td>0.661494</td>\n",
       "      <td>-2.479060</td>\n",
       "      <td>122975.60</td>\n",
       "      <td>28659</td>\n",
       "      <td>211</td>\n",
       "      <td>1053397.3</td>\n",
       "      <td>252230</td>\n",
       "      <td>0.116742</td>\n",
       "      <td>0.113622</td>\n",
       "      <td>40.357023</td>\n",
       "      <td>70.474187</td>\n",
       "      <td>0.746268</td>\n",
       "    </tr>\n",
       "    <tr>\n",
       "      <th>4</th>\n",
       "      <td>4.99</td>\n",
       "      <td>4.0</td>\n",
       "      <td>5.437494</td>\n",
       "      <td>12.736406</td>\n",
       "      <td>-1.342330</td>\n",
       "      <td>134.233025</td>\n",
       "      <td>0.674531</td>\n",
       "      <td>-1.990021</td>\n",
       "      <td>72822.27</td>\n",
       "      <td>17848</td>\n",
       "      <td>144</td>\n",
       "      <td>1053397.3</td>\n",
       "      <td>252230</td>\n",
       "      <td>0.069131</td>\n",
       "      <td>0.070761</td>\n",
       "      <td>40.225145</td>\n",
       "      <td>63.554665</td>\n",
       "      <td>0.579974</td>\n",
       "    </tr>\n",
       "  </tbody>\n",
       "</table>\n",
       "</div>"
      ],
      "text/plain": [
       "   display_price_y  season_number  non_promo_period  promo_period  \\\n",
       "0             4.99            0.0          6.347222     20.775000   \n",
       "1             4.99            1.0          7.196540     16.772286   \n",
       "2             4.99            2.0          4.929498     11.870753   \n",
       "3             4.99            3.0          5.349888     14.123084   \n",
       "4             4.99            4.0          5.437494     12.736406   \n",
       "\n",
       "   change_in_metric  change_promo_vs_non_promo_in_%  per_change_price  \\\n",
       "0         -2.273085                      227.308534          0.632823   \n",
       "1         -1.330604                      133.060407          0.602761   \n",
       "2         -1.408106                      140.810579          0.652094   \n",
       "3         -1.639884                      163.988391          0.661494   \n",
       "4         -1.342330                      134.233025          0.674531   \n",
       "\n",
       "   elasticity        ops   units  size  total_ops  total_units  share_ops  \\\n",
       "0   -3.591974    2062.86     492     2  1053397.3       252230   0.001958   \n",
       "1   -2.207514  430263.55  101011   616  1053397.3       252230   0.408453   \n",
       "2   -2.159360  155028.24   37508   317  1053397.3       252230   0.147170   \n",
       "3   -2.479060  122975.60   28659   211  1053397.3       252230   0.116742   \n",
       "4   -1.990021   72822.27   17848   144  1053397.3       252230   0.069131   \n",
       "\n",
       "   share_units  avg_ops_old  avg_ops_new  ops_diff_in_%  \n",
       "0     0.001951    50.049727   103.667250       1.071285  \n",
       "1     0.400472    59.577036    83.693709       0.404798  \n",
       "2     0.148706    37.721854    59.235060       0.570311  \n",
       "3     0.113622    40.357023    70.474187       0.746268  \n",
       "4     0.070761    40.225145    63.554665       0.579974  "
      ]
     },
     "execution_count": 147,
     "metadata": {},
     "output_type": "execute_result"
    }
   ],
   "source": [
    "fff[fff['display_price_y']==4.99].head()"
   ]
  },
  {
   "cell_type": "markdown",
   "metadata": {},
   "source": [
    "## Add change in the OPS to the table"
   ]
  },
  {
   "cell_type": "code",
   "execution_count": 148,
   "metadata": {
    "collapsed": true
   },
   "outputs": [],
   "source": [
    "def stack_ops_to_table(df, metric, dimension):\n",
    "    ops_change = get_output_dimension(key_metrics_l,metric,dimension)\n",
    "    ops_change.rename(index=str, columns={\"non_promo_period\": \"non_promo_OPS\", \"promo_period\": \"promo_OPS\"})\n",
    "    return ops_change"
   ]
  },
  {
   "cell_type": "code",
   "execution_count": 149,
   "metadata": {},
   "outputs": [
    {
     "data": {
      "text/html": [
       "<div>\n",
       "<style>\n",
       "    .dataframe thead tr:only-child th {\n",
       "        text-align: right;\n",
       "    }\n",
       "\n",
       "    .dataframe thead th {\n",
       "        text-align: left;\n",
       "    }\n",
       "\n",
       "    .dataframe tbody tr th {\n",
       "        vertical-align: top;\n",
       "    }\n",
       "</style>\n",
       "<table border=\"1\" class=\"dataframe\">\n",
       "  <thead>\n",
       "    <tr style=\"text-align: right;\">\n",
       "      <th>is_promo</th>\n",
       "      <th>display_price_y</th>\n",
       "      <th>season_number</th>\n",
       "      <th>non_promo_period</th>\n",
       "      <th>promo_period</th>\n",
       "      <th>change_in_metric</th>\n",
       "      <th>change_promo_vs_non_promo_in_%</th>\n",
       "    </tr>\n",
       "  </thead>\n",
       "  <tbody>\n",
       "    <tr>\n",
       "      <th>46</th>\n",
       "      <td>9.99</td>\n",
       "      <td>1.0</td>\n",
       "      <td>71.799534</td>\n",
       "      <td>74.961190</td>\n",
       "      <td>-0.044034</td>\n",
       "      <td>4.403450</td>\n",
       "    </tr>\n",
       "    <tr>\n",
       "      <th>47</th>\n",
       "      <td>9.99</td>\n",
       "      <td>2.0</td>\n",
       "      <td>101.002799</td>\n",
       "      <td>117.216634</td>\n",
       "      <td>-0.160529</td>\n",
       "      <td>16.052858</td>\n",
       "    </tr>\n",
       "    <tr>\n",
       "      <th>48</th>\n",
       "      <td>9.99</td>\n",
       "      <td>3.0</td>\n",
       "      <td>101.432633</td>\n",
       "      <td>106.771584</td>\n",
       "      <td>-0.052635</td>\n",
       "      <td>5.263544</td>\n",
       "    </tr>\n",
       "    <tr>\n",
       "      <th>49</th>\n",
       "      <td>9.99</td>\n",
       "      <td>4.0</td>\n",
       "      <td>130.848867</td>\n",
       "      <td>153.087906</td>\n",
       "      <td>-0.169960</td>\n",
       "      <td>16.995974</td>\n",
       "    </tr>\n",
       "    <tr>\n",
       "      <th>50</th>\n",
       "      <td>9.99</td>\n",
       "      <td>5.0</td>\n",
       "      <td>267.257212</td>\n",
       "      <td>210.592300</td>\n",
       "      <td>0.212024</td>\n",
       "      <td>-21.202388</td>\n",
       "    </tr>\n",
       "  </tbody>\n",
       "</table>\n",
       "</div>"
      ],
      "text/plain": [
       "is_promo  display_price_y  season_number  non_promo_period  promo_period  \\\n",
       "46                   9.99            1.0         71.799534     74.961190   \n",
       "47                   9.99            2.0        101.002799    117.216634   \n",
       "48                   9.99            3.0        101.432633    106.771584   \n",
       "49                   9.99            4.0        130.848867    153.087906   \n",
       "50                   9.99            5.0        267.257212    210.592300   \n",
       "\n",
       "is_promo  change_in_metric  change_promo_vs_non_promo_in_%  \n",
       "46               -0.044034                        4.403450  \n",
       "47               -0.160529                       16.052858  \n",
       "48               -0.052635                        5.263544  \n",
       "49               -0.169960                       16.995974  \n",
       "50                0.212024                      -21.202388  "
      ]
     },
     "execution_count": 149,
     "metadata": {},
     "output_type": "execute_result"
    }
   ],
   "source": [
    "ops = stack_ops_to_table(key_metrics_l, metric1, dimension)\n",
    "ops[ops['display_price_y'] == 9.99].head()"
   ]
  },
  {
   "cell_type": "code",
   "execution_count": 152,
   "metadata": {
    "collapsed": true
   },
   "outputs": [],
   "source": [
    "def just_merge(df1,df2, dimension):\n",
    "    return pd.merge(left=df1,right=df2,left_on=['display_price_y',dimension],right_on=['display_price_y',dimension],how='left')"
   ]
  },
  {
   "cell_type": "code",
   "execution_count": 153,
   "metadata": {},
   "outputs": [],
   "source": [
    "rff = just_merge(fff,ops, dimension)"
   ]
  },
  {
   "cell_type": "code",
   "execution_count": 157,
   "metadata": {},
   "outputs": [
    {
     "name": "stdout",
     "output_type": "stream",
     "text": [
      "(90, 22)\n"
     ]
    },
    {
     "data": {
      "text/html": [
       "<div>\n",
       "<style>\n",
       "    .dataframe thead tr:only-child th {\n",
       "        text-align: right;\n",
       "    }\n",
       "\n",
       "    .dataframe thead th {\n",
       "        text-align: left;\n",
       "    }\n",
       "\n",
       "    .dataframe tbody tr th {\n",
       "        vertical-align: top;\n",
       "    }\n",
       "</style>\n",
       "<table border=\"1\" class=\"dataframe\">\n",
       "  <thead>\n",
       "    <tr style=\"text-align: right;\">\n",
       "      <th></th>\n",
       "      <th>display_price_y</th>\n",
       "      <th>season_number</th>\n",
       "      <th>non_promo_period_x</th>\n",
       "      <th>promo_period_x</th>\n",
       "      <th>change_in_metric_x</th>\n",
       "      <th>change_promo_vs_non_promo_in_%_x</th>\n",
       "      <th>per_change_price</th>\n",
       "      <th>elasticity</th>\n",
       "      <th>ops</th>\n",
       "      <th>units</th>\n",
       "      <th>...</th>\n",
       "      <th>total_units</th>\n",
       "      <th>share_ops</th>\n",
       "      <th>share_units</th>\n",
       "      <th>avg_ops_old</th>\n",
       "      <th>avg_ops_new</th>\n",
       "      <th>ops_diff_in_%</th>\n",
       "      <th>non_promo_period_y</th>\n",
       "      <th>promo_period_y</th>\n",
       "      <th>change_in_metric_y</th>\n",
       "      <th>change_promo_vs_non_promo_in_%_y</th>\n",
       "    </tr>\n",
       "  </thead>\n",
       "  <tbody>\n",
       "    <tr>\n",
       "      <th>46</th>\n",
       "      <td>9.99</td>\n",
       "      <td>1.0</td>\n",
       "      <td>5.456611</td>\n",
       "      <td>9.074638</td>\n",
       "      <td>-0.663054</td>\n",
       "      <td>66.305384</td>\n",
       "      <td>0.392328</td>\n",
       "      <td>-1.690048</td>\n",
       "      <td>109946.55</td>\n",
       "      <td>13215</td>\n",
       "      <td>...</td>\n",
       "      <td>91172</td>\n",
       "      <td>0.144818</td>\n",
       "      <td>0.144946</td>\n",
       "      <td>138.943627</td>\n",
       "      <td>90.655632</td>\n",
       "      <td>-0.347537</td>\n",
       "      <td>71.799534</td>\n",
       "      <td>74.961190</td>\n",
       "      <td>-0.044034</td>\n",
       "      <td>4.403450</td>\n",
       "    </tr>\n",
       "    <tr>\n",
       "      <th>47</th>\n",
       "      <td>9.99</td>\n",
       "      <td>2.0</td>\n",
       "      <td>7.575694</td>\n",
       "      <td>13.863788</td>\n",
       "      <td>-0.830035</td>\n",
       "      <td>83.003523</td>\n",
       "      <td>0.394730</td>\n",
       "      <td>-2.102795</td>\n",
       "      <td>130207.19</td>\n",
       "      <td>15332</td>\n",
       "      <td>...</td>\n",
       "      <td>91172</td>\n",
       "      <td>0.171505</td>\n",
       "      <td>0.168166</td>\n",
       "      <td>191.729211</td>\n",
       "      <td>138.499239</td>\n",
       "      <td>-0.277631</td>\n",
       "      <td>101.002799</td>\n",
       "      <td>117.216634</td>\n",
       "      <td>-0.160529</td>\n",
       "      <td>16.052858</td>\n",
       "    </tr>\n",
       "    <tr>\n",
       "      <th>48</th>\n",
       "      <td>9.99</td>\n",
       "      <td>3.0</td>\n",
       "      <td>6.619553</td>\n",
       "      <td>12.964064</td>\n",
       "      <td>-0.958450</td>\n",
       "      <td>95.845005</td>\n",
       "      <td>0.446675</td>\n",
       "      <td>-2.145742</td>\n",
       "      <td>81136.50</td>\n",
       "      <td>9837</td>\n",
       "      <td>...</td>\n",
       "      <td>91172</td>\n",
       "      <td>0.106871</td>\n",
       "      <td>0.107895</td>\n",
       "      <td>148.047889</td>\n",
       "      <td>129.511002</td>\n",
       "      <td>-0.125209</td>\n",
       "      <td>101.432633</td>\n",
       "      <td>106.771584</td>\n",
       "      <td>-0.052635</td>\n",
       "      <td>5.263544</td>\n",
       "    </tr>\n",
       "    <tr>\n",
       "      <th>49</th>\n",
       "      <td>9.99</td>\n",
       "      <td>4.0</td>\n",
       "      <td>9.421849</td>\n",
       "      <td>18.274634</td>\n",
       "      <td>-0.939602</td>\n",
       "      <td>93.960155</td>\n",
       "      <td>0.414377</td>\n",
       "      <td>-2.267504</td>\n",
       "      <td>136629.40</td>\n",
       "      <td>16254</td>\n",
       "      <td>...</td>\n",
       "      <td>91172</td>\n",
       "      <td>0.179964</td>\n",
       "      <td>0.178278</td>\n",
       "      <td>227.146479</td>\n",
       "      <td>182.563589</td>\n",
       "      <td>-0.196274</td>\n",
       "      <td>130.848867</td>\n",
       "      <td>153.087906</td>\n",
       "      <td>-0.169960</td>\n",
       "      <td>16.995974</td>\n",
       "    </tr>\n",
       "    <tr>\n",
       "      <th>50</th>\n",
       "      <td>9.99</td>\n",
       "      <td>5.0</td>\n",
       "      <td>17.599795</td>\n",
       "      <td>25.156604</td>\n",
       "      <td>-0.429369</td>\n",
       "      <td>42.936916</td>\n",
       "      <td>0.423813</td>\n",
       "      <td>-1.013110</td>\n",
       "      <td>104709.88</td>\n",
       "      <td>12458</td>\n",
       "      <td>...</td>\n",
       "      <td>91172</td>\n",
       "      <td>0.137921</td>\n",
       "      <td>0.136643</td>\n",
       "      <td>414.857265</td>\n",
       "      <td>251.314473</td>\n",
       "      <td>-0.394215</td>\n",
       "      <td>267.257212</td>\n",
       "      <td>210.592300</td>\n",
       "      <td>0.212024</td>\n",
       "      <td>-21.202388</td>\n",
       "    </tr>\n",
       "  </tbody>\n",
       "</table>\n",
       "<p>5 rows × 22 columns</p>\n",
       "</div>"
      ],
      "text/plain": [
       "    display_price_y  season_number  non_promo_period_x  promo_period_x  \\\n",
       "46             9.99            1.0            5.456611        9.074638   \n",
       "47             9.99            2.0            7.575694       13.863788   \n",
       "48             9.99            3.0            6.619553       12.964064   \n",
       "49             9.99            4.0            9.421849       18.274634   \n",
       "50             9.99            5.0           17.599795       25.156604   \n",
       "\n",
       "    change_in_metric_x  change_promo_vs_non_promo_in_%_x  per_change_price  \\\n",
       "46           -0.663054                         66.305384          0.392328   \n",
       "47           -0.830035                         83.003523          0.394730   \n",
       "48           -0.958450                         95.845005          0.446675   \n",
       "49           -0.939602                         93.960155          0.414377   \n",
       "50           -0.429369                         42.936916          0.423813   \n",
       "\n",
       "    elasticity        ops  units                ...                 \\\n",
       "46   -1.690048  109946.55  13215                ...                  \n",
       "47   -2.102795  130207.19  15332                ...                  \n",
       "48   -2.145742   81136.50   9837                ...                  \n",
       "49   -2.267504  136629.40  16254                ...                  \n",
       "50   -1.013110  104709.88  12458                ...                  \n",
       "\n",
       "    total_units  share_ops  share_units  avg_ops_old  avg_ops_new  \\\n",
       "46        91172   0.144818     0.144946   138.943627    90.655632   \n",
       "47        91172   0.171505     0.168166   191.729211   138.499239   \n",
       "48        91172   0.106871     0.107895   148.047889   129.511002   \n",
       "49        91172   0.179964     0.178278   227.146479   182.563589   \n",
       "50        91172   0.137921     0.136643   414.857265   251.314473   \n",
       "\n",
       "    ops_diff_in_%  non_promo_period_y  promo_period_y  change_in_metric_y  \\\n",
       "46      -0.347537           71.799534       74.961190           -0.044034   \n",
       "47      -0.277631          101.002799      117.216634           -0.160529   \n",
       "48      -0.125209          101.432633      106.771584           -0.052635   \n",
       "49      -0.196274          130.848867      153.087906           -0.169960   \n",
       "50      -0.394215          267.257212      210.592300            0.212024   \n",
       "\n",
       "    change_promo_vs_non_promo_in_%_y  \n",
       "46                          4.403450  \n",
       "47                         16.052858  \n",
       "48                          5.263544  \n",
       "49                         16.995974  \n",
       "50                        -21.202388  \n",
       "\n",
       "[5 rows x 22 columns]"
      ]
     },
     "execution_count": 157,
     "metadata": {},
     "output_type": "execute_result"
    }
   ],
   "source": [
    "print(rff.shape)\n",
    "rff[rff['display_price_y'] == 9.99].head()"
   ]
  },
  {
   "cell_type": "code",
   "execution_count": null,
   "metadata": {
    "collapsed": true
   },
   "outputs": [],
   "source": [
    "#fff.to_csv(\"UK_table_season.csv\")"
   ]
  },
  {
   "cell_type": "markdown",
   "metadata": {},
   "source": [
    "# Sales distribution"
   ]
  },
  {
   "cell_type": "code",
   "execution_count": null,
   "metadata": {},
   "outputs": [],
   "source": [
    "# print(df.shape)\n",
    "# df.head()"
   ]
  },
  {
   "cell_type": "code",
   "execution_count": null,
   "metadata": {},
   "outputs": [],
   "source": [
    "# df[(df['is_promo'] == 'promo_period') & (df['is_promo_asin'] == 'promo_asins')]['OPS'].sum()"
   ]
  },
  {
   "cell_type": "code",
   "execution_count": null,
   "metadata": {
    "collapsed": true
   },
   "outputs": [],
   "source": [
    "# def sales_dist(df,dimension):\n",
    "#     sales_dist = pd.DataFrame(df[(df['is_promo'] == 'promo_period') & (df['is_promo_asin'] == 'promo_asins')].groupby(dimension)['OPS'].sum().reset_index())\n",
    "#     sales_dist['share'] = sales_dist['OPS'] / sales_dist['OPS'].sum()\n",
    "#     return sales_dist"
   ]
  },
  {
   "cell_type": "code",
   "execution_count": null,
   "metadata": {
    "collapsed": true
   },
   "outputs": [],
   "source": [
    "# sales_dist_df = sales_dist(df,\"lifecycle\")"
   ]
  },
  {
   "cell_type": "code",
   "execution_count": null,
   "metadata": {},
   "outputs": [],
   "source": [
    "# sales_dist_df.head()"
   ]
  },
  {
   "cell_type": "markdown",
   "metadata": {},
   "source": [
    "# Check ARPU per user for TV Season"
   ]
  },
  {
   "cell_type": "code",
   "execution_count": null,
   "metadata": {
    "collapsed": true
   },
   "outputs": [],
   "source": [
    "# arpu = pd.read_csv(\"../TV_test/data/ARPU.txt\", sep = \"\\t\", \n",
    "#                    names = ['total','new','ops','units','cogs','week','marketplace','content'])\n",
    "# arpu['week'] = pd.to_datetime(arpu['week']) "
   ]
  },
  {
   "cell_type": "code",
   "execution_count": null,
   "metadata": {
    "collapsed": true
   },
   "outputs": [],
   "source": [
    "# arpu.head()\n",
    "# arpu['arpu_per_user'] = arpu['ops'] / arpu['total']\n",
    "# arpu['year_month'] = arpu['week'].map(lambda x: 1000*x.year + x.month)\n",
    "# arpu['year'] = arpu['week'].map(lambda x: x.year)\n",
    "# arpu['month'] = arpu['week'].map(lambda x: x.month)"
   ]
  },
  {
   "cell_type": "code",
   "execution_count": null,
   "metadata": {
    "collapsed": true
   },
   "outputs": [],
   "source": [
    "# arpu  = arpu[arpu['content'] == \"TV Season\"]"
   ]
  },
  {
   "cell_type": "code",
   "execution_count": null,
   "metadata": {},
   "outputs": [],
   "source": [
    "# arpu.head()"
   ]
  },
  {
   "cell_type": "code",
   "execution_count": null,
   "metadata": {},
   "outputs": [],
   "source": [
    "# arpu.plot(x = \"week\", y = 'arpu_per_user', figsize = (20,10))\n",
    "# plt.show()"
   ]
  },
  {
   "cell_type": "code",
   "execution_count": null,
   "metadata": {},
   "outputs": [],
   "source": [
    "# arpu[(arpu['week'] >= \"2017-01-01\") & (arpu['week'] <= '2017-05-01')].plot(x = \"week\", y = 'arpu_per_user', figsize = (20,10))"
   ]
  },
  {
   "cell_type": "code",
   "execution_count": null,
   "metadata": {},
   "outputs": [],
   "source": [
    "# g = pd.DataFrame(arpu[(arpu['week'] >= \"2016-01-01\")\n",
    "#               & (arpu['week'] <= '2017-06-01')].groupby(['year_month'])['ops','total'].sum().reset_index())\n",
    "# g['arpu_per_user'] = g['ops'] / g['total']\n",
    "# print(\"Here is the ARPU per user for TV Season in 2017 per month\")\n",
    "# g"
   ]
  },
  {
   "cell_type": "markdown",
   "metadata": {},
   "source": [
    "## Breakdown the data by lifecycle\n",
    "\n",
    "<p> Make prediction by 2 categories: new release  vs deep catalogue, new release 0 to 6m, rest is deep catalogue, promo vs nonpromo </p>\n",
    "<p> Take seasonality into account </p>"
   ]
  }
 ],
 "metadata": {
  "kernelspec": {
   "display_name": "Python 3",
   "language": "python",
   "name": "python3"
  },
  "language_info": {
   "codemirror_mode": {
    "name": "ipython",
    "version": 3
   },
   "file_extension": ".py",
   "mimetype": "text/x-python",
   "name": "python",
   "nbconvert_exporter": "python",
   "pygments_lexer": "ipython3",
   "version": "3.6.3"
  }
 },
 "nbformat": 4,
 "nbformat_minor": 2
}
