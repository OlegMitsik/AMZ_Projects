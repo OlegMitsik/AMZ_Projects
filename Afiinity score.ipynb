{
 "cells": [
  {
   "cell_type": "code",
   "execution_count": 1,
   "metadata": {
    "collapsed": true
   },
   "outputs": [],
   "source": [
    "import pandas as pd\n",
    "import numpy as np\n",
    "\n",
    "import seaborn as sns\n",
    "\n",
    "import matplotlib.pyplot as plt\n",
    "%matplotlib inline"
   ]
  },
  {
   "cell_type": "code",
   "execution_count": 2,
   "metadata": {},
   "outputs": [
    {
     "name": "stdout",
     "output_type": "stream",
     "text": [
      "(13, 2)\n"
     ]
    },
    {
     "data": {
      "text/html": [
       "<div>\n",
       "<style>\n",
       "    .dataframe thead tr:only-child th {\n",
       "        text-align: right;\n",
       "    }\n",
       "\n",
       "    .dataframe thead th {\n",
       "        text-align: left;\n",
       "    }\n",
       "\n",
       "    .dataframe tbody tr th {\n",
       "        vertical-align: top;\n",
       "    }\n",
       "</style>\n",
       "<table border=\"1\" class=\"dataframe\">\n",
       "  <thead>\n",
       "    <tr style=\"text-align: right;\">\n",
       "      <th></th>\n",
       "      <th>userId</th>\n",
       "      <th>ItemId</th>\n",
       "    </tr>\n",
       "  </thead>\n",
       "  <tbody>\n",
       "    <tr>\n",
       "      <th>0</th>\n",
       "      <td>1001</td>\n",
       "      <td>5001</td>\n",
       "    </tr>\n",
       "    <tr>\n",
       "      <th>1</th>\n",
       "      <td>1001</td>\n",
       "      <td>5002</td>\n",
       "    </tr>\n",
       "    <tr>\n",
       "      <th>2</th>\n",
       "      <td>1001</td>\n",
       "      <td>5005</td>\n",
       "    </tr>\n",
       "    <tr>\n",
       "      <th>3</th>\n",
       "      <td>1002</td>\n",
       "      <td>5003</td>\n",
       "    </tr>\n",
       "    <tr>\n",
       "      <th>4</th>\n",
       "      <td>1002</td>\n",
       "      <td>5004</td>\n",
       "    </tr>\n",
       "    <tr>\n",
       "      <th>5</th>\n",
       "      <td>1002</td>\n",
       "      <td>5005</td>\n",
       "    </tr>\n",
       "    <tr>\n",
       "      <th>6</th>\n",
       "      <td>1003</td>\n",
       "      <td>5001</td>\n",
       "    </tr>\n",
       "    <tr>\n",
       "      <th>7</th>\n",
       "      <td>1003</td>\n",
       "      <td>5002</td>\n",
       "    </tr>\n",
       "    <tr>\n",
       "      <th>8</th>\n",
       "      <td>1004</td>\n",
       "      <td>5001</td>\n",
       "    </tr>\n",
       "    <tr>\n",
       "      <th>9</th>\n",
       "      <td>1004</td>\n",
       "      <td>5004</td>\n",
       "    </tr>\n",
       "    <tr>\n",
       "      <th>10</th>\n",
       "      <td>1004</td>\n",
       "      <td>5005</td>\n",
       "    </tr>\n",
       "    <tr>\n",
       "      <th>11</th>\n",
       "      <td>1005</td>\n",
       "      <td>5002</td>\n",
       "    </tr>\n",
       "    <tr>\n",
       "      <th>12</th>\n",
       "      <td>1005</td>\n",
       "      <td>5004</td>\n",
       "    </tr>\n",
       "  </tbody>\n",
       "</table>\n",
       "</div>"
      ],
      "text/plain": [
       "    userId  ItemId\n",
       "0     1001    5001\n",
       "1     1001    5002\n",
       "2     1001    5005\n",
       "3     1002    5003\n",
       "4     1002    5004\n",
       "5     1002    5005\n",
       "6     1003    5001\n",
       "7     1003    5002\n",
       "8     1004    5001\n",
       "9     1004    5004\n",
       "10    1004    5005\n",
       "11    1005    5002\n",
       "12    1005    5004"
      ]
     },
     "execution_count": 2,
     "metadata": {},
     "output_type": "execute_result"
    }
   ],
   "source": [
    "userItemData = pd.read_csv('../../../../../Desktop/example.csv')\n",
    "\n",
    "print(userItemData.shape)\n",
    "userItemData"
   ]
  },
  {
   "cell_type": "code",
   "execution_count": 3,
   "metadata": {},
   "outputs": [
    {
     "data": {
      "text/plain": [
       "ItemId\n",
       "5001    3\n",
       "5002    3\n",
       "5003    1\n",
       "5004    3\n",
       "5005    3\n",
       "Name: userId, dtype: int64"
      ]
     },
     "execution_count": 3,
     "metadata": {},
     "output_type": "execute_result"
    }
   ],
   "source": [
    "userItemData.groupby(\"ItemId\")['userId'].nunique()"
   ]
  },
  {
   "cell_type": "code",
   "execution_count": 4,
   "metadata": {
    "collapsed": true
   },
   "outputs": [],
   "source": [
    "#Get list of unique items\n",
    "itemList=list(set(userItemData[\"ItemId\"].tolist()))"
   ]
  },
  {
   "cell_type": "code",
   "execution_count": 5,
   "metadata": {},
   "outputs": [
    {
     "name": "stdout",
     "output_type": "stream",
     "text": [
      "Item list: [5001, 5002, 5003, 5004, 5005]\n",
      "5\n",
      "5\n"
     ]
    }
   ],
   "source": [
    "print(\"Item list:\", itemList)\n",
    "\n",
    "print(userItemData['userId'].nunique())\n",
    "print(userItemData['ItemId'].nunique())"
   ]
  },
  {
   "cell_type": "code",
   "execution_count": 7,
   "metadata": {},
   "outputs": [
    {
     "name": "stdout",
     "output_type": "stream",
     "text": [
      "[1001, 1003, 1004]\n",
      "[1001, 1003, 1005]\n",
      "[1002]\n",
      "[1002, 1004, 1005]\n",
      "[1001, 1002, 1004]\n"
     ]
    }
   ],
   "source": [
    "for index1 in range(len(itemList)):\n",
    "    item1Users = userItemData[userItemData['ItemId'] == itemList[index1]]['userId'].tolist()\n",
    "    print(item1Users)"
   ]
  },
  {
   "cell_type": "code",
   "execution_count": 24,
   "metadata": {},
   "outputs": [
    {
     "name": "stdout",
     "output_type": "stream",
     "text": [
      "0 5001 [1001, 1003, 1004]\n",
      "1 5002 [1001, 1003, 1005]\n",
      "2 5003 [1002]\n",
      "3 5004 [1002, 1004, 1005]\n",
      "4 5005 [1001, 1002, 1004]\n"
     ]
    }
   ],
   "source": [
    "itemUsersDict = {}\n",
    "for i in range(len(itemList)):\n",
    "    itemUsers = userItemData[userItemData['ItemId'] == itemList[i]]['userId'].tolist()\n",
    "    itemUsers = list(set(itemUsers))\n",
    "    \n",
    "    print(i, itemList[i], itemUsers)\n",
    "    itemUsersDict[itemList[i]] = itemUsers       \n"
   ]
  },
  {
   "cell_type": "code",
   "execution_count": 25,
   "metadata": {},
   "outputs": [
    {
     "data": {
      "text/plain": [
       "{5001: [1001, 1003, 1004],\n",
       " 5002: [1001, 1003, 1005],\n",
       " 5003: [1002],\n",
       " 5004: [1002, 1004, 1005],\n",
       " 5005: [1001, 1002, 1004]}"
      ]
     },
     "execution_count": 25,
     "metadata": {},
     "output_type": "execute_result"
    }
   ],
   "source": [
    "itemUsersDict"
   ]
  },
  {
   "cell_type": "code",
   "execution_count": 26,
   "metadata": {
    "collapsed": true
   },
   "outputs": [],
   "source": [
    "# rev_multidict = {}\n",
    "# for key, value in itemUsersDict.items():\n",
    "#     rev_multidict.setdefault(value, set()).add(key)"
   ]
  },
  {
   "cell_type": "code",
   "execution_count": 31,
   "metadata": {},
   "outputs": [
    {
     "name": "stdout",
     "output_type": "stream",
     "text": [
      "0 5001 [1001, 1003, 1004]\n",
      "5001 [1001, 1003, 1004] 5002 [1001, 1003, 1005] 2\n",
      "5001 [1001, 1003, 1004] 5003 [1002] 0\n",
      "5001 [1001, 1003, 1004] 5004 [1002, 1004, 1005] 1\n",
      "5001 [1001, 1003, 1004] 5005 [1001, 1002, 1004] 2\n",
      "1 5002 [1001, 1003, 1005]\n",
      "5002 [1001, 1003, 1005] 5003 [1002] 0\n",
      "5002 [1001, 1003, 1005] 5004 [1002, 1004, 1005] 1\n",
      "5002 [1001, 1003, 1005] 5005 [1001, 1002, 1004] 1\n",
      "2 5003 [1002]\n",
      "5003 [1002] 5004 [1002, 1004, 1005] 1\n",
      "5003 [1002] 5005 [1001, 1002, 1004] 1\n",
      "3 5004 [1002, 1004, 1005]\n",
      "5004 [1002, 1004, 1005] 5005 [1001, 1002, 1004] 2\n",
      "4 5005 [1001, 1002, 1004]\n"
     ]
    },
    {
     "data": {
      "text/html": [
       "<div>\n",
       "<style>\n",
       "    .dataframe thead tr:only-child th {\n",
       "        text-align: right;\n",
       "    }\n",
       "\n",
       "    .dataframe thead th {\n",
       "        text-align: left;\n",
       "    }\n",
       "\n",
       "    .dataframe tbody tr th {\n",
       "        vertical-align: top;\n",
       "    }\n",
       "</style>\n",
       "<table border=\"1\" class=\"dataframe\">\n",
       "  <thead>\n",
       "    <tr style=\"text-align: right;\">\n",
       "      <th></th>\n",
       "      <th>CustomerOverlap</th>\n",
       "      <th>Item1</th>\n",
       "      <th>Item2</th>\n",
       "      <th>total_customer_item1</th>\n",
       "      <th>total_customer_item2</th>\n",
       "    </tr>\n",
       "  </thead>\n",
       "  <tbody>\n",
       "    <tr>\n",
       "      <th>0</th>\n",
       "      <td>2</td>\n",
       "      <td>5001</td>\n",
       "      <td>5002</td>\n",
       "      <td>3</td>\n",
       "      <td>3</td>\n",
       "    </tr>\n",
       "    <tr>\n",
       "      <th>1</th>\n",
       "      <td>0</td>\n",
       "      <td>5001</td>\n",
       "      <td>5003</td>\n",
       "      <td>3</td>\n",
       "      <td>1</td>\n",
       "    </tr>\n",
       "    <tr>\n",
       "      <th>2</th>\n",
       "      <td>1</td>\n",
       "      <td>5001</td>\n",
       "      <td>5004</td>\n",
       "      <td>3</td>\n",
       "      <td>3</td>\n",
       "    </tr>\n",
       "    <tr>\n",
       "      <th>3</th>\n",
       "      <td>2</td>\n",
       "      <td>5001</td>\n",
       "      <td>5005</td>\n",
       "      <td>3</td>\n",
       "      <td>3</td>\n",
       "    </tr>\n",
       "    <tr>\n",
       "      <th>4</th>\n",
       "      <td>0</td>\n",
       "      <td>5002</td>\n",
       "      <td>5003</td>\n",
       "      <td>3</td>\n",
       "      <td>1</td>\n",
       "    </tr>\n",
       "    <tr>\n",
       "      <th>5</th>\n",
       "      <td>1</td>\n",
       "      <td>5002</td>\n",
       "      <td>5004</td>\n",
       "      <td>3</td>\n",
       "      <td>3</td>\n",
       "    </tr>\n",
       "    <tr>\n",
       "      <th>6</th>\n",
       "      <td>1</td>\n",
       "      <td>5002</td>\n",
       "      <td>5005</td>\n",
       "      <td>3</td>\n",
       "      <td>3</td>\n",
       "    </tr>\n",
       "    <tr>\n",
       "      <th>7</th>\n",
       "      <td>1</td>\n",
       "      <td>5003</td>\n",
       "      <td>5004</td>\n",
       "      <td>1</td>\n",
       "      <td>3</td>\n",
       "    </tr>\n",
       "    <tr>\n",
       "      <th>8</th>\n",
       "      <td>1</td>\n",
       "      <td>5003</td>\n",
       "      <td>5005</td>\n",
       "      <td>1</td>\n",
       "      <td>3</td>\n",
       "    </tr>\n",
       "    <tr>\n",
       "      <th>9</th>\n",
       "      <td>2</td>\n",
       "      <td>5004</td>\n",
       "      <td>5005</td>\n",
       "      <td>3</td>\n",
       "      <td>3</td>\n",
       "    </tr>\n",
       "  </tbody>\n",
       "</table>\n",
       "</div>"
      ],
      "text/plain": [
       "   CustomerOverlap  Item1  Item2  total_customer_item1  total_customer_item2\n",
       "0                2   5001   5002                     3                     3\n",
       "1                0   5001   5003                     3                     1\n",
       "2                1   5001   5004                     3                     3\n",
       "3                2   5001   5005                     3                     3\n",
       "4                0   5002   5003                     3                     1\n",
       "5                1   5002   5004                     3                     3\n",
       "6                1   5002   5005                     3                     3\n",
       "7                1   5003   5004                     1                     3\n",
       "8                1   5003   5005                     1                     3\n",
       "9                2   5004   5005                     3                     3"
      ]
     },
     "execution_count": 31,
     "metadata": {},
     "output_type": "execute_result"
    }
   ],
   "source": [
    "itemOverlap = []\n",
    "\n",
    "for i1 in range(len(itemList)):\n",
    "    item1Users = list(set(userItemData[userItemData['ItemId'] == itemList[i1]]['userId'].tolist()))\n",
    "    \n",
    "    \n",
    "    print(i1, itemList[i1], item1Users)\n",
    "    \n",
    "    for i2 in range(i1, len(itemList)):\n",
    "        \n",
    "        if ( i1 == i2):\n",
    "            continue\n",
    "            \n",
    "        #Get list of users who bought item 2\n",
    "        item2Users = list(set(userItemData[userItemData.ItemId==itemList[i2]][\"userId\"].tolist()))\n",
    "        \n",
    "        commonUsers = len(set(item1Users).intersection(set(item2Users)))   \n",
    "        print(itemList[i1], item1Users, itemList[i2], item2Users, commonUsers)  \n",
    "        itemOverlap.append({\"Item1\" : itemList[i1], \"Item2\": itemList[i2], \"CustomerOverlap\": commonUsers,\n",
    "                           \"total_customer_item1\": len(set(item1Users)), \"total_customer_item2\": len(set(item2Users))})\n",
    "        \n",
    "d = pd.DataFrame(itemOverlap)\n",
    "d"
   ]
  }
 ],
 "metadata": {
  "kernelspec": {
   "display_name": "Python 3",
   "language": "python",
   "name": "python3"
  },
  "language_info": {
   "codemirror_mode": {
    "name": "ipython",
    "version": 3
   },
   "file_extension": ".py",
   "mimetype": "text/x-python",
   "name": "python",
   "nbconvert_exporter": "python",
   "pygments_lexer": "ipython3",
   "version": "3.6.3"
  }
 },
 "nbformat": 4,
 "nbformat_minor": 2
}
