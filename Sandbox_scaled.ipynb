{
 "cells": [
  {
   "cell_type": "code",
   "execution_count": 58,
   "metadata": {
    "collapsed": true
   },
   "outputs": [],
   "source": [
    "import pandas as pd\n",
    "import itertools\n",
    "\n",
    "from collections import Counter, OrderedDict"
   ]
  },
  {
   "cell_type": "code",
   "execution_count": 59,
   "metadata": {},
   "outputs": [
    {
     "name": "stdout",
     "output_type": "stream",
     "text": [
      "(968906, 2)\n"
     ]
    },
    {
     "data": {
      "text/html": [
       "<div>\n",
       "<style>\n",
       "    .dataframe thead tr:only-child th {\n",
       "        text-align: right;\n",
       "    }\n",
       "\n",
       "    .dataframe thead th {\n",
       "        text-align: left;\n",
       "    }\n",
       "\n",
       "    .dataframe tbody tr th {\n",
       "        vertical-align: top;\n",
       "    }\n",
       "</style>\n",
       "<table border=\"1\" class=\"dataframe\">\n",
       "  <thead>\n",
       "    <tr style=\"text-align: right;\">\n",
       "      <th></th>\n",
       "      <th>encrypted_customer_id</th>\n",
       "      <th>title_name</th>\n",
       "    </tr>\n",
       "  </thead>\n",
       "  <tbody>\n",
       "    <tr>\n",
       "      <th>0</th>\n",
       "      <td>A2G91FS37Q4UTS</td>\n",
       "      <td>Parallel Lives</td>\n",
       "    </tr>\n",
       "    <tr>\n",
       "      <th>1</th>\n",
       "      <td>A2G91FS37Q4UTS</td>\n",
       "      <td>Time</td>\n",
       "    </tr>\n",
       "    <tr>\n",
       "      <th>2</th>\n",
       "      <td>A2XSDOII926IRW</td>\n",
       "      <td>Maja bei den Ameisen</td>\n",
       "    </tr>\n",
       "    <tr>\n",
       "      <th>3</th>\n",
       "      <td>A16JA3G5Q2Z850</td>\n",
       "      <td>Der erste Schnee</td>\n",
       "    </tr>\n",
       "    <tr>\n",
       "      <th>4</th>\n",
       "      <td>AIF2DHXCPJG7V</td>\n",
       "      <td>Gefangen im Cybernetz</td>\n",
       "    </tr>\n",
       "  </tbody>\n",
       "</table>\n",
       "</div>"
      ],
      "text/plain": [
       "  encrypted_customer_id             title_name\n",
       "0        A2G91FS37Q4UTS         Parallel Lives\n",
       "1        A2G91FS37Q4UTS                   Time\n",
       "2        A2XSDOII926IRW   Maja bei den Ameisen\n",
       "3        A16JA3G5Q2Z850       Der erste Schnee\n",
       "4         AIF2DHXCPJG7V  Gefangen im Cybernetz"
      ]
     },
     "execution_count": 59,
     "metadata": {},
     "output_type": "execute_result"
    }
   ],
   "source": [
    "df = pd.read_csv(\"../Combinations/data/sample_TVOD.txt\", sep=\"\\t\", encoding = \"ISO-8859-1\", header=None)\n",
    "df.columns = ['encrypted_customer_id','title_name']\n",
    "print(df.shape)\n",
    "df.head()"
   ]
  },
  {
   "cell_type": "markdown",
   "metadata": {},
   "source": [
    "<h1> Describes a way to create dictionary from dataframe </h1>\n",
    "\n",
    "\n",
    "<p> </p>\n",
    "https://stackoverflow.com/questions/36210071/pandas-dataframe-to-dict-with-unique-column-values-as-keys"
   ]
  },
  {
   "cell_type": "markdown",
   "metadata": {},
   "source": [
    "<h1> Count occurence of a list inside list of lists </h1>\n",
    "\n",
    "<p> https://stackoverflow.com/questions/45019607/count-occurrence-of-a-list-in-a-list-of-lists </p>"
   ]
  },
  {
   "cell_type": "code",
   "execution_count": 60,
   "metadata": {
    "collapsed": true
   },
   "outputs": [],
   "source": [
    "def from_dict_to_most_common(df, length):\n",
    "    \n",
    "    my_dict = df.groupby('encrypted_customer_id').agg({'title_name': lambda x: x.tolist()})['title_name'].to_dict()\n",
    "    myList = list(my_dict.values())\n",
    "    \n",
    "    newList = []\n",
    "    for i in myList:\n",
    "        newList.append([[element for element in list(set(comb))] for comb in itertools.combinations(i, length )])\n",
    "        \n",
    "    flat_list = [item for sublist in newList for item in sublist]\n",
    "    \n",
    "    new_mapping = map(tuple, flat_list)\n",
    "    final_count = Counter(new_mapping)\n",
    "    \n",
    "    #y = OrderedDict(final_count.most_common())\n",
    "    #sorted(final_count.items(), key=lambda i: i[1], reverse=True)\n",
    "    return final_count.most_common()\n",
    "    "
   ]
  },
  {
   "cell_type": "code",
   "execution_count": 61,
   "metadata": {},
   "outputs": [],
   "source": [
    "final = from_dict_to_most_common(df,3)"
   ]
  },
  {
   "cell_type": "code",
   "execution_count": 62,
   "metadata": {},
   "outputs": [
    {
     "data": {
      "text/plain": [
       "[(('Herr der Ringe: Die Rückkehr des Königs: Special Extended Edition',\n",
       "   'Der Herr der Ringe - Die Zwei Türme, Extended Cut',\n",
       "   'Der Herr der Ringe: Die Gefährten - Special Extended Edition'),\n",
       "  977),\n",
       " (('Der Herr der Ringe: Die Gefährten - Special Extended Edition',\n",
       "   'Der Herr der Ringe - Die Zwei Türme, Extended Cut',\n",
       "   'Herr der Ringe: Die Rückkehr des Königs: Special Extended Edition'),\n",
       "  812),\n",
       " (('Frei', 'Frieden', 'Wiedergutmachung'), 600),\n",
       " (('Feuer', 'Schafe und Löwen', 'Blut'), 591),\n",
       " (('Der Hobbit: Eine unerwartete Reise (Extended Edition) [dt./OV]',\n",
       "   'Der Hobbit: Smaugs Einöde - Extended Edition [dt./OV]',\n",
       "   'Der Hobbit: Die Schlacht der fünf Heere - Extended Edition'),\n",
       "  589)]"
      ]
     },
     "execution_count": 62,
     "metadata": {},
     "output_type": "execute_result"
    }
   ],
   "source": [
    "final[0:5]"
   ]
  }
 ],
 "metadata": {
  "kernelspec": {
   "display_name": "Python 3",
   "language": "python",
   "name": "python3"
  },
  "language_info": {
   "codemirror_mode": {
    "name": "ipython",
    "version": 3
   },
   "file_extension": ".py",
   "mimetype": "text/x-python",
   "name": "python",
   "nbconvert_exporter": "python",
   "pygments_lexer": "ipython3",
   "version": "3.6.3"
  }
 },
 "nbformat": 4,
 "nbformat_minor": 2
}
