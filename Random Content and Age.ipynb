{
 "cells": [
  {
   "cell_type": "markdown",
   "metadata": {},
   "source": [
    "# This workbook explores distribution of units by content age\n",
    "\n",
    "<p> The notebook loads data for X number of random customers and explores the distribution of units by content age depending on whether a customer is engaged or not. Engaged means that a customer bought first and last purchase not on the same day and the last purchase occured within last 3 months. Distirbution of first dates show that it is really random, so no skew towards most recent first purchasers. </p>\n",
    "<p> Query for gettin raw data https://datanet.amazon.com/dw-platform/servlet/dwp/template/EtlViewExtractJobs.vm/job_profile_id/6316440 </p>\n",
    "\n",
    "<p> The data show that the biggest differences in shares between engaged and not engaged are in deep catalogue (>3yr) and new release (0-30days). What does it mean: all units consumed by engaged are 100%, I make distribution of those units by content age and compare it to the one owned by non_engaged. It implies that engaged are consuming more new releases and deep catalogue </p>\n",
    "\n",
    "<p> However, if you look at indx of purchases, ie make distribution for first, second, third, after third purchase the picture is slightly different </p>\n",
    "\n",
    "<br>\n",
    "<p> Let s look at engaged: at first purchase their share of new and recent release is much bigger than non engaged, it means, that on average engaged customers consume new releases as first entry point, as first purchase. Hypothesis might be those customers are video lovers who can be guided since they rely on new releases as first entry point </p>\n",
    "\n",
    "<p> Startin with the second purchase, behaviour of engaged on average differs and share of deep catalogue radically increases compared to non engaged suggesting that they have some taste and know what they are looking for. As you might see, the difference only widens as the number of transactions rises </p>"
   ]
  },
  {
   "cell_type": "code",
   "execution_count": 1,
   "metadata": {
    "collapsed": true
   },
   "outputs": [],
   "source": [
    "import pandas as pd\n",
    "import numpy as np\n",
    "\n",
    "import matplotlib.pyplot as plt\n",
    "import seaborn as sns\n",
    "\n",
    "%matplotlib inline"
   ]
  },
  {
   "cell_type": "code",
   "execution_count": 77,
   "metadata": {
    "collapsed": true
   },
   "outputs": [],
   "source": [
    "#df = pd.read_csv(\"../EngagementByAgeandType/data/random_age_content.txt\", sep= \"\\t\",\n",
    "#                names = ['transaction_date','customer_id','units','rank','content','age','marketplace','revenue'])\n",
    "\n",
    "df = pd.read_csv(\"Z://00_ETL/return_rates/return_rates_content_age_3.txt\", sep= \"\\t\", encoding=\"ISO-8859-1\")\n",
    "#df['transaction_date'] = pd.to_datetime(df['transaction_date'])"
   ]
  },
  {
   "cell_type": "code",
   "execution_count": 7,
   "metadata": {},
   "outputs": [
    {
     "name": "stdout",
     "output_type": "stream",
     "text": [
      "(12476844, 9) 1181071\n"
     ]
    },
    {
     "data": {
      "text/html": [
       "<div>\n",
       "<style>\n",
       "    .dataframe thead tr:only-child th {\n",
       "        text-align: right;\n",
       "    }\n",
       "\n",
       "    .dataframe thead th {\n",
       "        text-align: left;\n",
       "    }\n",
       "\n",
       "    .dataframe tbody tr th {\n",
       "        vertical-align: top;\n",
       "    }\n",
       "</style>\n",
       "<table border=\"1\" class=\"dataframe\">\n",
       "  <thead>\n",
       "    <tr style=\"text-align: right;\">\n",
       "      <th></th>\n",
       "      <th>transaction_date_local</th>\n",
       "      <th>encrypted_customer_id</th>\n",
       "      <th>units</th>\n",
       "      <th>rank</th>\n",
       "      <th>content_type_named</th>\n",
       "      <th>content_age</th>\n",
       "      <th>marketplace_id</th>\n",
       "      <th>title_name</th>\n",
       "      <th>revenue</th>\n",
       "    </tr>\n",
       "  </thead>\n",
       "  <tbody>\n",
       "    <tr>\n",
       "      <th>0</th>\n",
       "      <td>2014-02-28</td>\n",
       "      <td>A05353501CHY3WMQ180G4</td>\n",
       "      <td>1</td>\n",
       "      <td>1</td>\n",
       "      <td>Movie VOD</td>\n",
       "      <td>New Release</td>\n",
       "      <td>3.0</td>\n",
       "      <td>Pacific Rim</td>\n",
       "      <td>2.08</td>\n",
       "    </tr>\n",
       "    <tr>\n",
       "      <th>1</th>\n",
       "      <td>2014-03-06</td>\n",
       "      <td>A05353501CHY3WMQ180G4</td>\n",
       "      <td>1</td>\n",
       "      <td>2</td>\n",
       "      <td>Movie VOD</td>\n",
       "      <td>New Release</td>\n",
       "      <td>3.0</td>\n",
       "      <td>Elysium</td>\n",
       "      <td>2.91</td>\n",
       "    </tr>\n",
       "    <tr>\n",
       "      <th>2</th>\n",
       "      <td>2014-03-16</td>\n",
       "      <td>A05353501CHY3WMQ180G4</td>\n",
       "      <td>1</td>\n",
       "      <td>3</td>\n",
       "      <td>Movie VOD</td>\n",
       "      <td>New Release</td>\n",
       "      <td>3.0</td>\n",
       "      <td>Percy Jackson: Sea Of Monsters</td>\n",
       "      <td>2.91</td>\n",
       "    </tr>\n",
       "    <tr>\n",
       "      <th>3</th>\n",
       "      <td>2014-03-17</td>\n",
       "      <td>A05353501CHY3WMQ180G4</td>\n",
       "      <td>1</td>\n",
       "      <td>4</td>\n",
       "      <td>Movie VOD</td>\n",
       "      <td>New Release</td>\n",
       "      <td>3.0</td>\n",
       "      <td>The Hunger Games: Catching Fire</td>\n",
       "      <td>2.91</td>\n",
       "    </tr>\n",
       "    <tr>\n",
       "      <th>4</th>\n",
       "      <td>2014-03-31</td>\n",
       "      <td>A05353501CHY3WMQ180G4</td>\n",
       "      <td>1</td>\n",
       "      <td>5</td>\n",
       "      <td>TV Episode</td>\n",
       "      <td>New Release</td>\n",
       "      <td>3.0</td>\n",
       "      <td>Crescent City</td>\n",
       "      <td>1.58</td>\n",
       "    </tr>\n",
       "  </tbody>\n",
       "</table>\n",
       "</div>"
      ],
      "text/plain": [
       "  transaction_date_local  encrypted_customer_id  units  rank  \\\n",
       "0             2014-02-28  A05353501CHY3WMQ180G4      1     1   \n",
       "1             2014-03-06  A05353501CHY3WMQ180G4      1     2   \n",
       "2             2014-03-16  A05353501CHY3WMQ180G4      1     3   \n",
       "3             2014-03-17  A05353501CHY3WMQ180G4      1     4   \n",
       "4             2014-03-31  A05353501CHY3WMQ180G4      1     5   \n",
       "\n",
       "  content_type_named  content_age  marketplace_id  \\\n",
       "0          Movie VOD  New Release             3.0   \n",
       "1          Movie VOD  New Release             3.0   \n",
       "2          Movie VOD  New Release             3.0   \n",
       "3          Movie VOD  New Release             3.0   \n",
       "4         TV Episode  New Release             3.0   \n",
       "\n",
       "                        title_name  revenue  \n",
       "0                      Pacific Rim     2.08  \n",
       "1                          Elysium     2.91  \n",
       "2   Percy Jackson: Sea Of Monsters     2.91  \n",
       "3  The Hunger Games: Catching Fire     2.91  \n",
       "4                    Crescent City     1.58  "
      ]
     },
     "execution_count": 7,
     "metadata": {},
     "output_type": "execute_result"
    }
   ],
   "source": [
    "print(df.shape, df['encrypted_customer_id'].nunique())\n",
    "df.head()"
   ]
  },
  {
   "cell_type": "code",
   "execution_count": 8,
   "metadata": {
    "collapsed": true
   },
   "outputs": [],
   "source": [
    "df['transaction_date_local'] = pd.to_datetime(df['transaction_date_local'])"
   ]
  },
  {
   "cell_type": "code",
   "execution_count": 9,
   "metadata": {
    "collapsed": true
   },
   "outputs": [],
   "source": [
    "def min_max_dates_by_customer_and_is_engaged(df):\n",
    "    t = pd.DataFrame(df.groupby(\"encrypted_customer_id\").agg({\"transaction_date_local\":[np.min,np.max]}).reset_index())\n",
    "    t.columns = t.columns.droplevel()\n",
    "    t.columns = ['encrypted_customer_id','first_date','last_date']\n",
    "    \n",
    "    m = pd.merge(left=df,right=t,left_on=\"encrypted_customer_id\",right_on=\"encrypted_customer_id\", how = \"left\")\n",
    "    \n",
    "    m['is_engaged'] = np.where((m['last_date'] > m['first_date']) &\n",
    "    ((m['transaction_date_local'].max() - m['last_date']) / np.timedelta64(1,\"M\") <= 3),1,0)\n",
    "    \n",
    "    return m"
   ]
  },
  {
   "cell_type": "code",
   "execution_count": 10,
   "metadata": {
    "collapsed": true
   },
   "outputs": [],
   "source": [
    "t = min_max_dates_by_customer_and_is_engaged(df)"
   ]
  },
  {
   "cell_type": "code",
   "execution_count": 11,
   "metadata": {},
   "outputs": [
    {
     "data": {
      "text/html": [
       "<div>\n",
       "<style>\n",
       "    .dataframe thead tr:only-child th {\n",
       "        text-align: right;\n",
       "    }\n",
       "\n",
       "    .dataframe thead th {\n",
       "        text-align: left;\n",
       "    }\n",
       "\n",
       "    .dataframe tbody tr th {\n",
       "        vertical-align: top;\n",
       "    }\n",
       "</style>\n",
       "<table border=\"1\" class=\"dataframe\">\n",
       "  <thead>\n",
       "    <tr style=\"text-align: right;\">\n",
       "      <th></th>\n",
       "      <th>transaction_date_local</th>\n",
       "      <th>encrypted_customer_id</th>\n",
       "      <th>units</th>\n",
       "      <th>rank</th>\n",
       "      <th>content_type_named</th>\n",
       "      <th>content_age</th>\n",
       "      <th>marketplace_id</th>\n",
       "      <th>title_name</th>\n",
       "      <th>revenue</th>\n",
       "      <th>first_date</th>\n",
       "      <th>last_date</th>\n",
       "      <th>is_engaged</th>\n",
       "    </tr>\n",
       "  </thead>\n",
       "  <tbody>\n",
       "    <tr>\n",
       "      <th>0</th>\n",
       "      <td>2014-02-28</td>\n",
       "      <td>A05353501CHY3WMQ180G4</td>\n",
       "      <td>1</td>\n",
       "      <td>1</td>\n",
       "      <td>Movie VOD</td>\n",
       "      <td>New Release</td>\n",
       "      <td>3.0</td>\n",
       "      <td>Pacific Rim</td>\n",
       "      <td>2.08</td>\n",
       "      <td>2014-02-28</td>\n",
       "      <td>2015-08-07</td>\n",
       "      <td>0</td>\n",
       "    </tr>\n",
       "    <tr>\n",
       "      <th>1</th>\n",
       "      <td>2014-03-06</td>\n",
       "      <td>A05353501CHY3WMQ180G4</td>\n",
       "      <td>1</td>\n",
       "      <td>2</td>\n",
       "      <td>Movie VOD</td>\n",
       "      <td>New Release</td>\n",
       "      <td>3.0</td>\n",
       "      <td>Elysium</td>\n",
       "      <td>2.91</td>\n",
       "      <td>2014-02-28</td>\n",
       "      <td>2015-08-07</td>\n",
       "      <td>0</td>\n",
       "    </tr>\n",
       "    <tr>\n",
       "      <th>2</th>\n",
       "      <td>2014-03-16</td>\n",
       "      <td>A05353501CHY3WMQ180G4</td>\n",
       "      <td>1</td>\n",
       "      <td>3</td>\n",
       "      <td>Movie VOD</td>\n",
       "      <td>New Release</td>\n",
       "      <td>3.0</td>\n",
       "      <td>Percy Jackson: Sea Of Monsters</td>\n",
       "      <td>2.91</td>\n",
       "      <td>2014-02-28</td>\n",
       "      <td>2015-08-07</td>\n",
       "      <td>0</td>\n",
       "    </tr>\n",
       "    <tr>\n",
       "      <th>3</th>\n",
       "      <td>2014-03-17</td>\n",
       "      <td>A05353501CHY3WMQ180G4</td>\n",
       "      <td>1</td>\n",
       "      <td>4</td>\n",
       "      <td>Movie VOD</td>\n",
       "      <td>New Release</td>\n",
       "      <td>3.0</td>\n",
       "      <td>The Hunger Games: Catching Fire</td>\n",
       "      <td>2.91</td>\n",
       "      <td>2014-02-28</td>\n",
       "      <td>2015-08-07</td>\n",
       "      <td>0</td>\n",
       "    </tr>\n",
       "    <tr>\n",
       "      <th>4</th>\n",
       "      <td>2014-03-31</td>\n",
       "      <td>A05353501CHY3WMQ180G4</td>\n",
       "      <td>1</td>\n",
       "      <td>5</td>\n",
       "      <td>TV Episode</td>\n",
       "      <td>New Release</td>\n",
       "      <td>3.0</td>\n",
       "      <td>Crescent City</td>\n",
       "      <td>1.58</td>\n",
       "      <td>2014-02-28</td>\n",
       "      <td>2015-08-07</td>\n",
       "      <td>0</td>\n",
       "    </tr>\n",
       "  </tbody>\n",
       "</table>\n",
       "</div>"
      ],
      "text/plain": [
       "  transaction_date_local  encrypted_customer_id  units  rank  \\\n",
       "0             2014-02-28  A05353501CHY3WMQ180G4      1     1   \n",
       "1             2014-03-06  A05353501CHY3WMQ180G4      1     2   \n",
       "2             2014-03-16  A05353501CHY3WMQ180G4      1     3   \n",
       "3             2014-03-17  A05353501CHY3WMQ180G4      1     4   \n",
       "4             2014-03-31  A05353501CHY3WMQ180G4      1     5   \n",
       "\n",
       "  content_type_named  content_age  marketplace_id  \\\n",
       "0          Movie VOD  New Release             3.0   \n",
       "1          Movie VOD  New Release             3.0   \n",
       "2          Movie VOD  New Release             3.0   \n",
       "3          Movie VOD  New Release             3.0   \n",
       "4         TV Episode  New Release             3.0   \n",
       "\n",
       "                        title_name  revenue first_date  last_date  is_engaged  \n",
       "0                      Pacific Rim     2.08 2014-02-28 2015-08-07           0  \n",
       "1                          Elysium     2.91 2014-02-28 2015-08-07           0  \n",
       "2   Percy Jackson: Sea Of Monsters     2.91 2014-02-28 2015-08-07           0  \n",
       "3  The Hunger Games: Catching Fire     2.91 2014-02-28 2015-08-07           0  \n",
       "4                    Crescent City     1.58 2014-02-28 2015-08-07           0  "
      ]
     },
     "execution_count": 11,
     "metadata": {},
     "output_type": "execute_result"
    }
   ],
   "source": [
    "t.head()"
   ]
  },
  {
   "cell_type": "markdown",
   "metadata": {},
   "source": [
    "# Classify customers into engaged and not engaged"
   ]
  },
  {
   "cell_type": "code",
   "execution_count": 12,
   "metadata": {},
   "outputs": [
    {
     "name": "stdout",
     "output_type": "stream",
     "text": [
      "1181071\n"
     ]
    },
    {
     "data": {
      "text/plain": [
       "is_engaged\n",
       "0    851805\n",
       "1    329266\n",
       "Name: encrypted_customer_id, dtype: int64"
      ]
     },
     "execution_count": 12,
     "metadata": {},
     "output_type": "execute_result"
    }
   ],
   "source": [
    "print(t['encrypted_customer_id'].nunique())\n",
    "t.groupby(\"is_engaged\")['encrypted_customer_id'].nunique()"
   ]
  },
  {
   "cell_type": "markdown",
   "metadata": {},
   "source": [
    "# Check distribution of first date to not have bias \n",
    "<p> Issue were if you include all recent purchasers in to engaged </p>"
   ]
  },
  {
   "cell_type": "code",
   "execution_count": 13,
   "metadata": {},
   "outputs": [
    {
     "data": {
      "text/plain": [
       "<matplotlib.axes._subplots.AxesSubplot at 0x1fd71f67080>"
      ]
     },
     "execution_count": 13,
     "metadata": {},
     "output_type": "execute_result"
    },
    {
     "data": {
      "image/png": "[encoded data removed]",
      "text/plain": [
       "<matplotlib.figure.Figure at 0x1fd79ec15c0>"
      ]
     },
     "metadata": {},
     "output_type": "display_data"
    }
   ],
   "source": [
    "t['first_date'].hist(figsize=(8,5))"
   ]
  },
  {
   "cell_type": "markdown",
   "metadata": {},
   "source": [
    "# Check difference of age by is_engaged"
   ]
  },
  {
   "cell_type": "code",
   "execution_count": 14,
   "metadata": {
    "collapsed": true
   },
   "outputs": [],
   "source": [
    "def get_units_by_age_ranked(df, rank):\n",
    "    df = df[df['rank'] == rank]\n",
    "    tr = pd.DataFrame(df.groupby(['is_engaged','content_age','content_type_named'])['units'].sum().reset_index())\n",
    "    total_units = pd.DataFrame(tr.groupby(\"is_engaged\")['units'].sum().reset_index())\n",
    "    \n",
    "    to = pd.merge(left=tr,right=total_units, left_on=\"is_engaged\",right_on=\"is_engaged\",how='left')\n",
    "    to['share'] = to['units_x'] / to['units_y']\n",
    "    \n",
    "    total = pd.DataFrame(to.groupby([\"is_engaged\",\"content_age\"])['share'].sum().reset_index())\n",
    "    total['rank'] = rank\n",
    "    return total"
   ]
  },
  {
   "cell_type": "code",
   "execution_count": 15,
   "metadata": {
    "collapsed": true
   },
   "outputs": [],
   "source": [
    "def get_units_by_age(df):\n",
    "    \n",
    "    tr = pd.DataFrame(df.groupby(['is_engaged','content_age','content_type_named'])['units'].sum().reset_index())\n",
    "    total_units = pd.DataFrame(tr.groupby(\"is_engaged\")['units'].sum().reset_index())\n",
    "    \n",
    "    to = pd.merge(left=tr,right=total_units, left_on=\"is_engaged\",right_on=\"is_engaged\",how='left')\n",
    "    to['share'] = to['units_x'] / to['units_y']\n",
    "    \n",
    "    total = pd.DataFrame(to.groupby([\"is_engaged\",\"content_age\"])['share'].sum().reset_index())\n",
    "    \n",
    "    return total"
   ]
  },
  {
   "cell_type": "code",
   "execution_count": 16,
   "metadata": {
    "collapsed": true
   },
   "outputs": [],
   "source": [
    "def get_units_by_age_and_content(df):\n",
    "    tr = pd.DataFrame(df.groupby(['is_engaged','content_age','content_type_named'])['units'].sum().reset_index())\n",
    "    total_units = pd.DataFrame(tr.groupby([\"is_engaged\",'content_age'])['units'].sum().reset_index())\n",
    "    \n",
    "    to = pd.merge(left=tr,right=total_units, left_on=[\"is_engaged\",'content_age'],\n",
    "                  right_on=[\"is_engaged\",'content_age'],how='left')\n",
    "    to['share'] = to['units_x'] / to['units_y']\n",
    "    \n",
    "    return to"
   ]
  },
  {
   "cell_type": "code",
   "execution_count": 17,
   "metadata": {},
   "outputs": [
    {
     "data": {
      "text/html": [
       "<div>\n",
       "<style>\n",
       "    .dataframe thead tr:only-child th {\n",
       "        text-align: right;\n",
       "    }\n",
       "\n",
       "    .dataframe thead th {\n",
       "        text-align: left;\n",
       "    }\n",
       "\n",
       "    .dataframe tbody tr th {\n",
       "        vertical-align: top;\n",
       "    }\n",
       "</style>\n",
       "<table border=\"1\" class=\"dataframe\">\n",
       "  <thead>\n",
       "    <tr style=\"text-align: right;\">\n",
       "      <th></th>\n",
       "      <th>is_engaged</th>\n",
       "      <th>content_age</th>\n",
       "      <th>share</th>\n",
       "    </tr>\n",
       "  </thead>\n",
       "  <tbody>\n",
       "    <tr>\n",
       "      <th>0</th>\n",
       "      <td>0</td>\n",
       "      <td>1_2yr_Catalogue</td>\n",
       "      <td>0.179407</td>\n",
       "    </tr>\n",
       "    <tr>\n",
       "      <th>1</th>\n",
       "      <td>0</td>\n",
       "      <td>2_3yr_Catalogue</td>\n",
       "      <td>0.126393</td>\n",
       "    </tr>\n",
       "    <tr>\n",
       "      <th>2</th>\n",
       "      <td>0</td>\n",
       "      <td>6mo_1yr_Catalogue</td>\n",
       "      <td>0.142096</td>\n",
       "    </tr>\n",
       "    <tr>\n",
       "      <th>3</th>\n",
       "      <td>0</td>\n",
       "      <td>Deep Catalogue</td>\n",
       "      <td>0.080142</td>\n",
       "    </tr>\n",
       "    <tr>\n",
       "      <th>4</th>\n",
       "      <td>0</td>\n",
       "      <td>New Release</td>\n",
       "      <td>0.182382</td>\n",
       "    </tr>\n",
       "  </tbody>\n",
       "</table>\n",
       "</div>"
      ],
      "text/plain": [
       "   is_engaged        content_age     share\n",
       "0           0    1_2yr_Catalogue  0.179407\n",
       "1           0    2_3yr_Catalogue  0.126393\n",
       "2           0  6mo_1yr_Catalogue  0.142096\n",
       "3           0     Deep Catalogue  0.080142\n",
       "4           0        New Release  0.182382"
      ]
     },
     "execution_count": 17,
     "metadata": {},
     "output_type": "execute_result"
    }
   ],
   "source": [
    "by_age = get_units_by_age(t)\n",
    "by_age.head()"
   ]
  },
  {
   "cell_type": "code",
   "execution_count": 18,
   "metadata": {},
   "outputs": [
    {
     "data": {
      "text/plain": [
       "<seaborn.axisgrid.FacetGrid at 0x1fd79ec1518>"
      ]
     },
     "execution_count": 18,
     "metadata": {},
     "output_type": "execute_result"
    },
    {
     "data": {
      "image/png": "[encoded data removed]",
      "text/plain": [
       "<matplotlib.figure.Figure at 0x1fd79ec1ba8>"
      ]
     },
     "metadata": {},
     "output_type": "display_data"
    }
   ],
   "source": [
    "sns.factorplot(x = 'content_age', y = 'share', hue = 'is_engaged', data=by_age, kind='bar', size = 9)"
   ]
  },
  {
   "cell_type": "markdown",
   "metadata": {},
   "source": [
    "# What is consumed as first purchase"
   ]
  },
  {
   "cell_type": "code",
   "execution_count": 19,
   "metadata": {},
   "outputs": [
    {
     "data": {
      "text/plain": [
       "<seaborn.axisgrid.FacetGrid at 0x1fd5d1b6fd0>"
      ]
     },
     "execution_count": 19,
     "metadata": {},
     "output_type": "execute_result"
    },
    {
     "data": {
      "image/png": "[encoded data removed]",
      "text/plain": [
       "<matplotlib.figure.Figure at 0x1fd5d1b66d8>"
      ]
     },
     "metadata": {},
     "output_type": "display_data"
    }
   ],
   "source": [
    "r1 = get_units_by_age_ranked(t,1)\n",
    "sns.factorplot(x = 'content_age', y = 'share', hue = 'is_engaged', data=r1, kind='bar', size = 9)"
   ]
  },
  {
   "cell_type": "markdown",
   "metadata": {},
   "source": [
    "# What is consumed as second purchase"
   ]
  },
  {
   "cell_type": "code",
   "execution_count": 21,
   "metadata": {},
   "outputs": [
    {
     "data": {
      "text/plain": [
       "<seaborn.axisgrid.FacetGrid at 0x1fd5d27c940>"
      ]
     },
     "execution_count": 21,
     "metadata": {},
     "output_type": "execute_result"
    },
    {
     "data": {
      "image/png": "[encoded data removed]",
      "text/plain": [
       "<matplotlib.figure.Figure at 0x1fd5d224c50>"
      ]
     },
     "metadata": {},
     "output_type": "display_data"
    }
   ],
   "source": [
    "r2 = get_units_by_age_ranked(t,2)\n",
    "sns.factorplot(x = 'content_age', y = 'share', hue = 'is_engaged', data=r2, kind='bar', size = 9)"
   ]
  },
  {
   "cell_type": "markdown",
   "metadata": {},
   "source": [
    "# What is consumed as third purchase"
   ]
  },
  {
   "cell_type": "code",
   "execution_count": 22,
   "metadata": {},
   "outputs": [
    {
     "data": {
      "text/plain": [
       "<seaborn.axisgrid.FacetGrid at 0x1fd5d061e80>"
      ]
     },
     "execution_count": 22,
     "metadata": {},
     "output_type": "execute_result"
    },
    {
     "data": {
      "image/png": "[encoded data removed]",
      "text/plain": [
       "<matplotlib.figure.Figure at 0x1fd5d05fac8>"
      ]
     },
     "metadata": {},
     "output_type": "display_data"
    }
   ],
   "source": [
    "r3 = get_units_by_age_ranked(t,3)\n",
    "sns.factorplot(x = 'content_age', y = 'share', hue = 'is_engaged', data=r3, kind='bar', size = 9)"
   ]
  },
  {
   "cell_type": "markdown",
   "metadata": {},
   "source": [
    "# What is consumed as fourth purchase"
   ]
  },
  {
   "cell_type": "code",
   "execution_count": 23,
   "metadata": {},
   "outputs": [
    {
     "data": {
      "text/plain": [
       "<seaborn.axisgrid.FacetGrid at 0x1fd5cb19ba8>"
      ]
     },
     "execution_count": 23,
     "metadata": {},
     "output_type": "execute_result"
    },
    {
     "data": {
      "image/png": "[encoded data removed]",
      "text/plain": [
       "<matplotlib.figure.Figure at 0x1fd5d0f54a8>"
      ]
     },
     "metadata": {},
     "output_type": "display_data"
    }
   ],
   "source": [
    "r4 = get_units_by_age_ranked(t,4)\n",
    "sns.factorplot(x = 'content_age', y = 'share', hue = 'is_engaged', data=r4, kind='bar', size = 9)"
   ]
  },
  {
   "cell_type": "markdown",
   "metadata": {},
   "source": [
    "# What is consumed as fifth purchase"
   ]
  },
  {
   "cell_type": "code",
   "execution_count": 24,
   "metadata": {},
   "outputs": [
    {
     "data": {
      "text/plain": [
       "<seaborn.axisgrid.FacetGrid at 0x1fd5d2d77b8>"
      ]
     },
     "execution_count": 24,
     "metadata": {},
     "output_type": "execute_result"
    },
    {
     "data": {
      "image/png": "[encoded data removed]",
      "text/plain": [
       "<matplotlib.figure.Figure at 0x1fd5d30e630>"
      ]
     },
     "metadata": {},
     "output_type": "display_data"
    }
   ],
   "source": [
    "r5 = get_units_by_age_ranked(t,5)\n",
    "sns.factorplot(x = 'content_age', y = 'share', hue = 'is_engaged', data=r5, kind='bar', size = 9)"
   ]
  },
  {
   "cell_type": "markdown",
   "metadata": {},
   "source": [
    "# What is consumed after third purchase"
   ]
  },
  {
   "cell_type": "code",
   "execution_count": 25,
   "metadata": {
    "collapsed": true
   },
   "outputs": [],
   "source": [
    "after5 = t[t['rank'] > 5]"
   ]
  },
  {
   "cell_type": "code",
   "execution_count": 26,
   "metadata": {},
   "outputs": [
    {
     "data": {
      "text/plain": [
       "<seaborn.axisgrid.FacetGrid at 0x1fd5d16fcc0>"
      ]
     },
     "execution_count": 26,
     "metadata": {},
     "output_type": "execute_result"
    },
    {
     "data": {
      "image/png": "[encoded data removed]",
      "text/plain": [
       "<matplotlib.figure.Figure at 0x1fd5d367128>"
      ]
     },
     "metadata": {},
     "output_type": "display_data"
    }
   ],
   "source": [
    "after5_df = get_units_by_age(after5)\n",
    "sns.factorplot(x = 'content_age', y = 'share', hue = 'is_engaged', data=after5_df, kind='bar', size = 9)"
   ]
  },
  {
   "cell_type": "code",
   "execution_count": 29,
   "metadata": {
    "collapsed": true
   },
   "outputs": [],
   "source": [
    "list = [r1,r2,r3,r4,r5,after5_df]"
   ]
  },
  {
   "cell_type": "code",
   "execution_count": 30,
   "metadata": {
    "collapsed": true
   },
   "outputs": [],
   "source": [
    "#Recall, 'a' append and 'w+' overwrite\n",
    "\n",
    "# f = open(\"list_UK_summary.csv\", 'w+')\n",
    "# for i in list:\n",
    "#     i.to_csv(f)\n",
    "# f.close()"
   ]
  },
  {
   "cell_type": "markdown",
   "metadata": {},
   "source": [
    "# Compare one timers vs rest"
   ]
  },
  {
   "cell_type": "code",
   "execution_count": 31,
   "metadata": {},
   "outputs": [
    {
     "name": "stdout",
     "output_type": "stream",
     "text": [
      "(12476844, 9) (12476844, 12)\n"
     ]
    }
   ],
   "source": [
    "print(df.shape, t.shape)"
   ]
  },
  {
   "cell_type": "code",
   "execution_count": 32,
   "metadata": {},
   "outputs": [
    {
     "data": {
      "text/html": [
       "<div>\n",
       "<style>\n",
       "    .dataframe thead tr:only-child th {\n",
       "        text-align: right;\n",
       "    }\n",
       "\n",
       "    .dataframe thead th {\n",
       "        text-align: left;\n",
       "    }\n",
       "\n",
       "    .dataframe tbody tr th {\n",
       "        vertical-align: top;\n",
       "    }\n",
       "</style>\n",
       "<table border=\"1\" class=\"dataframe\">\n",
       "  <thead>\n",
       "    <tr style=\"text-align: right;\">\n",
       "      <th></th>\n",
       "      <th>transaction_date_local</th>\n",
       "      <th>encrypted_customer_id</th>\n",
       "      <th>units</th>\n",
       "      <th>rank</th>\n",
       "      <th>content_type_named</th>\n",
       "      <th>content_age</th>\n",
       "      <th>marketplace_id</th>\n",
       "      <th>title_name</th>\n",
       "      <th>revenue</th>\n",
       "      <th>first_date</th>\n",
       "      <th>last_date</th>\n",
       "      <th>is_engaged</th>\n",
       "    </tr>\n",
       "  </thead>\n",
       "  <tbody>\n",
       "    <tr>\n",
       "      <th>0</th>\n",
       "      <td>2014-02-28</td>\n",
       "      <td>A05353501CHY3WMQ180G4</td>\n",
       "      <td>1</td>\n",
       "      <td>1</td>\n",
       "      <td>Movie VOD</td>\n",
       "      <td>New Release</td>\n",
       "      <td>3.0</td>\n",
       "      <td>Pacific Rim</td>\n",
       "      <td>2.08</td>\n",
       "      <td>2014-02-28</td>\n",
       "      <td>2015-08-07</td>\n",
       "      <td>0</td>\n",
       "    </tr>\n",
       "    <tr>\n",
       "      <th>1</th>\n",
       "      <td>2014-03-06</td>\n",
       "      <td>A05353501CHY3WMQ180G4</td>\n",
       "      <td>1</td>\n",
       "      <td>2</td>\n",
       "      <td>Movie VOD</td>\n",
       "      <td>New Release</td>\n",
       "      <td>3.0</td>\n",
       "      <td>Elysium</td>\n",
       "      <td>2.91</td>\n",
       "      <td>2014-02-28</td>\n",
       "      <td>2015-08-07</td>\n",
       "      <td>0</td>\n",
       "    </tr>\n",
       "    <tr>\n",
       "      <th>2</th>\n",
       "      <td>2014-03-16</td>\n",
       "      <td>A05353501CHY3WMQ180G4</td>\n",
       "      <td>1</td>\n",
       "      <td>3</td>\n",
       "      <td>Movie VOD</td>\n",
       "      <td>New Release</td>\n",
       "      <td>3.0</td>\n",
       "      <td>Percy Jackson: Sea Of Monsters</td>\n",
       "      <td>2.91</td>\n",
       "      <td>2014-02-28</td>\n",
       "      <td>2015-08-07</td>\n",
       "      <td>0</td>\n",
       "    </tr>\n",
       "    <tr>\n",
       "      <th>3</th>\n",
       "      <td>2014-03-17</td>\n",
       "      <td>A05353501CHY3WMQ180G4</td>\n",
       "      <td>1</td>\n",
       "      <td>4</td>\n",
       "      <td>Movie VOD</td>\n",
       "      <td>New Release</td>\n",
       "      <td>3.0</td>\n",
       "      <td>The Hunger Games: Catching Fire</td>\n",
       "      <td>2.91</td>\n",
       "      <td>2014-02-28</td>\n",
       "      <td>2015-08-07</td>\n",
       "      <td>0</td>\n",
       "    </tr>\n",
       "    <tr>\n",
       "      <th>4</th>\n",
       "      <td>2014-03-31</td>\n",
       "      <td>A05353501CHY3WMQ180G4</td>\n",
       "      <td>1</td>\n",
       "      <td>5</td>\n",
       "      <td>TV Episode</td>\n",
       "      <td>New Release</td>\n",
       "      <td>3.0</td>\n",
       "      <td>Crescent City</td>\n",
       "      <td>1.58</td>\n",
       "      <td>2014-02-28</td>\n",
       "      <td>2015-08-07</td>\n",
       "      <td>0</td>\n",
       "    </tr>\n",
       "  </tbody>\n",
       "</table>\n",
       "</div>"
      ],
      "text/plain": [
       "  transaction_date_local  encrypted_customer_id  units  rank  \\\n",
       "0             2014-02-28  A05353501CHY3WMQ180G4      1     1   \n",
       "1             2014-03-06  A05353501CHY3WMQ180G4      1     2   \n",
       "2             2014-03-16  A05353501CHY3WMQ180G4      1     3   \n",
       "3             2014-03-17  A05353501CHY3WMQ180G4      1     4   \n",
       "4             2014-03-31  A05353501CHY3WMQ180G4      1     5   \n",
       "\n",
       "  content_type_named  content_age  marketplace_id  \\\n",
       "0          Movie VOD  New Release             3.0   \n",
       "1          Movie VOD  New Release             3.0   \n",
       "2          Movie VOD  New Release             3.0   \n",
       "3          Movie VOD  New Release             3.0   \n",
       "4         TV Episode  New Release             3.0   \n",
       "\n",
       "                        title_name  revenue first_date  last_date  is_engaged  \n",
       "0                      Pacific Rim     2.08 2014-02-28 2015-08-07           0  \n",
       "1                          Elysium     2.91 2014-02-28 2015-08-07           0  \n",
       "2   Percy Jackson: Sea Of Monsters     2.91 2014-02-28 2015-08-07           0  \n",
       "3  The Hunger Games: Catching Fire     2.91 2014-02-28 2015-08-07           0  \n",
       "4                    Crescent City     1.58 2014-02-28 2015-08-07           0  "
      ]
     },
     "execution_count": 32,
     "metadata": {},
     "output_type": "execute_result"
    }
   ],
   "source": [
    "t.head()"
   ]
  },
  {
   "cell_type": "code",
   "execution_count": 33,
   "metadata": {
    "collapsed": true
   },
   "outputs": [],
   "source": [
    "def max_rank_per_customer(df):\n",
    "    max_rank = pd.DataFrame(df.groupby(\"encrypted_customer_id\")['rank'].max().reset_index())\n",
    "    max_rank.columns = ['encrypted_customer_id', 'max_rank']\n",
    "    \n",
    "    m = pd.merge(left=df,right=max_rank,left_on=\"encrypted_customer_id\",right_on=\"encrypted_customer_id\", how = 'left')\n",
    "    return m"
   ]
  },
  {
   "cell_type": "code",
   "execution_count": 34,
   "metadata": {
    "collapsed": true
   },
   "outputs": [],
   "source": [
    "max_rank = max_rank_per_customer(t)"
   ]
  },
  {
   "cell_type": "code",
   "execution_count": 35,
   "metadata": {},
   "outputs": [
    {
     "data": {
      "text/html": [
       "<div>\n",
       "<style>\n",
       "    .dataframe thead tr:only-child th {\n",
       "        text-align: right;\n",
       "    }\n",
       "\n",
       "    .dataframe thead th {\n",
       "        text-align: left;\n",
       "    }\n",
       "\n",
       "    .dataframe tbody tr th {\n",
       "        vertical-align: top;\n",
       "    }\n",
       "</style>\n",
       "<table border=\"1\" class=\"dataframe\">\n",
       "  <thead>\n",
       "    <tr style=\"text-align: right;\">\n",
       "      <th></th>\n",
       "      <th>transaction_date_local</th>\n",
       "      <th>encrypted_customer_id</th>\n",
       "      <th>units</th>\n",
       "      <th>rank</th>\n",
       "      <th>content_type_named</th>\n",
       "      <th>content_age</th>\n",
       "      <th>marketplace_id</th>\n",
       "      <th>title_name</th>\n",
       "      <th>revenue</th>\n",
       "      <th>first_date</th>\n",
       "      <th>last_date</th>\n",
       "      <th>is_engaged</th>\n",
       "      <th>max_rank</th>\n",
       "    </tr>\n",
       "  </thead>\n",
       "  <tbody>\n",
       "    <tr>\n",
       "      <th>0</th>\n",
       "      <td>2014-02-28</td>\n",
       "      <td>A05353501CHY3WMQ180G4</td>\n",
       "      <td>1</td>\n",
       "      <td>1</td>\n",
       "      <td>Movie VOD</td>\n",
       "      <td>New Release</td>\n",
       "      <td>3.0</td>\n",
       "      <td>Pacific Rim</td>\n",
       "      <td>2.08</td>\n",
       "      <td>2014-02-28</td>\n",
       "      <td>2015-08-07</td>\n",
       "      <td>0</td>\n",
       "      <td>42</td>\n",
       "    </tr>\n",
       "    <tr>\n",
       "      <th>1</th>\n",
       "      <td>2014-03-06</td>\n",
       "      <td>A05353501CHY3WMQ180G4</td>\n",
       "      <td>1</td>\n",
       "      <td>2</td>\n",
       "      <td>Movie VOD</td>\n",
       "      <td>New Release</td>\n",
       "      <td>3.0</td>\n",
       "      <td>Elysium</td>\n",
       "      <td>2.91</td>\n",
       "      <td>2014-02-28</td>\n",
       "      <td>2015-08-07</td>\n",
       "      <td>0</td>\n",
       "      <td>42</td>\n",
       "    </tr>\n",
       "    <tr>\n",
       "      <th>2</th>\n",
       "      <td>2014-03-16</td>\n",
       "      <td>A05353501CHY3WMQ180G4</td>\n",
       "      <td>1</td>\n",
       "      <td>3</td>\n",
       "      <td>Movie VOD</td>\n",
       "      <td>New Release</td>\n",
       "      <td>3.0</td>\n",
       "      <td>Percy Jackson: Sea Of Monsters</td>\n",
       "      <td>2.91</td>\n",
       "      <td>2014-02-28</td>\n",
       "      <td>2015-08-07</td>\n",
       "      <td>0</td>\n",
       "      <td>42</td>\n",
       "    </tr>\n",
       "    <tr>\n",
       "      <th>3</th>\n",
       "      <td>2014-03-17</td>\n",
       "      <td>A05353501CHY3WMQ180G4</td>\n",
       "      <td>1</td>\n",
       "      <td>4</td>\n",
       "      <td>Movie VOD</td>\n",
       "      <td>New Release</td>\n",
       "      <td>3.0</td>\n",
       "      <td>The Hunger Games: Catching Fire</td>\n",
       "      <td>2.91</td>\n",
       "      <td>2014-02-28</td>\n",
       "      <td>2015-08-07</td>\n",
       "      <td>0</td>\n",
       "      <td>42</td>\n",
       "    </tr>\n",
       "    <tr>\n",
       "      <th>4</th>\n",
       "      <td>2014-03-31</td>\n",
       "      <td>A05353501CHY3WMQ180G4</td>\n",
       "      <td>1</td>\n",
       "      <td>5</td>\n",
       "      <td>TV Episode</td>\n",
       "      <td>New Release</td>\n",
       "      <td>3.0</td>\n",
       "      <td>Crescent City</td>\n",
       "      <td>1.58</td>\n",
       "      <td>2014-02-28</td>\n",
       "      <td>2015-08-07</td>\n",
       "      <td>0</td>\n",
       "      <td>42</td>\n",
       "    </tr>\n",
       "  </tbody>\n",
       "</table>\n",
       "</div>"
      ],
      "text/plain": [
       "  transaction_date_local  encrypted_customer_id  units  rank  \\\n",
       "0             2014-02-28  A05353501CHY3WMQ180G4      1     1   \n",
       "1             2014-03-06  A05353501CHY3WMQ180G4      1     2   \n",
       "2             2014-03-16  A05353501CHY3WMQ180G4      1     3   \n",
       "3             2014-03-17  A05353501CHY3WMQ180G4      1     4   \n",
       "4             2014-03-31  A05353501CHY3WMQ180G4      1     5   \n",
       "\n",
       "  content_type_named  content_age  marketplace_id  \\\n",
       "0          Movie VOD  New Release             3.0   \n",
       "1          Movie VOD  New Release             3.0   \n",
       "2          Movie VOD  New Release             3.0   \n",
       "3          Movie VOD  New Release             3.0   \n",
       "4         TV Episode  New Release             3.0   \n",
       "\n",
       "                        title_name  revenue first_date  last_date  is_engaged  \\\n",
       "0                      Pacific Rim     2.08 2014-02-28 2015-08-07           0   \n",
       "1                          Elysium     2.91 2014-02-28 2015-08-07           0   \n",
       "2   Percy Jackson: Sea Of Monsters     2.91 2014-02-28 2015-08-07           0   \n",
       "3  The Hunger Games: Catching Fire     2.91 2014-02-28 2015-08-07           0   \n",
       "4                    Crescent City     1.58 2014-02-28 2015-08-07           0   \n",
       "\n",
       "   max_rank  \n",
       "0        42  \n",
       "1        42  \n",
       "2        42  \n",
       "3        42  \n",
       "4        42  "
      ]
     },
     "execution_count": 35,
     "metadata": {},
     "output_type": "execute_result"
    }
   ],
   "source": [
    "max_rank.head()"
   ]
  },
  {
   "cell_type": "code",
   "execution_count": 36,
   "metadata": {
    "collapsed": true
   },
   "outputs": [],
   "source": [
    "first_timers = max_rank[max_rank['max_rank'] == 1]\n",
    "more_than_one_timers = max_rank[max_rank['max_rank'] > 1]"
   ]
  },
  {
   "cell_type": "code",
   "execution_count": 37,
   "metadata": {},
   "outputs": [
    {
     "data": {
      "text/plain": [
       "<seaborn.axisgrid.FacetGrid at 0x1fd5db5c9b0>"
      ]
     },
     "execution_count": 37,
     "metadata": {},
     "output_type": "execute_result"
    },
    {
     "data": {
      "image/png": "[encoded data removed]",
      "text/plain": [
       "<matplotlib.figure.Figure at 0x1fd5d078588>"
      ]
     },
     "metadata": {},
     "output_type": "display_data"
    }
   ],
   "source": [
    "ft = get_units_by_age(first_timers)\n",
    "sns.factorplot(x = 'content_age', y = 'share', hue = 'is_engaged', data=ft, kind='bar', size = 9)"
   ]
  },
  {
   "cell_type": "code",
   "execution_count": 39,
   "metadata": {},
   "outputs": [
    {
     "data": {
      "text/plain": [
       "<seaborn.axisgrid.FacetGrid at 0x1fd5d373860>"
      ]
     },
     "execution_count": 39,
     "metadata": {},
     "output_type": "execute_result"
    },
    {
     "data": {
      "image/png": "[encoded data removed]",
      "text/plain": [
       "<matplotlib.figure.Figure at 0x1fd5dc638d0>"
      ]
     },
     "metadata": {},
     "output_type": "display_data"
    }
   ],
   "source": [
    "mt = get_units_by_age(more_than_one_timers)\n",
    "sns.factorplot(x = 'content_age', y = 'share', hue = 'is_engaged', data=mt, kind='bar', size = 9)"
   ]
  },
  {
   "cell_type": "code",
   "execution_count": 40,
   "metadata": {},
   "outputs": [
    {
     "data": {
      "text/html": [
       "<div>\n",
       "<style>\n",
       "    .dataframe thead tr:only-child th {\n",
       "        text-align: right;\n",
       "    }\n",
       "\n",
       "    .dataframe thead th {\n",
       "        text-align: left;\n",
       "    }\n",
       "\n",
       "    .dataframe tbody tr th {\n",
       "        vertical-align: top;\n",
       "    }\n",
       "</style>\n",
       "<table border=\"1\" class=\"dataframe\">\n",
       "  <thead>\n",
       "    <tr style=\"text-align: right;\">\n",
       "      <th></th>\n",
       "      <th>is_engaged</th>\n",
       "      <th>content_age</th>\n",
       "      <th>share</th>\n",
       "    </tr>\n",
       "  </thead>\n",
       "  <tbody>\n",
       "    <tr>\n",
       "      <th>0</th>\n",
       "      <td>0</td>\n",
       "      <td>1_2yr_Catalogue</td>\n",
       "      <td>0.174391</td>\n",
       "    </tr>\n",
       "    <tr>\n",
       "      <th>1</th>\n",
       "      <td>0</td>\n",
       "      <td>2_3yr_Catalogue</td>\n",
       "      <td>0.130707</td>\n",
       "    </tr>\n",
       "    <tr>\n",
       "      <th>2</th>\n",
       "      <td>0</td>\n",
       "      <td>6mo_1yr_Catalogue</td>\n",
       "      <td>0.138680</td>\n",
       "    </tr>\n",
       "    <tr>\n",
       "      <th>3</th>\n",
       "      <td>0</td>\n",
       "      <td>Deep Catalogue</td>\n",
       "      <td>0.125318</td>\n",
       "    </tr>\n",
       "    <tr>\n",
       "      <th>4</th>\n",
       "      <td>0</td>\n",
       "      <td>New Release</td>\n",
       "      <td>0.154655</td>\n",
       "    </tr>\n",
       "    <tr>\n",
       "      <th>5</th>\n",
       "      <td>0</td>\n",
       "      <td>Recent release</td>\n",
       "      <td>0.276249</td>\n",
       "    </tr>\n",
       "  </tbody>\n",
       "</table>\n",
       "</div>"
      ],
      "text/plain": [
       "   is_engaged        content_age     share\n",
       "0           0    1_2yr_Catalogue  0.174391\n",
       "1           0    2_3yr_Catalogue  0.130707\n",
       "2           0  6mo_1yr_Catalogue  0.138680\n",
       "3           0     Deep Catalogue  0.125318\n",
       "4           0        New Release  0.154655\n",
       "5           0     Recent release  0.276249"
      ]
     },
     "execution_count": 40,
     "metadata": {},
     "output_type": "execute_result"
    }
   ],
   "source": [
    "ft"
   ]
  },
  {
   "cell_type": "code",
   "execution_count": 41,
   "metadata": {},
   "outputs": [
    {
     "data": {
      "text/html": [
       "<div>\n",
       "<style>\n",
       "    .dataframe thead tr:only-child th {\n",
       "        text-align: right;\n",
       "    }\n",
       "\n",
       "    .dataframe thead th {\n",
       "        text-align: left;\n",
       "    }\n",
       "\n",
       "    .dataframe tbody tr th {\n",
       "        vertical-align: top;\n",
       "    }\n",
       "</style>\n",
       "<table border=\"1\" class=\"dataframe\">\n",
       "  <thead>\n",
       "    <tr style=\"text-align: right;\">\n",
       "      <th></th>\n",
       "      <th>is_engaged</th>\n",
       "      <th>content_age</th>\n",
       "      <th>share</th>\n",
       "    </tr>\n",
       "  </thead>\n",
       "  <tbody>\n",
       "    <tr>\n",
       "      <th>3</th>\n",
       "      <td>0</td>\n",
       "      <td>Deep Catalogue</td>\n",
       "      <td>0.073911</td>\n",
       "    </tr>\n",
       "    <tr>\n",
       "      <th>9</th>\n",
       "      <td>1</td>\n",
       "      <td>Deep Catalogue</td>\n",
       "      <td>0.149699</td>\n",
       "    </tr>\n",
       "  </tbody>\n",
       "</table>\n",
       "</div>"
      ],
      "text/plain": [
       "   is_engaged     content_age     share\n",
       "3           0  Deep Catalogue  0.073911\n",
       "9           1  Deep Catalogue  0.149699"
      ]
     },
     "execution_count": 41,
     "metadata": {},
     "output_type": "execute_result"
    }
   ],
   "source": [
    "mt[mt['content_age'] == 'Deep Catalogue']"
   ]
  },
  {
   "cell_type": "code",
   "execution_count": 42,
   "metadata": {},
   "outputs": [
    {
     "data": {
      "text/html": [
       "<div>\n",
       "<style>\n",
       "    .dataframe thead tr:only-child th {\n",
       "        text-align: right;\n",
       "    }\n",
       "\n",
       "    .dataframe thead th {\n",
       "        text-align: left;\n",
       "    }\n",
       "\n",
       "    .dataframe tbody tr th {\n",
       "        vertical-align: top;\n",
       "    }\n",
       "</style>\n",
       "<table border=\"1\" class=\"dataframe\">\n",
       "  <thead>\n",
       "    <tr style=\"text-align: right;\">\n",
       "      <th></th>\n",
       "      <th>transaction_date_local</th>\n",
       "      <th>encrypted_customer_id</th>\n",
       "      <th>units</th>\n",
       "      <th>rank</th>\n",
       "      <th>content_type_named</th>\n",
       "      <th>content_age</th>\n",
       "      <th>marketplace_id</th>\n",
       "      <th>title_name</th>\n",
       "      <th>revenue</th>\n",
       "      <th>first_date</th>\n",
       "      <th>last_date</th>\n",
       "      <th>is_engaged</th>\n",
       "      <th>max_rank</th>\n",
       "    </tr>\n",
       "  </thead>\n",
       "  <tbody>\n",
       "    <tr>\n",
       "      <th>44</th>\n",
       "      <td>2018-01-18</td>\n",
       "      <td>A0839785395FPCZ7ZHG0</td>\n",
       "      <td>1</td>\n",
       "      <td>1</td>\n",
       "      <td>Movie VOD</td>\n",
       "      <td>2_3yr_Catalogue</td>\n",
       "      <td>3.0</td>\n",
       "      <td>Lord of the Rings: The Return of the King (Ext...</td>\n",
       "      <td>2.91</td>\n",
       "      <td>2018-01-18</td>\n",
       "      <td>2018-01-18</td>\n",
       "      <td>0</td>\n",
       "      <td>1</td>\n",
       "    </tr>\n",
       "    <tr>\n",
       "      <th>102</th>\n",
       "      <td>2016-01-09</td>\n",
       "      <td>A104ZB36P1A30K</td>\n",
       "      <td>1</td>\n",
       "      <td>1</td>\n",
       "      <td>TV Episode</td>\n",
       "      <td>6mo_1yr_Catalogue</td>\n",
       "      <td>3.0</td>\n",
       "      <td>Pups Make a Splash / Pups Fall Festival</td>\n",
       "      <td>1.58</td>\n",
       "      <td>2016-01-09</td>\n",
       "      <td>2016-01-09</td>\n",
       "      <td>0</td>\n",
       "      <td>1</td>\n",
       "    </tr>\n",
       "    <tr>\n",
       "      <th>103</th>\n",
       "      <td>2016-04-06</td>\n",
       "      <td>A106UFILLH0N6E</td>\n",
       "      <td>1</td>\n",
       "      <td>1</td>\n",
       "      <td>Movie EST</td>\n",
       "      <td>1_2yr_Catalogue</td>\n",
       "      <td>3.0</td>\n",
       "      <td>Eddie Izzard: Force Majeure Live</td>\n",
       "      <td>6.66</td>\n",
       "      <td>2016-04-06</td>\n",
       "      <td>2016-04-06</td>\n",
       "      <td>0</td>\n",
       "      <td>1</td>\n",
       "    </tr>\n",
       "    <tr>\n",
       "      <th>152</th>\n",
       "      <td>2017-01-13</td>\n",
       "      <td>A10KEGXJMOBFZU</td>\n",
       "      <td>1</td>\n",
       "      <td>1</td>\n",
       "      <td>Movie VOD</td>\n",
       "      <td>Recent release</td>\n",
       "      <td>3.0</td>\n",
       "      <td>Finding Dory (Theatrical Version)</td>\n",
       "      <td>3.71</td>\n",
       "      <td>2017-01-13</td>\n",
       "      <td>2017-01-13</td>\n",
       "      <td>0</td>\n",
       "      <td>1</td>\n",
       "    </tr>\n",
       "    <tr>\n",
       "      <th>153</th>\n",
       "      <td>2017-01-13</td>\n",
       "      <td>A10KEGXJMOBFZU</td>\n",
       "      <td>1</td>\n",
       "      <td>1</td>\n",
       "      <td>Movie VOD</td>\n",
       "      <td>Recent release</td>\n",
       "      <td>3.0</td>\n",
       "      <td>Imperium</td>\n",
       "      <td>0.83</td>\n",
       "      <td>2017-01-13</td>\n",
       "      <td>2017-01-13</td>\n",
       "      <td>0</td>\n",
       "      <td>1</td>\n",
       "    </tr>\n",
       "  </tbody>\n",
       "</table>\n",
       "</div>"
      ],
      "text/plain": [
       "    transaction_date_local encrypted_customer_id  units  rank  \\\n",
       "44              2018-01-18  A0839785395FPCZ7ZHG0      1     1   \n",
       "102             2016-01-09        A104ZB36P1A30K      1     1   \n",
       "103             2016-04-06        A106UFILLH0N6E      1     1   \n",
       "152             2017-01-13        A10KEGXJMOBFZU      1     1   \n",
       "153             2017-01-13        A10KEGXJMOBFZU      1     1   \n",
       "\n",
       "    content_type_named        content_age  marketplace_id  \\\n",
       "44           Movie VOD    2_3yr_Catalogue             3.0   \n",
       "102         TV Episode  6mo_1yr_Catalogue             3.0   \n",
       "103          Movie EST    1_2yr_Catalogue             3.0   \n",
       "152          Movie VOD     Recent release             3.0   \n",
       "153          Movie VOD     Recent release             3.0   \n",
       "\n",
       "                                            title_name  revenue first_date  \\\n",
       "44   Lord of the Rings: The Return of the King (Ext...     2.91 2018-01-18   \n",
       "102            Pups Make a Splash / Pups Fall Festival     1.58 2016-01-09   \n",
       "103                   Eddie Izzard: Force Majeure Live     6.66 2016-04-06   \n",
       "152                  Finding Dory (Theatrical Version)     3.71 2017-01-13   \n",
       "153                                           Imperium     0.83 2017-01-13   \n",
       "\n",
       "     last_date  is_engaged  max_rank  \n",
       "44  2018-01-18           0         1  \n",
       "102 2016-01-09           0         1  \n",
       "103 2016-04-06           0         1  \n",
       "152 2017-01-13           0         1  \n",
       "153 2017-01-13           0         1  "
      ]
     },
     "execution_count": 42,
     "metadata": {},
     "output_type": "execute_result"
    }
   ],
   "source": [
    "first_timers.head()"
   ]
  },
  {
   "cell_type": "markdown",
   "metadata": {},
   "source": [
    "# Transform into a set with each row having unique customer "
   ]
  },
  {
   "cell_type": "code",
   "execution_count": 43,
   "metadata": {},
   "outputs": [
    {
     "data": {
      "text/plain": [
       "1181071"
      ]
     },
     "execution_count": 43,
     "metadata": {},
     "output_type": "execute_result"
    }
   ],
   "source": [
    "t['encrypted_customer_id'].nunique()"
   ]
  },
  {
   "cell_type": "code",
   "execution_count": 44,
   "metadata": {
    "collapsed": true
   },
   "outputs": [],
   "source": [
    "def transform_date_set(df):\n",
    "    u1 = pd.pivot_table(data=df,index=\"encrypted_customer_id\",\n",
    "                        columns = ['content_age'], values = \"units\", aggfunc=\"sum\").reset_index()\n",
    "    u1 = u1.fillna(0)\n",
    "    u2 = pd.pivot_table(data=df,index=\"encrypted_customer_id\",\n",
    "                        columns = ['content_type_named'], values = \"units\", aggfunc=\"sum\").reset_index()\n",
    "    u2 = u2.fillna(0)\n",
    "    merged_u = pd.merge(left=u1,right=u2,left_on=\"encrypted_customer_id\",right_on=\"encrypted_customer_id\", how = \"left\")\n",
    "    \n",
    "    merged_u['total_units'] = merged_u['Movie EST'] + merged_u['Movie VOD'] + merged_u['TV Episode'] + merged_u['TV Season'] + merged_u['Unknown']             \n",
    "    \n",
    "    #Attach first date,last date and is_engaged\n",
    "    r = pd.DataFrame(df.groupby('encrypted_customer_id')[['first_date','last_date','is_engaged']].max().reset_index())\n",
    "    merged_u = pd.merge(left=merged_u,right=r,left_on=\"encrypted_customer_id\",right_on=\"encrypted_customer_id\", how = \"left\")\n",
    "    \n",
    "    #Attach revenue\n",
    "    revenue = pd.DataFrame(df.groupby(\"encrypted_customer_id\")['revenue'].sum().reset_index())\n",
    "    merged_u = pd.merge(left=merged_u,right=revenue,left_on=\"encrypted_customer_id\",right_on=\"encrypted_customer_id\", how = \"left\")\n",
    "    \n",
    "        \n",
    "    return merged_u"
   ]
  },
  {
   "cell_type": "code",
   "execution_count": 45,
   "metadata": {
    "collapsed": true
   },
   "outputs": [],
   "source": [
    "merged_u = transform_date_set(t)"
   ]
  },
  {
   "cell_type": "code",
   "execution_count": 46,
   "metadata": {},
   "outputs": [
    {
     "data": {
      "text/html": [
       "<div>\n",
       "<style>\n",
       "    .dataframe thead tr:only-child th {\n",
       "        text-align: right;\n",
       "    }\n",
       "\n",
       "    .dataframe thead th {\n",
       "        text-align: left;\n",
       "    }\n",
       "\n",
       "    .dataframe tbody tr th {\n",
       "        vertical-align: top;\n",
       "    }\n",
       "</style>\n",
       "<table border=\"1\" class=\"dataframe\">\n",
       "  <thead>\n",
       "    <tr style=\"text-align: right;\">\n",
       "      <th></th>\n",
       "      <th>encrypted_customer_id</th>\n",
       "      <th>1_2yr_Catalogue</th>\n",
       "      <th>2_3yr_Catalogue</th>\n",
       "      <th>6mo_1yr_Catalogue</th>\n",
       "      <th>Deep Catalogue</th>\n",
       "      <th>New Release</th>\n",
       "      <th>Recent release</th>\n",
       "      <th>Movie EST</th>\n",
       "      <th>Movie VOD</th>\n",
       "      <th>TV Episode</th>\n",
       "      <th>TV Season</th>\n",
       "      <th>Unknown</th>\n",
       "      <th>total_units</th>\n",
       "      <th>first_date</th>\n",
       "      <th>last_date</th>\n",
       "      <th>is_engaged</th>\n",
       "      <th>revenue</th>\n",
       "    </tr>\n",
       "  </thead>\n",
       "  <tbody>\n",
       "    <tr>\n",
       "      <th>0</th>\n",
       "      <td>A000067473PGLTJF0EYD</td>\n",
       "      <td>0.0</td>\n",
       "      <td>2.0</td>\n",
       "      <td>0.0</td>\n",
       "      <td>2.0</td>\n",
       "      <td>1.0</td>\n",
       "      <td>2.0</td>\n",
       "      <td>0.0</td>\n",
       "      <td>7.0</td>\n",
       "      <td>0.0</td>\n",
       "      <td>0.0</td>\n",
       "      <td>0.0</td>\n",
       "      <td>7.0</td>\n",
       "      <td>2017-07-18</td>\n",
       "      <td>2017-09-09</td>\n",
       "      <td>0</td>\n",
       "      <td>16.62</td>\n",
       "    </tr>\n",
       "    <tr>\n",
       "      <th>1</th>\n",
       "      <td>A00010742Y4RNZSX0RGCC</td>\n",
       "      <td>0.0</td>\n",
       "      <td>0.0</td>\n",
       "      <td>0.0</td>\n",
       "      <td>0.0</td>\n",
       "      <td>0.0</td>\n",
       "      <td>2.0</td>\n",
       "      <td>2.0</td>\n",
       "      <td>0.0</td>\n",
       "      <td>0.0</td>\n",
       "      <td>0.0</td>\n",
       "      <td>0.0</td>\n",
       "      <td>2.0</td>\n",
       "      <td>2017-01-15</td>\n",
       "      <td>2017-08-20</td>\n",
       "      <td>0</td>\n",
       "      <td>23.32</td>\n",
       "    </tr>\n",
       "    <tr>\n",
       "      <th>2</th>\n",
       "      <td>A00020501K0ZZ493L8PKI</td>\n",
       "      <td>0.0</td>\n",
       "      <td>0.0</td>\n",
       "      <td>1.0</td>\n",
       "      <td>0.0</td>\n",
       "      <td>0.0</td>\n",
       "      <td>0.0</td>\n",
       "      <td>1.0</td>\n",
       "      <td>0.0</td>\n",
       "      <td>0.0</td>\n",
       "      <td>0.0</td>\n",
       "      <td>0.0</td>\n",
       "      <td>1.0</td>\n",
       "      <td>2016-02-29</td>\n",
       "      <td>2016-02-29</td>\n",
       "      <td>0</td>\n",
       "      <td>6.66</td>\n",
       "    </tr>\n",
       "    <tr>\n",
       "      <th>3</th>\n",
       "      <td>A00036282VGJMPIOTVRQ6</td>\n",
       "      <td>0.0</td>\n",
       "      <td>0.0</td>\n",
       "      <td>0.0</td>\n",
       "      <td>0.0</td>\n",
       "      <td>0.0</td>\n",
       "      <td>1.0</td>\n",
       "      <td>0.0</td>\n",
       "      <td>1.0</td>\n",
       "      <td>0.0</td>\n",
       "      <td>0.0</td>\n",
       "      <td>0.0</td>\n",
       "      <td>1.0</td>\n",
       "      <td>2014-08-23</td>\n",
       "      <td>2014-08-23</td>\n",
       "      <td>0</td>\n",
       "      <td>2.08</td>\n",
       "    </tr>\n",
       "    <tr>\n",
       "      <th>4</th>\n",
       "      <td>A00039261XPOLNK4IAXOW</td>\n",
       "      <td>0.0</td>\n",
       "      <td>0.0</td>\n",
       "      <td>0.0</td>\n",
       "      <td>0.0</td>\n",
       "      <td>1.0</td>\n",
       "      <td>0.0</td>\n",
       "      <td>0.0</td>\n",
       "      <td>1.0</td>\n",
       "      <td>0.0</td>\n",
       "      <td>0.0</td>\n",
       "      <td>0.0</td>\n",
       "      <td>1.0</td>\n",
       "      <td>2017-09-13</td>\n",
       "      <td>2017-09-13</td>\n",
       "      <td>0</td>\n",
       "      <td>2.91</td>\n",
       "    </tr>\n",
       "  </tbody>\n",
       "</table>\n",
       "</div>"
      ],
      "text/plain": [
       "   encrypted_customer_id  1_2yr_Catalogue  2_3yr_Catalogue  6mo_1yr_Catalogue  \\\n",
       "0   A000067473PGLTJF0EYD              0.0              2.0                0.0   \n",
       "1  A00010742Y4RNZSX0RGCC              0.0              0.0                0.0   \n",
       "2  A00020501K0ZZ493L8PKI              0.0              0.0                1.0   \n",
       "3  A00036282VGJMPIOTVRQ6              0.0              0.0                0.0   \n",
       "4  A00039261XPOLNK4IAXOW              0.0              0.0                0.0   \n",
       "\n",
       "   Deep Catalogue  New Release  Recent release  Movie EST  Movie VOD  \\\n",
       "0             2.0          1.0             2.0        0.0        7.0   \n",
       "1             0.0          0.0             2.0        2.0        0.0   \n",
       "2             0.0          0.0             0.0        1.0        0.0   \n",
       "3             0.0          0.0             1.0        0.0        1.0   \n",
       "4             0.0          1.0             0.0        0.0        1.0   \n",
       "\n",
       "   TV Episode  TV Season  Unknown  total_units first_date  last_date  \\\n",
       "0         0.0        0.0      0.0          7.0 2017-07-18 2017-09-09   \n",
       "1         0.0        0.0      0.0          2.0 2017-01-15 2017-08-20   \n",
       "2         0.0        0.0      0.0          1.0 2016-02-29 2016-02-29   \n",
       "3         0.0        0.0      0.0          1.0 2014-08-23 2014-08-23   \n",
       "4         0.0        0.0      0.0          1.0 2017-09-13 2017-09-13   \n",
       "\n",
       "   is_engaged  revenue  \n",
       "0           0    16.62  \n",
       "1           0    23.32  \n",
       "2           0     6.66  \n",
       "3           0     2.08  \n",
       "4           0     2.91  "
      ]
     },
     "execution_count": 46,
     "metadata": {},
     "output_type": "execute_result"
    }
   ],
   "source": [
    "merged_u.head()"
   ]
  },
  {
   "cell_type": "code",
   "execution_count": 47,
   "metadata": {},
   "outputs": [
    {
     "data": {
      "text/plain": [
       "(1181071, 17)"
      ]
     },
     "execution_count": 47,
     "metadata": {},
     "output_type": "execute_result"
    }
   ],
   "source": [
    "merged_u.shape"
   ]
  },
  {
   "cell_type": "code",
   "execution_count": 48,
   "metadata": {
    "collapsed": true
   },
   "outputs": [],
   "source": [
    "def encode_EST_purchasers(df):\n",
    "    df['is_EST_purchaser'] = np.where(df['total_units'] - df['Movie VOD'] == 0, 0, 1)\n",
    "    return df"
   ]
  },
  {
   "cell_type": "code",
   "execution_count": 49,
   "metadata": {
    "collapsed": true
   },
   "outputs": [],
   "source": [
    "merged_u = encode_EST_purchasers(merged_u)"
   ]
  },
  {
   "cell_type": "markdown",
   "metadata": {},
   "source": [
    "# Explore the dataset for EST / VOD purchasers"
   ]
  },
  {
   "cell_type": "code",
   "execution_count": 50,
   "metadata": {},
   "outputs": [
    {
     "name": "stdout",
     "output_type": "stream",
     "text": [
      "1181071 (1181071, 18)\n"
     ]
    }
   ],
   "source": [
    "#Check dimensions\n",
    "print(merged_u['encrypted_customer_id'].nunique(), merged_u.shape)"
   ]
  },
  {
   "cell_type": "code",
   "execution_count": 75,
   "metadata": {},
   "outputs": [
    {
     "data": {
      "text/plain": [
       "is_EST_purchaser\n",
       "0    317031\n",
       "1    864040\n",
       "dtype: int64"
      ]
     },
     "execution_count": 75,
     "metadata": {},
     "output_type": "execute_result"
    }
   ],
   "source": [
    "merged_u.groupby(\"is_EST_purchaser\").size()"
   ]
  },
  {
   "cell_type": "code",
   "execution_count": 53,
   "metadata": {
    "collapsed": true
   },
   "outputs": [],
   "source": [
    "def timing_prep(df):\n",
    "    df['frequency'] = ((df['last_date'] - df['first_date']) / df['total_units'] )/ np.timedelta64(1,\"D\")\n",
    "    df['recency']   = (df['last_date'].max() - df['last_date']) / np.timedelta64(1,\"D\")\n",
    "    df['tenure']    = (df['last_date'].max() - df['first_date']) / np.timedelta64(1,\"D\")\n",
    "    return df"
   ]
  },
  {
   "cell_type": "code",
   "execution_count": 54,
   "metadata": {
    "collapsed": true
   },
   "outputs": [],
   "source": [
    "merged_u = timing_prep(merged_u)"
   ]
  },
  {
   "cell_type": "markdown",
   "metadata": {},
   "source": [
    "## Make preparations"
   ]
  },
  {
   "cell_type": "code",
   "execution_count": 81,
   "metadata": {
    "collapsed": true
   },
   "outputs": [],
   "source": [
    "from sklearn import preprocessing\n",
    "\n",
    "from sklearn.linear_model import LogisticRegression\n",
    "from sklearn import svm\n",
    "from sklearn.model_selection import train_test_split\n",
    "from sklearn import metrics\n",
    "from sklearn.metrics import accuracy_score, precision_score, recall_score\n",
    "\n",
    "\n",
    "\n",
    "sns.set(style=\"white\")\n",
    "sns.set(style=\"whitegrid\", color_codes=True)"
   ]
  },
  {
   "cell_type": "code",
   "execution_count": 56,
   "metadata": {},
   "outputs": [
    {
     "data": {
      "text/plain": [
       "Index(['encrypted_customer_id', '1_2yr_Catalogue', '2_3yr_Catalogue',\n",
       "       '6mo_1yr_Catalogue', 'Deep Catalogue', 'New Release', 'Recent release',\n",
       "       'Movie EST', 'Movie VOD', 'TV Episode', 'TV Season', 'Unknown',\n",
       "       'total_units', 'first_date', 'last_date', 'is_engaged', 'revenue',\n",
       "       'is_EST_purchaser', 'frequency', 'recency', 'tenure'],\n",
       "      dtype='object')"
      ]
     },
     "execution_count": 56,
     "metadata": {},
     "output_type": "execute_result"
    }
   ],
   "source": [
    "merged_u.columns"
   ]
  },
  {
   "cell_type": "code",
   "execution_count": 278,
   "metadata": {
    "collapsed": true
   },
   "outputs": [],
   "source": [
    "dataset = merged_u[['1_2yr_Catalogue', '2_3yr_Catalogue',\n",
    "       '6mo_1yr_Catalogue', 'Deep Catalogue', 'New Release', 'Recent release',\n",
    "       \n",
    "       'total_units','is_engaged', 'revenue','frequency', 'recency', 'tenure','is_EST_purchaser']]"
   ]
  },
  {
   "cell_type": "code",
   "execution_count": 279,
   "metadata": {},
   "outputs": [
    {
     "data": {
      "text/plain": [
       "(1181071, 13)"
      ]
     },
     "execution_count": 279,
     "metadata": {},
     "output_type": "execute_result"
    }
   ],
   "source": [
    "dataset.shape"
   ]
  },
  {
   "cell_type": "code",
   "execution_count": 280,
   "metadata": {},
   "outputs": [
    {
     "data": {
      "text/html": [
       "<div>\n",
       "<style>\n",
       "    .dataframe thead tr:only-child th {\n",
       "        text-align: right;\n",
       "    }\n",
       "\n",
       "    .dataframe thead th {\n",
       "        text-align: left;\n",
       "    }\n",
       "\n",
       "    .dataframe tbody tr th {\n",
       "        vertical-align: top;\n",
       "    }\n",
       "</style>\n",
       "<table border=\"1\" class=\"dataframe\">\n",
       "  <thead>\n",
       "    <tr style=\"text-align: right;\">\n",
       "      <th></th>\n",
       "      <th>1_2yr_Catalogue</th>\n",
       "      <th>2_3yr_Catalogue</th>\n",
       "      <th>6mo_1yr_Catalogue</th>\n",
       "      <th>Deep Catalogue</th>\n",
       "      <th>New Release</th>\n",
       "      <th>Recent release</th>\n",
       "      <th>total_units</th>\n",
       "      <th>is_engaged</th>\n",
       "      <th>revenue</th>\n",
       "      <th>frequency</th>\n",
       "      <th>recency</th>\n",
       "      <th>tenure</th>\n",
       "      <th>is_EST_purchaser</th>\n",
       "    </tr>\n",
       "  </thead>\n",
       "  <tbody>\n",
       "    <tr>\n",
       "      <th>0</th>\n",
       "      <td>0.0</td>\n",
       "      <td>2.0</td>\n",
       "      <td>0.0</td>\n",
       "      <td>2.0</td>\n",
       "      <td>1.0</td>\n",
       "      <td>2.0</td>\n",
       "      <td>7.0</td>\n",
       "      <td>0</td>\n",
       "      <td>16.62</td>\n",
       "      <td>7.571429</td>\n",
       "      <td>241.0</td>\n",
       "      <td>294.0</td>\n",
       "      <td>0</td>\n",
       "    </tr>\n",
       "    <tr>\n",
       "      <th>1</th>\n",
       "      <td>0.0</td>\n",
       "      <td>0.0</td>\n",
       "      <td>0.0</td>\n",
       "      <td>0.0</td>\n",
       "      <td>0.0</td>\n",
       "      <td>2.0</td>\n",
       "      <td>2.0</td>\n",
       "      <td>0</td>\n",
       "      <td>23.32</td>\n",
       "      <td>108.500000</td>\n",
       "      <td>261.0</td>\n",
       "      <td>478.0</td>\n",
       "      <td>1</td>\n",
       "    </tr>\n",
       "    <tr>\n",
       "      <th>2</th>\n",
       "      <td>0.0</td>\n",
       "      <td>0.0</td>\n",
       "      <td>1.0</td>\n",
       "      <td>0.0</td>\n",
       "      <td>0.0</td>\n",
       "      <td>0.0</td>\n",
       "      <td>1.0</td>\n",
       "      <td>0</td>\n",
       "      <td>6.66</td>\n",
       "      <td>0.000000</td>\n",
       "      <td>799.0</td>\n",
       "      <td>799.0</td>\n",
       "      <td>1</td>\n",
       "    </tr>\n",
       "    <tr>\n",
       "      <th>3</th>\n",
       "      <td>0.0</td>\n",
       "      <td>0.0</td>\n",
       "      <td>0.0</td>\n",
       "      <td>0.0</td>\n",
       "      <td>0.0</td>\n",
       "      <td>1.0</td>\n",
       "      <td>1.0</td>\n",
       "      <td>0</td>\n",
       "      <td>2.08</td>\n",
       "      <td>0.000000</td>\n",
       "      <td>1354.0</td>\n",
       "      <td>1354.0</td>\n",
       "      <td>0</td>\n",
       "    </tr>\n",
       "    <tr>\n",
       "      <th>4</th>\n",
       "      <td>0.0</td>\n",
       "      <td>0.0</td>\n",
       "      <td>0.0</td>\n",
       "      <td>0.0</td>\n",
       "      <td>1.0</td>\n",
       "      <td>0.0</td>\n",
       "      <td>1.0</td>\n",
       "      <td>0</td>\n",
       "      <td>2.91</td>\n",
       "      <td>0.000000</td>\n",
       "      <td>237.0</td>\n",
       "      <td>237.0</td>\n",
       "      <td>0</td>\n",
       "    </tr>\n",
       "  </tbody>\n",
       "</table>\n",
       "</div>"
      ],
      "text/plain": [
       "   1_2yr_Catalogue  2_3yr_Catalogue  6mo_1yr_Catalogue  Deep Catalogue  \\\n",
       "0              0.0              2.0                0.0             2.0   \n",
       "1              0.0              0.0                0.0             0.0   \n",
       "2              0.0              0.0                1.0             0.0   \n",
       "3              0.0              0.0                0.0             0.0   \n",
       "4              0.0              0.0                0.0             0.0   \n",
       "\n",
       "   New Release  Recent release  total_units  is_engaged  revenue   frequency  \\\n",
       "0          1.0             2.0          7.0           0    16.62    7.571429   \n",
       "1          0.0             2.0          2.0           0    23.32  108.500000   \n",
       "2          0.0             0.0          1.0           0     6.66    0.000000   \n",
       "3          0.0             1.0          1.0           0     2.08    0.000000   \n",
       "4          1.0             0.0          1.0           0     2.91    0.000000   \n",
       "\n",
       "   recency  tenure  is_EST_purchaser  \n",
       "0    241.0   294.0                 0  \n",
       "1    261.0   478.0                 1  \n",
       "2    799.0   799.0                 1  \n",
       "3   1354.0  1354.0                 0  \n",
       "4    237.0   237.0                 0  "
      ]
     },
     "execution_count": 280,
     "metadata": {},
     "output_type": "execute_result"
    }
   ],
   "source": [
    "dataset.head()"
   ]
  },
  {
   "cell_type": "code",
   "execution_count": 281,
   "metadata": {
    "collapsed": true
   },
   "outputs": [],
   "source": [
    "X = dataset.iloc[:,0:-1]\n",
    "Y = dataset.iloc[:,-1]"
   ]
  },
  {
   "cell_type": "code",
   "execution_count": 282,
   "metadata": {},
   "outputs": [
    {
     "data": {
      "text/html": [
       "<div>\n",
       "<style>\n",
       "    .dataframe thead tr:only-child th {\n",
       "        text-align: right;\n",
       "    }\n",
       "\n",
       "    .dataframe thead th {\n",
       "        text-align: left;\n",
       "    }\n",
       "\n",
       "    .dataframe tbody tr th {\n",
       "        vertical-align: top;\n",
       "    }\n",
       "</style>\n",
       "<table border=\"1\" class=\"dataframe\">\n",
       "  <thead>\n",
       "    <tr style=\"text-align: right;\">\n",
       "      <th></th>\n",
       "      <th>1_2yr_Catalogue</th>\n",
       "      <th>2_3yr_Catalogue</th>\n",
       "      <th>6mo_1yr_Catalogue</th>\n",
       "      <th>Deep Catalogue</th>\n",
       "      <th>New Release</th>\n",
       "      <th>Recent release</th>\n",
       "      <th>total_units</th>\n",
       "      <th>is_engaged</th>\n",
       "      <th>revenue</th>\n",
       "      <th>frequency</th>\n",
       "      <th>recency</th>\n",
       "      <th>tenure</th>\n",
       "    </tr>\n",
       "  </thead>\n",
       "  <tbody>\n",
       "    <tr>\n",
       "      <th>0</th>\n",
       "      <td>0.0</td>\n",
       "      <td>2.0</td>\n",
       "      <td>0.0</td>\n",
       "      <td>2.0</td>\n",
       "      <td>1.0</td>\n",
       "      <td>2.0</td>\n",
       "      <td>7.0</td>\n",
       "      <td>0</td>\n",
       "      <td>16.62</td>\n",
       "      <td>7.571429</td>\n",
       "      <td>241.0</td>\n",
       "      <td>294.0</td>\n",
       "    </tr>\n",
       "    <tr>\n",
       "      <th>1</th>\n",
       "      <td>0.0</td>\n",
       "      <td>0.0</td>\n",
       "      <td>0.0</td>\n",
       "      <td>0.0</td>\n",
       "      <td>0.0</td>\n",
       "      <td>2.0</td>\n",
       "      <td>2.0</td>\n",
       "      <td>0</td>\n",
       "      <td>23.32</td>\n",
       "      <td>108.500000</td>\n",
       "      <td>261.0</td>\n",
       "      <td>478.0</td>\n",
       "    </tr>\n",
       "    <tr>\n",
       "      <th>2</th>\n",
       "      <td>0.0</td>\n",
       "      <td>0.0</td>\n",
       "      <td>1.0</td>\n",
       "      <td>0.0</td>\n",
       "      <td>0.0</td>\n",
       "      <td>0.0</td>\n",
       "      <td>1.0</td>\n",
       "      <td>0</td>\n",
       "      <td>6.66</td>\n",
       "      <td>0.000000</td>\n",
       "      <td>799.0</td>\n",
       "      <td>799.0</td>\n",
       "    </tr>\n",
       "    <tr>\n",
       "      <th>3</th>\n",
       "      <td>0.0</td>\n",
       "      <td>0.0</td>\n",
       "      <td>0.0</td>\n",
       "      <td>0.0</td>\n",
       "      <td>0.0</td>\n",
       "      <td>1.0</td>\n",
       "      <td>1.0</td>\n",
       "      <td>0</td>\n",
       "      <td>2.08</td>\n",
       "      <td>0.000000</td>\n",
       "      <td>1354.0</td>\n",
       "      <td>1354.0</td>\n",
       "    </tr>\n",
       "    <tr>\n",
       "      <th>4</th>\n",
       "      <td>0.0</td>\n",
       "      <td>0.0</td>\n",
       "      <td>0.0</td>\n",
       "      <td>0.0</td>\n",
       "      <td>1.0</td>\n",
       "      <td>0.0</td>\n",
       "      <td>1.0</td>\n",
       "      <td>0</td>\n",
       "      <td>2.91</td>\n",
       "      <td>0.000000</td>\n",
       "      <td>237.0</td>\n",
       "      <td>237.0</td>\n",
       "    </tr>\n",
       "  </tbody>\n",
       "</table>\n",
       "</div>"
      ],
      "text/plain": [
       "   1_2yr_Catalogue  2_3yr_Catalogue  6mo_1yr_Catalogue  Deep Catalogue  \\\n",
       "0              0.0              2.0                0.0             2.0   \n",
       "1              0.0              0.0                0.0             0.0   \n",
       "2              0.0              0.0                1.0             0.0   \n",
       "3              0.0              0.0                0.0             0.0   \n",
       "4              0.0              0.0                0.0             0.0   \n",
       "\n",
       "   New Release  Recent release  total_units  is_engaged  revenue   frequency  \\\n",
       "0          1.0             2.0          7.0           0    16.62    7.571429   \n",
       "1          0.0             2.0          2.0           0    23.32  108.500000   \n",
       "2          0.0             0.0          1.0           0     6.66    0.000000   \n",
       "3          0.0             1.0          1.0           0     2.08    0.000000   \n",
       "4          1.0             0.0          1.0           0     2.91    0.000000   \n",
       "\n",
       "   recency  tenure  \n",
       "0    241.0   294.0  \n",
       "1    261.0   478.0  \n",
       "2    799.0   799.0  \n",
       "3   1354.0  1354.0  \n",
       "4    237.0   237.0  "
      ]
     },
     "execution_count": 282,
     "metadata": {},
     "output_type": "execute_result"
    }
   ],
   "source": [
    "X.head()"
   ]
  },
  {
   "cell_type": "code",
   "execution_count": 284,
   "metadata": {
    "collapsed": true
   },
   "outputs": [],
   "source": [
    "x_train, x_test, y_train, y_test = train_test_split(X, Y, test_size=0.25, random_state=0)"
   ]
  },
  {
   "cell_type": "code",
   "execution_count": 285,
   "metadata": {},
   "outputs": [
    {
     "name": "stdout",
     "output_type": "stream",
     "text": [
      "(885803, 12) (295268, 12) (885803,) (295268,)\n"
     ]
    }
   ],
   "source": [
    "print(x_train.shape,x_test.shape,y_train.shape,y_test.shape)"
   ]
  },
  {
   "cell_type": "markdown",
   "metadata": {},
   "source": [
    "## Logistic regression"
   ]
  },
  {
   "cell_type": "code",
   "execution_count": 286,
   "metadata": {
    "collapsed": true
   },
   "outputs": [],
   "source": [
    "#Create instance of the object\n",
    "logisticRegr = LogisticRegression()"
   ]
  },
  {
   "cell_type": "code",
   "execution_count": 287,
   "metadata": {},
   "outputs": [
    {
     "data": {
      "text/plain": [
       "LogisticRegression(C=1.0, class_weight=None, dual=False, fit_intercept=True,\n",
       "          intercept_scaling=1, max_iter=100, multi_class='ovr', n_jobs=1,\n",
       "          penalty='l2', random_state=None, solver='liblinear', tol=0.0001,\n",
       "          verbose=0, warm_start=False)"
      ]
     },
     "execution_count": 287,
     "metadata": {},
     "output_type": "execute_result"
    }
   ],
   "source": [
    "#Train it onto the training set\n",
    "logisticRegr.fit(x_train, y_train)"
   ]
  },
  {
   "cell_type": "code",
   "execution_count": 288,
   "metadata": {
    "collapsed": true
   },
   "outputs": [],
   "source": [
    "predictions = logisticRegr.predict(x_test)"
   ]
  },
  {
   "cell_type": "code",
   "execution_count": 289,
   "metadata": {},
   "outputs": [
    {
     "name": "stdout",
     "output_type": "stream",
     "text": [
      "(295268,) (295268,)\n"
     ]
    }
   ],
   "source": [
    "print(predictions.shape, y_test.shape)"
   ]
  },
  {
   "cell_type": "code",
   "execution_count": 290,
   "metadata": {},
   "outputs": [
    {
     "name": "stdout",
     "output_type": "stream",
     "text": [
      "[[ 50454  28376]\n",
      " [ 29399 187039]]\n"
     ]
    }
   ],
   "source": [
    "cm = metrics.confusion_matrix(y_test, predictions)\n",
    "print(cm)"
   ]
  },
  {
   "cell_type": "markdown",
   "metadata": {},
   "source": [
    "## Make manual calculation of precision, recall, accuracy\n",
    "\n",
    "<p> Accuracy is (TP + TN) / total </p>\n",
    "<p> Precision is TP / (TP + FP), ie ability of the classifier not to label as positive a sample that is negative </p>\n",
    "<p> Recall is TP / (TP + FN), ie the ability of the classifier to find all the positive samples </p>\n",
    "\n",
    "<p> Macro - Calculate metrics for each label, and find their unweighted mean. This does not take label imbalance into account. </p>\n",
    "\n",
    "<p> Micro - Calculate metrics globally by counting the total true positives, false negatives and false positives. </p>\n",
    "<p> Binary, default - Only report results for the class specified by pos_label. This is applicable only if targets  are binary. </p>"
   ]
  },
  {
   "cell_type": "code",
   "execution_count": 291,
   "metadata": {},
   "outputs": [
    {
     "name": "stdout",
     "output_type": "stream",
     "text": [
      "Accuracy is 0.804330303318\n",
      "Precision is 0.640035519472\n",
      "Recall is 0.631835998648\n"
     ]
    }
   ],
   "source": [
    "accuracy = (cm[0,0] + cm[1,1]) / cm.sum()\n",
    "print(\"Accuracy is %s\" %accuracy)\n",
    "\n",
    "precision_total  = cm[0,0] / (cm[0,0]+cm[0,1])\n",
    "print(\"Precision is %s\" %precision_total)\n",
    "\n",
    "recall_total  = cm[0,0] / (cm[0,0]+cm[1,0])\n",
    "print(\"Recall is %s\" %recall_total)"
   ]
  },
  {
   "cell_type": "code",
   "execution_count": 292,
   "metadata": {},
   "outputs": [
    {
     "name": "stdout",
     "output_type": "stream",
     "text": [
      "Accuracy 0.804330303318\n",
      "Precision 0.750054433648, macro as avg param\n",
      "Precision 0.868272868649, default\n",
      "Recall 0.752102236584, macro as avg param\n",
      "Recall 0.864168953696, default\n"
     ]
    }
   ],
   "source": [
    "print(\"Accuracy %s\" %accuracy_score(y_test, predictions))\n",
    "print(\"Precision %s, macro as avg param\" %precision_score(y_test,predictions,average=\"macro\"))\n",
    "print(\"Precision %s, default\" %precision_score(y_test,predictions))\n",
    "print(\"Recall %s, macro as avg param\" %recall_score(y_test,predictions, average=\"macro\"))\n",
    "print(\"Recall %s, default\" %recall_score(y_test,predictions))"
   ]
  },
  {
   "cell_type": "code",
   "execution_count": 293,
   "metadata": {
    "collapsed": true
   },
   "outputs": [],
   "source": [
    "dataset.is_copy = False\n",
    "dataset['pred'] = logisticRegr.predict(X)\n",
    "dataset['probabilities_of_class_1'] = logisticRegr.predict_proba(X)[:,1]"
   ]
  },
  {
   "cell_type": "code",
   "execution_count": 311,
   "metadata": {},
   "outputs": [
    {
     "name": "stdout",
     "output_type": "stream",
     "text": [
      "(1181071, 16)\n"
     ]
    },
    {
     "data": {
      "text/html": [
       "<div>\n",
       "<style>\n",
       "    .dataframe thead tr:only-child th {\n",
       "        text-align: right;\n",
       "    }\n",
       "\n",
       "    .dataframe thead th {\n",
       "        text-align: left;\n",
       "    }\n",
       "\n",
       "    .dataframe tbody tr th {\n",
       "        vertical-align: top;\n",
       "    }\n",
       "</style>\n",
       "<table border=\"1\" class=\"dataframe\">\n",
       "  <thead>\n",
       "    <tr style=\"text-align: right;\">\n",
       "      <th></th>\n",
       "      <th>1_2yr_Catalogue</th>\n",
       "      <th>2_3yr_Catalogue</th>\n",
       "      <th>6mo_1yr_Catalogue</th>\n",
       "      <th>Deep Catalogue</th>\n",
       "      <th>New Release</th>\n",
       "      <th>Recent release</th>\n",
       "      <th>total_units</th>\n",
       "      <th>is_engaged</th>\n",
       "      <th>revenue</th>\n",
       "      <th>frequency</th>\n",
       "      <th>recency</th>\n",
       "      <th>tenure</th>\n",
       "      <th>is_EST_purchaser</th>\n",
       "      <th>pred</th>\n",
       "      <th>probabilities_of_class_1</th>\n",
       "      <th>cost</th>\n",
       "    </tr>\n",
       "  </thead>\n",
       "  <tbody>\n",
       "    <tr>\n",
       "      <th>0</th>\n",
       "      <td>0.0</td>\n",
       "      <td>2.0</td>\n",
       "      <td>0.0</td>\n",
       "      <td>2.0</td>\n",
       "      <td>1.0</td>\n",
       "      <td>2.0</td>\n",
       "      <td>7.0</td>\n",
       "      <td>0</td>\n",
       "      <td>16.62</td>\n",
       "      <td>7.571429</td>\n",
       "      <td>241.0</td>\n",
       "      <td>294.0</td>\n",
       "      <td>0</td>\n",
       "      <td>1</td>\n",
       "      <td>0.704037</td>\n",
       "      <td>1</td>\n",
       "    </tr>\n",
       "    <tr>\n",
       "      <th>1</th>\n",
       "      <td>0.0</td>\n",
       "      <td>0.0</td>\n",
       "      <td>0.0</td>\n",
       "      <td>0.0</td>\n",
       "      <td>0.0</td>\n",
       "      <td>2.0</td>\n",
       "      <td>2.0</td>\n",
       "      <td>0</td>\n",
       "      <td>23.32</td>\n",
       "      <td>108.500000</td>\n",
       "      <td>261.0</td>\n",
       "      <td>478.0</td>\n",
       "      <td>1</td>\n",
       "      <td>1</td>\n",
       "      <td>0.987274</td>\n",
       "      <td>0</td>\n",
       "    </tr>\n",
       "    <tr>\n",
       "      <th>2</th>\n",
       "      <td>0.0</td>\n",
       "      <td>0.0</td>\n",
       "      <td>1.0</td>\n",
       "      <td>0.0</td>\n",
       "      <td>0.0</td>\n",
       "      <td>0.0</td>\n",
       "      <td>1.0</td>\n",
       "      <td>0</td>\n",
       "      <td>6.66</td>\n",
       "      <td>0.000000</td>\n",
       "      <td>799.0</td>\n",
       "      <td>799.0</td>\n",
       "      <td>1</td>\n",
       "      <td>1</td>\n",
       "      <td>0.750171</td>\n",
       "      <td>0</td>\n",
       "    </tr>\n",
       "    <tr>\n",
       "      <th>3</th>\n",
       "      <td>0.0</td>\n",
       "      <td>0.0</td>\n",
       "      <td>0.0</td>\n",
       "      <td>0.0</td>\n",
       "      <td>0.0</td>\n",
       "      <td>1.0</td>\n",
       "      <td>1.0</td>\n",
       "      <td>0</td>\n",
       "      <td>2.08</td>\n",
       "      <td>0.000000</td>\n",
       "      <td>1354.0</td>\n",
       "      <td>1354.0</td>\n",
       "      <td>0</td>\n",
       "      <td>0</td>\n",
       "      <td>0.429640</td>\n",
       "      <td>0</td>\n",
       "    </tr>\n",
       "    <tr>\n",
       "      <th>4</th>\n",
       "      <td>0.0</td>\n",
       "      <td>0.0</td>\n",
       "      <td>0.0</td>\n",
       "      <td>0.0</td>\n",
       "      <td>1.0</td>\n",
       "      <td>0.0</td>\n",
       "      <td>1.0</td>\n",
       "      <td>0</td>\n",
       "      <td>2.91</td>\n",
       "      <td>0.000000</td>\n",
       "      <td>237.0</td>\n",
       "      <td>237.0</td>\n",
       "      <td>0</td>\n",
       "      <td>0</td>\n",
       "      <td>0.356574</td>\n",
       "      <td>0</td>\n",
       "    </tr>\n",
       "  </tbody>\n",
       "</table>\n",
       "</div>"
      ],
      "text/plain": [
       "   1_2yr_Catalogue  2_3yr_Catalogue  6mo_1yr_Catalogue  Deep Catalogue  \\\n",
       "0              0.0              2.0                0.0             2.0   \n",
       "1              0.0              0.0                0.0             0.0   \n",
       "2              0.0              0.0                1.0             0.0   \n",
       "3              0.0              0.0                0.0             0.0   \n",
       "4              0.0              0.0                0.0             0.0   \n",
       "\n",
       "   New Release  Recent release  total_units  is_engaged  revenue   frequency  \\\n",
       "0          1.0             2.0          7.0           0    16.62    7.571429   \n",
       "1          0.0             2.0          2.0           0    23.32  108.500000   \n",
       "2          0.0             0.0          1.0           0     6.66    0.000000   \n",
       "3          0.0             1.0          1.0           0     2.08    0.000000   \n",
       "4          1.0             0.0          1.0           0     2.91    0.000000   \n",
       "\n",
       "   recency  tenure  is_EST_purchaser  pred  probabilities_of_class_1  cost  \n",
       "0    241.0   294.0                 0     1                  0.704037     1  \n",
       "1    261.0   478.0                 1     1                  0.987274     0  \n",
       "2    799.0   799.0                 1     1                  0.750171     0  \n",
       "3   1354.0  1354.0                 0     0                  0.429640     0  \n",
       "4    237.0   237.0                 0     0                  0.356574     0  "
      ]
     },
     "execution_count": 311,
     "metadata": {},
     "output_type": "execute_result"
    }
   ],
   "source": [
    "print(dataset.shape)\n",
    "dataset.head()"
   ]
  },
  {
   "cell_type": "code",
   "execution_count": 313,
   "metadata": {},
   "outputs": [],
   "source": [
    "rm = pd.merge(left=merged_u,right=dataset[['pred','probabilities_of_class_1','cost']], left_index=True, right_index=True, how=\"left\")"
   ]
  },
  {
   "cell_type": "code",
   "execution_count": 314,
   "metadata": {},
   "outputs": [
    {
     "data": {
      "text/html": [
       "<div>\n",
       "<style>\n",
       "    .dataframe thead tr:only-child th {\n",
       "        text-align: right;\n",
       "    }\n",
       "\n",
       "    .dataframe thead th {\n",
       "        text-align: left;\n",
       "    }\n",
       "\n",
       "    .dataframe tbody tr th {\n",
       "        vertical-align: top;\n",
       "    }\n",
       "</style>\n",
       "<table border=\"1\" class=\"dataframe\">\n",
       "  <thead>\n",
       "    <tr style=\"text-align: right;\">\n",
       "      <th></th>\n",
       "      <th>encrypted_customer_id</th>\n",
       "      <th>1_2yr_Catalogue</th>\n",
       "      <th>2_3yr_Catalogue</th>\n",
       "      <th>6mo_1yr_Catalogue</th>\n",
       "      <th>Deep Catalogue</th>\n",
       "      <th>New Release</th>\n",
       "      <th>Recent release</th>\n",
       "      <th>Movie EST</th>\n",
       "      <th>Movie VOD</th>\n",
       "      <th>TV Episode</th>\n",
       "      <th>...</th>\n",
       "      <th>last_date</th>\n",
       "      <th>is_engaged</th>\n",
       "      <th>revenue</th>\n",
       "      <th>is_EST_purchaser</th>\n",
       "      <th>frequency</th>\n",
       "      <th>recency</th>\n",
       "      <th>tenure</th>\n",
       "      <th>pred</th>\n",
       "      <th>probabilities_of_class_1</th>\n",
       "      <th>cost</th>\n",
       "    </tr>\n",
       "  </thead>\n",
       "  <tbody>\n",
       "    <tr>\n",
       "      <th>0</th>\n",
       "      <td>A000067473PGLTJF0EYD</td>\n",
       "      <td>0.0</td>\n",
       "      <td>2.0</td>\n",
       "      <td>0.0</td>\n",
       "      <td>2.0</td>\n",
       "      <td>1.0</td>\n",
       "      <td>2.0</td>\n",
       "      <td>0.0</td>\n",
       "      <td>7.0</td>\n",
       "      <td>0.0</td>\n",
       "      <td>...</td>\n",
       "      <td>2017-09-09</td>\n",
       "      <td>0</td>\n",
       "      <td>16.62</td>\n",
       "      <td>0</td>\n",
       "      <td>7.571429</td>\n",
       "      <td>241.0</td>\n",
       "      <td>294.0</td>\n",
       "      <td>1</td>\n",
       "      <td>0.704037</td>\n",
       "      <td>1</td>\n",
       "    </tr>\n",
       "    <tr>\n",
       "      <th>1</th>\n",
       "      <td>A00010742Y4RNZSX0RGCC</td>\n",
       "      <td>0.0</td>\n",
       "      <td>0.0</td>\n",
       "      <td>0.0</td>\n",
       "      <td>0.0</td>\n",
       "      <td>0.0</td>\n",
       "      <td>2.0</td>\n",
       "      <td>2.0</td>\n",
       "      <td>0.0</td>\n",
       "      <td>0.0</td>\n",
       "      <td>...</td>\n",
       "      <td>2017-08-20</td>\n",
       "      <td>0</td>\n",
       "      <td>23.32</td>\n",
       "      <td>1</td>\n",
       "      <td>108.500000</td>\n",
       "      <td>261.0</td>\n",
       "      <td>478.0</td>\n",
       "      <td>1</td>\n",
       "      <td>0.987274</td>\n",
       "      <td>0</td>\n",
       "    </tr>\n",
       "    <tr>\n",
       "      <th>2</th>\n",
       "      <td>A00020501K0ZZ493L8PKI</td>\n",
       "      <td>0.0</td>\n",
       "      <td>0.0</td>\n",
       "      <td>1.0</td>\n",
       "      <td>0.0</td>\n",
       "      <td>0.0</td>\n",
       "      <td>0.0</td>\n",
       "      <td>1.0</td>\n",
       "      <td>0.0</td>\n",
       "      <td>0.0</td>\n",
       "      <td>...</td>\n",
       "      <td>2016-02-29</td>\n",
       "      <td>0</td>\n",
       "      <td>6.66</td>\n",
       "      <td>1</td>\n",
       "      <td>0.000000</td>\n",
       "      <td>799.0</td>\n",
       "      <td>799.0</td>\n",
       "      <td>1</td>\n",
       "      <td>0.750171</td>\n",
       "      <td>0</td>\n",
       "    </tr>\n",
       "    <tr>\n",
       "      <th>3</th>\n",
       "      <td>A00036282VGJMPIOTVRQ6</td>\n",
       "      <td>0.0</td>\n",
       "      <td>0.0</td>\n",
       "      <td>0.0</td>\n",
       "      <td>0.0</td>\n",
       "      <td>0.0</td>\n",
       "      <td>1.0</td>\n",
       "      <td>0.0</td>\n",
       "      <td>1.0</td>\n",
       "      <td>0.0</td>\n",
       "      <td>...</td>\n",
       "      <td>2014-08-23</td>\n",
       "      <td>0</td>\n",
       "      <td>2.08</td>\n",
       "      <td>0</td>\n",
       "      <td>0.000000</td>\n",
       "      <td>1354.0</td>\n",
       "      <td>1354.0</td>\n",
       "      <td>0</td>\n",
       "      <td>0.429640</td>\n",
       "      <td>0</td>\n",
       "    </tr>\n",
       "    <tr>\n",
       "      <th>4</th>\n",
       "      <td>A00039261XPOLNK4IAXOW</td>\n",
       "      <td>0.0</td>\n",
       "      <td>0.0</td>\n",
       "      <td>0.0</td>\n",
       "      <td>0.0</td>\n",
       "      <td>1.0</td>\n",
       "      <td>0.0</td>\n",
       "      <td>0.0</td>\n",
       "      <td>1.0</td>\n",
       "      <td>0.0</td>\n",
       "      <td>...</td>\n",
       "      <td>2017-09-13</td>\n",
       "      <td>0</td>\n",
       "      <td>2.91</td>\n",
       "      <td>0</td>\n",
       "      <td>0.000000</td>\n",
       "      <td>237.0</td>\n",
       "      <td>237.0</td>\n",
       "      <td>0</td>\n",
       "      <td>0.356574</td>\n",
       "      <td>0</td>\n",
       "    </tr>\n",
       "  </tbody>\n",
       "</table>\n",
       "<p>5 rows × 24 columns</p>\n",
       "</div>"
      ],
      "text/plain": [
       "   encrypted_customer_id  1_2yr_Catalogue  2_3yr_Catalogue  6mo_1yr_Catalogue  \\\n",
       "0   A000067473PGLTJF0EYD              0.0              2.0                0.0   \n",
       "1  A00010742Y4RNZSX0RGCC              0.0              0.0                0.0   \n",
       "2  A00020501K0ZZ493L8PKI              0.0              0.0                1.0   \n",
       "3  A00036282VGJMPIOTVRQ6              0.0              0.0                0.0   \n",
       "4  A00039261XPOLNK4IAXOW              0.0              0.0                0.0   \n",
       "\n",
       "   Deep Catalogue  New Release  Recent release  Movie EST  Movie VOD  \\\n",
       "0             2.0          1.0             2.0        0.0        7.0   \n",
       "1             0.0          0.0             2.0        2.0        0.0   \n",
       "2             0.0          0.0             0.0        1.0        0.0   \n",
       "3             0.0          0.0             1.0        0.0        1.0   \n",
       "4             0.0          1.0             0.0        0.0        1.0   \n",
       "\n",
       "   TV Episode  ...   last_date  is_engaged  revenue is_EST_purchaser  \\\n",
       "0         0.0  ...  2017-09-09           0    16.62                0   \n",
       "1         0.0  ...  2017-08-20           0    23.32                1   \n",
       "2         0.0  ...  2016-02-29           0     6.66                1   \n",
       "3         0.0  ...  2014-08-23           0     2.08                0   \n",
       "4         0.0  ...  2017-09-13           0     2.91                0   \n",
       "\n",
       "    frequency  recency  tenure  pred  probabilities_of_class_1  cost  \n",
       "0    7.571429    241.0   294.0     1                  0.704037     1  \n",
       "1  108.500000    261.0   478.0     1                  0.987274     0  \n",
       "2    0.000000    799.0   799.0     1                  0.750171     0  \n",
       "3    0.000000   1354.0  1354.0     0                  0.429640     0  \n",
       "4    0.000000    237.0   237.0     0                  0.356574     0  \n",
       "\n",
       "[5 rows x 24 columns]"
      ]
     },
     "execution_count": 314,
     "metadata": {},
     "output_type": "execute_result"
    }
   ],
   "source": [
    "rm.head()"
   ]
  },
  {
   "cell_type": "code",
   "execution_count": 349,
   "metadata": {},
   "outputs": [
    {
     "data": {
      "text/html": [
       "<div>\n",
       "<style>\n",
       "    .dataframe thead tr:only-child th {\n",
       "        text-align: right;\n",
       "    }\n",
       "\n",
       "    .dataframe thead th {\n",
       "        text-align: left;\n",
       "    }\n",
       "\n",
       "    .dataframe tbody tr th {\n",
       "        vertical-align: top;\n",
       "    }\n",
       "</style>\n",
       "<table border=\"1\" class=\"dataframe\">\n",
       "  <thead>\n",
       "    <tr style=\"text-align: right;\">\n",
       "      <th></th>\n",
       "      <th>encrypted_customer_id</th>\n",
       "      <th>last_date</th>\n",
       "      <th>is_engaged</th>\n",
       "      <th>revenue</th>\n",
       "      <th>is_EST_purchaser</th>\n",
       "      <th>frequency</th>\n",
       "      <th>recency</th>\n",
       "      <th>tenure</th>\n",
       "      <th>pred</th>\n",
       "      <th>probabilities_of_class_1</th>\n",
       "      <th>cost</th>\n",
       "    </tr>\n",
       "  </thead>\n",
       "  <tbody>\n",
       "    <tr>\n",
       "      <th>0</th>\n",
       "      <td>A000067473PGLTJF0EYD</td>\n",
       "      <td>2017-09-09</td>\n",
       "      <td>0</td>\n",
       "      <td>16.62</td>\n",
       "      <td>0</td>\n",
       "      <td>7.571429</td>\n",
       "      <td>241.0</td>\n",
       "      <td>294.0</td>\n",
       "      <td>1</td>\n",
       "      <td>0.704037</td>\n",
       "      <td>1</td>\n",
       "    </tr>\n",
       "  </tbody>\n",
       "</table>\n",
       "</div>"
      ],
      "text/plain": [
       "  encrypted_customer_id  last_date  is_engaged  revenue  is_EST_purchaser  \\\n",
       "0  A000067473PGLTJF0EYD 2017-09-09           0    16.62                 0   \n",
       "\n",
       "   frequency  recency  tenure  pred  probabilities_of_class_1  cost  \n",
       "0   7.571429    241.0   294.0     1                  0.704037     1  "
      ]
     },
     "execution_count": 349,
     "metadata": {},
     "output_type": "execute_result"
    }
   ],
   "source": [
    "rm[rm['encrypted_customer_id'] == 'A000067473PGLTJF0EYD'].iloc[:,np.r_[0,14:len(rm.columns)]]"
   ]
  },
  {
   "cell_type": "code",
   "execution_count": 320,
   "metadata": {},
   "outputs": [
    {
     "data": {
      "text/plain": [
       "231030"
      ]
     },
     "execution_count": 320,
     "metadata": {},
     "output_type": "execute_result"
    }
   ],
   "source": [
    "dataset['cost'] = (dataset['pred'] - dataset['is_EST_purchaser'])**2\n",
    "dataset['cost'].sum()"
   ]
  },
  {
   "cell_type": "code",
   "execution_count": 297,
   "metadata": {},
   "outputs": [
    {
     "data": {
      "text/html": [
       "<div>\n",
       "<style>\n",
       "    .dataframe thead tr:only-child th {\n",
       "        text-align: right;\n",
       "    }\n",
       "\n",
       "    .dataframe thead th {\n",
       "        text-align: left;\n",
       "    }\n",
       "\n",
       "    .dataframe tbody tr th {\n",
       "        vertical-align: top;\n",
       "    }\n",
       "</style>\n",
       "<table border=\"1\" class=\"dataframe\">\n",
       "  <thead>\n",
       "    <tr style=\"text-align: right;\">\n",
       "      <th></th>\n",
       "      <th>1_2yr_Catalogue</th>\n",
       "      <th>2_3yr_Catalogue</th>\n",
       "      <th>6mo_1yr_Catalogue</th>\n",
       "      <th>Deep Catalogue</th>\n",
       "      <th>New Release</th>\n",
       "      <th>Recent release</th>\n",
       "      <th>total_units</th>\n",
       "      <th>is_engaged</th>\n",
       "      <th>revenue</th>\n",
       "      <th>frequency</th>\n",
       "      <th>recency</th>\n",
       "      <th>tenure</th>\n",
       "      <th>is_EST_purchaser</th>\n",
       "      <th>pred</th>\n",
       "      <th>probabilities_of_class_1</th>\n",
       "      <th>cost</th>\n",
       "    </tr>\n",
       "  </thead>\n",
       "  <tbody>\n",
       "    <tr>\n",
       "      <th>0</th>\n",
       "      <td>0.0</td>\n",
       "      <td>2.0</td>\n",
       "      <td>0.0</td>\n",
       "      <td>2.0</td>\n",
       "      <td>1.0</td>\n",
       "      <td>2.0</td>\n",
       "      <td>7.0</td>\n",
       "      <td>0</td>\n",
       "      <td>16.62</td>\n",
       "      <td>7.571429</td>\n",
       "      <td>241.0</td>\n",
       "      <td>294.0</td>\n",
       "      <td>0</td>\n",
       "      <td>1</td>\n",
       "      <td>0.704037</td>\n",
       "      <td>1</td>\n",
       "    </tr>\n",
       "    <tr>\n",
       "      <th>10</th>\n",
       "      <td>1.0</td>\n",
       "      <td>0.0</td>\n",
       "      <td>3.0</td>\n",
       "      <td>0.0</td>\n",
       "      <td>0.0</td>\n",
       "      <td>0.0</td>\n",
       "      <td>4.0</td>\n",
       "      <td>0</td>\n",
       "      <td>7.07</td>\n",
       "      <td>1.500000</td>\n",
       "      <td>1129.0</td>\n",
       "      <td>1135.0</td>\n",
       "      <td>0</td>\n",
       "      <td>1</td>\n",
       "      <td>0.774609</td>\n",
       "      <td>1</td>\n",
       "    </tr>\n",
       "    <tr>\n",
       "      <th>11</th>\n",
       "      <td>1.0</td>\n",
       "      <td>1.0</td>\n",
       "      <td>0.0</td>\n",
       "      <td>0.0</td>\n",
       "      <td>0.0</td>\n",
       "      <td>1.0</td>\n",
       "      <td>3.0</td>\n",
       "      <td>0</td>\n",
       "      <td>6.20</td>\n",
       "      <td>5.333333</td>\n",
       "      <td>506.0</td>\n",
       "      <td>522.0</td>\n",
       "      <td>0</td>\n",
       "      <td>1</td>\n",
       "      <td>0.523894</td>\n",
       "      <td>1</td>\n",
       "    </tr>\n",
       "    <tr>\n",
       "      <th>15</th>\n",
       "      <td>0.0</td>\n",
       "      <td>1.0</td>\n",
       "      <td>0.0</td>\n",
       "      <td>0.0</td>\n",
       "      <td>1.0</td>\n",
       "      <td>1.0</td>\n",
       "      <td>3.0</td>\n",
       "      <td>0</td>\n",
       "      <td>10.33</td>\n",
       "      <td>35.666667</td>\n",
       "      <td>391.0</td>\n",
       "      <td>498.0</td>\n",
       "      <td>0</td>\n",
       "      <td>1</td>\n",
       "      <td>0.648195</td>\n",
       "      <td>1</td>\n",
       "    </tr>\n",
       "    <tr>\n",
       "      <th>19</th>\n",
       "      <td>0.0</td>\n",
       "      <td>0.0</td>\n",
       "      <td>1.0</td>\n",
       "      <td>1.0</td>\n",
       "      <td>1.0</td>\n",
       "      <td>1.0</td>\n",
       "      <td>4.0</td>\n",
       "      <td>0</td>\n",
       "      <td>11.22</td>\n",
       "      <td>63.250000</td>\n",
       "      <td>240.0</td>\n",
       "      <td>493.0</td>\n",
       "      <td>0</td>\n",
       "      <td>1</td>\n",
       "      <td>0.692044</td>\n",
       "      <td>1</td>\n",
       "    </tr>\n",
       "  </tbody>\n",
       "</table>\n",
       "</div>"
      ],
      "text/plain": [
       "    1_2yr_Catalogue  2_3yr_Catalogue  6mo_1yr_Catalogue  Deep Catalogue  \\\n",
       "0               0.0              2.0                0.0             2.0   \n",
       "10              1.0              0.0                3.0             0.0   \n",
       "11              1.0              1.0                0.0             0.0   \n",
       "15              0.0              1.0                0.0             0.0   \n",
       "19              0.0              0.0                1.0             1.0   \n",
       "\n",
       "    New Release  Recent release  total_units  is_engaged  revenue  frequency  \\\n",
       "0           1.0             2.0          7.0           0    16.62   7.571429   \n",
       "10          0.0             0.0          4.0           0     7.07   1.500000   \n",
       "11          0.0             1.0          3.0           0     6.20   5.333333   \n",
       "15          1.0             1.0          3.0           0    10.33  35.666667   \n",
       "19          1.0             1.0          4.0           0    11.22  63.250000   \n",
       "\n",
       "    recency  tenure  is_EST_purchaser  pred  probabilities_of_class_1  cost  \n",
       "0     241.0   294.0                 0     1                  0.704037     1  \n",
       "10   1129.0  1135.0                 0     1                  0.774609     1  \n",
       "11    506.0   522.0                 0     1                  0.523894     1  \n",
       "15    391.0   498.0                 0     1                  0.648195     1  \n",
       "19    240.0   493.0                 0     1                  0.692044     1  "
      ]
     },
     "execution_count": 297,
     "metadata": {},
     "output_type": "execute_result"
    }
   ],
   "source": [
    "dataset[dataset['cost'] != 0].head()"
   ]
  }
 ],
 "metadata": {
  "kernelspec": {
   "display_name": "Python 3",
   "language": "python",
   "name": "python3"
  },
  "language_info": {
   "codemirror_mode": {
    "name": "ipython",
    "version": 3
   },
   "file_extension": ".py",
   "mimetype": "text/x-python",
   "name": "python",
   "nbconvert_exporter": "python",
   "pygments_lexer": "ipython3",
   "version": "3.6.3"
  }
 },
 "nbformat": 4,
 "nbformat_minor": 2
}
