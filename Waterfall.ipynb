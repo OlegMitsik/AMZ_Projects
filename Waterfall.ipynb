{
 "cells": [
  {
   "cell_type": "markdown",
   "metadata": {},
   "source": [
    "# Waterfall"
   ]
  },
  {
   "cell_type": "markdown",
   "metadata": {},
   "source": [
    "<p> This notebook explores how customers buy seasons by looking into funnel: How many who bought season 1 also bought all subsequent seasons. </p>\n",
    "<p> Also, it looks into the median time between purchases of seasons </p>\n"
   ]
  },
  {
   "cell_type": "code",
   "execution_count": 1,
   "metadata": {
    "collapsed": true
   },
   "outputs": [],
   "source": [
    "import pandas as pd\n",
    "import numpy as np\n",
    "\n",
    "import math\n",
    "from collections import Counter"
   ]
  },
  {
   "cell_type": "code",
   "execution_count": 2,
   "metadata": {
    "collapsed": true
   },
   "outputs": [],
   "source": [
    "df = pd.read_csv(\"../GOT/data/waterfall_4.txt\", sep=\"\\t\",\n",
    "                 names = ['encrypted_customer_id',\n",
    "                          'transaction_date','asin',\n",
    "                          'content_type','title'])"
   ]
  },
  {
   "cell_type": "code",
   "execution_count": 3,
   "metadata": {},
   "outputs": [
    {
     "name": "stdout",
     "output_type": "stream",
     "text": [
      "(1229481, 5)\n"
     ]
    }
   ],
   "source": [
    "print(df.shape)"
   ]
  },
  {
   "cell_type": "code",
   "execution_count": 4,
   "metadata": {},
   "outputs": [
    {
     "name": "stderr",
     "output_type": "stream",
     "text": [
      "C:\\Users\\dfadeeff\\AppData\\Local\\Continuum\\anaconda3\\lib\\site-packages\\ipykernel_launcher.py:1: FutureWarning: currently extract(expand=None) means expand=False (return Index/Series/DataFrame) but in a future version of pandas this will be changed to expand=True (return DataFrame)\n",
      "  \"\"\"Entry point for launching an IPython kernel.\n"
     ]
    },
    {
     "data": {
      "text/html": [
       "<div>\n",
       "<style>\n",
       "    .dataframe thead tr:only-child th {\n",
       "        text-align: right;\n",
       "    }\n",
       "\n",
       "    .dataframe thead th {\n",
       "        text-align: left;\n",
       "    }\n",
       "\n",
       "    .dataframe tbody tr th {\n",
       "        vertical-align: top;\n",
       "    }\n",
       "</style>\n",
       "<table border=\"1\" class=\"dataframe\">\n",
       "  <thead>\n",
       "    <tr style=\"text-align: right;\">\n",
       "      <th></th>\n",
       "      <th>encrypted_customer_id</th>\n",
       "      <th>transaction_date</th>\n",
       "      <th>asin</th>\n",
       "      <th>content_type</th>\n",
       "      <th>title</th>\n",
       "      <th>season_number</th>\n",
       "      <th>days_since_epoch</th>\n",
       "    </tr>\n",
       "  </thead>\n",
       "  <tbody>\n",
       "    <tr>\n",
       "      <th>0</th>\n",
       "      <td>A3PCW9WC0GTF2Q</td>\n",
       "      <td>2017-08-15</td>\n",
       "      <td>B073VVVKNB</td>\n",
       "      <td>TV Season</td>\n",
       "      <td>Game of Thrones - Staffel 7 [dt./OV]</td>\n",
       "      <td>7</td>\n",
       "      <td>17393</td>\n",
       "    </tr>\n",
       "    <tr>\n",
       "      <th>1</th>\n",
       "      <td>A1A77UBUPOPZI1</td>\n",
       "      <td>2017-08-21</td>\n",
       "      <td>B00M3LG74C</td>\n",
       "      <td>TV Season</td>\n",
       "      <td>Game of Thrones - Staffel 4 [dt./OV]</td>\n",
       "      <td>4</td>\n",
       "      <td>17399</td>\n",
       "    </tr>\n",
       "    <tr>\n",
       "      <th>2</th>\n",
       "      <td>A3GKVH6E99LI3V</td>\n",
       "      <td>2017-07-30</td>\n",
       "      <td>B00I8ZYTRO</td>\n",
       "      <td>TV Season</td>\n",
       "      <td>Game of Thrones - Staffel 1 [dt./OV]</td>\n",
       "      <td>1</td>\n",
       "      <td>17377</td>\n",
       "    </tr>\n",
       "    <tr>\n",
       "      <th>3</th>\n",
       "      <td>A2R45O6WIV592C</td>\n",
       "      <td>2014-08-05</td>\n",
       "      <td>B00M3LG74C</td>\n",
       "      <td>TV Season</td>\n",
       "      <td>Game of Thrones - Staffel 4 [dt./OV]</td>\n",
       "      <td>4</td>\n",
       "      <td>16287</td>\n",
       "    </tr>\n",
       "    <tr>\n",
       "      <th>4</th>\n",
       "      <td>A9E4FJS969OCG</td>\n",
       "      <td>2016-09-18</td>\n",
       "      <td>B00I8ZVHDI</td>\n",
       "      <td>TV Season</td>\n",
       "      <td>Game of Thrones - Staffel 3 [dt./OV]</td>\n",
       "      <td>3</td>\n",
       "      <td>17062</td>\n",
       "    </tr>\n",
       "  </tbody>\n",
       "</table>\n",
       "</div>"
      ],
      "text/plain": [
       "  encrypted_customer_id transaction_date        asin content_type  \\\n",
       "0        A3PCW9WC0GTF2Q       2017-08-15  B073VVVKNB    TV Season   \n",
       "1        A1A77UBUPOPZI1       2017-08-21  B00M3LG74C    TV Season   \n",
       "2        A3GKVH6E99LI3V       2017-07-30  B00I8ZYTRO    TV Season   \n",
       "3        A2R45O6WIV592C       2014-08-05  B00M3LG74C    TV Season   \n",
       "4         A9E4FJS969OCG       2016-09-18  B00I8ZVHDI    TV Season   \n",
       "\n",
       "                                  title  season_number  days_since_epoch  \n",
       "0  Game of Thrones - Staffel 7 [dt./OV]              7             17393  \n",
       "1  Game of Thrones - Staffel 4 [dt./OV]              4             17399  \n",
       "2  Game of Thrones - Staffel 1 [dt./OV]              1             17377  \n",
       "3  Game of Thrones - Staffel 4 [dt./OV]              4             16287  \n",
       "4  Game of Thrones - Staffel 3 [dt./OV]              3             17062  "
      ]
     },
     "execution_count": 4,
     "metadata": {},
     "output_type": "execute_result"
    }
   ],
   "source": [
    "df['season_number'] =    df.title.str.extract('(\\d+)')\n",
    "df['season_number'] =    pd.to_numeric(df['season_number'] , errors='coerce')\n",
    "df['transaction_date'] = pd.to_datetime(df['transaction_date'])\n",
    "df['days_since_epoch'] = (pd.to_datetime(df['transaction_date']) - pd.datetime(1970,1,1)).dt.days\n",
    "df.head()"
   ]
  },
  {
   "cell_type": "markdown",
   "metadata": {},
   "source": [
    "# Overall stats"
   ]
  },
  {
   "cell_type": "code",
   "execution_count": 5,
   "metadata": {},
   "outputs": [
    {
     "name": "stdout",
     "output_type": "stream",
     "text": [
      "Overall number of unique customers who bought:  515182\n"
     ]
    }
   ],
   "source": [
    "print(\"Overall number of unique customers who bought: \" , df['encrypted_customer_id'].nunique())"
   ]
  },
  {
   "cell_type": "code",
   "execution_count": 6,
   "metadata": {},
   "outputs": [
    {
     "name": "stdout",
     "output_type": "stream",
     "text": [
      "147453\n",
      "117905\n",
      "109499\n",
      "127494\n",
      "142427\n",
      "214738\n",
      "367947\n"
     ]
    }
   ],
   "source": [
    "#Check number of unique customers who bought seasons\n",
    "\n",
    "for i in range(1,7+1):\n",
    "    print(df[df['season_number'] == i]['encrypted_customer_id'].nunique())"
   ]
  },
  {
   "cell_type": "markdown",
   "metadata": {},
   "source": [
    "# Waterfall including all previous cohorts\n",
    "## Brute force"
   ]
  },
  {
   "cell_type": "code",
   "execution_count": 7,
   "metadata": {},
   "outputs": [
    {
     "name": "stdout",
     "output_type": "stream",
     "text": [
      "147453\n",
      "100049\n",
      "83421\n",
      "74739\n",
      "66353\n",
      "60163\n",
      "53340\n"
     ]
    }
   ],
   "source": [
    "base_customers = df[df['season_number'] == 1]['encrypted_customer_id']\n",
    "print(base_customers.nunique())\n",
    "\n",
    "\n",
    "s2 = df[(df['season_number'] == 2) \n",
    "        & (df['encrypted_customer_id'].isin(base_customers))]['encrypted_customer_id']\n",
    "print(s2.nunique())\n",
    "\n",
    "\n",
    "s3 = df[(df['season_number'] == 3) \n",
    "        & (df['encrypted_customer_id'].isin(s2))]['encrypted_customer_id']\n",
    "print(s3.nunique())\n",
    "\n",
    "\n",
    "s4 = df[(df['season_number'] == 4) \n",
    "        & (df['encrypted_customer_id'].isin(s3)) ]['encrypted_customer_id']\n",
    "print(s4.nunique())\n",
    "\n",
    "\n",
    "s5 = df[(df['season_number'] == 5) \n",
    "        & (df['encrypted_customer_id'].isin(s4))]['encrypted_customer_id']\n",
    "print(s5.nunique())\n",
    "\n",
    "\n",
    "s6 = df[(df['season_number'] == 6) \n",
    "        & (df['encrypted_customer_id'].isin(s5))]['encrypted_customer_id']\n",
    "print(s6.nunique())\n",
    "\n",
    "\n",
    "s7 = df[(df['season_number'] == 7) \n",
    "        & (df['encrypted_customer_id'].isin(s6))]['encrypted_customer_id']\n",
    "print(s7.nunique())"
   ]
  },
  {
   "cell_type": "code",
   "execution_count": 8,
   "metadata": {},
   "outputs": [],
   "source": [
    "some_list = []\n",
    "for i in range(min(df.season_number)+1, max(df.season_number) + 1):\n",
    "    \"\"\"loop calculates how many bought season X and first season\"\"\"\n",
    "    s = df[(df['season_number'] == i) \n",
    "           & (df['encrypted_customer_id'].isin(base_customers))]['encrypted_customer_id'].nunique()\n",
    "    some_list.append(s)"
   ]
  },
  {
   "cell_type": "code",
   "execution_count": 9,
   "metadata": {},
   "outputs": [
    {
     "data": {
      "text/plain": [
       "[100049, 85744, 80044, 74546, 75911, 78532]"
      ]
     },
     "execution_count": 9,
     "metadata": {},
     "output_type": "execute_result"
    }
   ],
   "source": [
    "some_list"
   ]
  },
  {
   "cell_type": "markdown",
   "metadata": {},
   "source": [
    "# Make proper waterfall"
   ]
  },
  {
   "cell_type": "markdown",
   "metadata": {},
   "source": [
    "## Recursive implementation"
   ]
  },
  {
   "cell_type": "code",
   "execution_count": 10,
   "metadata": {
    "collapsed": true
   },
   "outputs": [],
   "source": [
    "def recursive_call_funnel(df,staffel):\n",
    "    if staffel == 1:\n",
    "        return df[df['season_number'] == 1]['encrypted_customer_id']\n",
    "    else :\n",
    "        return df[(df['season_number'] == staffel) \n",
    "                  & (df['encrypted_customer_id'].isin(recursive_call_funnel(df,staffel-1)))]['encrypted_customer_id']   "
   ]
  },
  {
   "cell_type": "code",
   "execution_count": 11,
   "metadata": {
    "collapsed": true
   },
   "outputs": [],
   "source": [
    "list1 = []\n",
    "for i in range(1,8):\n",
    "    list1.append(recursive_call_funnel(df,i).nunique())"
   ]
  },
  {
   "cell_type": "code",
   "execution_count": 12,
   "metadata": {},
   "outputs": [
    {
     "data": {
      "text/plain": [
       "[147453, 100049, 83421, 74739, 66353, 60163, 53340]"
      ]
     },
     "execution_count": 12,
     "metadata": {},
     "output_type": "execute_result"
    }
   ],
   "source": [
    "list1"
   ]
  },
  {
   "cell_type": "code",
   "execution_count": 13,
   "metadata": {
    "collapsed": true
   },
   "outputs": [],
   "source": [
    "def recursive_call_funnel2(df,staffel):\n",
    "    if staffel <= 2 :\n",
    "        return df[df['season_number'] == 2]['encrypted_customer_id']\n",
    "    else :\n",
    "        return df[(df['season_number'] == staffel) \n",
    "                  & (df['encrypted_customer_id'].isin(recursive_call_funnel2(df,staffel-1)))]['encrypted_customer_id']   "
   ]
  },
  {
   "cell_type": "code",
   "execution_count": 14,
   "metadata": {},
   "outputs": [
    {
     "data": {
      "text/plain": [
       "[117905, 94358, 83429, 73141, 65761, 57774]"
      ]
     },
     "execution_count": 14,
     "metadata": {},
     "output_type": "execute_result"
    }
   ],
   "source": [
    "list2 = []\n",
    "for i in range(2,8):\n",
    "    list2.append(recursive_call_funnel2(df,i).nunique())\n",
    "list2"
   ]
  },
  {
   "cell_type": "code",
   "execution_count": 15,
   "metadata": {
    "collapsed": true
   },
   "outputs": [],
   "source": [
    "def recursive_call_funnel3(df,staffel):\n",
    "    if staffel <= 3 :\n",
    "        return df[df['season_number'] == 3]['encrypted_customer_id']\n",
    "    else :\n",
    "        return df[(df['season_number'] == staffel) \n",
    "                  & (df['encrypted_customer_id'].isin(recursive_call_funnel3(df,staffel-1)))]['encrypted_customer_id']   "
   ]
  },
  {
   "cell_type": "code",
   "execution_count": 16,
   "metadata": {},
   "outputs": [
    {
     "data": {
      "text/plain": [
       "[109499, 93199, 79971, 71174, 62044]"
      ]
     },
     "execution_count": 16,
     "metadata": {},
     "output_type": "execute_result"
    }
   ],
   "source": [
    "list3 = []\n",
    "for i in range(3,8):\n",
    "    list3.append(recursive_call_funnel3(df,i).nunique())\n",
    "list3"
   ]
  },
  {
   "cell_type": "code",
   "execution_count": 17,
   "metadata": {
    "collapsed": true
   },
   "outputs": [],
   "source": [
    "def recursive_call_funnel4(df,staffel):\n",
    "    if staffel <= 4 :\n",
    "        return df[df['season_number'] == 4]['encrypted_customer_id']\n",
    "    else :\n",
    "        return df[(df['season_number'] == staffel) \n",
    "                  & (df['encrypted_customer_id'].isin(recursive_call_funnel4(df,staffel-1)))]['encrypted_customer_id']   "
   ]
  },
  {
   "cell_type": "code",
   "execution_count": 18,
   "metadata": {},
   "outputs": [
    {
     "data": {
      "text/plain": [
       "[127494, 96520, 83780, 71852]"
      ]
     },
     "execution_count": 18,
     "metadata": {},
     "output_type": "execute_result"
    }
   ],
   "source": [
    "list4 = []\n",
    "for i in range(4,8):\n",
    "    list4.append(recursive_call_funnel4(df,i).nunique())\n",
    "list4"
   ]
  },
  {
   "cell_type": "code",
   "execution_count": 19,
   "metadata": {
    "collapsed": true
   },
   "outputs": [],
   "source": [
    "def recursive_call_funnel5(df,staffel):\n",
    "    if staffel <= 5 :\n",
    "        return df[df['season_number'] == 5]['encrypted_customer_id']\n",
    "    else :\n",
    "        return df[(df['season_number'] == staffel) \n",
    "                  & (df['encrypted_customer_id'].isin(recursive_call_funnel5(df,staffel-1)))]['encrypted_customer_id']   "
   ]
  },
  {
   "cell_type": "code",
   "execution_count": 20,
   "metadata": {},
   "outputs": [
    {
     "data": {
      "text/plain": [
       "[142427, 113024, 93841]"
      ]
     },
     "execution_count": 20,
     "metadata": {},
     "output_type": "execute_result"
    }
   ],
   "source": [
    "list5 = []\n",
    "for i in range(5,8):\n",
    "    list5.append(recursive_call_funnel5(df,i).nunique())\n",
    "list5"
   ]
  },
  {
   "cell_type": "code",
   "execution_count": 21,
   "metadata": {
    "collapsed": true
   },
   "outputs": [],
   "source": [
    "def recursive_call_funnel6(df,staffel):\n",
    "   \n",
    "    if staffel <= 6:\n",
    "        return df[df['season_number'] == 6]['encrypted_customer_id']\n",
    "    else :\n",
    "        return df[( df['season_number'] == staffel ) \n",
    "                  & ( df['encrypted_customer_id'].isin( recursive_call_funnel6(df, staffel-1) ) )]['encrypted_customer_id']   "
   ]
  },
  {
   "cell_type": "code",
   "execution_count": 22,
   "metadata": {},
   "outputs": [
    {
     "data": {
      "text/plain": [
       "[214738, 161195]"
      ]
     },
     "execution_count": 22,
     "metadata": {},
     "output_type": "execute_result"
    }
   ],
   "source": [
    "list6 = []\n",
    "for i in range(6,8):\n",
    "    list6.append(recursive_call_funnel6(df,i).nunique())\n",
    "list6"
   ]
  },
  {
   "cell_type": "markdown",
   "metadata": {},
   "source": [
    "# Median time between purchases\n"
   ]
  },
  {
   "cell_type": "code",
   "execution_count": 23,
   "metadata": {},
   "outputs": [],
   "source": [
    "def from_long_to_wide(df,dimension1, dimension2):\n",
    "    \"\"\"convert from wide to long\"\"\"\n",
    "    return df.pivot_table(index = 'encrypted_customer_id', \n",
    "                          columns = dimension1, values = dimension2).reset_index()\n",
    "\n",
    "\n",
    "def add_intervals(df):\n",
    "    \"\"\"function goes thru all combinations of season purchases\n",
    "    and calculates time frame between purchases\"\"\"\n",
    "    df_wide = from_long_to_wide(df,\"title\",\"days_since_epoch\")\n",
    "    \n",
    "    for i in range(2,df_wide.shape[1]):\n",
    "        df_wide[i] = df_wide.iloc[:,i] - df_wide.iloc[:,i-1]\n",
    "    return df_wide    "
   ]
  },
  {
   "cell_type": "code",
   "execution_count": 24,
   "metadata": {
    "collapsed": true
   },
   "outputs": [],
   "source": [
    "df_wide = add_intervals(df)"
   ]
  },
  {
   "cell_type": "code",
   "execution_count": 25,
   "metadata": {},
   "outputs": [
    {
     "name": "stdout",
     "output_type": "stream",
     "text": [
      "(515182, 14)\n"
     ]
    }
   ],
   "source": [
    "print(df_wide.shape)"
   ]
  },
  {
   "cell_type": "code",
   "execution_count": 26,
   "metadata": {},
   "outputs": [],
   "source": [
    "def get_combinations(df):\n",
    "    \n",
    "    df = df.sort_values(by = ['encrypted_customer_id','transaction_date'])\n",
    "    \n",
    "    t = pd.DataFrame(df.groupby(\"encrypted_customer_id\")['season_number'].agg(lambda x: x.tolist())).reset_index()\n",
    "    t.columns = ['encrypted_customer_id','combination']\n",
    "    \n",
    "    #Get intersection in case you have have 2 column of lists\n",
    "    #df['intersection'] = [list(set(a).intersection(set(b))) for a, b in zip(df.A, df.B)]\n",
    "    \n",
    "    \n",
    "    t['combination'] = t.apply(lambda row: set(row['combination']), axis=1)    \n",
    "    \n",
    "    count_combo = t['combination'].apply(tuple)\n",
    "    d = Counter(elem for elem in count_combo)\n",
    "    \n",
    "    df_output = pd.DataFrame.from_dict(d, orient='index').reset_index()\n",
    "    \n",
    "    df_output.columns = ['combination','count']\n",
    "    return df_output, t"
   ]
  },
  {
   "cell_type": "code",
   "execution_count": 27,
   "metadata": {},
   "outputs": [],
   "source": [
    "final, t = get_combinations(df)"
   ]
  },
  {
   "cell_type": "code",
   "execution_count": 28,
   "metadata": {},
   "outputs": [
    {
     "name": "stdout",
     "output_type": "stream",
     "text": [
      "(127, 2)\n"
     ]
    }
   ],
   "source": [
    "print(final.shape)\n",
    "final = final.sort_values(by = \"count\", ascending=False)"
   ]
  },
  {
   "cell_type": "code",
   "execution_count": 38,
   "metadata": {},
   "outputs": [
    {
     "data": {
      "text/html": [
       "<div>\n",
       "<style>\n",
       "    .dataframe thead tr:only-child th {\n",
       "        text-align: right;\n",
       "    }\n",
       "\n",
       "    .dataframe thead th {\n",
       "        text-align: left;\n",
       "    }\n",
       "\n",
       "    .dataframe tbody tr th {\n",
       "        vertical-align: top;\n",
       "    }\n",
       "</style>\n",
       "<table border=\"1\" class=\"dataframe\">\n",
       "  <thead>\n",
       "    <tr style=\"text-align: right;\">\n",
       "      <th></th>\n",
       "      <th>combination</th>\n",
       "      <th>count</th>\n",
       "    </tr>\n",
       "  </thead>\n",
       "  <tbody>\n",
       "    <tr>\n",
       "      <th>0</th>\n",
       "      <td>(7,)</td>\n",
       "      <td>183903</td>\n",
       "    </tr>\n",
       "    <tr>\n",
       "      <th>8</th>\n",
       "      <td>(6, 7)</td>\n",
       "      <td>53593</td>\n",
       "    </tr>\n",
       "    <tr>\n",
       "      <th>6</th>\n",
       "      <td>(1, 2, 3, 4, 5, 6, 7)</td>\n",
       "      <td>53340</td>\n",
       "    </tr>\n",
       "    <tr>\n",
       "      <th>4</th>\n",
       "      <td>(1,)</td>\n",
       "      <td>32802</td>\n",
       "    </tr>\n",
       "    <tr>\n",
       "      <th>11</th>\n",
       "      <td>(6,)</td>\n",
       "      <td>30050</td>\n",
       "    </tr>\n",
       "  </tbody>\n",
       "</table>\n",
       "</div>"
      ],
      "text/plain": [
       "              combination   count\n",
       "0                    (7,)  183903\n",
       "8                  (6, 7)   53593\n",
       "6   (1, 2, 3, 4, 5, 6, 7)   53340\n",
       "4                    (1,)   32802\n",
       "11                   (6,)   30050"
      ]
     },
     "execution_count": 38,
     "metadata": {},
     "output_type": "execute_result"
    }
   ],
   "source": [
    "final.head()"
   ]
  },
  {
   "cell_type": "markdown",
   "metadata": {},
   "source": [
    "## Check some sets"
   ]
  },
  {
   "cell_type": "code",
   "execution_count": 30,
   "metadata": {},
   "outputs": [
    {
     "name": "stdout",
     "output_type": "stream",
     "text": [
      "6823\n"
     ]
    }
   ],
   "source": [
    "print(t[t['combination'].apply(lambda x: x == {1,2,3,4,5,6}) == True]['encrypted_customer_id'].nunique())"
   ]
  },
  {
   "cell_type": "code",
   "execution_count": 31,
   "metadata": {},
   "outputs": [
    {
     "data": {
      "text/plain": [
       "66353"
      ]
     },
     "execution_count": 31,
     "metadata": {},
     "output_type": "execute_result"
    }
   ],
   "source": [
    "#Count the number of occurences that a specific subset arrives in the set of sets\n",
    "t[t['combination'].apply(lambda x: {1,2,3,4,5}.issubset(x)) == True]['encrypted_customer_id'].nunique()"
   ]
  },
  {
   "cell_type": "markdown",
   "metadata": {},
   "source": [
    "## Days between purchases of seasons, in percentiles"
   ]
  },
  {
   "cell_type": "code",
   "execution_count": 32,
   "metadata": {},
   "outputs": [],
   "source": [
    "# for i in range(2,7+1):\n",
    "#     print(\"Percentiles from season %d to previous one\" %i)   \n",
    "#     print(df_wide[ pd.isnull(df_wide[i]) == False ][i].quantile(np.linspace(.1, 1, 9, 0), 'lower'))"
   ]
  },
  {
   "cell_type": "code",
   "execution_count": 33,
   "metadata": {},
   "outputs": [],
   "source": [
    "# for i in range(2,7+1):\n",
    "#     print(\"Average time of purchase between season %d and previous one\" %i)   \n",
    "#     print(df_wide[ pd.isnull(df_wide[i]) == False ][i].mean())"
   ]
  },
  {
   "cell_type": "markdown",
   "metadata": {},
   "source": [
    "# Restrict mean time analysis to a particular timeframe"
   ]
  },
  {
   "cell_type": "code",
   "execution_count": 34,
   "metadata": {},
   "outputs": [],
   "source": [
    "df_restricted = df[ (df['transaction_date'] >= '2018-08-01' ) &  (df['transaction_date'] < '2019-01-01' )  ]\n",
    "\n",
    "df_wide_restricted = add_intervals(df_restricted)"
   ]
  },
  {
   "cell_type": "code",
   "execution_count": 35,
   "metadata": {},
   "outputs": [],
   "source": [
    "# for i in range(2,7+1):\n",
    "#     print(\"Percentiles from season %d to previous one\" %i)   \n",
    "#     print(df_wide_restricted[ pd.isnull(df_wide_restricted[i]) == False ][i].quantile(np.linspace(.1, 1, 9, 0), 'lower'))\n",
    "#     print(df_wide_restricted[pd.isnull(df_wide_restricted[i]) == False ]['encrypted_customer_id'].nunique())"
   ]
  },
  {
   "cell_type": "code",
   "execution_count": 36,
   "metadata": {},
   "outputs": [],
   "source": [
    "# for i in range(2,7+1):\n",
    "#     print(\"Average time of purchase between season %d and previous one\" %i)   \n",
    "#     print(df_wide_restricted[ pd.isnull(df_wide_restricted[i]) == False ][i].mean())"
   ]
  },
  {
   "cell_type": "code",
   "execution_count": 37,
   "metadata": {},
   "outputs": [
    {
     "data": {
      "text/plain": [
       "title\n",
       "Game of Thrones - Staffel 1 [dt./OV]   2014-02-26\n",
       "Game of Thrones - Staffel 2 [dt./OV]   2014-02-26\n",
       "Game of Thrones - Staffel 3 [dt./OV]   2014-02-17\n",
       "Game of Thrones - Staffel 4 [dt./OV]   2014-08-05\n",
       "Game of Thrones - Staffel 5 [dt./OV]   2015-06-30\n",
       "Game of Thrones - Staffel 6 [dt./OV]   2016-04-26\n",
       "Game of Thrones - Staffel 7 [dt./OV]   2017-07-18\n",
       "Name: transaction_date, dtype: datetime64[ns]"
      ]
     },
     "execution_count": 37,
     "metadata": {},
     "output_type": "execute_result"
    }
   ],
   "source": [
    "#Check min transaction\n",
    "df.groupby(\"title\")['transaction_date'].min()"
   ]
  }
 ],
 "metadata": {
  "kernelspec": {
   "display_name": "Python 3",
   "language": "python",
   "name": "python3"
  },
  "language_info": {
   "codemirror_mode": {
    "name": "ipython",
    "version": 3
   },
   "file_extension": ".py",
   "mimetype": "text/x-python",
   "name": "python",
   "nbconvert_exporter": "python",
   "pygments_lexer": "ipython3",
   "version": "3.6.3"
  }
 },
 "nbformat": 4,
 "nbformat_minor": 2
}
