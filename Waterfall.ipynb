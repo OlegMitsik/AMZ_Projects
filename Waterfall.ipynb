{
 "cells": [
  {
   "cell_type": "markdown",
   "metadata": {},
   "source": [
    "# Waterfall"
   ]
  },
  {
   "cell_type": "markdown",
   "metadata": {},
   "source": [
    "<p> This notebook explores how customers buy seasons by looking into funnel: How many who bought season 1 also bought all subsequent seasons. </p>\n",
    "<p> Also, it looks into the median time between purchases of seasons </p>\n"
   ]
  },
  {
   "cell_type": "code",
   "execution_count": 1,
   "metadata": {
    "collapsed": true
   },
   "outputs": [],
   "source": [
    "import pandas as pd\n",
    "import numpy as np"
   ]
  },
  {
   "cell_type": "code",
   "execution_count": 2,
   "metadata": {},
   "outputs": [],
   "source": [
    "df = pd.read_csv(\"../GOT/data/waterfall_4.txt\", sep=\"\\t\", names = ['encrypted_customer_id','transaction_date','asin',\n",
    "                                                                  'content_type','title'])"
   ]
  },
  {
   "cell_type": "code",
   "execution_count": 3,
   "metadata": {},
   "outputs": [
    {
     "name": "stdout",
     "output_type": "stream",
     "text": [
      "(1229481, 5)\n"
     ]
    }
   ],
   "source": [
    "print(df.shape)"
   ]
  },
  {
   "cell_type": "code",
   "execution_count": 4,
   "metadata": {},
   "outputs": [
    {
     "name": "stderr",
     "output_type": "stream",
     "text": [
      "C:\\Users\\dfadeeff\\AppData\\Local\\Continuum\\anaconda3\\lib\\site-packages\\ipykernel_launcher.py:1: FutureWarning: currently extract(expand=None) means expand=False (return Index/Series/DataFrame) but in a future version of pandas this will be changed to expand=True (return DataFrame)\n",
      "  \"\"\"Entry point for launching an IPython kernel.\n"
     ]
    },
    {
     "data": {
      "text/html": [
       "<div>\n",
       "<style>\n",
       "    .dataframe thead tr:only-child th {\n",
       "        text-align: right;\n",
       "    }\n",
       "\n",
       "    .dataframe thead th {\n",
       "        text-align: left;\n",
       "    }\n",
       "\n",
       "    .dataframe tbody tr th {\n",
       "        vertical-align: top;\n",
       "    }\n",
       "</style>\n",
       "<table border=\"1\" class=\"dataframe\">\n",
       "  <thead>\n",
       "    <tr style=\"text-align: right;\">\n",
       "      <th></th>\n",
       "      <th>encrypted_customer_id</th>\n",
       "      <th>transaction_date</th>\n",
       "      <th>asin</th>\n",
       "      <th>content_type</th>\n",
       "      <th>title</th>\n",
       "      <th>season_number</th>\n",
       "      <th>days_since_epoch</th>\n",
       "    </tr>\n",
       "  </thead>\n",
       "  <tbody>\n",
       "    <tr>\n",
       "      <th>0</th>\n",
       "      <td>A3PCW9WC0GTF2Q</td>\n",
       "      <td>2017-08-15</td>\n",
       "      <td>B073VVVKNB</td>\n",
       "      <td>TV Season</td>\n",
       "      <td>Game of Thrones - Staffel 7 [dt./OV]</td>\n",
       "      <td>7</td>\n",
       "      <td>17393</td>\n",
       "    </tr>\n",
       "    <tr>\n",
       "      <th>1</th>\n",
       "      <td>A1A77UBUPOPZI1</td>\n",
       "      <td>2017-08-21</td>\n",
       "      <td>B00M3LG74C</td>\n",
       "      <td>TV Season</td>\n",
       "      <td>Game of Thrones - Staffel 4 [dt./OV]</td>\n",
       "      <td>4</td>\n",
       "      <td>17399</td>\n",
       "    </tr>\n",
       "    <tr>\n",
       "      <th>2</th>\n",
       "      <td>A3GKVH6E99LI3V</td>\n",
       "      <td>2017-07-30</td>\n",
       "      <td>B00I8ZYTRO</td>\n",
       "      <td>TV Season</td>\n",
       "      <td>Game of Thrones - Staffel 1 [dt./OV]</td>\n",
       "      <td>1</td>\n",
       "      <td>17377</td>\n",
       "    </tr>\n",
       "    <tr>\n",
       "      <th>3</th>\n",
       "      <td>A2R45O6WIV592C</td>\n",
       "      <td>2014-08-05</td>\n",
       "      <td>B00M3LG74C</td>\n",
       "      <td>TV Season</td>\n",
       "      <td>Game of Thrones - Staffel 4 [dt./OV]</td>\n",
       "      <td>4</td>\n",
       "      <td>16287</td>\n",
       "    </tr>\n",
       "    <tr>\n",
       "      <th>4</th>\n",
       "      <td>A9E4FJS969OCG</td>\n",
       "      <td>2016-09-18</td>\n",
       "      <td>B00I8ZVHDI</td>\n",
       "      <td>TV Season</td>\n",
       "      <td>Game of Thrones - Staffel 3 [dt./OV]</td>\n",
       "      <td>3</td>\n",
       "      <td>17062</td>\n",
       "    </tr>\n",
       "  </tbody>\n",
       "</table>\n",
       "</div>"
      ],
      "text/plain": [
       "  encrypted_customer_id transaction_date        asin content_type  \\\n",
       "0        A3PCW9WC0GTF2Q       2017-08-15  B073VVVKNB    TV Season   \n",
       "1        A1A77UBUPOPZI1       2017-08-21  B00M3LG74C    TV Season   \n",
       "2        A3GKVH6E99LI3V       2017-07-30  B00I8ZYTRO    TV Season   \n",
       "3        A2R45O6WIV592C       2014-08-05  B00M3LG74C    TV Season   \n",
       "4         A9E4FJS969OCG       2016-09-18  B00I8ZVHDI    TV Season   \n",
       "\n",
       "                                  title  season_number  days_since_epoch  \n",
       "0  Game of Thrones - Staffel 7 [dt./OV]              7             17393  \n",
       "1  Game of Thrones - Staffel 4 [dt./OV]              4             17399  \n",
       "2  Game of Thrones - Staffel 1 [dt./OV]              1             17377  \n",
       "3  Game of Thrones - Staffel 4 [dt./OV]              4             16287  \n",
       "4  Game of Thrones - Staffel 3 [dt./OV]              3             17062  "
      ]
     },
     "execution_count": 4,
     "metadata": {},
     "output_type": "execute_result"
    }
   ],
   "source": [
    "df['season_number'] =    df.title.str.extract('(\\d+)')\n",
    "df['season_number'] =    pd.to_numeric(df['season_number'] , errors='coerce')\n",
    "df['transaction_date'] = pd.to_datetime(df['transaction_date'])\n",
    "df['days_since_epoch'] = (pd.to_datetime(df['transaction_date']) - pd.datetime(1970,1,1)).dt.days\n",
    "df.head()"
   ]
  },
  {
   "cell_type": "code",
   "execution_count": 5,
   "metadata": {},
   "outputs": [
    {
     "data": {
      "text/plain": [
       "encrypted_customer_id            object\n",
       "transaction_date         datetime64[ns]\n",
       "asin                             object\n",
       "content_type                     object\n",
       "title                            object\n",
       "season_number                     int64\n",
       "days_since_epoch                  int64\n",
       "dtype: object"
      ]
     },
     "execution_count": 5,
     "metadata": {},
     "output_type": "execute_result"
    }
   ],
   "source": [
    "df.dtypes"
   ]
  },
  {
   "cell_type": "markdown",
   "metadata": {},
   "source": [
    "# Make proper waterfall"
   ]
  },
  {
   "cell_type": "code",
   "execution_count": 6,
   "metadata": {},
   "outputs": [
    {
     "data": {
      "text/plain": [
       "147453"
      ]
     },
     "execution_count": 6,
     "metadata": {},
     "output_type": "execute_result"
    }
   ],
   "source": [
    "base_customers = df[df['season_number'] == 1]['encrypted_customer_id']\n",
    "base_customers.nunique()"
   ]
  },
  {
   "cell_type": "code",
   "execution_count": 7,
   "metadata": {},
   "outputs": [],
   "source": [
    "list = []\n",
    "for i in range(min(df.season_number)+1, max(df.season_number) + 1):\n",
    "    s = df[(df['season_number'] == i) & (df['encrypted_customer_id'].isin(base_customers))]['encrypted_customer_id'].nunique()\n",
    "    list.append(s)"
   ]
  },
  {
   "cell_type": "code",
   "execution_count": 8,
   "metadata": {},
   "outputs": [
    {
     "data": {
      "text/plain": [
       "[100049, 85744, 80044, 74546, 75911, 78532]"
      ]
     },
     "execution_count": 8,
     "metadata": {},
     "output_type": "execute_result"
    }
   ],
   "source": [
    "list"
   ]
  },
  {
   "cell_type": "markdown",
   "metadata": {},
   "source": [
    "# Waterfall including all previous cohorts\n",
    "## Brute force"
   ]
  },
  {
   "cell_type": "code",
   "execution_count": 9,
   "metadata": {},
   "outputs": [
    {
     "data": {
      "text/plain": [
       "100049"
      ]
     },
     "execution_count": 9,
     "metadata": {},
     "output_type": "execute_result"
    }
   ],
   "source": [
    "s2 = df[(df['season_number'] == 2) & (df['encrypted_customer_id'].isin(base_customers))]['encrypted_customer_id']\n",
    "s2.nunique()"
   ]
  },
  {
   "cell_type": "code",
   "execution_count": 10,
   "metadata": {},
   "outputs": [
    {
     "data": {
      "text/plain": [
       "83421"
      ]
     },
     "execution_count": 10,
     "metadata": {},
     "output_type": "execute_result"
    }
   ],
   "source": [
    "s3 = df[(df['season_number'] == 3) & (df['encrypted_customer_id'].isin(s2))]['encrypted_customer_id']\n",
    "s3.nunique()"
   ]
  },
  {
   "cell_type": "code",
   "execution_count": 11,
   "metadata": {},
   "outputs": [
    {
     "data": {
      "text/plain": [
       "74739"
      ]
     },
     "execution_count": 11,
     "metadata": {},
     "output_type": "execute_result"
    }
   ],
   "source": [
    "s4 = df[(df['season_number'] == 4) & (df['encrypted_customer_id'].isin(s3)) ]['encrypted_customer_id']\n",
    "s4.nunique()"
   ]
  },
  {
   "cell_type": "code",
   "execution_count": 12,
   "metadata": {},
   "outputs": [
    {
     "data": {
      "text/plain": [
       "66353"
      ]
     },
     "execution_count": 12,
     "metadata": {},
     "output_type": "execute_result"
    }
   ],
   "source": [
    "s5 = df[(df['season_number'] == 5) & (df['encrypted_customer_id'].isin(s4))]['encrypted_customer_id']\n",
    "s5.nunique()"
   ]
  },
  {
   "cell_type": "code",
   "execution_count": 13,
   "metadata": {},
   "outputs": [
    {
     "data": {
      "text/plain": [
       "60163"
      ]
     },
     "execution_count": 13,
     "metadata": {},
     "output_type": "execute_result"
    }
   ],
   "source": [
    "s6 = df[(df['season_number'] == 6) & (df['encrypted_customer_id'].isin(s5))]['encrypted_customer_id']\n",
    "s6.nunique()"
   ]
  },
  {
   "cell_type": "code",
   "execution_count": 14,
   "metadata": {},
   "outputs": [
    {
     "data": {
      "text/plain": [
       "53340"
      ]
     },
     "execution_count": 14,
     "metadata": {},
     "output_type": "execute_result"
    }
   ],
   "source": [
    "s7 = df[(df['season_number'] == 7) & (df['encrypted_customer_id'].isin(s6))]['encrypted_customer_id']\n",
    "s7.nunique()"
   ]
  },
  {
   "cell_type": "markdown",
   "metadata": {},
   "source": [
    "## Recursive implementation"
   ]
  },
  {
   "cell_type": "code",
   "execution_count": 15,
   "metadata": {},
   "outputs": [],
   "source": [
    "def recursive_call_funnel(df,staffel):\n",
    "    if staffel == 1:\n",
    "        return df[df['season_number'] == 1]['encrypted_customer_id']\n",
    "    else :\n",
    "        return df[(df['season_number'] == staffel) \n",
    "                  & (df['encrypted_customer_id'].isin(recursive_call_funnel(df,staffel-1)))]['encrypted_customer_id']   "
   ]
  },
  {
   "cell_type": "code",
   "execution_count": 16,
   "metadata": {},
   "outputs": [],
   "source": [
    "list = []\n",
    "for i in range(1,8):\n",
    "    list.append(recursive_call_funnel(df,i).nunique())"
   ]
  },
  {
   "cell_type": "code",
   "execution_count": 17,
   "metadata": {},
   "outputs": [
    {
     "data": {
      "text/plain": [
       "[147453, 100049, 83421, 74739, 66353, 60163, 53340]"
      ]
     },
     "execution_count": 17,
     "metadata": {},
     "output_type": "execute_result"
    }
   ],
   "source": [
    "list"
   ]
  },
  {
   "cell_type": "code",
   "execution_count": 18,
   "metadata": {
    "collapsed": true
   },
   "outputs": [],
   "source": [
    "def recursive_call_funnel2(df,staffel):\n",
    "    if staffel <= 2 :\n",
    "        return df[df['season_number'] == 2]['encrypted_customer_id']\n",
    "    else :\n",
    "        return df[(df['season_number'] == staffel) \n",
    "                  & (df['encrypted_customer_id'].isin(recursive_call_funnel2(df,staffel-1)))]['encrypted_customer_id']   "
   ]
  },
  {
   "cell_type": "code",
   "execution_count": 19,
   "metadata": {},
   "outputs": [
    {
     "data": {
      "text/plain": [
       "[117905, 94358, 83429, 73141, 65761, 57774]"
      ]
     },
     "execution_count": 19,
     "metadata": {},
     "output_type": "execute_result"
    }
   ],
   "source": [
    "list2 = []\n",
    "for i in range(2,8):\n",
    "    list2.append(recursive_call_funnel2(df,i).nunique())\n",
    "list2"
   ]
  },
  {
   "cell_type": "code",
   "execution_count": 20,
   "metadata": {
    "collapsed": true
   },
   "outputs": [],
   "source": [
    "def recursive_call_funnel3(df,staffel):\n",
    "    if staffel <= 3 :\n",
    "        return df[df['season_number'] == 3]['encrypted_customer_id']\n",
    "    else :\n",
    "        return df[(df['season_number'] == staffel) \n",
    "                  & (df['encrypted_customer_id'].isin(recursive_call_funnel3(df,staffel-1)))]['encrypted_customer_id']   "
   ]
  },
  {
   "cell_type": "code",
   "execution_count": 21,
   "metadata": {},
   "outputs": [
    {
     "data": {
      "text/plain": [
       "[109499, 93199, 79971, 71174, 62044]"
      ]
     },
     "execution_count": 21,
     "metadata": {},
     "output_type": "execute_result"
    }
   ],
   "source": [
    "list3 = []\n",
    "for i in range(3,8):\n",
    "    list3.append(recursive_call_funnel3(df,i).nunique())\n",
    "list3"
   ]
  },
  {
   "cell_type": "code",
   "execution_count": 22,
   "metadata": {
    "collapsed": true
   },
   "outputs": [],
   "source": [
    "def recursive_call_funnel4(df,staffel):\n",
    "    if staffel <= 4 :\n",
    "        return df[df['season_number'] == 4]['encrypted_customer_id']\n",
    "    else :\n",
    "        return df[(df['season_number'] == staffel) \n",
    "                  & (df['encrypted_customer_id'].isin(recursive_call_funnel4(df,staffel-1)))]['encrypted_customer_id']   "
   ]
  },
  {
   "cell_type": "code",
   "execution_count": 23,
   "metadata": {},
   "outputs": [
    {
     "data": {
      "text/plain": [
       "[127494, 96520, 83780, 71852]"
      ]
     },
     "execution_count": 23,
     "metadata": {},
     "output_type": "execute_result"
    }
   ],
   "source": [
    "list4 = []\n",
    "for i in range(4,8):\n",
    "    list4.append(recursive_call_funnel4(df,i).nunique())\n",
    "list4"
   ]
  },
  {
   "cell_type": "code",
   "execution_count": 24,
   "metadata": {
    "collapsed": true
   },
   "outputs": [],
   "source": [
    "def recursive_call_funnel5(df,staffel):\n",
    "    if staffel <= 5 :\n",
    "        return df[df['season_number'] == 5]['encrypted_customer_id']\n",
    "    else :\n",
    "        return df[(df['season_number'] == staffel) \n",
    "                  & (df['encrypted_customer_id'].isin(recursive_call_funnel5(df,staffel-1)))]['encrypted_customer_id']   "
   ]
  },
  {
   "cell_type": "code",
   "execution_count": 25,
   "metadata": {},
   "outputs": [
    {
     "data": {
      "text/plain": [
       "[142427, 113024, 93841]"
      ]
     },
     "execution_count": 25,
     "metadata": {},
     "output_type": "execute_result"
    }
   ],
   "source": [
    "list5 = []\n",
    "for i in range(5,8):\n",
    "    list5.append(recursive_call_funnel5(df,i).nunique())\n",
    "list5"
   ]
  },
  {
   "cell_type": "code",
   "execution_count": 26,
   "metadata": {},
   "outputs": [],
   "source": [
    "def recursive_call_funnel6(df,staffel):\n",
    "   \n",
    "    if staffel <= 6:\n",
    "        return df[df['season_number'] == 6]['encrypted_customer_id']\n",
    "    else :\n",
    "        return df[( df['season_number'] == staffel ) \n",
    "                  & ( df['encrypted_customer_id'].isin( recursive_call_funnel6(df, staffel-1) ) )]['encrypted_customer_id']   "
   ]
  },
  {
   "cell_type": "code",
   "execution_count": 27,
   "metadata": {},
   "outputs": [
    {
     "data": {
      "text/plain": [
       "[214738, 161195]"
      ]
     },
     "execution_count": 27,
     "metadata": {},
     "output_type": "execute_result"
    }
   ],
   "source": [
    "list6 = []\n",
    "for i in range(6,8):\n",
    "    list6.append(recursive_call_funnel6(df,i).nunique())\n",
    "list6"
   ]
  },
  {
   "cell_type": "code",
   "execution_count": 28,
   "metadata": {},
   "outputs": [
    {
     "name": "stdout",
     "output_type": "stream",
     "text": [
      "147453\n",
      "117905\n",
      "109499\n",
      "127494\n",
      "142427\n",
      "214738\n",
      "367947\n"
     ]
    }
   ],
   "source": [
    "#Check number of unique customers who bought seasons\n",
    "\n",
    "for i in range(1,7+1):\n",
    "    print(df[df['season_number'] == i]['encrypted_customer_id'].nunique())"
   ]
  },
  {
   "cell_type": "markdown",
   "metadata": {},
   "source": [
    "# Median time between purchases\n"
   ]
  },
  {
   "cell_type": "code",
   "execution_count": 29,
   "metadata": {},
   "outputs": [],
   "source": [
    "df_wide = df.pivot_table(index = 'encrypted_customer_id', columns = 'title', values = 'days_since_epoch').reset_index()"
   ]
  },
  {
   "cell_type": "code",
   "execution_count": 38,
   "metadata": {},
   "outputs": [],
   "source": [
    "#df_wide.head()"
   ]
  },
  {
   "cell_type": "code",
   "execution_count": 31,
   "metadata": {},
   "outputs": [],
   "source": [
    "for i in range(2,df_wide.shape[1]):\n",
    "    df_wide[i] = df_wide.iloc[:,i] - df_wide.iloc[:,i-1]"
   ]
  },
  {
   "cell_type": "code",
   "execution_count": 39,
   "metadata": {},
   "outputs": [],
   "source": [
    "# print(df_wide.shape)\n",
    "# df_wide[df_wide['encrypted_customer_id'].isin(['A002922237RQVABI2X7ZZ', 'A0061406BM43X1RS4ADM'])]"
   ]
  },
  {
   "cell_type": "code",
   "execution_count": 37,
   "metadata": {},
   "outputs": [],
   "source": [
    "#Check what customers actually bought\n",
    "# df[df['encrypted_customer_id'].isin(['A002922237RQVABI2X7ZZ',\n",
    "#                                      'A0061406BM43X1RS4ADM'])].sort_values(by=['encrypted_customer_id','transaction_date'])"
   ]
  },
  {
   "cell_type": "markdown",
   "metadata": {},
   "source": [
    "## Days between purchases of seasons, in percentiles"
   ]
  },
  {
   "cell_type": "code",
   "execution_count": 34,
   "metadata": {},
   "outputs": [
    {
     "name": "stdout",
     "output_type": "stream",
     "text": [
      "Percentiles from season 2 to previous one\n",
      "0.1     0.0\n",
      "0.2     1.0\n",
      "0.3     2.0\n",
      "0.4     3.0\n",
      "0.5     4.0\n",
      "0.6     6.0\n",
      "0.7     9.0\n",
      "0.8    15.0\n",
      "0.9    40.0\n",
      "Name: 2, dtype: float64\n",
      "Percentiles from season 3 to previous one\n",
      "0.1     0.0\n",
      "0.2     1.0\n",
      "0.3     2.0\n",
      "0.4     3.0\n",
      "0.5     5.0\n",
      "0.6     6.0\n",
      "0.7     9.0\n",
      "0.8    14.0\n",
      "0.9    29.0\n",
      "Name: 3, dtype: float64\n",
      "Percentiles from season 4 to previous one\n",
      "0.1     0.0\n",
      "0.2     1.0\n",
      "0.3     2.0\n",
      "0.4     3.0\n",
      "0.5     4.0\n",
      "0.6     6.0\n",
      "0.7     9.0\n",
      "0.8    14.0\n",
      "0.9    30.0\n",
      "Name: 4, dtype: float64\n",
      "Percentiles from season 5 to previous one\n",
      "0.1      0.0\n",
      "0.2      1.0\n",
      "0.3      2.0\n",
      "0.4      3.0\n",
      "0.5      4.0\n",
      "0.6      6.0\n",
      "0.7      9.0\n",
      "0.8     17.0\n",
      "0.9    101.0\n",
      "Name: 5, dtype: float64\n",
      "Percentiles from season 6 to previous one\n",
      "0.1      0.0\n",
      "0.2      1.0\n",
      "0.3      3.0\n",
      "0.4      5.0\n",
      "0.5      7.0\n",
      "0.6     13.0\n",
      "0.7     36.0\n",
      "0.8    147.0\n",
      "0.9    285.0\n",
      "Name: 6, dtype: float64\n",
      "Percentiles from season 7 to previous one\n",
      "0.1      1.0\n",
      "0.2      4.0\n",
      "0.3      9.0\n",
      "0.4     97.0\n",
      "0.5    317.0\n",
      "0.6    395.0\n",
      "0.7    430.0\n",
      "0.8    445.0\n",
      "0.9    450.0\n",
      "Name: 7, dtype: float64\n"
     ]
    }
   ],
   "source": [
    "for i in range(2,7+1):\n",
    "    print(\"Percentiles from season %d to previous one\" %i)   \n",
    "    print(df_wide[ pd.isnull(df_wide[i]) == False ][i].quantile(np.linspace(.1, 1, 9, 0), 'lower'))"
   ]
  },
  {
   "cell_type": "code",
   "execution_count": 35,
   "metadata": {},
   "outputs": [
    {
     "name": "stdout",
     "output_type": "stream",
     "text": [
      "Average time of purchase between season 2 and previous one\n",
      "20.6877413400767\n",
      "Average time of purchase between season 3 and previous one\n",
      "13.288081099750487\n",
      "Average time of purchase between season 4 and previous one\n",
      "2.2985018822420504\n",
      "Average time of purchase between season 5 and previous one\n",
      "28.17579776212184\n",
      "Average time of purchase between season 6 and previous one\n",
      "59.33450122687807\n",
      "Average time of purchase between season 7 and previous one\n",
      "237.20601859032024\n"
     ]
    }
   ],
   "source": [
    "for i in range(2,7+1):\n",
    "    print(\"Average time of purchase between season %d and previous one\" %i)   \n",
    "    print(df_wide[ pd.isnull(df_wide[i]) == False ][i].mean())"
   ]
  },
  {
   "cell_type": "code",
   "execution_count": 36,
   "metadata": {},
   "outputs": [
    {
     "data": {
      "text/plain": [
       "title\n",
       "Game of Thrones - Staffel 1 [dt./OV]   2014-02-26\n",
       "Game of Thrones - Staffel 2 [dt./OV]   2014-02-26\n",
       "Game of Thrones - Staffel 3 [dt./OV]   2014-02-17\n",
       "Game of Thrones - Staffel 4 [dt./OV]   2014-08-05\n",
       "Game of Thrones - Staffel 5 [dt./OV]   2015-06-30\n",
       "Game of Thrones - Staffel 6 [dt./OV]   2016-04-26\n",
       "Game of Thrones - Staffel 7 [dt./OV]   2017-07-18\n",
       "Name: transaction_date, dtype: datetime64[ns]"
      ]
     },
     "execution_count": 36,
     "metadata": {},
     "output_type": "execute_result"
    }
   ],
   "source": [
    "#Check min transaction\n",
    "df.groupby(\"title\")['transaction_date'].min()"
   ]
  }
 ],
 "metadata": {
  "kernelspec": {
   "display_name": "Python 3",
   "language": "python",
   "name": "python3"
  },
  "language_info": {
   "codemirror_mode": {
    "name": "ipython",
    "version": 3
   },
   "file_extension": ".py",
   "mimetype": "text/x-python",
   "name": "python",
   "nbconvert_exporter": "python",
   "pygments_lexer": "ipython3",
   "version": "3.6.3"
  }
 },
 "nbformat": 4,
 "nbformat_minor": 2
}
