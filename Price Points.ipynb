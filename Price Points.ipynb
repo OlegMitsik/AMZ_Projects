{
 "cells": [
  {
   "cell_type": "markdown",
   "metadata": {},
   "source": [
    "# Workbook explores results of the test by price points"
   ]
  },
  {
   "cell_type": "code",
   "execution_count": 63,
   "metadata": {
    "collapsed": true
   },
   "outputs": [],
   "source": [
    "import pandas as pd\n",
    "import numpy as np\n",
    "\n",
    "import matplotlib.pyplot as plt\n",
    "%matplotlib inline"
   ]
  },
  {
   "cell_type": "code",
   "execution_count": 540,
   "metadata": {},
   "outputs": [],
   "source": [
    "df = pd.read_csv(\"Z://00_ETL/TV_test/asin_date_3.txt\", sep=\"\\t\",\n",
    "                 encoding = \"ISO-8859-1\", header=None, \n",
    "                 names = ['week_ending','is_promo','asin','is_promo_asin',\n",
    "                          'content','title_name',\n",
    "                         'studio_name','contract_id',\n",
    "                          'release_date','is_hd',\n",
    "                          'display_price','customers',\n",
    "                          'new_customers','OPS','units','cogs','ppm'])\n",
    "df['week_ending'] = pd.to_datetime(df['week_ending'])\n",
    "df['release_date'] = pd.to_datetime(df['release_date'])"
   ]
  },
  {
   "cell_type": "code",
   "execution_count": 541,
   "metadata": {},
   "outputs": [
    {
     "data": {
      "text/html": [
       "<div>\n",
       "<style>\n",
       "    .dataframe thead tr:only-child th {\n",
       "        text-align: right;\n",
       "    }\n",
       "\n",
       "    .dataframe thead th {\n",
       "        text-align: left;\n",
       "    }\n",
       "\n",
       "    .dataframe tbody tr th {\n",
       "        vertical-align: top;\n",
       "    }\n",
       "</style>\n",
       "<table border=\"1\" class=\"dataframe\">\n",
       "  <thead>\n",
       "    <tr style=\"text-align: right;\">\n",
       "      <th></th>\n",
       "      <th>week_ending</th>\n",
       "      <th>is_promo</th>\n",
       "      <th>asin</th>\n",
       "      <th>is_promo_asin</th>\n",
       "      <th>content</th>\n",
       "      <th>title_name</th>\n",
       "      <th>studio_name</th>\n",
       "      <th>contract_id</th>\n",
       "      <th>release_date</th>\n",
       "      <th>is_hd</th>\n",
       "      <th>display_price</th>\n",
       "      <th>customers</th>\n",
       "      <th>new_customers</th>\n",
       "      <th>OPS</th>\n",
       "      <th>units</th>\n",
       "      <th>cogs</th>\n",
       "      <th>ppm</th>\n",
       "    </tr>\n",
       "  </thead>\n",
       "  <tbody>\n",
       "    <tr>\n",
       "      <th>0</th>\n",
       "      <td>2018-01-06</td>\n",
       "      <td>non_promo_period</td>\n",
       "      <td>B01FYM8RSK</td>\n",
       "      <td>non_promo_asins</td>\n",
       "      <td>Episode</td>\n",
       "      <td>Dino Dash</td>\n",
       "      <td>NICKELODEON</td>\n",
       "      <td>UXMT3</td>\n",
       "      <td>2016-05-23</td>\n",
       "      <td>N</td>\n",
       "      <td>1.89</td>\n",
       "      <td>19</td>\n",
       "      <td>0</td>\n",
       "      <td>29.83</td>\n",
       "      <td>19</td>\n",
       "      <td>20.90</td>\n",
       "      <td>0.2993</td>\n",
       "    </tr>\n",
       "    <tr>\n",
       "      <th>1</th>\n",
       "      <td>2018-01-06</td>\n",
       "      <td>non_promo_period</td>\n",
       "      <td>B074N3W3QL</td>\n",
       "      <td>non_promo_asins</td>\n",
       "      <td>Movie</td>\n",
       "      <td>The Hitman's Bodyguard</td>\n",
       "      <td>Lionsgate</td>\n",
       "      <td>UXLG3</td>\n",
       "      <td>2017-12-11</td>\n",
       "      <td>Y</td>\n",
       "      <td>4.49</td>\n",
       "      <td>3551</td>\n",
       "      <td>242</td>\n",
       "      <td>13304.72</td>\n",
       "      <td>3554</td>\n",
       "      <td>9199.78</td>\n",
       "      <td>0.3085</td>\n",
       "    </tr>\n",
       "    <tr>\n",
       "      <th>2</th>\n",
       "      <td>2018-01-13</td>\n",
       "      <td>non_promo_period</td>\n",
       "      <td>B00ET09QQQ</td>\n",
       "      <td>non_promo_asins</td>\n",
       "      <td>Movie</td>\n",
       "      <td>Up</td>\n",
       "      <td>Disney</td>\n",
       "      <td>UXDY3</td>\n",
       "      <td>2017-03-09</td>\n",
       "      <td>Y</td>\n",
       "      <td>3.49</td>\n",
       "      <td>107</td>\n",
       "      <td>11</td>\n",
       "      <td>320.10</td>\n",
       "      <td>110</td>\n",
       "      <td>190.75</td>\n",
       "      <td>0.4040</td>\n",
       "    </tr>\n",
       "    <tr>\n",
       "      <th>3</th>\n",
       "      <td>2018-01-20</td>\n",
       "      <td>non_promo_period</td>\n",
       "      <td>B00H36AET6</td>\n",
       "      <td>non_promo_asins</td>\n",
       "      <td>Movie</td>\n",
       "      <td>Predators</td>\n",
       "      <td>Twentieth Century Fox</td>\n",
       "      <td>UXFX3</td>\n",
       "      <td>2014-01-01</td>\n",
       "      <td>Y</td>\n",
       "      <td>2.99</td>\n",
       "      <td>36</td>\n",
       "      <td>3</td>\n",
       "      <td>89.64</td>\n",
       "      <td>36</td>\n",
       "      <td>72.72</td>\n",
       "      <td>0.1887</td>\n",
       "    </tr>\n",
       "    <tr>\n",
       "      <th>4</th>\n",
       "      <td>2018-01-27</td>\n",
       "      <td>non_promo_period</td>\n",
       "      <td>B077MSYZSL</td>\n",
       "      <td>non_promo_asins</td>\n",
       "      <td>Episode</td>\n",
       "      <td>Episode 2</td>\n",
       "      <td>BBC 2</td>\n",
       "      <td>UXBB3</td>\n",
       "      <td>2017-11-23</td>\n",
       "      <td>Y</td>\n",
       "      <td>2.49</td>\n",
       "      <td>3165</td>\n",
       "      <td>108</td>\n",
       "      <td>6558.21</td>\n",
       "      <td>3167</td>\n",
       "      <td>4541.69</td>\n",
       "      <td>0.3074</td>\n",
       "    </tr>\n",
       "  </tbody>\n",
       "</table>\n",
       "</div>"
      ],
      "text/plain": [
       "  week_ending          is_promo        asin    is_promo_asin  content  \\\n",
       "0  2018-01-06  non_promo_period  B01FYM8RSK  non_promo_asins  Episode   \n",
       "1  2018-01-06  non_promo_period  B074N3W3QL  non_promo_asins    Movie   \n",
       "2  2018-01-13  non_promo_period  B00ET09QQQ  non_promo_asins    Movie   \n",
       "3  2018-01-20  non_promo_period  B00H36AET6  non_promo_asins    Movie   \n",
       "4  2018-01-27  non_promo_period  B077MSYZSL  non_promo_asins  Episode   \n",
       "\n",
       "               title_name            studio_name contract_id release_date  \\\n",
       "0               Dino Dash            NICKELODEON       UXMT3   2016-05-23   \n",
       "1  The Hitman's Bodyguard              Lionsgate       UXLG3   2017-12-11   \n",
       "2                      Up                 Disney       UXDY3   2017-03-09   \n",
       "3               Predators  Twentieth Century Fox       UXFX3   2014-01-01   \n",
       "4               Episode 2                  BBC 2       UXBB3   2017-11-23   \n",
       "\n",
       "  is_hd  display_price  customers  new_customers       OPS  units     cogs  \\\n",
       "0     N           1.89         19              0     29.83     19    20.90   \n",
       "1     Y           4.49       3551            242  13304.72   3554  9199.78   \n",
       "2     Y           3.49        107             11    320.10    110   190.75   \n",
       "3     Y           2.99         36              3     89.64     36    72.72   \n",
       "4     Y           2.49       3165            108   6558.21   3167  4541.69   \n",
       "\n",
       "      ppm  \n",
       "0  0.2993  \n",
       "1  0.3085  \n",
       "2  0.4040  \n",
       "3  0.1887  \n",
       "4  0.3074  "
      ]
     },
     "execution_count": 541,
     "metadata": {},
     "output_type": "execute_result"
    }
   ],
   "source": [
    "df.head()"
   ]
  },
  {
   "cell_type": "markdown",
   "metadata": {},
   "source": [
    "# Subset Seasons, ie leave only Seasons in the dataset"
   ]
  },
  {
   "cell_type": "code",
   "execution_count": 542,
   "metadata": {
    "collapsed": true
   },
   "outputs": [],
   "source": [
    "df = df[df['content'] == \"Season\"]"
   ]
  },
  {
   "cell_type": "markdown",
   "metadata": {},
   "source": [
    "# Distribution of promo OPS by price points"
   ]
  },
  {
   "cell_type": "code",
   "execution_count": 543,
   "metadata": {
    "collapsed": true
   },
   "outputs": [],
   "source": [
    "def dist_by_revenue(df):\n",
    "    t = pd.DataFrame(df[(df['is_promo'] == 'promo_period')\n",
    "                        & (df['is_promo_asin'] == \"promo_asins\")].groupby(\"display_price\")['OPS'].sum().reset_index())\n",
    "    t.columns = ['display_price','OPS']\n",
    "    t['share'] = t['OPS'] / t['OPS'].sum()\n",
    "    t['cumsum'] = t['share'].cumsum()\n",
    "    return t"
   ]
  },
  {
   "cell_type": "code",
   "execution_count": 566,
   "metadata": {},
   "outputs": [
    {
     "data": {
      "text/html": [
       "<div>\n",
       "<style>\n",
       "    .dataframe thead tr:only-child th {\n",
       "        text-align: right;\n",
       "    }\n",
       "\n",
       "    .dataframe thead th {\n",
       "        text-align: left;\n",
       "    }\n",
       "\n",
       "    .dataframe tbody tr th {\n",
       "        vertical-align: top;\n",
       "    }\n",
       "</style>\n",
       "<table border=\"1\" class=\"dataframe\">\n",
       "  <thead>\n",
       "    <tr style=\"text-align: right;\">\n",
       "      <th></th>\n",
       "      <th>display_price</th>\n",
       "      <th>OPS</th>\n",
       "      <th>share</th>\n",
       "      <th>cumsum</th>\n",
       "    </tr>\n",
       "  </thead>\n",
       "  <tbody>\n",
       "    <tr>\n",
       "      <th>0</th>\n",
       "      <td>1.89</td>\n",
       "      <td>264.08</td>\n",
       "      <td>0.000198</td>\n",
       "      <td>0.000198</td>\n",
       "    </tr>\n",
       "    <tr>\n",
       "      <th>1</th>\n",
       "      <td>2.49</td>\n",
       "      <td>531.28</td>\n",
       "      <td>0.000398</td>\n",
       "      <td>0.000595</td>\n",
       "    </tr>\n",
       "    <tr>\n",
       "      <th>2</th>\n",
       "      <td>2.99</td>\n",
       "      <td>150.44</td>\n",
       "      <td>0.000113</td>\n",
       "      <td>0.000708</td>\n",
       "    </tr>\n",
       "    <tr>\n",
       "      <th>3</th>\n",
       "      <td>3.78</td>\n",
       "      <td>119.69</td>\n",
       "      <td>0.000090</td>\n",
       "      <td>0.000797</td>\n",
       "    </tr>\n",
       "    <tr>\n",
       "      <th>4</th>\n",
       "      <td>3.99</td>\n",
       "      <td>5587.17</td>\n",
       "      <td>0.004181</td>\n",
       "      <td>0.004978</td>\n",
       "    </tr>\n",
       "  </tbody>\n",
       "</table>\n",
       "</div>"
      ],
      "text/plain": [
       "   display_price      OPS     share    cumsum\n",
       "0           1.89   264.08  0.000198  0.000198\n",
       "1           2.49   531.28  0.000398  0.000595\n",
       "2           2.99   150.44  0.000113  0.000708\n",
       "3           3.78   119.69  0.000090  0.000797\n",
       "4           3.99  5587.17  0.004181  0.004978"
      ]
     },
     "execution_count": 566,
     "metadata": {},
     "output_type": "execute_result"
    }
   ],
   "source": [
    "t = dist_by_revenue(df)\n",
    "t.head()"
   ]
  },
  {
   "cell_type": "code",
   "execution_count": 567,
   "metadata": {},
   "outputs": [
    {
     "data": {
      "text/plain": [
       "0.9415134473498336"
      ]
     },
     "execution_count": 567,
     "metadata": {},
     "output_type": "execute_result"
    }
   ],
   "source": [
    "#Check the share of OPS covered by those 3 price points\n",
    "t[t['display_price'].isin([4.99, 9.99, 14.99])]['OPS'].sum() / t['OPS'].sum()"
   ]
  },
  {
   "cell_type": "markdown",
   "metadata": {},
   "source": [
    "## Get ASINs in promo at these price points in the non promo period \n",
    "\n",
    "<p> The idea is to compare ASINs which are at this price points in the promo and non promo period </p>"
   ]
  },
  {
   "cell_type": "code",
   "execution_count": 568,
   "metadata": {
    "collapsed": true
   },
   "outputs": [],
   "source": [
    "def get_asin_at_price_points(df):\n",
    "    \"\"\"function selects asins that had certain price points\n",
    "    and selects from pre period the same ones to make proper comparison\"\"\"\n",
    "    asin_list = df[(df['is_promo'] == 'promo_period') \n",
    "               & (df['is_promo_asin'] == \"promo_asins\") \n",
    "               & (df['display_price'].isin([4.99, 9.99, 14.99]))]\n",
    "    \n",
    "    asin_subset = df[(df['asin'].isin(asin_list['asin']))]\n",
    "    \n",
    "    #Here you delete all rows which dont satisfy some condition\n",
    "    asin_subset = asin_subset.drop(asin_subset[(asin_subset['is_promo'] == \"promo_period\") \n",
    "                                           & (asin_subset['is_promo_asin'] == \"promo_asins\")\n",
    "                                          & (~asin_subset['display_price'].isin([4.99,9.99,14.99]))].index)\n",
    "    return asin_subset"
   ]
  },
  {
   "cell_type": "code",
   "execution_count": 569,
   "metadata": {
    "collapsed": true
   },
   "outputs": [],
   "source": [
    "def prep_dataset(df):\n",
    "    a = pd.DataFrame(df.groupby([\"is_promo\",\"asin\"])['week_ending'].size().reset_index())\n",
    "    key_metrics = pd.DataFrame(df.groupby([\"is_promo\",\"asin\"])['OPS','units'].sum().reset_index())\n",
    "    m = pd.merge(left=key_metrics,right=a,left_on=['is_promo','asin'],right_on=['is_promo','asin'], how = 'left')\n",
    "    m['OPS_per_week'] = m['OPS'] / m['week_ending']\n",
    "    m['units_per_week'] = m['units'] / m['week_ending']\n",
    "    \n",
    "    after = pd.DataFrame(asin_subset[asin_subset['is_promo']=='promo_period'].\n",
    "                         groupby([\"asin\",'is_promo'])[\"display_price\"].min().reset_index())\n",
    "    before = pd.DataFrame(asin_subset[asin_subset['is_promo']=='non_promo_period'].\n",
    "                          groupby([\"asin\",'is_promo'])[\"display_price\"].mean().reset_index())\n",
    "    all_prices = after.append(before, ignore_index=True)\n",
    "    key_out = pd.merge(left=m,right=all_prices,left_on=['is_promo','asin'],right_on=['is_promo','asin'],how=\"left\")\n",
    "    key_out = pd.merge(left=key_out,right=after[['asin','display_price']],left_on=\"asin\",right_on=\"asin\",how=\"left\")\n",
    "    \n",
    "    return key_out"
   ]
  },
  {
   "cell_type": "code",
   "execution_count": 570,
   "metadata": {
    "collapsed": true
   },
   "outputs": [],
   "source": [
    "asin_subset = get_asin_at_price_points(df)"
   ]
  },
  {
   "cell_type": "code",
   "execution_count": 571,
   "metadata": {},
   "outputs": [],
   "source": [
    "key_metrics = prep_dataset(asin_subset)"
   ]
  },
  {
   "cell_type": "code",
   "execution_count": 572,
   "metadata": {},
   "outputs": [
    {
     "data": {
      "text/html": [
       "<div>\n",
       "<style>\n",
       "    .dataframe thead tr:only-child th {\n",
       "        text-align: right;\n",
       "    }\n",
       "\n",
       "    .dataframe thead th {\n",
       "        text-align: left;\n",
       "    }\n",
       "\n",
       "    .dataframe tbody tr th {\n",
       "        vertical-align: top;\n",
       "    }\n",
       "</style>\n",
       "<table border=\"1\" class=\"dataframe\">\n",
       "  <thead>\n",
       "    <tr style=\"text-align: right;\">\n",
       "      <th></th>\n",
       "      <th>OPS_per_week</th>\n",
       "      <th>units_per_week</th>\n",
       "    </tr>\n",
       "    <tr>\n",
       "      <th>is_promo</th>\n",
       "      <th></th>\n",
       "      <th></th>\n",
       "    </tr>\n",
       "  </thead>\n",
       "  <tbody>\n",
       "    <tr>\n",
       "      <th>non_promo_period</th>\n",
       "      <td>47.797937</td>\n",
       "      <td>5.388862</td>\n",
       "    </tr>\n",
       "    <tr>\n",
       "      <th>promo_period</th>\n",
       "      <td>43.707111</td>\n",
       "      <td>9.486052</td>\n",
       "    </tr>\n",
       "  </tbody>\n",
       "</table>\n",
       "</div>"
      ],
      "text/plain": [
       "                  OPS_per_week  units_per_week\n",
       "is_promo                                      \n",
       "non_promo_period     47.797937        5.388862\n",
       "promo_period         43.707111        9.486052"
      ]
     },
     "execution_count": 572,
     "metadata": {},
     "output_type": "execute_result"
    }
   ],
   "source": [
    "#Overall stats\n",
    "key_metrics.groupby(\"is_promo\")['OPS_per_week','units_per_week'].mean()"
   ]
  },
  {
   "cell_type": "code",
   "execution_count": 573,
   "metadata": {
    "collapsed": true
   },
   "outputs": [],
   "source": [
    "def get_output(df, metric):\n",
    "    output = pd.DataFrame(df.groupby([\"is_promo\",'display_price_y'])\n",
    "                          ['OPS_per_week','units_per_week'].mean().reset_index())\n",
    "    \n",
    "    \n",
    "    kk = pd.pivot_table(output, index = \"display_price_y\",\n",
    "                        columns=\"is_promo\", values = [metric])\n",
    "    kk.columns = kk.columns.droplevel()\n",
    "    kk = kk.reset_index()\n",
    "    kk['change_in_metric'] = (kk['non_promo_period'] - kk['promo_period']) / kk['non_promo_period']\n",
    "    kk['change_promo_vs_non_promo_in_%'] = (kk['promo_period'] / kk['non_promo_period']-1)*100\n",
    "    return kk\n",
    "    "
   ]
  },
  {
   "cell_type": "code",
   "execution_count": 574,
   "metadata": {},
   "outputs": [
    {
     "data": {
      "text/html": [
       "<div>\n",
       "<style>\n",
       "    .dataframe thead tr:only-child th {\n",
       "        text-align: right;\n",
       "    }\n",
       "\n",
       "    .dataframe thead th {\n",
       "        text-align: left;\n",
       "    }\n",
       "\n",
       "    .dataframe tbody tr th {\n",
       "        vertical-align: top;\n",
       "    }\n",
       "</style>\n",
       "<table border=\"1\" class=\"dataframe\">\n",
       "  <thead>\n",
       "    <tr style=\"text-align: right;\">\n",
       "      <th>is_promo</th>\n",
       "      <th>display_price_y</th>\n",
       "      <th>non_promo_period</th>\n",
       "      <th>promo_period</th>\n",
       "      <th>change_in_metric</th>\n",
       "      <th>change_promo_vs_non_promo_in_%</th>\n",
       "    </tr>\n",
       "  </thead>\n",
       "  <tbody>\n",
       "    <tr>\n",
       "      <th>0</th>\n",
       "      <td>4.99</td>\n",
       "      <td>4.478701</td>\n",
       "      <td>9.011301</td>\n",
       "      <td>-1.012034</td>\n",
       "      <td>101.203449</td>\n",
       "    </tr>\n",
       "    <tr>\n",
       "      <th>1</th>\n",
       "      <td>9.99</td>\n",
       "      <td>15.391821</td>\n",
       "      <td>15.377548</td>\n",
       "      <td>0.000927</td>\n",
       "      <td>-0.092729</td>\n",
       "    </tr>\n",
       "    <tr>\n",
       "      <th>2</th>\n",
       "      <td>14.99</td>\n",
       "      <td>1.323214</td>\n",
       "      <td>1.038462</td>\n",
       "      <td>0.215198</td>\n",
       "      <td>-21.519776</td>\n",
       "    </tr>\n",
       "  </tbody>\n",
       "</table>\n",
       "</div>"
      ],
      "text/plain": [
       "is_promo  display_price_y  non_promo_period  promo_period  change_in_metric  \\\n",
       "0                    4.99          4.478701      9.011301         -1.012034   \n",
       "1                    9.99         15.391821     15.377548          0.000927   \n",
       "2                   14.99          1.323214      1.038462          0.215198   \n",
       "\n",
       "is_promo  change_promo_vs_non_promo_in_%  \n",
       "0                             101.203449  \n",
       "1                              -0.092729  \n",
       "2                             -21.519776  "
      ]
     },
     "execution_count": 574,
     "metadata": {},
     "output_type": "execute_result"
    }
   ],
   "source": [
    "output = get_output(key_metrics,\"units_per_week\")\n",
    "output"
   ]
  },
  {
   "cell_type": "markdown",
   "metadata": {},
   "source": [
    "# Evaluate elasticity of demand\n",
    "<p> E = percentage_change_in_quantity to percentage_change_in_price </p>"
   ]
  },
  {
   "cell_type": "code",
   "execution_count": 575,
   "metadata": {
    "collapsed": true
   },
   "outputs": [],
   "source": [
    "def get_change_in_price(df, metric):\n",
    "    df['per_change_price'] = (df['display_price_x'] \n",
    "                                   - df['display_price_y']) / df['display_price_x']\n",
    "    k = pd.DataFrame(df[df['is_promo'] == \"non_promo_period\"].\n",
    "                     groupby(\"display_price_y\")['per_change_price'].mean().reset_index())\n",
    "    \n",
    "    f = get_output(df, metric)\n",
    "    final = pd.merge(left=f,right=k,left_on=\"display_price_y\",right_on=\"display_price_y\",how=\"left\")\n",
    "    final['elasticity'] = final['change_in_metric'] / final['per_change_price']\n",
    "    return final\n",
    "    "
   ]
  },
  {
   "cell_type": "code",
   "execution_count": 576,
   "metadata": {},
   "outputs": [],
   "source": [
    "final = get_change_in_price(key_metrics,\"units_per_week\")"
   ]
  },
  {
   "cell_type": "code",
   "execution_count": 577,
   "metadata": {},
   "outputs": [
    {
     "data": {
      "text/html": [
       "<div>\n",
       "<style>\n",
       "    .dataframe thead tr:only-child th {\n",
       "        text-align: right;\n",
       "    }\n",
       "\n",
       "    .dataframe thead th {\n",
       "        text-align: left;\n",
       "    }\n",
       "\n",
       "    .dataframe tbody tr th {\n",
       "        vertical-align: top;\n",
       "    }\n",
       "</style>\n",
       "<table border=\"1\" class=\"dataframe\">\n",
       "  <thead>\n",
       "    <tr style=\"text-align: right;\">\n",
       "      <th></th>\n",
       "      <th>display_price_y</th>\n",
       "      <th>non_promo_period</th>\n",
       "      <th>promo_period</th>\n",
       "      <th>change_in_metric</th>\n",
       "      <th>change_promo_vs_non_promo_in_%</th>\n",
       "      <th>per_change_price</th>\n",
       "      <th>elasticity</th>\n",
       "    </tr>\n",
       "  </thead>\n",
       "  <tbody>\n",
       "    <tr>\n",
       "      <th>0</th>\n",
       "      <td>4.99</td>\n",
       "      <td>4.478701</td>\n",
       "      <td>9.011301</td>\n",
       "      <td>-1.012034</td>\n",
       "      <td>101.203449</td>\n",
       "      <td>5.353249e-01</td>\n",
       "      <td>-1.890505e+00</td>\n",
       "    </tr>\n",
       "    <tr>\n",
       "      <th>1</th>\n",
       "      <td>9.99</td>\n",
       "      <td>15.391821</td>\n",
       "      <td>15.377548</td>\n",
       "      <td>0.000927</td>\n",
       "      <td>-0.092729</td>\n",
       "      <td>2.612969e-01</td>\n",
       "      <td>3.548807e-03</td>\n",
       "    </tr>\n",
       "    <tr>\n",
       "      <th>2</th>\n",
       "      <td>14.99</td>\n",
       "      <td>1.323214</td>\n",
       "      <td>1.038462</td>\n",
       "      <td>0.215198</td>\n",
       "      <td>-21.519776</td>\n",
       "      <td>-1.481285e-17</td>\n",
       "      <td>-1.452778e+16</td>\n",
       "    </tr>\n",
       "  </tbody>\n",
       "</table>\n",
       "</div>"
      ],
      "text/plain": [
       "   display_price_y  non_promo_period  promo_period  change_in_metric  \\\n",
       "0             4.99          4.478701      9.011301         -1.012034   \n",
       "1             9.99         15.391821     15.377548          0.000927   \n",
       "2            14.99          1.323214      1.038462          0.215198   \n",
       "\n",
       "   change_promo_vs_non_promo_in_%  per_change_price    elasticity  \n",
       "0                      101.203449      5.353249e-01 -1.890505e+00  \n",
       "1                       -0.092729      2.612969e-01  3.548807e-03  \n",
       "2                      -21.519776     -1.481285e-17 -1.452778e+16  "
      ]
     },
     "execution_count": 577,
     "metadata": {},
     "output_type": "execute_result"
    }
   ],
   "source": [
    "final"
   ]
  },
  {
   "cell_type": "code",
   "execution_count": null,
   "metadata": {},
   "outputs": [],
   "source": []
  }
 ],
 "metadata": {
  "kernelspec": {
   "display_name": "Python 3",
   "language": "python",
   "name": "python3"
  },
  "language_info": {
   "codemirror_mode": {
    "name": "ipython",
    "version": 3
   },
   "file_extension": ".py",
   "mimetype": "text/x-python",
   "name": "python",
   "nbconvert_exporter": "python",
   "pygments_lexer": "ipython3",
   "version": "3.6.3"
  }
 },
 "nbformat": 4,
 "nbformat_minor": 2
}
