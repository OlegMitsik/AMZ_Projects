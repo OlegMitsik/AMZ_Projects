{
 "cells": [
  {
   "cell_type": "code",
   "execution_count": 1,
   "metadata": {
    "collapsed": true
   },
   "outputs": [],
   "source": [
    "import pandas as pd\n",
    "import numpy as np"
   ]
  },
  {
   "cell_type": "code",
   "execution_count": 2,
   "metadata": {},
   "outputs": [],
   "source": [
    "#read the large csv file with specified chunksize \n",
    "df_chunk = pd.read_csv(\"//ant/dept-eu/LHR16/Dept4/AIV-TVOD/BI/PMD_Analysis/PMD_data_PMD_cohortRed4.txt\", sep='\\t', \n",
    "                       low_memory = False, encoding = 'ISO-8859-1', chunksize = 1000000, error_bad_lines = False)\n"
   ]
  },
  {
   "cell_type": "code",
   "execution_count": 3,
   "metadata": {
    "collapsed": true
   },
   "outputs": [],
   "source": [
    "def make_prep(df):\n",
    "\n",
    "    df['transaction_date_local'] = pd.to_datetime(df['transaction_date_local'])\n",
    "    df['transaction_datetime_local'] = pd.to_datetime(df['transaction_datetime_local'])\n",
    "    df['first_purchase_date'] = pd.to_datetime(df['first_purchase_date'])\n",
    "    df['tenure'] = [int(i.days) for i in (max(df['transaction_date_local']) - df['first_purchase_date'])]\n",
    "    df['cumulative_sum_total'] = df['cumulative_sum_total'].astype(float)\n",
    "    df['tenure_days_up_to_last_purchase'] = [int(i.days) for i in (df['transaction_date_local']) - df['first_purchase_date']] \n",
    "    df['tenure_days_up_to_last_purchase_corrected'] = np.where(df['tenure_days_up_to_last_purchase'] < 0, 0, df['tenure_days_up_to_last_purchase'] )\n",
    "    \n",
    "    df['tenure_months_up_to_last_purchase'] = df['tenure_days_up_to_last_purchase'] / 30\n",
    "    df['tenure_up_to_last_purchase_corrected'] = np.where(df['tenure_months_up_to_last_purchase'] < 1, 1, df['tenure_months_up_to_last_purchase']).astype(float)\n",
    "    df['arpu_monthly_dynamic'] = df['cumulative_sum_total'] / (df['tenure_up_to_last_purchase_corrected'])\n",
    "    \n",
    "    df['frequency'] = df.groupby('encrypted_customer_id')['tenure_days_up_to_last_purchase_corrected'].diff()\n",
    "    \n",
    "    pd.set_option('mode.chained_assignment', None)\n",
    "      # set default value\n",
    "    df['tenure_years'] = \"default\"\n",
    "    df['tenure_years'][(df['tenure'] < 360)] = \"under_year\"\n",
    "    df['tenure_years'][(df['tenure'] >= 360) & (df['tenure'] < 360*2)] = 'btw_1and2yrs'\n",
    "    df['tenure_years'][(df['tenure'] >= 360*2) & (df['tenure'] < 360*3)] = 'btw_2and3yrs'\n",
    "    df['tenure_years'][(df['tenure'] >= 360*3) & (df['tenure'] < 360*4)] = 'btw_3and4yrs'\n",
    "    df['tenure_years'][(df['tenure'] >= 360*4) & (df['tenure'] < 360*5)] = 'btw_4and5yrs'\n",
    "    df['tenure_years'][(df['tenure'] >= 360*5) ] = 'over_5years'\n",
    "    \n",
    "    \n",
    "    df = df.fillna(0)\n",
    "    \n",
    "    return df"
   ]
  },
  {
   "cell_type": "code",
   "execution_count": 4,
   "metadata": {
    "collapsed": true
   },
   "outputs": [],
   "source": [
    "chunk_list = []  # append each chunk df here \n",
    "\n",
    "# Each chunk is in df format\n",
    "for chunk in df_chunk:  \n",
    "    # perform data filtering \n",
    "    chunk_filter = make_prep(chunk)\n",
    "    \n",
    "    # Once the data filtering is done, append the chunk to list\n",
    "    chunk_list.append(chunk_filter)\n",
    "    \n",
    "# concat the list into dataframe \n",
    "df_concat = pd.concat(chunk_list)"
   ]
  },
  {
   "cell_type": "code",
   "execution_count": 5,
   "metadata": {
    "collapsed": true
   },
   "outputs": [],
   "source": [
    "#df_concat.to_pickle(\"data_granularDE.pkl\")\n",
    "df_concat.to_pickle(\"data_granularDE_pmdReduced.pkl\")"
   ]
  },
  {
   "cell_type": "code",
   "execution_count": null,
   "metadata": {
    "collapsed": true
   },
   "outputs": [],
   "source": [
    "#df_concatenated = pd.read_pickle(\"data_granularDE.pkl\")"
   ]
  },
  {
   "cell_type": "code",
   "execution_count": 6,
   "metadata": {},
   "outputs": [
    {
     "data": {
      "text/html": [
       "<div>\n",
       "<style>\n",
       "    .dataframe thead tr:only-child th {\n",
       "        text-align: right;\n",
       "    }\n",
       "\n",
       "    .dataframe thead th {\n",
       "        text-align: left;\n",
       "    }\n",
       "\n",
       "    .dataframe tbody tr th {\n",
       "        vertical-align: top;\n",
       "    }\n",
       "</style>\n",
       "<table border=\"1\" class=\"dataframe\">\n",
       "  <thead>\n",
       "    <tr style=\"text-align: right;\">\n",
       "      <th></th>\n",
       "      <th>marketplace_id</th>\n",
       "      <th>encrypted_customer_id</th>\n",
       "      <th>unencrypted_customer_id</th>\n",
       "      <th>transaction_date_local</th>\n",
       "      <th>transaction_datetime_local</th>\n",
       "      <th>week_ending</th>\n",
       "      <th>revenue</th>\n",
       "      <th>units</th>\n",
       "      <th>content_age</th>\n",
       "      <th>first_purchase_date</th>\n",
       "      <th>...</th>\n",
       "      <th>running_tenure_ever</th>\n",
       "      <th>running_arpu_monthly_ever</th>\n",
       "      <th>tenure</th>\n",
       "      <th>tenure_days_up_to_last_purchase</th>\n",
       "      <th>tenure_days_up_to_last_purchase_corrected</th>\n",
       "      <th>tenure_months_up_to_last_purchase</th>\n",
       "      <th>tenure_up_to_last_purchase_corrected</th>\n",
       "      <th>arpu_monthly_dynamic</th>\n",
       "      <th>frequency</th>\n",
       "      <th>tenure_years</th>\n",
       "    </tr>\n",
       "  </thead>\n",
       "  <tbody>\n",
       "    <tr>\n",
       "      <th>0</th>\n",
       "      <td>4</td>\n",
       "      <td>A0270938TP78M39R7CN6</td>\n",
       "      <td>9223372034564167251</td>\n",
       "      <td>2017-09-23</td>\n",
       "      <td>2017-09-23 19:38:40</td>\n",
       "      <td>2019-12-14 00:00:00</td>\n",
       "      <td>4.19</td>\n",
       "      <td>1</td>\n",
       "      <td>A_Under_30d</td>\n",
       "      <td>2017-09-23 19:38:40</td>\n",
       "      <td>...</td>\n",
       "      <td>0.0</td>\n",
       "      <td>4.1900</td>\n",
       "      <td>820</td>\n",
       "      <td>-1</td>\n",
       "      <td>0</td>\n",
       "      <td>-0.033333</td>\n",
       "      <td>1.000000</td>\n",
       "      <td>4.190000</td>\n",
       "      <td>0.0</td>\n",
       "      <td>btw_2and3yrs</td>\n",
       "    </tr>\n",
       "    <tr>\n",
       "      <th>1</th>\n",
       "      <td>4</td>\n",
       "      <td>A0270938TP78M39R7CN6</td>\n",
       "      <td>9223372034564167251</td>\n",
       "      <td>2017-11-24</td>\n",
       "      <td>2017-11-24 22:59:57</td>\n",
       "      <td>2019-12-14 00:00:00</td>\n",
       "      <td>0.83</td>\n",
       "      <td>1</td>\n",
       "      <td>B_30days_6m</td>\n",
       "      <td>2017-09-23 19:38:40</td>\n",
       "      <td>...</td>\n",
       "      <td>2.0</td>\n",
       "      <td>2.5100</td>\n",
       "      <td>820</td>\n",
       "      <td>61</td>\n",
       "      <td>61</td>\n",
       "      <td>2.033333</td>\n",
       "      <td>2.033333</td>\n",
       "      <td>2.468852</td>\n",
       "      <td>61.0</td>\n",
       "      <td>btw_2and3yrs</td>\n",
       "    </tr>\n",
       "    <tr>\n",
       "      <th>2</th>\n",
       "      <td>4</td>\n",
       "      <td>A0270938TP78M39R7CN6</td>\n",
       "      <td>9223372034564167251</td>\n",
       "      <td>2017-12-29</td>\n",
       "      <td>2017-12-29 23:36:51</td>\n",
       "      <td>2019-12-14 00:00:00</td>\n",
       "      <td>5.87</td>\n",
       "      <td>1</td>\n",
       "      <td>F_Over_3yr</td>\n",
       "      <td>2017-09-23 19:38:40</td>\n",
       "      <td>...</td>\n",
       "      <td>3.0</td>\n",
       "      <td>3.6300</td>\n",
       "      <td>820</td>\n",
       "      <td>96</td>\n",
       "      <td>96</td>\n",
       "      <td>3.200000</td>\n",
       "      <td>3.200000</td>\n",
       "      <td>3.403125</td>\n",
       "      <td>35.0</td>\n",
       "      <td>btw_2and3yrs</td>\n",
       "    </tr>\n",
       "    <tr>\n",
       "      <th>3</th>\n",
       "      <td>4</td>\n",
       "      <td>A0270938TP78M39R7CN6</td>\n",
       "      <td>9223372034564167251</td>\n",
       "      <td>2018-01-19</td>\n",
       "      <td>2018-01-19 16:45:15</td>\n",
       "      <td>2019-12-14 00:00:00</td>\n",
       "      <td>0.83</td>\n",
       "      <td>1</td>\n",
       "      <td>B_30days_6m</td>\n",
       "      <td>2017-09-23 19:38:40</td>\n",
       "      <td>...</td>\n",
       "      <td>4.0</td>\n",
       "      <td>2.9300</td>\n",
       "      <td>820</td>\n",
       "      <td>117</td>\n",
       "      <td>117</td>\n",
       "      <td>3.900000</td>\n",
       "      <td>3.900000</td>\n",
       "      <td>3.005128</td>\n",
       "      <td>21.0</td>\n",
       "      <td>btw_2and3yrs</td>\n",
       "    </tr>\n",
       "    <tr>\n",
       "      <th>4</th>\n",
       "      <td>4</td>\n",
       "      <td>A0270938TP78M39R7CN6</td>\n",
       "      <td>9223372034564167251</td>\n",
       "      <td>2018-01-19</td>\n",
       "      <td>2018-01-19 16:45:49</td>\n",
       "      <td>2019-12-14 00:00:00</td>\n",
       "      <td>0.83</td>\n",
       "      <td>1</td>\n",
       "      <td>B_30days_6m</td>\n",
       "      <td>2017-09-23 19:38:40</td>\n",
       "      <td>...</td>\n",
       "      <td>4.0</td>\n",
       "      <td>3.1375</td>\n",
       "      <td>820</td>\n",
       "      <td>117</td>\n",
       "      <td>117</td>\n",
       "      <td>3.900000</td>\n",
       "      <td>3.900000</td>\n",
       "      <td>3.217949</td>\n",
       "      <td>0.0</td>\n",
       "      <td>btw_2and3yrs</td>\n",
       "    </tr>\n",
       "  </tbody>\n",
       "</table>\n",
       "<p>5 rows × 36 columns</p>\n",
       "</div>"
      ],
      "text/plain": [
       "   marketplace_id encrypted_customer_id  unencrypted_customer_id  \\\n",
       "0               4  A0270938TP78M39R7CN6      9223372034564167251   \n",
       "1               4  A0270938TP78M39R7CN6      9223372034564167251   \n",
       "2               4  A0270938TP78M39R7CN6      9223372034564167251   \n",
       "3               4  A0270938TP78M39R7CN6      9223372034564167251   \n",
       "4               4  A0270938TP78M39R7CN6      9223372034564167251   \n",
       "\n",
       "  transaction_date_local transaction_datetime_local          week_ending  \\\n",
       "0             2017-09-23        2017-09-23 19:38:40  2019-12-14 00:00:00   \n",
       "1             2017-11-24        2017-11-24 22:59:57  2019-12-14 00:00:00   \n",
       "2             2017-12-29        2017-12-29 23:36:51  2019-12-14 00:00:00   \n",
       "3             2018-01-19        2018-01-19 16:45:15  2019-12-14 00:00:00   \n",
       "4             2018-01-19        2018-01-19 16:45:49  2019-12-14 00:00:00   \n",
       "\n",
       "   revenue  units  content_age first_purchase_date      ...       \\\n",
       "0     4.19      1  A_Under_30d 2017-09-23 19:38:40      ...        \n",
       "1     0.83      1  B_30days_6m 2017-09-23 19:38:40      ...        \n",
       "2     5.87      1   F_Over_3yr 2017-09-23 19:38:40      ...        \n",
       "3     0.83      1  B_30days_6m 2017-09-23 19:38:40      ...        \n",
       "4     0.83      1  B_30days_6m 2017-09-23 19:38:40      ...        \n",
       "\n",
       "  running_tenure_ever running_arpu_monthly_ever tenure  \\\n",
       "0                 0.0                    4.1900    820   \n",
       "1                 2.0                    2.5100    820   \n",
       "2                 3.0                    3.6300    820   \n",
       "3                 4.0                    2.9300    820   \n",
       "4                 4.0                    3.1375    820   \n",
       "\n",
       "  tenure_days_up_to_last_purchase tenure_days_up_to_last_purchase_corrected  \\\n",
       "0                              -1                                         0   \n",
       "1                              61                                        61   \n",
       "2                              96                                        96   \n",
       "3                             117                                       117   \n",
       "4                             117                                       117   \n",
       "\n",
       "   tenure_months_up_to_last_purchase  tenure_up_to_last_purchase_corrected  \\\n",
       "0                          -0.033333                              1.000000   \n",
       "1                           2.033333                              2.033333   \n",
       "2                           3.200000                              3.200000   \n",
       "3                           3.900000                              3.900000   \n",
       "4                           3.900000                              3.900000   \n",
       "\n",
       "   arpu_monthly_dynamic  frequency  tenure_years  \n",
       "0              4.190000        0.0  btw_2and3yrs  \n",
       "1              2.468852       61.0  btw_2and3yrs  \n",
       "2              3.403125       35.0  btw_2and3yrs  \n",
       "3              3.005128       21.0  btw_2and3yrs  \n",
       "4              3.217949        0.0  btw_2and3yrs  \n",
       "\n",
       "[5 rows x 36 columns]"
      ]
     },
     "execution_count": 6,
     "metadata": {},
     "output_type": "execute_result"
    }
   ],
   "source": [
    "#df_concatenated.head()\n",
    "df_concat.head()"
   ]
  },
  {
   "cell_type": "code",
   "execution_count": 8,
   "metadata": {},
   "outputs": [
    {
     "data": {
      "text/plain": [
       "array(['non_promo', 'vendisto_promo', 'pmd_promo'], dtype=object)"
      ]
     },
     "execution_count": 8,
     "metadata": {},
     "output_type": "execute_result"
    }
   ],
   "source": [
    "df_concat['promo_dist'].unique()"
   ]
  },
  {
   "cell_type": "markdown",
   "metadata": {},
   "source": [
    "# Analyse different entry points into PMD"
   ]
  },
  {
   "cell_type": "code",
   "execution_count": 13,
   "metadata": {
    "collapsed": true
   },
   "outputs": [],
   "source": [
    "def make_final_adjastments(df):\n",
    "    subset_first_transaction_by_type = df.groupby(['encrypted_customer_id','promo_dist'])['rank_transactions'].min().reset_index()\n",
    "    subset_first_transaction_by_type.columns = ['encrypted_customer_id','promo_dist_entry','rank_transactions']\n",
    "    \n",
    "    copy_dataset = df[[\"marketplace_id\", \"encrypted_customer_id\",\"transaction_date_local\",\"revenue\",\"units\",\"content_age\",\n",
    "                   \"arpu_monthly_dynamic\",\"frequency\",\"total_units\", \"total_revenue\",\n",
    "                   \"total_units_ttm\", \"total_revenue_ttm\",\"rank_transactions\",\n",
    "                   \"total_units_before_ttm\", \"total_revenue_before_ttm\", \"promo_dist\",\n",
    "                   \"tenure_years\",\"tenure_up_to_last_purchase_corrected\",\"tenure\",\"is_active_ttm\"]]\n",
    "    df_new = pd.merge(left = copy_dataset, right = subset_first_transaction_by_type, left_on = ['encrypted_customer_id','rank_transactions'],\n",
    "                 right_on = ['encrypted_customer_id','rank_transactions'], how = 'left')\n",
    "    \n",
    "    \n",
    "    subset_first_transaction_pmd = subset_first_transaction_by_type[subset_first_transaction_by_type['promo_dist_entry'] == 'pmd_promo']\n",
    "    subset_first_transaction_pmd.columns = ['encrypted_customer_id','promo_dist_entry_specific','rank_transactions_entry']\n",
    "    \n",
    "    df_new = pd.merge(left = df_new, right = subset_first_transaction_pmd[['encrypted_customer_id','rank_transactions_entry']],\n",
    "                      left_on = ['encrypted_customer_id'],\n",
    "                      right_on = ['encrypted_customer_id'], how = 'left')\n",
    "    \n",
    "    df_new['rank_transactions_entry'] = df_new['rank_transactions_entry'].fillna(0)\n",
    "    \n",
    "    \n",
    "    pd.set_option('mode.chained_assignment', None)\n",
    "    \n",
    "    df_new['which_relative_to_pmd'] = 'no_entry'\n",
    "    df_new['which_relative_to_pmd'][(df_new['rank_transactions'] < df_new['rank_transactions_entry']) &\n",
    "                                   (df_new['rank_transactions_entry'] != 0) ] = \"before\"\n",
    "    df_new['which_relative_to_pmd'][(df_new['rank_transactions'] > df_new['rank_transactions_entry']) &\n",
    "                                   (df_new['rank_transactions_entry'] != 0)] = \"after\"\n",
    "    df_new['which_relative_to_pmd'][(df_new['rank_transactions'] == df_new['rank_transactions_entry']) &\n",
    "                                   (df_new['rank_transactions_entry'] != 0)] = \"pmd_entry\"\n",
    "    \n",
    "    return df_new"
   ]
  },
  {
   "cell_type": "code",
   "execution_count": 14,
   "metadata": {},
   "outputs": [],
   "source": [
    "df_new = make_final_adjastments(df_concat)"
   ]
  },
  {
   "cell_type": "code",
   "execution_count": 15,
   "metadata": {},
   "outputs": [
    {
     "data": {
      "text/plain": [
       "(9952243, 23)"
      ]
     },
     "execution_count": 15,
     "metadata": {},
     "output_type": "execute_result"
    }
   ],
   "source": [
    "df_new.shape"
   ]
  },
  {
   "cell_type": "code",
   "execution_count": 16,
   "metadata": {},
   "outputs": [
    {
     "data": {
      "text/plain": [
       "Index(['marketplace_id', 'encrypted_customer_id', 'transaction_date_local',\n",
       "       'revenue', 'units', 'content_age', 'arpu_monthly_dynamic', 'frequency',\n",
       "       'total_units', 'total_revenue', 'total_units_ttm', 'total_revenue_ttm',\n",
       "       'rank_transactions', 'total_units_before_ttm',\n",
       "       'total_revenue_before_ttm', 'promo_dist', 'tenure_years',\n",
       "       'tenure_up_to_last_purchase_corrected', 'tenure', 'is_active_ttm',\n",
       "       'promo_dist_entry', 'rank_transactions_entry', 'which_relative_to_pmd'],\n",
       "      dtype='object')"
      ]
     },
     "execution_count": 16,
     "metadata": {},
     "output_type": "execute_result"
    }
   ],
   "source": [
    "df_new.columns"
   ]
  },
  {
   "cell_type": "code",
   "execution_count": 17,
   "metadata": {},
   "outputs": [
    {
     "data": {
      "text/plain": [
       "array(['before', 'pmd_entry', 'after'], dtype=object)"
      ]
     },
     "execution_count": 17,
     "metadata": {},
     "output_type": "execute_result"
    }
   ],
   "source": [
    "df_new['which_relative_to_pmd'].unique()"
   ]
  },
  {
   "cell_type": "code",
   "execution_count": 18,
   "metadata": {
    "collapsed": true
   },
   "outputs": [],
   "source": [
    "def get_diff_stats(x):\n",
    "    \"\"\"provides various metrics for count, sum, revenue\"\"\"\n",
    "    d = {}\n",
    "    d['count_customers'] = x['encrypted_customer_id'].nunique()\n",
    "    d['arpu_monthly_dynamic'] = x['arpu_monthly_dynamic'].mean()\n",
    "    d['average_frequency'] = x['frequency'].mean()\n",
    "    d['units'] = x['units'].sum()\n",
    "    d['revenue'] = x['revenue'].sum()\n",
    "    \n",
    "    return pd.Series(d, index = ['count_customers','arpu_monthly_dynamic', 'average_frequency', 'units','revenue'])"
   ]
  },
  {
   "cell_type": "markdown",
   "metadata": {},
   "source": [
    "# Subset of those who have done BOTH before and after"
   ]
  },
  {
   "cell_type": "code",
   "execution_count": 19,
   "metadata": {
    "collapsed": true
   },
   "outputs": [],
   "source": [
    "def create_subset(df):\n",
    "    before = df[df['which_relative_to_pmd'].isin(['before'])]['encrypted_customer_id'].unique()\n",
    "    after_with_before = df[(df['which_relative_to_pmd'] == 'after') &\n",
    "                           df['encrypted_customer_id'].isin(before)]['encrypted_customer_id'].unique()\n",
    "    \n",
    "    subset = df[df['encrypted_customer_id'].isin(after_with_before)]\n",
    "    \n",
    "    return subset"
   ]
  },
  {
   "cell_type": "code",
   "execution_count": 20,
   "metadata": {
    "collapsed": true
   },
   "outputs": [],
   "source": [
    "d = create_subset(df_new)"
   ]
  },
  {
   "cell_type": "code",
   "execution_count": 36,
   "metadata": {},
   "outputs": [
    {
     "data": {
      "text/plain": [
       "(8273329, 23)"
      ]
     },
     "execution_count": 36,
     "metadata": {},
     "output_type": "execute_result"
    }
   ],
   "source": [
    "d.shape"
   ]
  },
  {
   "cell_type": "code",
   "execution_count": 26,
   "metadata": {},
   "outputs": [
    {
     "name": "stdout",
     "output_type": "stream",
     "text": [
      "547546\n",
      "547546\n",
      "547546\n"
     ]
    }
   ],
   "source": [
    "print(d['encrypted_customer_id'].nunique())\n",
    "print(d[d['which_relative_to_pmd'] == 'before']['encrypted_customer_id'].nunique())\n",
    "print(d[d['which_relative_to_pmd'] == 'after']['encrypted_customer_id'].nunique())"
   ]
  },
  {
   "cell_type": "code",
   "execution_count": 45,
   "metadata": {
    "collapsed": true
   },
   "outputs": [],
   "source": [
    "def final_output(df):\n",
    "    grouped = df.groupby([\"total_units\",\"tenure_years\",\n",
    "                       \"total_units_ttm\",\"rank_transactions_entry\",\"which_relative_to_pmd\"]).apply(get_diff_stats).reset_index()\n",
    "    \n",
    "    grouped_dist = df.groupby([\"total_units\",\"tenure_years\",\n",
    "                       \"total_units_ttm\",\"rank_transactions_entry\",\"which_relative_to_pmd\",\"promo_dist\"]).apply(get_diff_stats).reset_index()\n",
    "    \n",
    "    \n",
    "    output = pd.merge(left = grouped_dist, right = grouped[['total_units','tenure_years','total_units_ttm',\n",
    "                                                           'rank_transactions_entry','which_relative_to_pmd','units']],\n",
    "                     left_on = ['total_units','tenure_years','total_units_ttm',\n",
    "                                                           'rank_transactions_entry','which_relative_to_pmd'],\n",
    "                     right_on = ['total_units','tenure_years','total_units_ttm',\n",
    "                                                           'rank_transactions_entry','which_relative_to_pmd'], how = 'left')\n",
    "    \n",
    "    output['share'] = output['units_x'] / output['units_y']\n",
    "    return grouped, output"
   ]
  },
  {
   "cell_type": "code",
   "execution_count": null,
   "metadata": {},
   "outputs": [],
   "source": [
    "grouped, dist = final_output(d)"
   ]
  },
  {
   "cell_type": "code",
   "execution_count": null,
   "metadata": {},
   "outputs": [],
   "source": [
    "grouped.head()"
   ]
  },
  {
   "cell_type": "code",
   "execution_count": 44,
   "metadata": {},
   "outputs": [
    {
     "data": {
      "text/html": [
       "<div>\n",
       "<style>\n",
       "    .dataframe thead tr:only-child th {\n",
       "        text-align: right;\n",
       "    }\n",
       "\n",
       "    .dataframe thead th {\n",
       "        text-align: left;\n",
       "    }\n",
       "\n",
       "    .dataframe tbody tr th {\n",
       "        vertical-align: top;\n",
       "    }\n",
       "</style>\n",
       "<table border=\"1\" class=\"dataframe\">\n",
       "  <thead>\n",
       "    <tr style=\"text-align: right;\">\n",
       "      <th></th>\n",
       "      <th>total_units</th>\n",
       "      <th>tenure_years</th>\n",
       "      <th>total_units_ttm</th>\n",
       "      <th>rank_transactions_entry</th>\n",
       "      <th>which_relative_to_pmd</th>\n",
       "      <th>promo_dist</th>\n",
       "      <th>count_customers</th>\n",
       "      <th>arpu_monthly_dynamic</th>\n",
       "      <th>average_frequency</th>\n",
       "      <th>units_x</th>\n",
       "      <th>revenue</th>\n",
       "      <th>units_y</th>\n",
       "    </tr>\n",
       "  </thead>\n",
       "  <tbody>\n",
       "    <tr>\n",
       "      <th>0</th>\n",
       "      <td>3</td>\n",
       "      <td>btw_1and2yrs</td>\n",
       "      <td>0.0</td>\n",
       "      <td>2</td>\n",
       "      <td>after</td>\n",
       "      <td>non_promo</td>\n",
       "      <td>454.0</td>\n",
       "      <td>5.127228</td>\n",
       "      <td>53.035242</td>\n",
       "      <td>454.0</td>\n",
       "      <td>2140.21</td>\n",
       "      <td>756.0</td>\n",
       "    </tr>\n",
       "    <tr>\n",
       "      <th>1</th>\n",
       "      <td>3</td>\n",
       "      <td>btw_1and2yrs</td>\n",
       "      <td>0.0</td>\n",
       "      <td>2</td>\n",
       "      <td>after</td>\n",
       "      <td>pmd_promo</td>\n",
       "      <td>291.0</td>\n",
       "      <td>3.164539</td>\n",
       "      <td>18.515464</td>\n",
       "      <td>291.0</td>\n",
       "      <td>336.99</td>\n",
       "      <td>756.0</td>\n",
       "    </tr>\n",
       "    <tr>\n",
       "      <th>2</th>\n",
       "      <td>3</td>\n",
       "      <td>btw_1and2yrs</td>\n",
       "      <td>0.0</td>\n",
       "      <td>2</td>\n",
       "      <td>after</td>\n",
       "      <td>vendisto_promo</td>\n",
       "      <td>11.0</td>\n",
       "      <td>3.923622</td>\n",
       "      <td>46.545455</td>\n",
       "      <td>11.0</td>\n",
       "      <td>27.55</td>\n",
       "      <td>756.0</td>\n",
       "    </tr>\n",
       "    <tr>\n",
       "      <th>3</th>\n",
       "      <td>3</td>\n",
       "      <td>btw_1and2yrs</td>\n",
       "      <td>0.0</td>\n",
       "      <td>2</td>\n",
       "      <td>before</td>\n",
       "      <td>non_promo</td>\n",
       "      <td>746.0</td>\n",
       "      <td>4.694960</td>\n",
       "      <td>0.000000</td>\n",
       "      <td>746.0</td>\n",
       "      <td>3502.44</td>\n",
       "      <td>756.0</td>\n",
       "    </tr>\n",
       "    <tr>\n",
       "      <th>4</th>\n",
       "      <td>3</td>\n",
       "      <td>btw_1and2yrs</td>\n",
       "      <td>0.0</td>\n",
       "      <td>2</td>\n",
       "      <td>before</td>\n",
       "      <td>vendisto_promo</td>\n",
       "      <td>10.0</td>\n",
       "      <td>2.750000</td>\n",
       "      <td>0.000000</td>\n",
       "      <td>10.0</td>\n",
       "      <td>27.50</td>\n",
       "      <td>756.0</td>\n",
       "    </tr>\n",
       "  </tbody>\n",
       "</table>\n",
       "</div>"
      ],
      "text/plain": [
       "   total_units  tenure_years  total_units_ttm  rank_transactions_entry  \\\n",
       "0            3  btw_1and2yrs              0.0                        2   \n",
       "1            3  btw_1and2yrs              0.0                        2   \n",
       "2            3  btw_1and2yrs              0.0                        2   \n",
       "3            3  btw_1and2yrs              0.0                        2   \n",
       "4            3  btw_1and2yrs              0.0                        2   \n",
       "\n",
       "  which_relative_to_pmd      promo_dist  count_customers  \\\n",
       "0                 after       non_promo            454.0   \n",
       "1                 after       pmd_promo            291.0   \n",
       "2                 after  vendisto_promo             11.0   \n",
       "3                before       non_promo            746.0   \n",
       "4                before  vendisto_promo             10.0   \n",
       "\n",
       "   arpu_monthly_dynamic  average_frequency  units_x  revenue  units_y  \n",
       "0              5.127228          53.035242    454.0  2140.21    756.0  \n",
       "1              3.164539          18.515464    291.0   336.99    756.0  \n",
       "2              3.923622          46.545455     11.0    27.55    756.0  \n",
       "3              4.694960           0.000000    746.0  3502.44    756.0  \n",
       "4              2.750000           0.000000     10.0    27.50    756.0  "
      ]
     },
     "execution_count": 44,
     "metadata": {},
     "output_type": "execute_result"
    }
   ],
   "source": [
    "dist.head()"
   ]
  },
  {
   "cell_type": "code",
   "execution_count": 41,
   "metadata": {
    "collapsed": true
   },
   "outputs": [],
   "source": [
    "#grouped.to_csv(\"grouped_cleanDEReduced.csv\")"
   ]
  },
  {
   "cell_type": "code",
   "execution_count": 42,
   "metadata": {
    "collapsed": true
   },
   "outputs": [],
   "source": [
    "#dist.to_csv(\"grouped_by_distDEReduced.csv\")"
   ]
  }
 ],
 "metadata": {
  "kernelspec": {
   "display_name": "Python 3",
   "language": "python",
   "name": "python3"
  },
  "language_info": {
   "codemirror_mode": {
    "name": "ipython",
    "version": 3
   },
   "file_extension": ".py",
   "mimetype": "text/x-python",
   "name": "python",
   "nbconvert_exporter": "python",
   "pygments_lexer": "ipython3",
   "version": "3.6.3"
  }
 },
 "nbformat": 4,
 "nbformat_minor": 2
}
