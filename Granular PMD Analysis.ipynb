{
 "cells": [
  {
   "cell_type": "code",
   "execution_count": 3,
   "metadata": {
    "collapsed": true
   },
   "outputs": [],
   "source": [
    "import pandas as pd\n",
    "import numpy as np"
   ]
  },
  {
   "cell_type": "code",
   "execution_count": 4,
   "metadata": {
    "collapsed": true
   },
   "outputs": [],
   "source": [
    "# read the large csv file with specified chunksize \n",
    "# df_chunk = pd.read_csv(\"//ant/dept-eu/LHR16/Dept4/AIV-TVOD/BI/PMD_Analysis/PMD_data_4.txt\", sep='\\t', \n",
    "#                        low_memory = False, encoding = 'ISO-8859-1', chunksize = 100000)\n",
    "\n",
    "# # df_chunk = pd.read_csv(\"//ant/dept-eu/LHR16/Dept4/AIV-TVOD/BI/PMD_Analysis/PMD_data_4.txt\", sep='\\t', \n",
    "# #                        header=None, low_memory = False, encoding = 'ISO-8859-1')"
   ]
  },
  {
   "cell_type": "code",
   "execution_count": 5,
   "metadata": {
    "collapsed": true
   },
   "outputs": [],
   "source": [
    "# chunk_list = []  # append each chunk df here \n",
    "\n",
    "# # Each chunk is in df format\n",
    "# for chunk in df_chunk:  \n",
    "#     # perform data filtering \n",
    "#     #chunk_filter = chunk_preprocessing(chunk)\n",
    "    \n",
    "#     # Once the data filtering is done, append the chunk to list\n",
    "#     chunk_list.append(chunk)\n",
    "    \n",
    "# # concat the list into dataframe \n",
    "# df_concat = pd.concat(chunk_list)"
   ]
  },
  {
   "cell_type": "code",
   "execution_count": 6,
   "metadata": {
    "collapsed": true
   },
   "outputs": [],
   "source": [
    "#df_concat.to_pickle(\"data_granularDE.pkl\")"
   ]
  },
  {
   "cell_type": "code",
   "execution_count": 7,
   "metadata": {
    "collapsed": true
   },
   "outputs": [],
   "source": [
    "df_concatenated = pd.read_pickle(\"data_granularDE.pkl\")"
   ]
  },
  {
   "cell_type": "code",
   "execution_count": 8,
   "metadata": {},
   "outputs": [
    {
     "data": {
      "text/html": [
       "<div>\n",
       "<style>\n",
       "    .dataframe thead tr:only-child th {\n",
       "        text-align: right;\n",
       "    }\n",
       "\n",
       "    .dataframe thead th {\n",
       "        text-align: left;\n",
       "    }\n",
       "\n",
       "    .dataframe tbody tr th {\n",
       "        vertical-align: top;\n",
       "    }\n",
       "</style>\n",
       "<table border=\"1\" class=\"dataframe\">\n",
       "  <thead>\n",
       "    <tr style=\"text-align: right;\">\n",
       "      <th></th>\n",
       "      <th>marketplace_id</th>\n",
       "      <th>encrypted_customer_id</th>\n",
       "      <th>unencrypted_customer_id</th>\n",
       "      <th>transaction_date_local</th>\n",
       "      <th>transaction_datetime_local</th>\n",
       "      <th>week_ending</th>\n",
       "      <th>revenue</th>\n",
       "      <th>units</th>\n",
       "      <th>content_age</th>\n",
       "      <th>first_purchase_date</th>\n",
       "      <th>...</th>\n",
       "      <th>is_active_ttm</th>\n",
       "      <th>total_units_ttm</th>\n",
       "      <th>total_revenue_ttm</th>\n",
       "      <th>total_units_before_ttm</th>\n",
       "      <th>total_revenue_before_ttm</th>\n",
       "      <th>cumulative_sum_total</th>\n",
       "      <th>promo_dist</th>\n",
       "      <th>running_arpu_ever</th>\n",
       "      <th>running_tenure_ever</th>\n",
       "      <th>running_arpu_monthly_ever</th>\n",
       "    </tr>\n",
       "  </thead>\n",
       "  <tbody>\n",
       "    <tr>\n",
       "      <th>0</th>\n",
       "      <td>4</td>\n",
       "      <td>A000566631H70KG0OKKF7</td>\n",
       "      <td>9223372034587508951</td>\n",
       "      <td>2019-04-22 00:00:00</td>\n",
       "      <td>2019-04-22 01:32:10</td>\n",
       "      <td>2019-12-07 00:00:00</td>\n",
       "      <td>2.09</td>\n",
       "      <td>1</td>\n",
       "      <td>A_Under_30d</td>\n",
       "      <td>2019-04-22 01:32:10</td>\n",
       "      <td>...</td>\n",
       "      <td>1</td>\n",
       "      <td>9.0</td>\n",
       "      <td>31.4</td>\n",
       "      <td>NaN</td>\n",
       "      <td>NaN</td>\n",
       "      <td>2.09</td>\n",
       "      <td>non_promo</td>\n",
       "      <td>2.0900</td>\n",
       "      <td>0.0</td>\n",
       "      <td>2.0900</td>\n",
       "    </tr>\n",
       "    <tr>\n",
       "      <th>1</th>\n",
       "      <td>4</td>\n",
       "      <td>A000566631H70KG0OKKF7</td>\n",
       "      <td>9223372034587508951</td>\n",
       "      <td>2019-04-22 00:00:00</td>\n",
       "      <td>2019-04-22 03:16:54</td>\n",
       "      <td>2019-12-07 00:00:00</td>\n",
       "      <td>3.34</td>\n",
       "      <td>1</td>\n",
       "      <td>D_1y_2yr</td>\n",
       "      <td>2019-04-22 01:32:10</td>\n",
       "      <td>...</td>\n",
       "      <td>1</td>\n",
       "      <td>9.0</td>\n",
       "      <td>31.4</td>\n",
       "      <td>NaN</td>\n",
       "      <td>NaN</td>\n",
       "      <td>5.43</td>\n",
       "      <td>non_promo</td>\n",
       "      <td>2.7150</td>\n",
       "      <td>0.0</td>\n",
       "      <td>5.4300</td>\n",
       "    </tr>\n",
       "    <tr>\n",
       "      <th>2</th>\n",
       "      <td>4</td>\n",
       "      <td>A000566631H70KG0OKKF7</td>\n",
       "      <td>9223372034587508951</td>\n",
       "      <td>2019-07-15 00:00:00</td>\n",
       "      <td>2019-07-15 02:16:24</td>\n",
       "      <td>2019-12-07 00:00:00</td>\n",
       "      <td>4.19</td>\n",
       "      <td>1</td>\n",
       "      <td>A_Under_30d</td>\n",
       "      <td>2019-04-22 01:32:10</td>\n",
       "      <td>...</td>\n",
       "      <td>1</td>\n",
       "      <td>9.0</td>\n",
       "      <td>31.4</td>\n",
       "      <td>NaN</td>\n",
       "      <td>NaN</td>\n",
       "      <td>9.62</td>\n",
       "      <td>non_promo</td>\n",
       "      <td>3.2066</td>\n",
       "      <td>3.0</td>\n",
       "      <td>3.2066</td>\n",
       "    </tr>\n",
       "    <tr>\n",
       "      <th>3</th>\n",
       "      <td>4</td>\n",
       "      <td>A000566631H70KG0OKKF7</td>\n",
       "      <td>9223372034587508951</td>\n",
       "      <td>2019-07-23 00:00:00</td>\n",
       "      <td>2019-07-23 04:49:23</td>\n",
       "      <td>2019-12-07 00:00:00</td>\n",
       "      <td>3.35</td>\n",
       "      <td>1</td>\n",
       "      <td>B_30days_6m</td>\n",
       "      <td>2019-04-22 01:32:10</td>\n",
       "      <td>...</td>\n",
       "      <td>1</td>\n",
       "      <td>9.0</td>\n",
       "      <td>31.4</td>\n",
       "      <td>NaN</td>\n",
       "      <td>NaN</td>\n",
       "      <td>12.97</td>\n",
       "      <td>non_promo</td>\n",
       "      <td>3.2425</td>\n",
       "      <td>3.0</td>\n",
       "      <td>4.3233</td>\n",
       "    </tr>\n",
       "    <tr>\n",
       "      <th>4</th>\n",
       "      <td>4</td>\n",
       "      <td>A000566631H70KG0OKKF7</td>\n",
       "      <td>9223372034587508951</td>\n",
       "      <td>2019-07-28 00:00:00</td>\n",
       "      <td>2019-07-28 01:49:41</td>\n",
       "      <td>2019-12-07 00:00:00</td>\n",
       "      <td>3.35</td>\n",
       "      <td>1</td>\n",
       "      <td>D_1y_2yr</td>\n",
       "      <td>2019-04-22 01:32:10</td>\n",
       "      <td>...</td>\n",
       "      <td>1</td>\n",
       "      <td>9.0</td>\n",
       "      <td>31.4</td>\n",
       "      <td>NaN</td>\n",
       "      <td>NaN</td>\n",
       "      <td>16.32</td>\n",
       "      <td>non_promo</td>\n",
       "      <td>3.2640</td>\n",
       "      <td>3.0</td>\n",
       "      <td>5.4400</td>\n",
       "    </tr>\n",
       "  </tbody>\n",
       "</table>\n",
       "<p>5 rows × 28 columns</p>\n",
       "</div>"
      ],
      "text/plain": [
       "   marketplace_id  encrypted_customer_id  unencrypted_customer_id  \\\n",
       "0               4  A000566631H70KG0OKKF7      9223372034587508951   \n",
       "1               4  A000566631H70KG0OKKF7      9223372034587508951   \n",
       "2               4  A000566631H70KG0OKKF7      9223372034587508951   \n",
       "3               4  A000566631H70KG0OKKF7      9223372034587508951   \n",
       "4               4  A000566631H70KG0OKKF7      9223372034587508951   \n",
       "\n",
       "  transaction_date_local transaction_datetime_local          week_ending  \\\n",
       "0    2019-04-22 00:00:00        2019-04-22 01:32:10  2019-12-07 00:00:00   \n",
       "1    2019-04-22 00:00:00        2019-04-22 03:16:54  2019-12-07 00:00:00   \n",
       "2    2019-07-15 00:00:00        2019-07-15 02:16:24  2019-12-07 00:00:00   \n",
       "3    2019-07-23 00:00:00        2019-07-23 04:49:23  2019-12-07 00:00:00   \n",
       "4    2019-07-28 00:00:00        2019-07-28 01:49:41  2019-12-07 00:00:00   \n",
       "\n",
       "   revenue  units  content_age  first_purchase_date  \\\n",
       "0     2.09      1  A_Under_30d  2019-04-22 01:32:10   \n",
       "1     3.34      1     D_1y_2yr  2019-04-22 01:32:10   \n",
       "2     4.19      1  A_Under_30d  2019-04-22 01:32:10   \n",
       "3     3.35      1  B_30days_6m  2019-04-22 01:32:10   \n",
       "4     3.35      1     D_1y_2yr  2019-04-22 01:32:10   \n",
       "\n",
       "             ...             is_active_ttm total_units_ttm total_revenue_ttm  \\\n",
       "0            ...                         1             9.0              31.4   \n",
       "1            ...                         1             9.0              31.4   \n",
       "2            ...                         1             9.0              31.4   \n",
       "3            ...                         1             9.0              31.4   \n",
       "4            ...                         1             9.0              31.4   \n",
       "\n",
       "  total_units_before_ttm total_revenue_before_ttm  cumulative_sum_total  \\\n",
       "0                    NaN                      NaN                  2.09   \n",
       "1                    NaN                      NaN                  5.43   \n",
       "2                    NaN                      NaN                  9.62   \n",
       "3                    NaN                      NaN                 12.97   \n",
       "4                    NaN                      NaN                 16.32   \n",
       "\n",
       "   promo_dist  running_arpu_ever  running_tenure_ever  \\\n",
       "0   non_promo             2.0900                  0.0   \n",
       "1   non_promo             2.7150                  0.0   \n",
       "2   non_promo             3.2066                  3.0   \n",
       "3   non_promo             3.2425                  3.0   \n",
       "4   non_promo             3.2640                  3.0   \n",
       "\n",
       "   running_arpu_monthly_ever  \n",
       "0                     2.0900  \n",
       "1                     5.4300  \n",
       "2                     3.2066  \n",
       "3                     4.3233  \n",
       "4                     5.4400  \n",
       "\n",
       "[5 rows x 28 columns]"
      ]
     },
     "execution_count": 8,
     "metadata": {},
     "output_type": "execute_result"
    }
   ],
   "source": [
    "df_concatenated.head()"
   ]
  },
  {
   "cell_type": "code",
   "execution_count": 9,
   "metadata": {
    "collapsed": true
   },
   "outputs": [],
   "source": [
    "# df_concat.columns = ['marketplace_id',\"encrypted_customer_id\",\"unencrypted_customer_id\",\"transaction_date_local\",\n",
    "#                     \"transaction_datetime_local\",\"week_ending\",\"revenue\",\"units\",\"content_age\",\"first_purchase_date\",\n",
    "#                     \"series_or_movie_asin\",\"series_or_movie_name\",\"is_promo\",\"is_pmd\",\"content_type\",\"total_units\",\n",
    "#                      \"total_revenue\",\"rank_transactions\",\"is_active_ttm\",\"total_units_ttm\",\"total_revenue_ttm\",\n",
    "#                     \"total_units_before_ttm\",\"total_revenue_before_ttm\",\"cumulative_sum_total\",\"promo_dist\",\"running_arpu_ever\",\n",
    "#                     \"running_tenure_ever\",\"running_arpu_monthly_ever\"]"
   ]
  },
  {
   "cell_type": "code",
   "execution_count": 10,
   "metadata": {
    "collapsed": true
   },
   "outputs": [],
   "source": [
    "def make_prep(df):\n",
    "\n",
    "    df['transaction_date_local'] = pd.to_datetime(df['transaction_date_local'])\n",
    "    df['transaction_datetime_local'] = pd.to_datetime(df['transaction_datetime_local'])\n",
    "    df['first_purchase_date'] = pd.to_datetime(df['first_purchase_date'])\n",
    "    df['tenure'] = [int(i.days) for i in (max(df['transaction_date_local']) - df['first_purchase_date'])]\n",
    "    df['cumulative_sum_total'] = df['cumulative_sum_total'].astype(float)\n",
    "    df['tenure_days_up_to_last_purchase'] = [int(i.days) for i in (df['transaction_date_local']) - df['first_purchase_date']] \n",
    "    df['tenure_days_up_to_last_purchase_corrected'] = np.where(df['tenure_days_up_to_last_purchase'] < 0, 0, df['tenure_days_up_to_last_purchase'] )\n",
    "    \n",
    "    df['tenure_months_up_to_last_purchase'] = df['tenure_days_up_to_last_purchase'] / 30\n",
    "    df['tenure_up_to_last_purchase_corrected'] = np.where(df['tenure_months_up_to_last_purchase'] < 1, 1, df['tenure_months_up_to_last_purchase']).astype(float)\n",
    "    df['arpu_monthly_dynamic'] = df['cumulative_sum_total'] / (df['tenure_up_to_last_purchase_corrected'])\n",
    "    \n",
    "    df['frequency'] = df.groupby('encrypted_customer_id')['tenure_days_up_to_last_purchase_corrected'].diff()\n",
    "    \n",
    "    pd.set_option('mode.chained_assignment', None)\n",
    "      # set default value\n",
    "    df['tenure_years'] = \"default\"\n",
    "    df['tenure_years'][(df['tenure'] < 360)] = \"under_year\"\n",
    "    df['tenure_years'][(df['tenure'] >= 360) & (df['tenure'] < 360*2)] = 'btw_1and2yrs'\n",
    "    df['tenure_years'][(df['tenure'] >= 360*2) & (df['tenure'] < 360*3)] = 'btw_2and3yrs'\n",
    "    df['tenure_years'][(df['tenure'] >= 360*3) & (df['tenure'] < 360*4)] = 'btw_3and4yrs'\n",
    "    df['tenure_years'][(df['tenure'] >= 360*4) & (df['tenure'] < 360*5)] = 'btw_4and5yrs'\n",
    "    df['tenure_years'][(df['tenure'] >= 360*5) ] = 'over_5years'\n",
    "    \n",
    "    \n",
    "    df = df.fillna(0)\n",
    "    \n",
    "    return df"
   ]
  },
  {
   "cell_type": "code",
   "execution_count": 11,
   "metadata": {
    "collapsed": true
   },
   "outputs": [],
   "source": [
    "df = make_prep(df_concatenated)"
   ]
  },
  {
   "cell_type": "code",
   "execution_count": 12,
   "metadata": {},
   "outputs": [
    {
     "data": {
      "text/html": [
       "<div>\n",
       "<style>\n",
       "    .dataframe thead tr:only-child th {\n",
       "        text-align: right;\n",
       "    }\n",
       "\n",
       "    .dataframe thead th {\n",
       "        text-align: left;\n",
       "    }\n",
       "\n",
       "    .dataframe tbody tr th {\n",
       "        vertical-align: top;\n",
       "    }\n",
       "</style>\n",
       "<table border=\"1\" class=\"dataframe\">\n",
       "  <thead>\n",
       "    <tr style=\"text-align: right;\">\n",
       "      <th></th>\n",
       "      <th>marketplace_id</th>\n",
       "      <th>encrypted_customer_id</th>\n",
       "      <th>unencrypted_customer_id</th>\n",
       "      <th>transaction_date_local</th>\n",
       "      <th>transaction_datetime_local</th>\n",
       "      <th>week_ending</th>\n",
       "      <th>revenue</th>\n",
       "      <th>units</th>\n",
       "      <th>content_age</th>\n",
       "      <th>first_purchase_date</th>\n",
       "      <th>...</th>\n",
       "      <th>running_tenure_ever</th>\n",
       "      <th>running_arpu_monthly_ever</th>\n",
       "      <th>tenure</th>\n",
       "      <th>tenure_days_up_to_last_purchase</th>\n",
       "      <th>tenure_days_up_to_last_purchase_corrected</th>\n",
       "      <th>tenure_months_up_to_last_purchase</th>\n",
       "      <th>tenure_up_to_last_purchase_corrected</th>\n",
       "      <th>arpu_monthly_dynamic</th>\n",
       "      <th>frequency</th>\n",
       "      <th>tenure_years</th>\n",
       "    </tr>\n",
       "  </thead>\n",
       "  <tbody>\n",
       "    <tr>\n",
       "      <th>0</th>\n",
       "      <td>4</td>\n",
       "      <td>A000566631H70KG0OKKF7</td>\n",
       "      <td>9223372034587508951</td>\n",
       "      <td>2019-04-22</td>\n",
       "      <td>2019-04-22 01:32:10</td>\n",
       "      <td>2019-12-07 00:00:00</td>\n",
       "      <td>2.09</td>\n",
       "      <td>1</td>\n",
       "      <td>A_Under_30d</td>\n",
       "      <td>2019-04-22 01:32:10</td>\n",
       "      <td>...</td>\n",
       "      <td>0.0</td>\n",
       "      <td>2.0900</td>\n",
       "      <td>240</td>\n",
       "      <td>-1</td>\n",
       "      <td>0</td>\n",
       "      <td>-0.033333</td>\n",
       "      <td>1.000000</td>\n",
       "      <td>2.090000</td>\n",
       "      <td>0.0</td>\n",
       "      <td>under_year</td>\n",
       "    </tr>\n",
       "    <tr>\n",
       "      <th>1</th>\n",
       "      <td>4</td>\n",
       "      <td>A000566631H70KG0OKKF7</td>\n",
       "      <td>9223372034587508951</td>\n",
       "      <td>2019-04-22</td>\n",
       "      <td>2019-04-22 03:16:54</td>\n",
       "      <td>2019-12-07 00:00:00</td>\n",
       "      <td>3.34</td>\n",
       "      <td>1</td>\n",
       "      <td>D_1y_2yr</td>\n",
       "      <td>2019-04-22 01:32:10</td>\n",
       "      <td>...</td>\n",
       "      <td>0.0</td>\n",
       "      <td>5.4300</td>\n",
       "      <td>240</td>\n",
       "      <td>-1</td>\n",
       "      <td>0</td>\n",
       "      <td>-0.033333</td>\n",
       "      <td>1.000000</td>\n",
       "      <td>5.430000</td>\n",
       "      <td>0.0</td>\n",
       "      <td>under_year</td>\n",
       "    </tr>\n",
       "    <tr>\n",
       "      <th>2</th>\n",
       "      <td>4</td>\n",
       "      <td>A000566631H70KG0OKKF7</td>\n",
       "      <td>9223372034587508951</td>\n",
       "      <td>2019-07-15</td>\n",
       "      <td>2019-07-15 02:16:24</td>\n",
       "      <td>2019-12-07 00:00:00</td>\n",
       "      <td>4.19</td>\n",
       "      <td>1</td>\n",
       "      <td>A_Under_30d</td>\n",
       "      <td>2019-04-22 01:32:10</td>\n",
       "      <td>...</td>\n",
       "      <td>3.0</td>\n",
       "      <td>3.2066</td>\n",
       "      <td>240</td>\n",
       "      <td>83</td>\n",
       "      <td>83</td>\n",
       "      <td>2.766667</td>\n",
       "      <td>2.766667</td>\n",
       "      <td>3.477108</td>\n",
       "      <td>83.0</td>\n",
       "      <td>under_year</td>\n",
       "    </tr>\n",
       "    <tr>\n",
       "      <th>3</th>\n",
       "      <td>4</td>\n",
       "      <td>A000566631H70KG0OKKF7</td>\n",
       "      <td>9223372034587508951</td>\n",
       "      <td>2019-07-23</td>\n",
       "      <td>2019-07-23 04:49:23</td>\n",
       "      <td>2019-12-07 00:00:00</td>\n",
       "      <td>3.35</td>\n",
       "      <td>1</td>\n",
       "      <td>B_30days_6m</td>\n",
       "      <td>2019-04-22 01:32:10</td>\n",
       "      <td>...</td>\n",
       "      <td>3.0</td>\n",
       "      <td>4.3233</td>\n",
       "      <td>240</td>\n",
       "      <td>91</td>\n",
       "      <td>91</td>\n",
       "      <td>3.033333</td>\n",
       "      <td>3.033333</td>\n",
       "      <td>4.275824</td>\n",
       "      <td>8.0</td>\n",
       "      <td>under_year</td>\n",
       "    </tr>\n",
       "    <tr>\n",
       "      <th>4</th>\n",
       "      <td>4</td>\n",
       "      <td>A000566631H70KG0OKKF7</td>\n",
       "      <td>9223372034587508951</td>\n",
       "      <td>2019-07-28</td>\n",
       "      <td>2019-07-28 01:49:41</td>\n",
       "      <td>2019-12-07 00:00:00</td>\n",
       "      <td>3.35</td>\n",
       "      <td>1</td>\n",
       "      <td>D_1y_2yr</td>\n",
       "      <td>2019-04-22 01:32:10</td>\n",
       "      <td>...</td>\n",
       "      <td>3.0</td>\n",
       "      <td>5.4400</td>\n",
       "      <td>240</td>\n",
       "      <td>96</td>\n",
       "      <td>96</td>\n",
       "      <td>3.200000</td>\n",
       "      <td>3.200000</td>\n",
       "      <td>5.100000</td>\n",
       "      <td>5.0</td>\n",
       "      <td>under_year</td>\n",
       "    </tr>\n",
       "  </tbody>\n",
       "</table>\n",
       "<p>5 rows × 36 columns</p>\n",
       "</div>"
      ],
      "text/plain": [
       "   marketplace_id  encrypted_customer_id  unencrypted_customer_id  \\\n",
       "0               4  A000566631H70KG0OKKF7      9223372034587508951   \n",
       "1               4  A000566631H70KG0OKKF7      9223372034587508951   \n",
       "2               4  A000566631H70KG0OKKF7      9223372034587508951   \n",
       "3               4  A000566631H70KG0OKKF7      9223372034587508951   \n",
       "4               4  A000566631H70KG0OKKF7      9223372034587508951   \n",
       "\n",
       "  transaction_date_local transaction_datetime_local          week_ending  \\\n",
       "0             2019-04-22        2019-04-22 01:32:10  2019-12-07 00:00:00   \n",
       "1             2019-04-22        2019-04-22 03:16:54  2019-12-07 00:00:00   \n",
       "2             2019-07-15        2019-07-15 02:16:24  2019-12-07 00:00:00   \n",
       "3             2019-07-23        2019-07-23 04:49:23  2019-12-07 00:00:00   \n",
       "4             2019-07-28        2019-07-28 01:49:41  2019-12-07 00:00:00   \n",
       "\n",
       "   revenue  units  content_age first_purchase_date      ...       \\\n",
       "0     2.09      1  A_Under_30d 2019-04-22 01:32:10      ...        \n",
       "1     3.34      1     D_1y_2yr 2019-04-22 01:32:10      ...        \n",
       "2     4.19      1  A_Under_30d 2019-04-22 01:32:10      ...        \n",
       "3     3.35      1  B_30days_6m 2019-04-22 01:32:10      ...        \n",
       "4     3.35      1     D_1y_2yr 2019-04-22 01:32:10      ...        \n",
       "\n",
       "  running_tenure_ever running_arpu_monthly_ever tenure  \\\n",
       "0                 0.0                    2.0900    240   \n",
       "1                 0.0                    5.4300    240   \n",
       "2                 3.0                    3.2066    240   \n",
       "3                 3.0                    4.3233    240   \n",
       "4                 3.0                    5.4400    240   \n",
       "\n",
       "  tenure_days_up_to_last_purchase tenure_days_up_to_last_purchase_corrected  \\\n",
       "0                              -1                                         0   \n",
       "1                              -1                                         0   \n",
       "2                              83                                        83   \n",
       "3                              91                                        91   \n",
       "4                              96                                        96   \n",
       "\n",
       "   tenure_months_up_to_last_purchase  tenure_up_to_last_purchase_corrected  \\\n",
       "0                          -0.033333                              1.000000   \n",
       "1                          -0.033333                              1.000000   \n",
       "2                           2.766667                              2.766667   \n",
       "3                           3.033333                              3.033333   \n",
       "4                           3.200000                              3.200000   \n",
       "\n",
       "   arpu_monthly_dynamic  frequency  tenure_years  \n",
       "0              2.090000        0.0    under_year  \n",
       "1              5.430000        0.0    under_year  \n",
       "2              3.477108       83.0    under_year  \n",
       "3              4.275824        8.0    under_year  \n",
       "4              5.100000        5.0    under_year  \n",
       "\n",
       "[5 rows x 36 columns]"
      ]
     },
     "execution_count": 12,
     "metadata": {},
     "output_type": "execute_result"
    }
   ],
   "source": [
    "df.head()"
   ]
  },
  {
   "cell_type": "code",
   "execution_count": 13,
   "metadata": {},
   "outputs": [
    {
     "data": {
      "text/plain": [
       "Index(['marketplace_id', 'encrypted_customer_id', 'unencrypted_customer_id',\n",
       "       'transaction_date_local', 'transaction_datetime_local', 'week_ending',\n",
       "       'revenue', 'units', 'content_age', 'first_purchase_date',\n",
       "       'series_or_movie_asin', 'series_or_movie_name', 'is_promo', 'is_pmd',\n",
       "       'content_type', 'total_units', 'total_revenue', 'rank_transactions',\n",
       "       'is_active_ttm', 'total_units_ttm', 'total_revenue_ttm',\n",
       "       'total_units_before_ttm', 'total_revenue_before_ttm',\n",
       "       'cumulative_sum_total', 'promo_dist', 'running_arpu_ever',\n",
       "       'running_tenure_ever', 'running_arpu_monthly_ever', 'tenure',\n",
       "       'tenure_days_up_to_last_purchase',\n",
       "       'tenure_days_up_to_last_purchase_corrected',\n",
       "       'tenure_months_up_to_last_purchase',\n",
       "       'tenure_up_to_last_purchase_corrected', 'arpu_monthly_dynamic',\n",
       "       'frequency', 'tenure_years'],\n",
       "      dtype='object')"
      ]
     },
     "execution_count": 13,
     "metadata": {},
     "output_type": "execute_result"
    }
   ],
   "source": [
    "df.columns"
   ]
  },
  {
   "cell_type": "code",
   "execution_count": 14,
   "metadata": {},
   "outputs": [
    {
     "data": {
      "text/plain": [
       "array(['non_promo', 'pmd_promo', 'vendisto_promo'], dtype=object)"
      ]
     },
     "execution_count": 14,
     "metadata": {},
     "output_type": "execute_result"
    }
   ],
   "source": [
    "df['promo_dist'].unique()"
   ]
  },
  {
   "cell_type": "code",
   "execution_count": 15,
   "metadata": {
    "collapsed": true
   },
   "outputs": [],
   "source": [
    "#Create a dataset with first pmd transaction\n",
    "subset_first_transaction_by_type = df.groupby(['encrypted_customer_id','promo_dist'])['rank_transactions'].min().reset_index()"
   ]
  },
  {
   "cell_type": "code",
   "execution_count": 16,
   "metadata": {},
   "outputs": [
    {
     "data": {
      "text/html": [
       "<div>\n",
       "<style>\n",
       "    .dataframe thead tr:only-child th {\n",
       "        text-align: right;\n",
       "    }\n",
       "\n",
       "    .dataframe thead th {\n",
       "        text-align: left;\n",
       "    }\n",
       "\n",
       "    .dataframe tbody tr th {\n",
       "        vertical-align: top;\n",
       "    }\n",
       "</style>\n",
       "<table border=\"1\" class=\"dataframe\">\n",
       "  <thead>\n",
       "    <tr style=\"text-align: right;\">\n",
       "      <th></th>\n",
       "      <th>encrypted_customer_id</th>\n",
       "      <th>promo_dist_entry</th>\n",
       "      <th>rank_transactions</th>\n",
       "    </tr>\n",
       "  </thead>\n",
       "  <tbody>\n",
       "    <tr>\n",
       "      <th>0</th>\n",
       "      <td>A000008620RRI25LDWMJZ</td>\n",
       "      <td>non_promo</td>\n",
       "      <td>1</td>\n",
       "    </tr>\n",
       "    <tr>\n",
       "      <th>1</th>\n",
       "      <td>A00009662PVU742JLBPTP</td>\n",
       "      <td>non_promo</td>\n",
       "      <td>1</td>\n",
       "    </tr>\n",
       "    <tr>\n",
       "      <th>2</th>\n",
       "      <td>A0001210DHVG1EB1OKP5</td>\n",
       "      <td>non_promo</td>\n",
       "      <td>1</td>\n",
       "    </tr>\n",
       "    <tr>\n",
       "      <th>3</th>\n",
       "      <td>A0001294FIJCW4LXHO9Y</td>\n",
       "      <td>non_promo</td>\n",
       "      <td>1</td>\n",
       "    </tr>\n",
       "    <tr>\n",
       "      <th>4</th>\n",
       "      <td>A0001558Z8QHBLZA9AA1</td>\n",
       "      <td>non_promo</td>\n",
       "      <td>2</td>\n",
       "    </tr>\n",
       "  </tbody>\n",
       "</table>\n",
       "</div>"
      ],
      "text/plain": [
       "   encrypted_customer_id promo_dist_entry  rank_transactions\n",
       "0  A000008620RRI25LDWMJZ        non_promo                  1\n",
       "1  A00009662PVU742JLBPTP        non_promo                  1\n",
       "2   A0001210DHVG1EB1OKP5        non_promo                  1\n",
       "3   A0001294FIJCW4LXHO9Y        non_promo                  1\n",
       "4   A0001558Z8QHBLZA9AA1        non_promo                  2"
      ]
     },
     "execution_count": 16,
     "metadata": {},
     "output_type": "execute_result"
    }
   ],
   "source": [
    "subset_first_transaction_by_type.columns = ['encrypted_customer_id','promo_dist_entry','rank_transactions']\n",
    "subset_first_transaction_by_type.head()"
   ]
  },
  {
   "cell_type": "code",
   "execution_count": 17,
   "metadata": {},
   "outputs": [
    {
     "data": {
      "text/plain": [
       "362636"
      ]
     },
     "execution_count": 17,
     "metadata": {},
     "output_type": "execute_result"
    }
   ],
   "source": [
    "df[df['promo_dist'] == 'pmd_promo']['encrypted_customer_id'].nunique()"
   ]
  },
  {
   "cell_type": "code",
   "execution_count": 18,
   "metadata": {
    "collapsed": true
   },
   "outputs": [],
   "source": [
    "# Create a copy of the whole set\n",
    "copy_dataset = df[[\"marketplace_id\", \"encrypted_customer_id\",\"transaction_date_local\",\"revenue\",\"units\",\"content_age\",\n",
    "                   \"arpu_monthly_dynamic\",\"frequency\",\"total_units\", \"total_revenue\",\n",
    "                   \"total_units_ttm\", \"total_revenue_ttm\",\"rank_transactions\",\n",
    "                   \"total_units_before_ttm\", \"total_revenue_before_ttm\", \"promo_dist\",\n",
    "                   \"tenure_years\",\"tenure_up_to_last_purchase_corrected\",\"tenure\"]]"
   ]
  },
  {
   "cell_type": "code",
   "execution_count": 19,
   "metadata": {},
   "outputs": [
    {
     "name": "stdout",
     "output_type": "stream",
     "text": [
      "(13550327, 19)\n"
     ]
    }
   ],
   "source": [
    "print(copy_dataset.shape)"
   ]
  },
  {
   "cell_type": "markdown",
   "metadata": {},
   "source": [
    "# Analyse different entry points into PMD"
   ]
  },
  {
   "cell_type": "code",
   "execution_count": 20,
   "metadata": {
    "collapsed": true
   },
   "outputs": [],
   "source": [
    "def make_final_adjastments(df):\n",
    "    subset_first_transaction_by_type = df.groupby(['encrypted_customer_id','promo_dist'])['rank_transactions'].min().reset_index()\n",
    "    subset_first_transaction_by_type.columns = ['encrypted_customer_id','promo_dist_entry','rank_transactions']\n",
    "    \n",
    "    copy_dataset = df[[\"marketplace_id\", \"encrypted_customer_id\",\"transaction_date_local\",\"revenue\",\"units\",\"content_age\",\n",
    "                   \"arpu_monthly_dynamic\",\"frequency\",\"total_units\", \"total_revenue\",\n",
    "                   \"total_units_ttm\", \"total_revenue_ttm\",\"rank_transactions\",\n",
    "                   \"total_units_before_ttm\", \"total_revenue_before_ttm\", \"promo_dist\",\n",
    "                   \"tenure_years\",\"tenure_up_to_last_purchase_corrected\",\"tenure\",\"is_active_ttm\"]]\n",
    "    df_new = pd.merge(left = copy_dataset, right = subset_first_transaction_by_type, left_on = ['encrypted_customer_id','rank_transactions'],\n",
    "                 right_on = ['encrypted_customer_id','rank_transactions'], how = 'left')\n",
    "    \n",
    "    \n",
    "    subset_first_transaction_pmd = subset_first_transaction_by_type[subset_first_transaction_by_type['promo_dist_entry'] == 'pmd_promo']\n",
    "    subset_first_transaction_pmd.columns = ['encrypted_customer_id','promo_dist_entry_specific','rank_transactions_entry']\n",
    "    \n",
    "    df_new = pd.merge(left = df_new, right = subset_first_transaction_pmd[['encrypted_customer_id','rank_transactions_entry']],\n",
    "                      left_on = ['encrypted_customer_id'],\n",
    "                      right_on = ['encrypted_customer_id'], how = 'left')\n",
    "    \n",
    "    df_new['rank_transactions_entry'] = df_new['rank_transactions_entry'].fillna(0)\n",
    "    \n",
    "    \n",
    "    pd.set_option('mode.chained_assignment', None)\n",
    "    \n",
    "    df_new['which_relative_to_pmd'] = 'no_entry'\n",
    "    df_new['which_relative_to_pmd'][(df_new['rank_transactions'] < df_new['rank_transactions_entry']) &\n",
    "                                   (df_new['rank_transactions_entry'] != 0) ] = \"before\"\n",
    "    df_new['which_relative_to_pmd'][(df_new['rank_transactions'] > df_new['rank_transactions_entry']) &\n",
    "                                   (df_new['rank_transactions_entry'] != 0)] = \"after\"\n",
    "    df_new['which_relative_to_pmd'][(df_new['rank_transactions'] == df_new['rank_transactions_entry']) &\n",
    "                                   (df_new['rank_transactions_entry'] != 0)] = \"pmd_entry\"\n",
    "    \n",
    "    return df_new"
   ]
  },
  {
   "cell_type": "code",
   "execution_count": 21,
   "metadata": {
    "collapsed": true
   },
   "outputs": [],
   "source": [
    "df_new = make_final_adjastments(df)"
   ]
  },
  {
   "cell_type": "code",
   "execution_count": 22,
   "metadata": {},
   "outputs": [
    {
     "data": {
      "text/plain": [
       "(13550327, 23)"
      ]
     },
     "execution_count": 22,
     "metadata": {},
     "output_type": "execute_result"
    }
   ],
   "source": [
    "df_new.shape"
   ]
  },
  {
   "cell_type": "code",
   "execution_count": 23,
   "metadata": {},
   "outputs": [
    {
     "data": {
      "text/plain": [
       "Index(['marketplace_id', 'encrypted_customer_id', 'transaction_date_local',\n",
       "       'revenue', 'units', 'content_age', 'arpu_monthly_dynamic', 'frequency',\n",
       "       'total_units', 'total_revenue', 'total_units_ttm', 'total_revenue_ttm',\n",
       "       'rank_transactions', 'total_units_before_ttm',\n",
       "       'total_revenue_before_ttm', 'promo_dist', 'tenure_years',\n",
       "       'tenure_up_to_last_purchase_corrected', 'tenure', 'is_active_ttm',\n",
       "       'promo_dist_entry', 'rank_transactions_entry', 'which_relative_to_pmd'],\n",
       "      dtype='object')"
      ]
     },
     "execution_count": 23,
     "metadata": {},
     "output_type": "execute_result"
    }
   ],
   "source": [
    "df_new.columns"
   ]
  },
  {
   "cell_type": "code",
   "execution_count": 24,
   "metadata": {
    "collapsed": true
   },
   "outputs": [],
   "source": [
    "ch = df_new[df_new['encrypted_customer_id'].isin(['A10960PTH4K18U','A000566631H70KG0OKKF7','A1033MZXPVO47W'])]"
   ]
  },
  {
   "cell_type": "code",
   "execution_count": 274,
   "metadata": {},
   "outputs": [],
   "source": [
    "#ch[ch['encrypted_customer_id'] == 'A1033MZXPVO47W'].iloc[:,3:]\n",
    "#ch[ch['encrypted_customer_id'] == 'A10960PTH4K18U'].iloc[:,3:]\n",
    "#ch"
   ]
  },
  {
   "cell_type": "code",
   "execution_count": 26,
   "metadata": {},
   "outputs": [
    {
     "data": {
      "text/plain": [
       "array(['no_entry', 'pmd_entry', 'after', 'before'], dtype=object)"
      ]
     },
     "execution_count": 26,
     "metadata": {},
     "output_type": "execute_result"
    }
   ],
   "source": [
    "df_new['which_relative_to_pmd'].unique()"
   ]
  },
  {
   "cell_type": "code",
   "execution_count": 27,
   "metadata": {
    "collapsed": true
   },
   "outputs": [],
   "source": [
    "def get_diff_stats(x):\n",
    "    \"\"\"provides various metrics for count, sum, revenue\"\"\"\n",
    "    d = {}\n",
    "    d['count_customers'] = x['encrypted_customer_id'].nunique()\n",
    "    d['arpu_monthly_dynamic'] = x['arpu_monthly_dynamic'].mean()\n",
    "    d['average_frequency'] = x['frequency'].mean()\n",
    "    d['units'] = x['units'].sum()\n",
    "    d['revenue'] = x['revenue'].sum()\n",
    "    \n",
    "    return pd.Series(d, index = ['count_customers','arpu_monthly_dynamic', 'average_frequency', 'units','revenue'])"
   ]
  },
  {
   "cell_type": "markdown",
   "metadata": {},
   "source": [
    "# Subset of those who have done BOTH before and after"
   ]
  },
  {
   "cell_type": "code",
   "execution_count": 230,
   "metadata": {},
   "outputs": [],
   "source": [
    "def create_subset(df):\n",
    "    before = df[df['which_relative_to_pmd'].isin(['before'])]['encrypted_customer_id'].unique()\n",
    "    after_with_before = df[(df['which_relative_to_pmd'] == 'after') &\n",
    "                           df['encrypted_customer_id'].isin(before)]['encrypted_customer_id'].unique()\n",
    "    \n",
    "    subset = df[df['encrypted_customer_id'].isin(after_with_before)]\n",
    "    \n",
    "    return subset"
   ]
  },
  {
   "cell_type": "code",
   "execution_count": 235,
   "metadata": {},
   "outputs": [],
   "source": [
    "d = create_subset(df_new)"
   ]
  },
  {
   "cell_type": "code",
   "execution_count": 237,
   "metadata": {},
   "outputs": [
    {
     "data": {
      "text/plain": [
       "(3620616, 23)"
      ]
     },
     "execution_count": 237,
     "metadata": {},
     "output_type": "execute_result"
    }
   ],
   "source": [
    "d.shape"
   ]
  },
  {
   "cell_type": "code",
   "execution_count": 238,
   "metadata": {
    "collapsed": true
   },
   "outputs": [],
   "source": [
    "grouped = d.groupby([\"encrypted_customer_id\", \"total_units\",\"tenure_years\",\n",
    "                       \"total_units_ttm\",\"rank_transactions_entry\",\"which_relative_to_pmd\"]).apply(get_diff_stats).reset_index()"
   ]
  },
  {
   "cell_type": "code",
   "execution_count": 240,
   "metadata": {},
   "outputs": [
    {
     "data": {
      "text/html": [
       "<div>\n",
       "<style>\n",
       "    .dataframe thead tr:only-child th {\n",
       "        text-align: right;\n",
       "    }\n",
       "\n",
       "    .dataframe thead th {\n",
       "        text-align: left;\n",
       "    }\n",
       "\n",
       "    .dataframe tbody tr th {\n",
       "        vertical-align: top;\n",
       "    }\n",
       "</style>\n",
       "<table border=\"1\" class=\"dataframe\">\n",
       "  <thead>\n",
       "    <tr style=\"text-align: right;\">\n",
       "      <th></th>\n",
       "      <th>encrypted_customer_id</th>\n",
       "      <th>total_units</th>\n",
       "      <th>tenure_years</th>\n",
       "      <th>total_units_ttm</th>\n",
       "      <th>rank_transactions_entry</th>\n",
       "      <th>which_relative_to_pmd</th>\n",
       "      <th>count_customers</th>\n",
       "      <th>arpu_monthly_dynamic</th>\n",
       "      <th>average_frequency</th>\n",
       "      <th>units</th>\n",
       "      <th>revenue</th>\n",
       "    </tr>\n",
       "  </thead>\n",
       "  <tbody>\n",
       "    <tr>\n",
       "      <th>0</th>\n",
       "      <td>A000273015K0TYSUARO87</td>\n",
       "      <td>23</td>\n",
       "      <td>btw_3and4yrs</td>\n",
       "      <td>6.0</td>\n",
       "      <td>12.0</td>\n",
       "      <td>after</td>\n",
       "      <td>1.0</td>\n",
       "      <td>2.040812</td>\n",
       "      <td>58.454545</td>\n",
       "      <td>11.0</td>\n",
       "      <td>36.86</td>\n",
       "    </tr>\n",
       "    <tr>\n",
       "      <th>1</th>\n",
       "      <td>A000273015K0TYSUARO87</td>\n",
       "      <td>23</td>\n",
       "      <td>btw_3and4yrs</td>\n",
       "      <td>6.0</td>\n",
       "      <td>12.0</td>\n",
       "      <td>before</td>\n",
       "      <td>1.0</td>\n",
       "      <td>2.413213</td>\n",
       "      <td>39.454545</td>\n",
       "      <td>11.0</td>\n",
       "      <td>40.21</td>\n",
       "    </tr>\n",
       "    <tr>\n",
       "      <th>2</th>\n",
       "      <td>A000273015K0TYSUARO87</td>\n",
       "      <td>23</td>\n",
       "      <td>btw_3and4yrs</td>\n",
       "      <td>6.0</td>\n",
       "      <td>12.0</td>\n",
       "      <td>pmd_entry</td>\n",
       "      <td>1.0</td>\n",
       "      <td>2.597468</td>\n",
       "      <td>40.000000</td>\n",
       "      <td>1.0</td>\n",
       "      <td>0.83</td>\n",
       "    </tr>\n",
       "    <tr>\n",
       "      <th>3</th>\n",
       "      <td>A000698623JMNYEX0WKEA</td>\n",
       "      <td>10</td>\n",
       "      <td>btw_3and4yrs</td>\n",
       "      <td>0.0</td>\n",
       "      <td>2.0</td>\n",
       "      <td>after</td>\n",
       "      <td>1.0</td>\n",
       "      <td>1.147479</td>\n",
       "      <td>81.500000</td>\n",
       "      <td>8.0</td>\n",
       "      <td>32.25</td>\n",
       "    </tr>\n",
       "    <tr>\n",
       "      <th>4</th>\n",
       "      <td>A000698623JMNYEX0WKEA</td>\n",
       "      <td>10</td>\n",
       "      <td>btw_3and4yrs</td>\n",
       "      <td>0.0</td>\n",
       "      <td>2.0</td>\n",
       "      <td>before</td>\n",
       "      <td>1.0</td>\n",
       "      <td>4.190000</td>\n",
       "      <td>0.000000</td>\n",
       "      <td>1.0</td>\n",
       "      <td>4.19</td>\n",
       "    </tr>\n",
       "  </tbody>\n",
       "</table>\n",
       "</div>"
      ],
      "text/plain": [
       "   encrypted_customer_id  total_units  tenure_years  total_units_ttm  \\\n",
       "0  A000273015K0TYSUARO87           23  btw_3and4yrs              6.0   \n",
       "1  A000273015K0TYSUARO87           23  btw_3and4yrs              6.0   \n",
       "2  A000273015K0TYSUARO87           23  btw_3and4yrs              6.0   \n",
       "3  A000698623JMNYEX0WKEA           10  btw_3and4yrs              0.0   \n",
       "4  A000698623JMNYEX0WKEA           10  btw_3and4yrs              0.0   \n",
       "\n",
       "   rank_transactions_entry which_relative_to_pmd  count_customers  \\\n",
       "0                     12.0                 after              1.0   \n",
       "1                     12.0                before              1.0   \n",
       "2                     12.0             pmd_entry              1.0   \n",
       "3                      2.0                 after              1.0   \n",
       "4                      2.0                before              1.0   \n",
       "\n",
       "   arpu_monthly_dynamic  average_frequency  units  revenue  \n",
       "0              2.040812          58.454545   11.0    36.86  \n",
       "1              2.413213          39.454545   11.0    40.21  \n",
       "2              2.597468          40.000000    1.0     0.83  \n",
       "3              1.147479          81.500000    8.0    32.25  \n",
       "4              4.190000           0.000000    1.0     4.19  "
      ]
     },
     "execution_count": 240,
     "metadata": {},
     "output_type": "execute_result"
    }
   ],
   "source": [
    "grouped.head()"
   ]
  },
  {
   "cell_type": "code",
   "execution_count": 247,
   "metadata": {},
   "outputs": [
    {
     "name": "stdout",
     "output_type": "stream",
     "text": [
      "245159\n",
      "245159\n",
      "245159\n"
     ]
    }
   ],
   "source": [
    "print(grouped['encrypted_customer_id'].nunique())\n",
    "print(grouped[grouped['which_relative_to_pmd'] == 'before']['encrypted_customer_id'].nunique())\n",
    "print(grouped[grouped['which_relative_to_pmd'] == 'after']['encrypted_customer_id'].nunique())"
   ]
  },
  {
   "cell_type": "code",
   "execution_count": 248,
   "metadata": {
    "collapsed": true
   },
   "outputs": [],
   "source": [
    "grouped_no_cust = d.groupby([\"total_units\",\"tenure_years\",\n",
    "                       \"total_units_ttm\",\"rank_transactions_entry\",\"which_relative_to_pmd\"]).apply(get_diff_stats).reset_index()"
   ]
  },
  {
   "cell_type": "code",
   "execution_count": 251,
   "metadata": {},
   "outputs": [
    {
     "name": "stdout",
     "output_type": "stream",
     "text": [
      "(90423, 10)\n"
     ]
    },
    {
     "data": {
      "text/html": [
       "<div>\n",
       "<style>\n",
       "    .dataframe thead tr:only-child th {\n",
       "        text-align: right;\n",
       "    }\n",
       "\n",
       "    .dataframe thead th {\n",
       "        text-align: left;\n",
       "    }\n",
       "\n",
       "    .dataframe tbody tr th {\n",
       "        vertical-align: top;\n",
       "    }\n",
       "</style>\n",
       "<table border=\"1\" class=\"dataframe\">\n",
       "  <thead>\n",
       "    <tr style=\"text-align: right;\">\n",
       "      <th></th>\n",
       "      <th>total_units</th>\n",
       "      <th>tenure_years</th>\n",
       "      <th>total_units_ttm</th>\n",
       "      <th>rank_transactions_entry</th>\n",
       "      <th>which_relative_to_pmd</th>\n",
       "      <th>count_customers</th>\n",
       "      <th>arpu_monthly_dynamic</th>\n",
       "      <th>average_frequency</th>\n",
       "      <th>units</th>\n",
       "      <th>revenue</th>\n",
       "    </tr>\n",
       "  </thead>\n",
       "  <tbody>\n",
       "    <tr>\n",
       "      <th>0</th>\n",
       "      <td>3</td>\n",
       "      <td>btw_1and2yrs</td>\n",
       "      <td>0.0</td>\n",
       "      <td>2.0</td>\n",
       "      <td>after</td>\n",
       "      <td>382.0</td>\n",
       "      <td>4.187200</td>\n",
       "      <td>40.743455</td>\n",
       "      <td>382.0</td>\n",
       "      <td>1283.60</td>\n",
       "    </tr>\n",
       "    <tr>\n",
       "      <th>1</th>\n",
       "      <td>3</td>\n",
       "      <td>btw_1and2yrs</td>\n",
       "      <td>0.0</td>\n",
       "      <td>2.0</td>\n",
       "      <td>before</td>\n",
       "      <td>382.0</td>\n",
       "      <td>4.855157</td>\n",
       "      <td>0.000000</td>\n",
       "      <td>382.0</td>\n",
       "      <td>1854.67</td>\n",
       "    </tr>\n",
       "    <tr>\n",
       "      <th>2</th>\n",
       "      <td>3</td>\n",
       "      <td>btw_1and2yrs</td>\n",
       "      <td>0.0</td>\n",
       "      <td>2.0</td>\n",
       "      <td>pmd_entry</td>\n",
       "      <td>382.0</td>\n",
       "      <td>3.991889</td>\n",
       "      <td>75.201571</td>\n",
       "      <td>382.0</td>\n",
       "      <td>600.06</td>\n",
       "    </tr>\n",
       "    <tr>\n",
       "      <th>3</th>\n",
       "      <td>3</td>\n",
       "      <td>btw_1and2yrs</td>\n",
       "      <td>1.0</td>\n",
       "      <td>2.0</td>\n",
       "      <td>after</td>\n",
       "      <td>486.0</td>\n",
       "      <td>1.126185</td>\n",
       "      <td>273.954733</td>\n",
       "      <td>486.0</td>\n",
       "      <td>2246.26</td>\n",
       "    </tr>\n",
       "    <tr>\n",
       "      <th>4</th>\n",
       "      <td>3</td>\n",
       "      <td>btw_1and2yrs</td>\n",
       "      <td>1.0</td>\n",
       "      <td>2.0</td>\n",
       "      <td>before</td>\n",
       "      <td>486.0</td>\n",
       "      <td>4.779733</td>\n",
       "      <td>0.000000</td>\n",
       "      <td>486.0</td>\n",
       "      <td>2322.95</td>\n",
       "    </tr>\n",
       "  </tbody>\n",
       "</table>\n",
       "</div>"
      ],
      "text/plain": [
       "   total_units  tenure_years  total_units_ttm  rank_transactions_entry  \\\n",
       "0            3  btw_1and2yrs              0.0                      2.0   \n",
       "1            3  btw_1and2yrs              0.0                      2.0   \n",
       "2            3  btw_1and2yrs              0.0                      2.0   \n",
       "3            3  btw_1and2yrs              1.0                      2.0   \n",
       "4            3  btw_1and2yrs              1.0                      2.0   \n",
       "\n",
       "  which_relative_to_pmd  count_customers  arpu_monthly_dynamic  \\\n",
       "0                 after            382.0              4.187200   \n",
       "1                before            382.0              4.855157   \n",
       "2             pmd_entry            382.0              3.991889   \n",
       "3                 after            486.0              1.126185   \n",
       "4                before            486.0              4.779733   \n",
       "\n",
       "   average_frequency  units  revenue  \n",
       "0          40.743455  382.0  1283.60  \n",
       "1           0.000000  382.0  1854.67  \n",
       "2          75.201571  382.0   600.06  \n",
       "3         273.954733  486.0  2246.26  \n",
       "4           0.000000  486.0  2322.95  "
      ]
     },
     "execution_count": 251,
     "metadata": {},
     "output_type": "execute_result"
    }
   ],
   "source": [
    "print(grouped_no_cust.shape)\n",
    "grouped_no_cust.head()"
   ]
  },
  {
   "cell_type": "code",
   "execution_count": 253,
   "metadata": {
    "collapsed": true
   },
   "outputs": [],
   "source": [
    "#grouped_no_cust.to_csv(\"grouped_cleanDE.csv\")"
   ]
  },
  {
   "cell_type": "code",
   "execution_count": 254,
   "metadata": {},
   "outputs": [
    {
     "name": "stdout",
     "output_type": "stream",
     "text": [
      "245159\n",
      "245159\n",
      "245159\n"
     ]
    }
   ],
   "source": [
    "print(d['encrypted_customer_id'].nunique())\n",
    "print(d[d['which_relative_to_pmd'] == 'before']['encrypted_customer_id'].nunique())\n",
    "print(d[d['which_relative_to_pmd'] == 'after']['encrypted_customer_id'].nunique())"
   ]
  },
  {
   "cell_type": "code",
   "execution_count": 260,
   "metadata": {},
   "outputs": [],
   "source": [
    "ch = d[d['encrypted_customer_id'].isin(['A1033MZXPVO47W','AZWOM6LA5WIKD'])]"
   ]
  },
  {
   "cell_type": "code",
   "execution_count": 267,
   "metadata": {},
   "outputs": [],
   "source": [
    "grouped_by_dist = d.groupby([\"total_units\",\"tenure_years\",\n",
    "                       \"total_units_ttm\",\"rank_transactions_entry\",\"which_relative_to_pmd\",\"promo_dist\"]).apply(get_diff_stats).reset_index()"
   ]
  },
  {
   "cell_type": "code",
   "execution_count": 272,
   "metadata": {},
   "outputs": [
    {
     "data": {
      "text/plain": [
       "(129613, 11)"
      ]
     },
     "execution_count": 272,
     "metadata": {},
     "output_type": "execute_result"
    }
   ],
   "source": [
    "grouped_by_dist.shape"
   ]
  },
  {
   "cell_type": "code",
   "execution_count": 273,
   "metadata": {
    "collapsed": true
   },
   "outputs": [],
   "source": [
    "grouped_by_dist.to_csv(\"grouped_by_distDE.csv\")"
   ]
  }
 ],
 "metadata": {
  "kernelspec": {
   "display_name": "Python 3",
   "language": "python",
   "name": "python3"
  },
  "language_info": {
   "codemirror_mode": {
    "name": "ipython",
    "version": 3
   },
   "file_extension": ".py",
   "mimetype": "text/x-python",
   "name": "python",
   "nbconvert_exporter": "python",
   "pygments_lexer": "ipython3",
   "version": "3.6.3"
  }
 },
 "nbformat": 4,
 "nbformat_minor": 2
}
