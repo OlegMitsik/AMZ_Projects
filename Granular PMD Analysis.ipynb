{
 "cells": [
  {
   "cell_type": "code",
   "execution_count": 2,
   "metadata": {
    "collapsed": true
   },
   "outputs": [],
   "source": [
    "import pandas as pd\n",
    "import numpy as np"
   ]
  },
  {
   "cell_type": "code",
   "execution_count": 3,
   "metadata": {},
   "outputs": [],
   "source": [
    "#read the large csv file with specified chunksize \n",
    "df_chunk = pd.read_csv(\"//ant/dept-eu/LHR16/Dept4/AIV-TVOD/BI/PMD_Analysis/PMD_data_PMD_cohort4.txt\", sep='\\t', \n",
    "                       low_memory = False, encoding = 'ISO-8859-1', chunksize = 1000000, error_bad_lines = False)\n"
   ]
  },
  {
   "cell_type": "code",
   "execution_count": 4,
   "metadata": {
    "collapsed": true
   },
   "outputs": [],
   "source": [
    "def make_prep(df):\n",
    "\n",
    "    df['transaction_date_local'] = pd.to_datetime(df['transaction_date_local'])\n",
    "    df['transaction_datetime_local'] = pd.to_datetime(df['transaction_datetime_local'])\n",
    "    df['first_purchase_date'] = pd.to_datetime(df['first_purchase_date'])\n",
    "    df['tenure'] = [int(i.days) for i in (max(df['transaction_date_local']) - df['first_purchase_date'])]\n",
    "    df['cumulative_sum_total'] = df['cumulative_sum_total'].astype(float)\n",
    "    df['tenure_days_up_to_last_purchase'] = [int(i.days) for i in (df['transaction_date_local']) - df['first_purchase_date']] \n",
    "    df['tenure_days_up_to_last_purchase_corrected'] = np.where(df['tenure_days_up_to_last_purchase'] < 0, 0, df['tenure_days_up_to_last_purchase'] )\n",
    "    \n",
    "    df['tenure_months_up_to_last_purchase'] = df['tenure_days_up_to_last_purchase'] / 30\n",
    "    df['tenure_up_to_last_purchase_corrected'] = np.where(df['tenure_months_up_to_last_purchase'] < 1, 1, df['tenure_months_up_to_last_purchase']).astype(float)\n",
    "    df['arpu_monthly_dynamic'] = df['cumulative_sum_total'] / (df['tenure_up_to_last_purchase_corrected'])\n",
    "    \n",
    "    df['frequency'] = df.groupby('encrypted_customer_id')['tenure_days_up_to_last_purchase_corrected'].diff()\n",
    "    \n",
    "    pd.set_option('mode.chained_assignment', None)\n",
    "      # set default value\n",
    "    df['tenure_years'] = \"default\"\n",
    "    df['tenure_years'][(df['tenure'] < 360)] = \"under_year\"\n",
    "    df['tenure_years'][(df['tenure'] >= 360) & (df['tenure'] < 360*2)] = 'btw_1and2yrs'\n",
    "    df['tenure_years'][(df['tenure'] >= 360*2) & (df['tenure'] < 360*3)] = 'btw_2and3yrs'\n",
    "    df['tenure_years'][(df['tenure'] >= 360*3) & (df['tenure'] < 360*4)] = 'btw_3and4yrs'\n",
    "    df['tenure_years'][(df['tenure'] >= 360*4) & (df['tenure'] < 360*5)] = 'btw_4and5yrs'\n",
    "    df['tenure_years'][(df['tenure'] >= 360*5) ] = 'over_5years'\n",
    "    \n",
    "    \n",
    "    df = df.fillna(0)\n",
    "    \n",
    "    return df"
   ]
  },
  {
   "cell_type": "code",
   "execution_count": 5,
   "metadata": {
    "collapsed": true
   },
   "outputs": [],
   "source": [
    "chunk_list = []  # append each chunk df here \n",
    "\n",
    "# Each chunk is in df format\n",
    "for chunk in df_chunk:  \n",
    "    # perform data filtering \n",
    "    chunk_filter = make_prep(chunk)\n",
    "    \n",
    "    # Once the data filtering is done, append the chunk to list\n",
    "    chunk_list.append(chunk_filter)\n",
    "    \n",
    "# concat the list into dataframe \n",
    "df_concat = pd.concat(chunk_list)"
   ]
  },
  {
   "cell_type": "code",
   "execution_count": 6,
   "metadata": {
    "collapsed": true
   },
   "outputs": [],
   "source": [
    "\n",
    "#df_concat.to_pickle(\"data_granularUK_pmdReduced.pkl\")\n",
    "#df_concat.to_pickle(\"data_granularDE_pmdReduced.pkl\")\n",
    "\n",
    "#df_concat.to_pickle(\"data_granularUK_pmdbig.pkl\")\n",
    "#df_concat.to_pickle(\"data_granularDE_pmdbig.pkl\")"
   ]
  },
  {
   "cell_type": "code",
   "execution_count": null,
   "metadata": {
    "collapsed": true
   },
   "outputs": [],
   "source": [
    "#df_concatenated = pd.read_pickle(\"data_granularDE_pmdbig.pkl\")"
   ]
  },
  {
   "cell_type": "code",
   "execution_count": 7,
   "metadata": {},
   "outputs": [
    {
     "data": {
      "text/html": [
       "<div>\n",
       "<style>\n",
       "    .dataframe thead tr:only-child th {\n",
       "        text-align: right;\n",
       "    }\n",
       "\n",
       "    .dataframe thead th {\n",
       "        text-align: left;\n",
       "    }\n",
       "\n",
       "    .dataframe tbody tr th {\n",
       "        vertical-align: top;\n",
       "    }\n",
       "</style>\n",
       "<table border=\"1\" class=\"dataframe\">\n",
       "  <thead>\n",
       "    <tr style=\"text-align: right;\">\n",
       "      <th></th>\n",
       "      <th>marketplace_id</th>\n",
       "      <th>encrypted_customer_id</th>\n",
       "      <th>unencrypted_customer_id</th>\n",
       "      <th>transaction_date_local</th>\n",
       "      <th>transaction_datetime_local</th>\n",
       "      <th>week_ending</th>\n",
       "      <th>revenue</th>\n",
       "      <th>units</th>\n",
       "      <th>content_age</th>\n",
       "      <th>first_purchase_date</th>\n",
       "      <th>...</th>\n",
       "      <th>running_tenure_ever</th>\n",
       "      <th>running_arpu_monthly_ever</th>\n",
       "      <th>tenure</th>\n",
       "      <th>tenure_days_up_to_last_purchase</th>\n",
       "      <th>tenure_days_up_to_last_purchase_corrected</th>\n",
       "      <th>tenure_months_up_to_last_purchase</th>\n",
       "      <th>tenure_up_to_last_purchase_corrected</th>\n",
       "      <th>arpu_monthly_dynamic</th>\n",
       "      <th>frequency</th>\n",
       "      <th>tenure_years</th>\n",
       "    </tr>\n",
       "  </thead>\n",
       "  <tbody>\n",
       "    <tr>\n",
       "      <th>0</th>\n",
       "      <td>4</td>\n",
       "      <td>A0199987XFI4BF5J7UE2</td>\n",
       "      <td>9223372034566728451</td>\n",
       "      <td>2015-10-31</td>\n",
       "      <td>2015-10-31 16:06:53</td>\n",
       "      <td>2019-12-07 00:00:00</td>\n",
       "      <td>1.67</td>\n",
       "      <td>1</td>\n",
       "      <td>D_1y_2yr</td>\n",
       "      <td>2015-10-31 16:06:53</td>\n",
       "      <td>...</td>\n",
       "      <td>0.0</td>\n",
       "      <td>1.6700</td>\n",
       "      <td>1513</td>\n",
       "      <td>-1</td>\n",
       "      <td>0</td>\n",
       "      <td>-0.033333</td>\n",
       "      <td>1.000000</td>\n",
       "      <td>1.670000</td>\n",
       "      <td>0.0</td>\n",
       "      <td>btw_4and5yrs</td>\n",
       "    </tr>\n",
       "    <tr>\n",
       "      <th>1</th>\n",
       "      <td>4</td>\n",
       "      <td>A0199987XFI4BF5J7UE2</td>\n",
       "      <td>9223372034566728451</td>\n",
       "      <td>2015-11-08</td>\n",
       "      <td>2015-11-08 12:36:50</td>\n",
       "      <td>2019-12-07 00:00:00</td>\n",
       "      <td>2.51</td>\n",
       "      <td>1</td>\n",
       "      <td>D_1y_2yr</td>\n",
       "      <td>2015-10-31 16:06:53</td>\n",
       "      <td>...</td>\n",
       "      <td>1.0</td>\n",
       "      <td>4.1800</td>\n",
       "      <td>1513</td>\n",
       "      <td>7</td>\n",
       "      <td>7</td>\n",
       "      <td>0.233333</td>\n",
       "      <td>1.000000</td>\n",
       "      <td>4.180000</td>\n",
       "      <td>7.0</td>\n",
       "      <td>btw_4and5yrs</td>\n",
       "    </tr>\n",
       "    <tr>\n",
       "      <th>2</th>\n",
       "      <td>4</td>\n",
       "      <td>A0199987XFI4BF5J7UE2</td>\n",
       "      <td>9223372034566728451</td>\n",
       "      <td>2016-02-27</td>\n",
       "      <td>2016-02-27 20:16:41</td>\n",
       "      <td>2019-12-07 00:00:00</td>\n",
       "      <td>4.19</td>\n",
       "      <td>1</td>\n",
       "      <td>A_Under_30d</td>\n",
       "      <td>2015-10-31 16:06:53</td>\n",
       "      <td>...</td>\n",
       "      <td>4.0</td>\n",
       "      <td>2.0925</td>\n",
       "      <td>1513</td>\n",
       "      <td>118</td>\n",
       "      <td>118</td>\n",
       "      <td>3.933333</td>\n",
       "      <td>3.933333</td>\n",
       "      <td>2.127966</td>\n",
       "      <td>111.0</td>\n",
       "      <td>btw_4and5yrs</td>\n",
       "    </tr>\n",
       "    <tr>\n",
       "      <th>3</th>\n",
       "      <td>4</td>\n",
       "      <td>A0199987XFI4BF5J7UE2</td>\n",
       "      <td>9223372034566728451</td>\n",
       "      <td>2019-07-04</td>\n",
       "      <td>2019-07-04 18:57:06</td>\n",
       "      <td>2019-12-07 00:00:00</td>\n",
       "      <td>4.18</td>\n",
       "      <td>1</td>\n",
       "      <td>E_2y_3yr</td>\n",
       "      <td>2015-10-31 16:06:53</td>\n",
       "      <td>...</td>\n",
       "      <td>45.0</td>\n",
       "      <td>0.2788</td>\n",
       "      <td>1513</td>\n",
       "      <td>1341</td>\n",
       "      <td>1341</td>\n",
       "      <td>44.700000</td>\n",
       "      <td>44.700000</td>\n",
       "      <td>0.280761</td>\n",
       "      <td>1223.0</td>\n",
       "      <td>btw_4and5yrs</td>\n",
       "    </tr>\n",
       "    <tr>\n",
       "      <th>4</th>\n",
       "      <td>4</td>\n",
       "      <td>A0199987XFI4BF5J7UE2</td>\n",
       "      <td>9223372034566728451</td>\n",
       "      <td>2019-10-05</td>\n",
       "      <td>2019-10-05 12:41:34</td>\n",
       "      <td>2019-12-07 00:00:00</td>\n",
       "      <td>4.19</td>\n",
       "      <td>1</td>\n",
       "      <td>A_Under_30d</td>\n",
       "      <td>2015-10-31 16:06:53</td>\n",
       "      <td>...</td>\n",
       "      <td>48.0</td>\n",
       "      <td>0.3487</td>\n",
       "      <td>1513</td>\n",
       "      <td>1434</td>\n",
       "      <td>1434</td>\n",
       "      <td>47.800000</td>\n",
       "      <td>47.800000</td>\n",
       "      <td>0.350209</td>\n",
       "      <td>93.0</td>\n",
       "      <td>btw_4and5yrs</td>\n",
       "    </tr>\n",
       "  </tbody>\n",
       "</table>\n",
       "<p>5 rows × 36 columns</p>\n",
       "</div>"
      ],
      "text/plain": [
       "   marketplace_id encrypted_customer_id  unencrypted_customer_id  \\\n",
       "0               4  A0199987XFI4BF5J7UE2      9223372034566728451   \n",
       "1               4  A0199987XFI4BF5J7UE2      9223372034566728451   \n",
       "2               4  A0199987XFI4BF5J7UE2      9223372034566728451   \n",
       "3               4  A0199987XFI4BF5J7UE2      9223372034566728451   \n",
       "4               4  A0199987XFI4BF5J7UE2      9223372034566728451   \n",
       "\n",
       "  transaction_date_local transaction_datetime_local          week_ending  \\\n",
       "0             2015-10-31        2015-10-31 16:06:53  2019-12-07 00:00:00   \n",
       "1             2015-11-08        2015-11-08 12:36:50  2019-12-07 00:00:00   \n",
       "2             2016-02-27        2016-02-27 20:16:41  2019-12-07 00:00:00   \n",
       "3             2019-07-04        2019-07-04 18:57:06  2019-12-07 00:00:00   \n",
       "4             2019-10-05        2019-10-05 12:41:34  2019-12-07 00:00:00   \n",
       "\n",
       "   revenue  units  content_age first_purchase_date      ...       \\\n",
       "0     1.67      1     D_1y_2yr 2015-10-31 16:06:53      ...        \n",
       "1     2.51      1     D_1y_2yr 2015-10-31 16:06:53      ...        \n",
       "2     4.19      1  A_Under_30d 2015-10-31 16:06:53      ...        \n",
       "3     4.18      1     E_2y_3yr 2015-10-31 16:06:53      ...        \n",
       "4     4.19      1  A_Under_30d 2015-10-31 16:06:53      ...        \n",
       "\n",
       "  running_tenure_ever running_arpu_monthly_ever tenure  \\\n",
       "0                 0.0                    1.6700   1513   \n",
       "1                 1.0                    4.1800   1513   \n",
       "2                 4.0                    2.0925   1513   \n",
       "3                45.0                    0.2788   1513   \n",
       "4                48.0                    0.3487   1513   \n",
       "\n",
       "  tenure_days_up_to_last_purchase tenure_days_up_to_last_purchase_corrected  \\\n",
       "0                              -1                                         0   \n",
       "1                               7                                         7   \n",
       "2                             118                                       118   \n",
       "3                            1341                                      1341   \n",
       "4                            1434                                      1434   \n",
       "\n",
       "   tenure_months_up_to_last_purchase  tenure_up_to_last_purchase_corrected  \\\n",
       "0                          -0.033333                              1.000000   \n",
       "1                           0.233333                              1.000000   \n",
       "2                           3.933333                              3.933333   \n",
       "3                          44.700000                             44.700000   \n",
       "4                          47.800000                             47.800000   \n",
       "\n",
       "   arpu_monthly_dynamic  frequency  tenure_years  \n",
       "0              1.670000        0.0  btw_4and5yrs  \n",
       "1              4.180000        7.0  btw_4and5yrs  \n",
       "2              2.127966      111.0  btw_4and5yrs  \n",
       "3              0.280761     1223.0  btw_4and5yrs  \n",
       "4              0.350209       93.0  btw_4and5yrs  \n",
       "\n",
       "[5 rows x 36 columns]"
      ]
     },
     "execution_count": 7,
     "metadata": {},
     "output_type": "execute_result"
    }
   ],
   "source": [
    "#df_concatenated.head()\n",
    "df_concat.head()"
   ]
  },
  {
   "cell_type": "code",
   "execution_count": 8,
   "metadata": {},
   "outputs": [
    {
     "data": {
      "text/plain": [
       "array(['non_promo', 'pmd_promo', 'vendisto_promo'], dtype=object)"
      ]
     },
     "execution_count": 8,
     "metadata": {},
     "output_type": "execute_result"
    }
   ],
   "source": [
    "df_concat['promo_dist'].unique()"
   ]
  },
  {
   "cell_type": "markdown",
   "metadata": {},
   "source": [
    "# Analyse different entry points into PMD"
   ]
  },
  {
   "cell_type": "code",
   "execution_count": 9,
   "metadata": {
    "collapsed": true
   },
   "outputs": [],
   "source": [
    "def make_final_adjastments(df):\n",
    "    subset_first_transaction_by_type = df.groupby(['encrypted_customer_id','promo_dist'])['rank_transactions'].min().reset_index()\n",
    "    subset_first_transaction_by_type.columns = ['encrypted_customer_id','promo_dist_entry','rank_transactions']\n",
    "    \n",
    "    copy_dataset = df[[\"marketplace_id\", \"encrypted_customer_id\",\"transaction_date_local\",\"revenue\",\"units\",\"content_age\",\n",
    "                   \"arpu_monthly_dynamic\",\"frequency\",\"total_units\", \"total_revenue\",\n",
    "                   \"total_units_ttm\", \"total_revenue_ttm\",\"rank_transactions\",\n",
    "                   \"total_units_before_ttm\", \"total_revenue_before_ttm\", \"promo_dist\",\n",
    "                   \"tenure_years\",\"tenure_up_to_last_purchase_corrected\",\"tenure\",\"is_active_ttm\"]]\n",
    "    df_new = pd.merge(left = copy_dataset, right = subset_first_transaction_by_type, left_on = ['encrypted_customer_id','rank_transactions'],\n",
    "                 right_on = ['encrypted_customer_id','rank_transactions'], how = 'left')\n",
    "    \n",
    "    \n",
    "    subset_first_transaction_pmd = subset_first_transaction_by_type[subset_first_transaction_by_type['promo_dist_entry'] == 'pmd_promo']\n",
    "    subset_first_transaction_pmd.columns = ['encrypted_customer_id','promo_dist_entry_specific','rank_transactions_entry']\n",
    "    \n",
    "    df_new = pd.merge(left = df_new, right = subset_first_transaction_pmd[['encrypted_customer_id','rank_transactions_entry']],\n",
    "                      left_on = ['encrypted_customer_id'],\n",
    "                      right_on = ['encrypted_customer_id'], how = 'left')\n",
    "    \n",
    "    df_new['rank_transactions_entry'] = df_new['rank_transactions_entry'].fillna(0)\n",
    "    \n",
    "    \n",
    "    pd.set_option('mode.chained_assignment', None)\n",
    "    \n",
    "    df_new['which_relative_to_pmd'] = 'no_entry'\n",
    "    df_new['which_relative_to_pmd'][(df_new['rank_transactions'] < df_new['rank_transactions_entry']) &\n",
    "                                   (df_new['rank_transactions_entry'] != 0) ] = \"before\"\n",
    "    df_new['which_relative_to_pmd'][(df_new['rank_transactions'] > df_new['rank_transactions_entry']) &\n",
    "                                   (df_new['rank_transactions_entry'] != 0)] = \"after\"\n",
    "    df_new['which_relative_to_pmd'][(df_new['rank_transactions'] == df_new['rank_transactions_entry']) &\n",
    "                                   (df_new['rank_transactions_entry'] != 0)] = \"pmd_entry\"\n",
    "    \n",
    "    return df_new"
   ]
  },
  {
   "cell_type": "code",
   "execution_count": 10,
   "metadata": {
    "collapsed": true
   },
   "outputs": [],
   "source": [
    "df_new = make_final_adjastments(df_concat)"
   ]
  },
  {
   "cell_type": "code",
   "execution_count": 16,
   "metadata": {},
   "outputs": [
    {
     "name": "stdout",
     "output_type": "stream",
     "text": [
      "1300000\n"
     ]
    },
    {
     "data": {
      "text/plain": [
       "(16172186, 23)"
      ]
     },
     "execution_count": 16,
     "metadata": {},
     "output_type": "execute_result"
    }
   ],
   "source": [
    "print(df_new['encrypted_customer_id'].nunique())\n",
    "df_new.shape"
   ]
  },
  {
   "cell_type": "code",
   "execution_count": 12,
   "metadata": {},
   "outputs": [
    {
     "data": {
      "text/plain": [
       "Index(['marketplace_id', 'encrypted_customer_id', 'transaction_date_local',\n",
       "       'revenue', 'units', 'content_age', 'arpu_monthly_dynamic', 'frequency',\n",
       "       'total_units', 'total_revenue', 'total_units_ttm', 'total_revenue_ttm',\n",
       "       'rank_transactions', 'total_units_before_ttm',\n",
       "       'total_revenue_before_ttm', 'promo_dist', 'tenure_years',\n",
       "       'tenure_up_to_last_purchase_corrected', 'tenure', 'is_active_ttm',\n",
       "       'promo_dist_entry', 'rank_transactions_entry', 'which_relative_to_pmd'],\n",
       "      dtype='object')"
      ]
     },
     "execution_count": 12,
     "metadata": {},
     "output_type": "execute_result"
    }
   ],
   "source": [
    "df_new.columns"
   ]
  },
  {
   "cell_type": "code",
   "execution_count": 13,
   "metadata": {},
   "outputs": [
    {
     "data": {
      "text/plain": [
       "array(['before', 'pmd_entry', 'after'], dtype=object)"
      ]
     },
     "execution_count": 13,
     "metadata": {},
     "output_type": "execute_result"
    }
   ],
   "source": [
    "df_new['which_relative_to_pmd'].unique()"
   ]
  },
  {
   "cell_type": "code",
   "execution_count": 14,
   "metadata": {
    "collapsed": true
   },
   "outputs": [],
   "source": [
    "def get_diff_stats(x):\n",
    "    \"\"\"provides various metrics for count, sum, revenue\"\"\"\n",
    "    d = {}\n",
    "    d['count_customers'] = x['encrypted_customer_id'].nunique()\n",
    "    d['arpu_monthly_dynamic'] = x['arpu_monthly_dynamic'].mean()\n",
    "    d['average_frequency'] = x['frequency'].mean()\n",
    "    d['units'] = x['units'].sum()\n",
    "    d['revenue'] = x['revenue'].sum()\n",
    "    \n",
    "    return pd.Series(d, index = ['count_customers','arpu_monthly_dynamic', 'average_frequency', 'units','revenue'])"
   ]
  },
  {
   "cell_type": "markdown",
   "metadata": {},
   "source": [
    "# Subset of those who have done BOTH before and after"
   ]
  },
  {
   "cell_type": "code",
   "execution_count": 17,
   "metadata": {
    "collapsed": true
   },
   "outputs": [],
   "source": [
    "def create_subset(df):\n",
    "    before = df[df['which_relative_to_pmd'].isin(['before'])]['encrypted_customer_id'].unique()\n",
    "    after_with_before = df[(df['which_relative_to_pmd'] == 'after') &\n",
    "                           df['encrypted_customer_id'].isin(before)]['encrypted_customer_id'].unique()\n",
    "    \n",
    "    subset = df[df['encrypted_customer_id'].isin(after_with_before)]\n",
    "    \n",
    "    return subset"
   ]
  },
  {
   "cell_type": "code",
   "execution_count": 18,
   "metadata": {
    "collapsed": true
   },
   "outputs": [],
   "source": [
    "d = create_subset(df_new)"
   ]
  },
  {
   "cell_type": "code",
   "execution_count": 19,
   "metadata": {},
   "outputs": [
    {
     "data": {
      "text/plain": [
       "(13444886, 23)"
      ]
     },
     "execution_count": 19,
     "metadata": {},
     "output_type": "execute_result"
    }
   ],
   "source": [
    "d.shape"
   ]
  },
  {
   "cell_type": "code",
   "execution_count": 20,
   "metadata": {},
   "outputs": [
    {
     "name": "stdout",
     "output_type": "stream",
     "text": [
      "889584\n",
      "889584\n",
      "889584\n"
     ]
    }
   ],
   "source": [
    "print(d['encrypted_customer_id'].nunique())\n",
    "print(d[d['which_relative_to_pmd'] == 'before']['encrypted_customer_id'].nunique())\n",
    "print(d[d['which_relative_to_pmd'] == 'after']['encrypted_customer_id'].nunique())"
   ]
  },
  {
   "cell_type": "code",
   "execution_count": 21,
   "metadata": {
    "collapsed": true
   },
   "outputs": [],
   "source": [
    "def final_output(df):\n",
    "    grouped = df.groupby([\"total_units\",\"tenure_years\",\n",
    "                       \"total_units_ttm\",\"rank_transactions_entry\",\"which_relative_to_pmd\"]).apply(get_diff_stats).reset_index()\n",
    "    \n",
    "    grouped_dist = df.groupby([\"total_units\",\"tenure_years\",\n",
    "                       \"total_units_ttm\",\"rank_transactions_entry\",\"which_relative_to_pmd\",\"promo_dist\"]).apply(get_diff_stats).reset_index()\n",
    "    \n",
    "    \n",
    "    output = pd.merge(left = grouped_dist, right = grouped[['total_units','tenure_years','total_units_ttm',\n",
    "                                                           'rank_transactions_entry','which_relative_to_pmd','units']],\n",
    "                     left_on = ['total_units','tenure_years','total_units_ttm',\n",
    "                                                           'rank_transactions_entry','which_relative_to_pmd'],\n",
    "                     right_on = ['total_units','tenure_years','total_units_ttm',\n",
    "                                                           'rank_transactions_entry','which_relative_to_pmd'], how = 'left')\n",
    "    \n",
    "    output['share'] = output['units_x'] / output['units_y']\n",
    "    return grouped, output"
   ]
  },
  {
   "cell_type": "code",
   "execution_count": 22,
   "metadata": {
    "collapsed": true
   },
   "outputs": [],
   "source": [
    "grouped, dist = final_output(d)"
   ]
  },
  {
   "cell_type": "code",
   "execution_count": 23,
   "metadata": {},
   "outputs": [
    {
     "name": "stdout",
     "output_type": "stream",
     "text": [
      "(117180, 10)\n"
     ]
    },
    {
     "data": {
      "text/html": [
       "<div>\n",
       "<style>\n",
       "    .dataframe thead tr:only-child th {\n",
       "        text-align: right;\n",
       "    }\n",
       "\n",
       "    .dataframe thead th {\n",
       "        text-align: left;\n",
       "    }\n",
       "\n",
       "    .dataframe tbody tr th {\n",
       "        vertical-align: top;\n",
       "    }\n",
       "</style>\n",
       "<table border=\"1\" class=\"dataframe\">\n",
       "  <thead>\n",
       "    <tr style=\"text-align: right;\">\n",
       "      <th></th>\n",
       "      <th>total_units</th>\n",
       "      <th>tenure_years</th>\n",
       "      <th>total_units_ttm</th>\n",
       "      <th>rank_transactions_entry</th>\n",
       "      <th>which_relative_to_pmd</th>\n",
       "      <th>count_customers</th>\n",
       "      <th>arpu_monthly_dynamic</th>\n",
       "      <th>average_frequency</th>\n",
       "      <th>units</th>\n",
       "      <th>revenue</th>\n",
       "    </tr>\n",
       "  </thead>\n",
       "  <tbody>\n",
       "    <tr>\n",
       "      <th>0</th>\n",
       "      <td>3</td>\n",
       "      <td>btw_1and2yrs</td>\n",
       "      <td>0.0</td>\n",
       "      <td>2</td>\n",
       "      <td>after</td>\n",
       "      <td>1192.0</td>\n",
       "      <td>4.229195</td>\n",
       "      <td>41.323826</td>\n",
       "      <td>1192.0</td>\n",
       "      <td>3995.35</td>\n",
       "    </tr>\n",
       "    <tr>\n",
       "      <th>1</th>\n",
       "      <td>3</td>\n",
       "      <td>btw_1and2yrs</td>\n",
       "      <td>0.0</td>\n",
       "      <td>2</td>\n",
       "      <td>before</td>\n",
       "      <td>1192.0</td>\n",
       "      <td>4.717122</td>\n",
       "      <td>0.000000</td>\n",
       "      <td>1192.0</td>\n",
       "      <td>5622.81</td>\n",
       "    </tr>\n",
       "    <tr>\n",
       "      <th>2</th>\n",
       "      <td>3</td>\n",
       "      <td>btw_1and2yrs</td>\n",
       "      <td>0.0</td>\n",
       "      <td>2</td>\n",
       "      <td>pmd_entry</td>\n",
       "      <td>1192.0</td>\n",
       "      <td>3.979368</td>\n",
       "      <td>74.390101</td>\n",
       "      <td>1192.0</td>\n",
       "      <td>1952.00</td>\n",
       "    </tr>\n",
       "    <tr>\n",
       "      <th>3</th>\n",
       "      <td>3</td>\n",
       "      <td>btw_1and2yrs</td>\n",
       "      <td>1.0</td>\n",
       "      <td>2</td>\n",
       "      <td>after</td>\n",
       "      <td>1675.0</td>\n",
       "      <td>1.219823</td>\n",
       "      <td>266.970149</td>\n",
       "      <td>1675.0</td>\n",
       "      <td>7563.92</td>\n",
       "    </tr>\n",
       "    <tr>\n",
       "      <th>4</th>\n",
       "      <td>3</td>\n",
       "      <td>btw_1and2yrs</td>\n",
       "      <td>1.0</td>\n",
       "      <td>2</td>\n",
       "      <td>before</td>\n",
       "      <td>1675.0</td>\n",
       "      <td>4.703057</td>\n",
       "      <td>0.000000</td>\n",
       "      <td>1675.0</td>\n",
       "      <td>7877.62</td>\n",
       "    </tr>\n",
       "  </tbody>\n",
       "</table>\n",
       "</div>"
      ],
      "text/plain": [
       "   total_units  tenure_years  total_units_ttm  rank_transactions_entry  \\\n",
       "0            3  btw_1and2yrs              0.0                        2   \n",
       "1            3  btw_1and2yrs              0.0                        2   \n",
       "2            3  btw_1and2yrs              0.0                        2   \n",
       "3            3  btw_1and2yrs              1.0                        2   \n",
       "4            3  btw_1and2yrs              1.0                        2   \n",
       "\n",
       "  which_relative_to_pmd  count_customers  arpu_monthly_dynamic  \\\n",
       "0                 after           1192.0              4.229195   \n",
       "1                before           1192.0              4.717122   \n",
       "2             pmd_entry           1192.0              3.979368   \n",
       "3                 after           1675.0              1.219823   \n",
       "4                before           1675.0              4.703057   \n",
       "\n",
       "   average_frequency   units  revenue  \n",
       "0          41.323826  1192.0  3995.35  \n",
       "1           0.000000  1192.0  5622.81  \n",
       "2          74.390101  1192.0  1952.00  \n",
       "3         266.970149  1675.0  7563.92  \n",
       "4           0.000000  1675.0  7877.62  "
      ]
     },
     "execution_count": 23,
     "metadata": {},
     "output_type": "execute_result"
    }
   ],
   "source": [
    "print(grouped.shape)\n",
    "grouped.head()"
   ]
  },
  {
   "cell_type": "code",
   "execution_count": 24,
   "metadata": {},
   "outputs": [
    {
     "name": "stdout",
     "output_type": "stream",
     "text": [
      "(188032, 13)\n"
     ]
    },
    {
     "data": {
      "text/html": [
       "<div>\n",
       "<style>\n",
       "    .dataframe thead tr:only-child th {\n",
       "        text-align: right;\n",
       "    }\n",
       "\n",
       "    .dataframe thead th {\n",
       "        text-align: left;\n",
       "    }\n",
       "\n",
       "    .dataframe tbody tr th {\n",
       "        vertical-align: top;\n",
       "    }\n",
       "</style>\n",
       "<table border=\"1\" class=\"dataframe\">\n",
       "  <thead>\n",
       "    <tr style=\"text-align: right;\">\n",
       "      <th></th>\n",
       "      <th>total_units</th>\n",
       "      <th>tenure_years</th>\n",
       "      <th>total_units_ttm</th>\n",
       "      <th>rank_transactions_entry</th>\n",
       "      <th>which_relative_to_pmd</th>\n",
       "      <th>promo_dist</th>\n",
       "      <th>count_customers</th>\n",
       "      <th>arpu_monthly_dynamic</th>\n",
       "      <th>average_frequency</th>\n",
       "      <th>units_x</th>\n",
       "      <th>revenue</th>\n",
       "      <th>units_y</th>\n",
       "      <th>share</th>\n",
       "    </tr>\n",
       "  </thead>\n",
       "  <tbody>\n",
       "    <tr>\n",
       "      <th>0</th>\n",
       "      <td>3</td>\n",
       "      <td>btw_1and2yrs</td>\n",
       "      <td>0.0</td>\n",
       "      <td>2</td>\n",
       "      <td>after</td>\n",
       "      <td>non_promo</td>\n",
       "      <td>698.0</td>\n",
       "      <td>4.798913</td>\n",
       "      <td>55.961318</td>\n",
       "      <td>698.0</td>\n",
       "      <td>3405.23</td>\n",
       "      <td>1192.0</td>\n",
       "      <td>0.585570</td>\n",
       "    </tr>\n",
       "    <tr>\n",
       "      <th>1</th>\n",
       "      <td>3</td>\n",
       "      <td>btw_1and2yrs</td>\n",
       "      <td>0.0</td>\n",
       "      <td>2</td>\n",
       "      <td>after</td>\n",
       "      <td>pmd_promo</td>\n",
       "      <td>482.0</td>\n",
       "      <td>3.414882</td>\n",
       "      <td>20.051867</td>\n",
       "      <td>482.0</td>\n",
       "      <td>563.43</td>\n",
       "      <td>1192.0</td>\n",
       "      <td>0.404362</td>\n",
       "    </tr>\n",
       "    <tr>\n",
       "      <th>2</th>\n",
       "      <td>3</td>\n",
       "      <td>btw_1and2yrs</td>\n",
       "      <td>0.0</td>\n",
       "      <td>2</td>\n",
       "      <td>after</td>\n",
       "      <td>vendisto_promo</td>\n",
       "      <td>12.0</td>\n",
       "      <td>3.798853</td>\n",
       "      <td>44.333333</td>\n",
       "      <td>12.0</td>\n",
       "      <td>26.69</td>\n",
       "      <td>1192.0</td>\n",
       "      <td>0.010067</td>\n",
       "    </tr>\n",
       "    <tr>\n",
       "      <th>3</th>\n",
       "      <td>3</td>\n",
       "      <td>btw_1and2yrs</td>\n",
       "      <td>0.0</td>\n",
       "      <td>2</td>\n",
       "      <td>before</td>\n",
       "      <td>non_promo</td>\n",
       "      <td>1177.0</td>\n",
       "      <td>4.743942</td>\n",
       "      <td>0.000000</td>\n",
       "      <td>1177.0</td>\n",
       "      <td>5583.62</td>\n",
       "      <td>1192.0</td>\n",
       "      <td>0.987416</td>\n",
       "    </tr>\n",
       "    <tr>\n",
       "      <th>4</th>\n",
       "      <td>3</td>\n",
       "      <td>btw_1and2yrs</td>\n",
       "      <td>0.0</td>\n",
       "      <td>2</td>\n",
       "      <td>before</td>\n",
       "      <td>vendisto_promo</td>\n",
       "      <td>15.0</td>\n",
       "      <td>2.612667</td>\n",
       "      <td>0.000000</td>\n",
       "      <td>15.0</td>\n",
       "      <td>39.19</td>\n",
       "      <td>1192.0</td>\n",
       "      <td>0.012584</td>\n",
       "    </tr>\n",
       "  </tbody>\n",
       "</table>\n",
       "</div>"
      ],
      "text/plain": [
       "   total_units  tenure_years  total_units_ttm  rank_transactions_entry  \\\n",
       "0            3  btw_1and2yrs              0.0                        2   \n",
       "1            3  btw_1and2yrs              0.0                        2   \n",
       "2            3  btw_1and2yrs              0.0                        2   \n",
       "3            3  btw_1and2yrs              0.0                        2   \n",
       "4            3  btw_1and2yrs              0.0                        2   \n",
       "\n",
       "  which_relative_to_pmd      promo_dist  count_customers  \\\n",
       "0                 after       non_promo            698.0   \n",
       "1                 after       pmd_promo            482.0   \n",
       "2                 after  vendisto_promo             12.0   \n",
       "3                before       non_promo           1177.0   \n",
       "4                before  vendisto_promo             15.0   \n",
       "\n",
       "   arpu_monthly_dynamic  average_frequency  units_x  revenue  units_y  \\\n",
       "0              4.798913          55.961318    698.0  3405.23   1192.0   \n",
       "1              3.414882          20.051867    482.0   563.43   1192.0   \n",
       "2              3.798853          44.333333     12.0    26.69   1192.0   \n",
       "3              4.743942           0.000000   1177.0  5583.62   1192.0   \n",
       "4              2.612667           0.000000     15.0    39.19   1192.0   \n",
       "\n",
       "      share  \n",
       "0  0.585570  \n",
       "1  0.404362  \n",
       "2  0.010067  \n",
       "3  0.987416  \n",
       "4  0.012584  "
      ]
     },
     "execution_count": 24,
     "metadata": {},
     "output_type": "execute_result"
    }
   ],
   "source": [
    "print(dist.shape)\n",
    "dist.head()"
   ]
  },
  {
   "cell_type": "code",
   "execution_count": 25,
   "metadata": {
    "collapsed": true
   },
   "outputs": [],
   "source": [
    "#grouped.to_csv(\"grouped_cleanDEbig.csv\")"
   ]
  },
  {
   "cell_type": "code",
   "execution_count": 28,
   "metadata": {
    "collapsed": true
   },
   "outputs": [],
   "source": [
    "#dist.to_csv(\"grouped_by_distDEbig.csv\")"
   ]
  },
  {
   "cell_type": "code",
   "execution_count": 30,
   "metadata": {},
   "outputs": [
    {
     "data": {
      "text/html": [
       "<div>\n",
       "<style>\n",
       "    .dataframe thead tr:only-child th {\n",
       "        text-align: right;\n",
       "    }\n",
       "\n",
       "    .dataframe thead th {\n",
       "        text-align: left;\n",
       "    }\n",
       "\n",
       "    .dataframe tbody tr th {\n",
       "        vertical-align: top;\n",
       "    }\n",
       "</style>\n",
       "<table border=\"1\" class=\"dataframe\">\n",
       "  <thead>\n",
       "    <tr style=\"text-align: right;\">\n",
       "      <th></th>\n",
       "      <th>tenure_years</th>\n",
       "      <th>encrypted_customer_id</th>\n",
       "    </tr>\n",
       "  </thead>\n",
       "  <tbody>\n",
       "    <tr>\n",
       "      <th>0</th>\n",
       "      <td>btw_1and2yrs</td>\n",
       "      <td>185281</td>\n",
       "    </tr>\n",
       "    <tr>\n",
       "      <th>1</th>\n",
       "      <td>btw_2and3yrs</td>\n",
       "      <td>219255</td>\n",
       "    </tr>\n",
       "    <tr>\n",
       "      <th>2</th>\n",
       "      <td>btw_3and4yrs</td>\n",
       "      <td>193007</td>\n",
       "    </tr>\n",
       "    <tr>\n",
       "      <th>3</th>\n",
       "      <td>btw_4and5yrs</td>\n",
       "      <td>141633</td>\n",
       "    </tr>\n",
       "    <tr>\n",
       "      <th>4</th>\n",
       "      <td>over_5years</td>\n",
       "      <td>65076</td>\n",
       "    </tr>\n",
       "    <tr>\n",
       "      <th>5</th>\n",
       "      <td>under_year</td>\n",
       "      <td>85332</td>\n",
       "    </tr>\n",
       "  </tbody>\n",
       "</table>\n",
       "</div>"
      ],
      "text/plain": [
       "   tenure_years  encrypted_customer_id\n",
       "0  btw_1and2yrs                 185281\n",
       "1  btw_2and3yrs                 219255\n",
       "2  btw_3and4yrs                 193007\n",
       "3  btw_4and5yrs                 141633\n",
       "4   over_5years                  65076\n",
       "5    under_year                  85332"
      ]
     },
     "execution_count": 30,
     "metadata": {},
     "output_type": "execute_result"
    }
   ],
   "source": [
    "d.groupby(['tenure_years'])['encrypted_customer_id'].nunique().reset_index()"
   ]
  },
  {
   "cell_type": "markdown",
   "metadata": {},
   "source": [
    "# Reengagement tool"
   ]
  },
  {
   "cell_type": "code",
   "execution_count": 49,
   "metadata": {},
   "outputs": [],
   "source": [
    "def create_dist_by_promo_type(df):\n",
    "    dist_units = df.groupby(['tenure_years','promo_dist'])['units'].sum().reset_index()\n",
    "    summed = df.groupby(['tenure_years'])['units'].sum().reset_index()\n",
    "    \n",
    "    out  = pd.merge(left = dist_units, right = summed, left_on = ['tenure_years'],\n",
    "                    right_on = ['tenure_years'], how = 'left')\n",
    "    \n",
    "    out['share'] = out['units_x'] / out['units_y']\n",
    "    return out"
   ]
  },
  {
   "cell_type": "code",
   "execution_count": 50,
   "metadata": {},
   "outputs": [],
   "source": [
    "dd = create_dist_by_promo_type(d)"
   ]
  },
  {
   "cell_type": "code",
   "execution_count": 52,
   "metadata": {},
   "outputs": [
    {
     "data": {
      "text/html": [
       "<div>\n",
       "<style>\n",
       "    .dataframe thead tr:only-child th {\n",
       "        text-align: right;\n",
       "    }\n",
       "\n",
       "    .dataframe thead th {\n",
       "        text-align: left;\n",
       "    }\n",
       "\n",
       "    .dataframe tbody tr th {\n",
       "        vertical-align: top;\n",
       "    }\n",
       "</style>\n",
       "<table border=\"1\" class=\"dataframe\">\n",
       "  <thead>\n",
       "    <tr style=\"text-align: right;\">\n",
       "      <th></th>\n",
       "      <th>tenure_years</th>\n",
       "      <th>promo_dist</th>\n",
       "      <th>units_x</th>\n",
       "      <th>units_y</th>\n",
       "      <th>share</th>\n",
       "    </tr>\n",
       "  </thead>\n",
       "  <tbody>\n",
       "    <tr>\n",
       "      <th>13</th>\n",
       "      <td>over_5years</td>\n",
       "      <td>pmd_promo</td>\n",
       "      <td>197270</td>\n",
       "      <td>1157808</td>\n",
       "      <td>0.170382</td>\n",
       "    </tr>\n",
       "    <tr>\n",
       "      <th>14</th>\n",
       "      <td>over_5years</td>\n",
       "      <td>vendisto_promo</td>\n",
       "      <td>8364</td>\n",
       "      <td>1157808</td>\n",
       "      <td>0.007224</td>\n",
       "    </tr>\n",
       "    <tr>\n",
       "      <th>15</th>\n",
       "      <td>under_year</td>\n",
       "      <td>non_promo</td>\n",
       "      <td>732585</td>\n",
       "      <td>905553</td>\n",
       "      <td>0.808992</td>\n",
       "    </tr>\n",
       "    <tr>\n",
       "      <th>16</th>\n",
       "      <td>under_year</td>\n",
       "      <td>pmd_promo</td>\n",
       "      <td>167077</td>\n",
       "      <td>905553</td>\n",
       "      <td>0.184503</td>\n",
       "    </tr>\n",
       "    <tr>\n",
       "      <th>17</th>\n",
       "      <td>under_year</td>\n",
       "      <td>vendisto_promo</td>\n",
       "      <td>5891</td>\n",
       "      <td>905553</td>\n",
       "      <td>0.006505</td>\n",
       "    </tr>\n",
       "  </tbody>\n",
       "</table>\n",
       "</div>"
      ],
      "text/plain": [
       "   tenure_years      promo_dist  units_x  units_y     share\n",
       "13  over_5years       pmd_promo   197270  1157808  0.170382\n",
       "14  over_5years  vendisto_promo     8364  1157808  0.007224\n",
       "15   under_year       non_promo   732585   905553  0.808992\n",
       "16   under_year       pmd_promo   167077   905553  0.184503\n",
       "17   under_year  vendisto_promo     5891   905553  0.006505"
      ]
     },
     "execution_count": 52,
     "metadata": {},
     "output_type": "execute_result"
    }
   ],
   "source": [
    "dd.tail()"
   ]
  },
  {
   "cell_type": "code",
   "execution_count": 56,
   "metadata": {},
   "outputs": [],
   "source": [
    "def create_freqdist_by_promo_type(df):\n",
    "    dist_cust = df.groupby(['tenure_years','promo_dist'])['encrypted_customer_id'].nunique().reset_index()\n",
    "    summed = df.groupby(['tenure_years'])['encrypted_customer_id'].nunique().reset_index()\n",
    "    \n",
    "    out  = pd.merge(left = dist_cust, right = summed, left_on = ['tenure_years'],\n",
    "                    right_on = ['tenure_years'], how = 'left')\n",
    "    \n",
    "    out['share'] = out['encrypted_customer_id_x'] / out['encrypted_customer_id_y']\n",
    "    return out"
   ]
  },
  {
   "cell_type": "code",
   "execution_count": 57,
   "metadata": {},
   "outputs": [],
   "source": [
    "reeng = create_freqdist_by_promo_type(d[d['frequency'] > 365])"
   ]
  },
  {
   "cell_type": "code",
   "execution_count": 59,
   "metadata": {},
   "outputs": [
    {
     "data": {
      "text/html": [
       "<div>\n",
       "<style>\n",
       "    .dataframe thead tr:only-child th {\n",
       "        text-align: right;\n",
       "    }\n",
       "\n",
       "    .dataframe thead th {\n",
       "        text-align: left;\n",
       "    }\n",
       "\n",
       "    .dataframe tbody tr th {\n",
       "        vertical-align: top;\n",
       "    }\n",
       "</style>\n",
       "<table border=\"1\" class=\"dataframe\">\n",
       "  <thead>\n",
       "    <tr style=\"text-align: right;\">\n",
       "      <th></th>\n",
       "      <th>tenure_years</th>\n",
       "      <th>promo_dist</th>\n",
       "      <th>encrypted_customer_id_x</th>\n",
       "      <th>encrypted_customer_id_y</th>\n",
       "      <th>share</th>\n",
       "    </tr>\n",
       "  </thead>\n",
       "  <tbody>\n",
       "    <tr>\n",
       "      <th>0</th>\n",
       "      <td>btw_1and2yrs</td>\n",
       "      <td>non_promo</td>\n",
       "      <td>5451</td>\n",
       "      <td>9463</td>\n",
       "      <td>0.576033</td>\n",
       "    </tr>\n",
       "    <tr>\n",
       "      <th>1</th>\n",
       "      <td>btw_1and2yrs</td>\n",
       "      <td>pmd_promo</td>\n",
       "      <td>3966</td>\n",
       "      <td>9463</td>\n",
       "      <td>0.419106</td>\n",
       "    </tr>\n",
       "    <tr>\n",
       "      <th>2</th>\n",
       "      <td>btw_1and2yrs</td>\n",
       "      <td>vendisto_promo</td>\n",
       "      <td>46</td>\n",
       "      <td>9463</td>\n",
       "      <td>0.004861</td>\n",
       "    </tr>\n",
       "    <tr>\n",
       "      <th>3</th>\n",
       "      <td>btw_2and3yrs</td>\n",
       "      <td>non_promo</td>\n",
       "      <td>30766</td>\n",
       "      <td>48774</td>\n",
       "      <td>0.630787</td>\n",
       "    </tr>\n",
       "    <tr>\n",
       "      <th>4</th>\n",
       "      <td>btw_2and3yrs</td>\n",
       "      <td>pmd_promo</td>\n",
       "      <td>18352</td>\n",
       "      <td>48774</td>\n",
       "      <td>0.376266</td>\n",
       "    </tr>\n",
       "  </tbody>\n",
       "</table>\n",
       "</div>"
      ],
      "text/plain": [
       "   tenure_years      promo_dist  encrypted_customer_id_x  \\\n",
       "0  btw_1and2yrs       non_promo                     5451   \n",
       "1  btw_1and2yrs       pmd_promo                     3966   \n",
       "2  btw_1and2yrs  vendisto_promo                       46   \n",
       "3  btw_2and3yrs       non_promo                    30766   \n",
       "4  btw_2and3yrs       pmd_promo                    18352   \n",
       "\n",
       "   encrypted_customer_id_y     share  \n",
       "0                     9463  0.576033  \n",
       "1                     9463  0.419106  \n",
       "2                     9463  0.004861  \n",
       "3                    48774  0.630787  \n",
       "4                    48774  0.376266  "
      ]
     },
     "execution_count": 59,
     "metadata": {},
     "output_type": "execute_result"
    }
   ],
   "source": [
    "reeng.head()"
   ]
  }
 ],
 "metadata": {
  "kernelspec": {
   "display_name": "Python 3",
   "language": "python",
   "name": "python3"
  },
  "language_info": {
   "codemirror_mode": {
    "name": "ipython",
    "version": 3
   },
   "file_extension": ".py",
   "mimetype": "text/x-python",
   "name": "python",
   "nbconvert_exporter": "python",
   "pygments_lexer": "ipython3",
   "version": "3.6.3"
  }
 },
 "nbformat": 4,
 "nbformat_minor": 2
}
