{
 "cells": [
  {
   "cell_type": "code",
   "execution_count": 341,
   "metadata": {
    "collapsed": true
   },
   "outputs": [],
   "source": [
    "import pandas as pd\n",
    "import numpy as np"
   ]
  },
  {
   "cell_type": "code",
   "execution_count": 342,
   "metadata": {
    "collapsed": true
   },
   "outputs": [],
   "source": [
    "data = pd.read_csv(\"../Incremental_unique/data/pmd_prime_day.txt\", sep=\"\\t\",\n",
    "                   encoding = \"ISO-8859-1\", header = None)\n",
    "\n",
    "data.columns = ['master_asin','title_name','encrypted_customer_id','units','revenue']"
   ]
  },
  {
   "cell_type": "code",
   "execution_count": 343,
   "metadata": {},
   "outputs": [
    {
     "data": {
      "text/html": [
       "<div>\n",
       "<style>\n",
       "    .dataframe thead tr:only-child th {\n",
       "        text-align: right;\n",
       "    }\n",
       "\n",
       "    .dataframe thead th {\n",
       "        text-align: left;\n",
       "    }\n",
       "\n",
       "    .dataframe tbody tr th {\n",
       "        vertical-align: top;\n",
       "    }\n",
       "</style>\n",
       "<table border=\"1\" class=\"dataframe\">\n",
       "  <thead>\n",
       "    <tr style=\"text-align: right;\">\n",
       "      <th></th>\n",
       "      <th>master_asin</th>\n",
       "      <th>title_name</th>\n",
       "      <th>encrypted_customer_id</th>\n",
       "      <th>units</th>\n",
       "      <th>revenue</th>\n",
       "    </tr>\n",
       "  </thead>\n",
       "  <tbody>\n",
       "    <tr>\n",
       "      <th>0</th>\n",
       "      <td>B07L9X9TXB</td>\n",
       "      <td>Spider-Man: A New Universe [dt./OV]</td>\n",
       "      <td>A2RJG35770BBXK</td>\n",
       "      <td>1</td>\n",
       "      <td>0.83</td>\n",
       "    </tr>\n",
       "    <tr>\n",
       "      <th>1</th>\n",
       "      <td>B07PS9PBNC</td>\n",
       "      <td>Elternschule</td>\n",
       "      <td>A30XJVOQBJ78RL</td>\n",
       "      <td>1</td>\n",
       "      <td>0.83</td>\n",
       "    </tr>\n",
       "    <tr>\n",
       "      <th>2</th>\n",
       "      <td>B01LYKPPH4</td>\n",
       "      <td>Snowden [dt./OV]</td>\n",
       "      <td>A291DXU5RM3XK5</td>\n",
       "      <td>1</td>\n",
       "      <td>0.83</td>\n",
       "    </tr>\n",
       "    <tr>\n",
       "      <th>3</th>\n",
       "      <td>B07PWYCWY5</td>\n",
       "      <td>25 km/h</td>\n",
       "      <td>A2RWPPHI3XUX33</td>\n",
       "      <td>1</td>\n",
       "      <td>0.83</td>\n",
       "    </tr>\n",
       "    <tr>\n",
       "      <th>4</th>\n",
       "      <td>B00HFD8LBU</td>\n",
       "      <td>Alien - Das unheimliche Wesen aus einer fremde...</td>\n",
       "      <td>AC5IGJF50PTDP</td>\n",
       "      <td>1</td>\n",
       "      <td>0.83</td>\n",
       "    </tr>\n",
       "  </tbody>\n",
       "</table>\n",
       "</div>"
      ],
      "text/plain": [
       "  master_asin                                         title_name  \\\n",
       "0  B07L9X9TXB                Spider-Man: A New Universe [dt./OV]   \n",
       "1  B07PS9PBNC                                       Elternschule   \n",
       "2  B01LYKPPH4                                   Snowden [dt./OV]   \n",
       "3  B07PWYCWY5                                            25 km/h   \n",
       "4  B00HFD8LBU  Alien - Das unheimliche Wesen aus einer fremde...   \n",
       "\n",
       "  encrypted_customer_id  units  revenue  \n",
       "0        A2RJG35770BBXK      1     0.83  \n",
       "1        A30XJVOQBJ78RL      1     0.83  \n",
       "2        A291DXU5RM3XK5      1     0.83  \n",
       "3        A2RWPPHI3XUX33      1     0.83  \n",
       "4         AC5IGJF50PTDP      1     0.83  "
      ]
     },
     "execution_count": 343,
     "metadata": {},
     "output_type": "execute_result"
    }
   ],
   "source": [
    "data.head()"
   ]
  },
  {
   "cell_type": "code",
   "execution_count": 344,
   "metadata": {
    "collapsed": true
   },
   "outputs": [],
   "source": [
    "# grouped = data.groupby(\"master_asin\")['encrypted_customer_id'].nunique().reset_index()\n",
    "# grouped = grouped.sort_values(by = 'encrypted_customer_id', ascending = False).reset_index()\n",
    "# grouped = grouped.drop(['index'], axis = 1)\n",
    "# grouped.head()"
   ]
  },
  {
   "cell_type": "markdown",
   "metadata": {},
   "source": [
    "# Dictionary with unique customers"
   ]
  },
  {
   "cell_type": "code",
   "execution_count": 345,
   "metadata": {
    "collapsed": true
   },
   "outputs": [],
   "source": [
    "# to_check = ['B07PCKXFRZ','B07TBXWYW4']\n",
    "\n",
    "# saved_dict = {}\n",
    "# saved_dict = saved_dict.fromkeys(to_check)\n",
    "# saved_dict"
   ]
  },
  {
   "cell_type": "code",
   "execution_count": 346,
   "metadata": {
    "collapsed": true
   },
   "outputs": [],
   "source": [
    "# for i in to_check:\n",
    "#     print(i)"
   ]
  },
  {
   "cell_type": "code",
   "execution_count": 347,
   "metadata": {
    "collapsed": true
   },
   "outputs": [],
   "source": [
    "# for k,v in saved_dict.items():\n",
    "#     if data[data['master_asin'].isin([k])]['encrypted_customer_id'].values.any() not in saved_dict:\n",
    "#         saved_dict.update({k:data[data['master_asin'].isin([k])]['encrypted_customer_id'].unique()})"
   ]
  },
  {
   "cell_type": "code",
   "execution_count": 348,
   "metadata": {
    "collapsed": true
   },
   "outputs": [],
   "source": [
    "# saved_dict"
   ]
  },
  {
   "cell_type": "code",
   "execution_count": 349,
   "metadata": {
    "collapsed": true
   },
   "outputs": [],
   "source": [
    "# for key in saved_dict.keys():\n",
    "#     print(key, len(saved_dict[key]))"
   ]
  },
  {
   "cell_type": "markdown",
   "metadata": {},
   "source": [
    "# Another approach"
   ]
  },
  {
   "cell_type": "code",
   "execution_count": 350,
   "metadata": {
    "collapsed": true
   },
   "outputs": [],
   "source": [
    "def f(x):\n",
    "    d = {}\n",
    "    d['count'] = x['encrypted_customer_id'].nunique()\n",
    "    d['list'] = x['encrypted_customer_id'].unique()\n",
    "      \n",
    "    return pd.Series(d, index = ['count','list'])"
   ]
  },
  {
   "cell_type": "code",
   "execution_count": 351,
   "metadata": {
    "collapsed": true
   },
   "outputs": [],
   "source": [
    "new_df = data.groupby('master_asin').apply(f).reset_index()\n",
    "new_df = new_df.sort_values(by = 'count', ascending = False).reset_index()\n",
    "new_df = new_df.drop(['index'], axis = 1)"
   ]
  },
  {
   "cell_type": "code",
   "execution_count": 352,
   "metadata": {},
   "outputs": [
    {
     "data": {
      "text/html": [
       "<div>\n",
       "<style>\n",
       "    .dataframe thead tr:only-child th {\n",
       "        text-align: right;\n",
       "    }\n",
       "\n",
       "    .dataframe thead th {\n",
       "        text-align: left;\n",
       "    }\n",
       "\n",
       "    .dataframe tbody tr th {\n",
       "        vertical-align: top;\n",
       "    }\n",
       "</style>\n",
       "<table border=\"1\" class=\"dataframe\">\n",
       "  <thead>\n",
       "    <tr style=\"text-align: right;\">\n",
       "      <th></th>\n",
       "      <th>master_asin</th>\n",
       "      <th>count</th>\n",
       "      <th>list</th>\n",
       "    </tr>\n",
       "  </thead>\n",
       "  <tbody>\n",
       "    <tr>\n",
       "      <th>0</th>\n",
       "      <td>B07PWYCWY5</td>\n",
       "      <td>49369</td>\n",
       "      <td>[A2RWPPHI3XUX33, A14Z04H2SQUASE, A204L31MYKDSF...</td>\n",
       "    </tr>\n",
       "    <tr>\n",
       "      <th>1</th>\n",
       "      <td>B07LB7CQHZ</td>\n",
       "      <td>37852</td>\n",
       "      <td>[A151W8YGRN34BQ, AUV6LAJ4UIDOP, AW2R6LX12A62S,...</td>\n",
       "    </tr>\n",
       "    <tr>\n",
       "      <th>2</th>\n",
       "      <td>B07KMM59YB</td>\n",
       "      <td>34712</td>\n",
       "      <td>[A1QVRZGQRTE3NI, A2QKUZFBJSAXS3, A3NSEHVCER9D2...</td>\n",
       "    </tr>\n",
       "    <tr>\n",
       "      <th>3</th>\n",
       "      <td>B07L9X9TXB</td>\n",
       "      <td>34097</td>\n",
       "      <td>[A2RJG35770BBXK, A1ICM1GVCOOUBF, A23EV83CQTZUA...</td>\n",
       "    </tr>\n",
       "    <tr>\n",
       "      <th>4</th>\n",
       "      <td>B07GDT79RK</td>\n",
       "      <td>20101</td>\n",
       "      <td>[A27FAXY2I9UZSE, A1DW0VI913IE92, A1JPQ22XLKLJR...</td>\n",
       "    </tr>\n",
       "  </tbody>\n",
       "</table>\n",
       "</div>"
      ],
      "text/plain": [
       "  master_asin  count                                               list\n",
       "0  B07PWYCWY5  49369  [A2RWPPHI3XUX33, A14Z04H2SQUASE, A204L31MYKDSF...\n",
       "1  B07LB7CQHZ  37852  [A151W8YGRN34BQ, AUV6LAJ4UIDOP, AW2R6LX12A62S,...\n",
       "2  B07KMM59YB  34712  [A1QVRZGQRTE3NI, A2QKUZFBJSAXS3, A3NSEHVCER9D2...\n",
       "3  B07L9X9TXB  34097  [A2RJG35770BBXK, A1ICM1GVCOOUBF, A23EV83CQTZUA...\n",
       "4  B07GDT79RK  20101  [A27FAXY2I9UZSE, A1DW0VI913IE92, A1JPQ22XLKLJR..."
      ]
     },
     "execution_count": 352,
     "metadata": {},
     "output_type": "execute_result"
    }
   ],
   "source": [
    "new_df.head()"
   ]
  },
  {
   "cell_type": "code",
   "execution_count": 353,
   "metadata": {},
   "outputs": [
    {
     "data": {
      "text/plain": [
       "array(['Spider-Man: A New Universe [dt./OV]', 'Elternschule',\n",
       "       'Snowden [dt./OV]', '25 km/h',\n",
       "       'Alien - Das unheimliche Wesen aus einer fremden Welt',\n",
       "       'Planet Der Affen - Revolution [dt./OV]', 'Wölfe [dt./OV]',\n",
       "       'Braven [dt./OV]', 'American Pie - Das Klassentreffen [dt./OV]',\n",
       "       'Männertag'], dtype=object)"
      ]
     },
     "execution_count": 353,
     "metadata": {},
     "output_type": "execute_result"
    }
   ],
   "source": [
    "data['title_name'].unique()[0:10]"
   ]
  },
  {
   "cell_type": "code",
   "execution_count": 361,
   "metadata": {},
   "outputs": [
    {
     "data": {
      "text/plain": [
       "array(['25 km/h'], dtype=object)"
      ]
     },
     "execution_count": 361,
     "metadata": {},
     "output_type": "execute_result"
    }
   ],
   "source": [
    "data[data['master_asin'] == new_df['master_asin'][0]]['title_name'].unique()"
   ]
  },
  {
   "cell_type": "code",
   "execution_count": 355,
   "metadata": {
    "collapsed": true
   },
   "outputs": [],
   "source": [
    "#subset = new_df.iloc[:,:]"
   ]
  },
  {
   "cell_type": "code",
   "execution_count": 356,
   "metadata": {
    "collapsed": true
   },
   "outputs": [],
   "source": [
    "# for index, row in subset.iterrows():\n",
    "#     print(index, row['master_asin'], row['list'], len(row['list']) )"
   ]
  },
  {
   "cell_type": "code",
   "execution_count": 357,
   "metadata": {
    "collapsed": true
   },
   "outputs": [],
   "source": [
    "output = []\n",
    "new_set = set()\n",
    "for index, row in new_df.iterrows():\n",
    "    #print(len(new_set))\n",
    "    new_set.update(row['list'])\n",
    "    #print(\"Updated set:\" , len(new_set))\n",
    "    output.append(len(new_set))"
   ]
  },
  {
   "cell_type": "code",
   "execution_count": 358,
   "metadata": {},
   "outputs": [
    {
     "data": {
      "text/plain": [
       "[49369, 82045, 107660, 132234, 145290, 154574, 164019, 172507, 180711, 187473]"
      ]
     },
     "execution_count": 358,
     "metadata": {},
     "output_type": "execute_result"
    }
   ],
   "source": [
    "output[0:10]"
   ]
  },
  {
   "cell_type": "code",
   "execution_count": 359,
   "metadata": {
    "collapsed": true
   },
   "outputs": [],
   "source": [
    "to_pd = pd.DataFrame(output)\n",
    "to_pd.columns = ['unique']"
   ]
  },
  {
   "cell_type": "code",
   "execution_count": 360,
   "metadata": {},
   "outputs": [],
   "source": [
    "to_pd.to_csv(\"output.csv\")"
   ]
  }
 ],
 "metadata": {
  "kernelspec": {
   "display_name": "Python 3",
   "language": "python",
   "name": "python3"
  },
  "language_info": {
   "codemirror_mode": {
    "name": "ipython",
    "version": 3
   },
   "file_extension": ".py",
   "mimetype": "text/x-python",
   "name": "python",
   "nbconvert_exporter": "python",
   "pygments_lexer": "ipython3",
   "version": "3.6.3"
  }
 },
 "nbformat": 4,
 "nbformat_minor": 2
}
