{
 "cells": [
  {
   "cell_type": "code",
   "execution_count": 31,
   "metadata": {
    "collapsed": true
   },
   "outputs": [],
   "source": [
    "import pandas as pd\n",
    "import numpy as np\n",
    "\n",
    "import matplotlib.pyplot as plt\n",
    "%matplotlib inline\n",
    "\n",
    "import seaborn as sns"
   ]
  },
  {
   "cell_type": "code",
   "execution_count": 2,
   "metadata": {
    "collapsed": true
   },
   "outputs": [],
   "source": [
    "df = pd.read_csv(\"../Customer_dashboard/data/data/tvod_svod_watchers.txt\", sep=\"\\t\",\n",
    "                names = ['first_TVOD_date','last_TVOD_date','encrypted_customer_id','first_SVOD_date','last_SVOD_date','distinct_SVOD_DSD'])"
   ]
  },
  {
   "cell_type": "code",
   "execution_count": 3,
   "metadata": {},
   "outputs": [
    {
     "name": "stdout",
     "output_type": "stream",
     "text": [
      "(4000000, 6)\n"
     ]
    },
    {
     "data": {
      "text/html": [
       "<div>\n",
       "<style>\n",
       "    .dataframe thead tr:only-child th {\n",
       "        text-align: right;\n",
       "    }\n",
       "\n",
       "    .dataframe thead th {\n",
       "        text-align: left;\n",
       "    }\n",
       "\n",
       "    .dataframe tbody tr th {\n",
       "        vertical-align: top;\n",
       "    }\n",
       "</style>\n",
       "<table border=\"1\" class=\"dataframe\">\n",
       "  <thead>\n",
       "    <tr style=\"text-align: right;\">\n",
       "      <th></th>\n",
       "      <th>first_TVOD_date</th>\n",
       "      <th>last_TVOD_date</th>\n",
       "      <th>encrypted_customer_id</th>\n",
       "      <th>first_SVOD_date</th>\n",
       "      <th>last_SVOD_date</th>\n",
       "      <th>distinct_SVOD_DSD</th>\n",
       "    </tr>\n",
       "  </thead>\n",
       "  <tbody>\n",
       "    <tr>\n",
       "      <th>0</th>\n",
       "      <td>2014-05-02</td>\n",
       "      <td>2018-06-09</td>\n",
       "      <td>AKWWP4IN06KAW</td>\n",
       "      <td>2014-03-08</td>\n",
       "      <td>2018-07-01</td>\n",
       "      <td>145.0</td>\n",
       "    </tr>\n",
       "    <tr>\n",
       "      <th>1</th>\n",
       "      <td>2015-03-02</td>\n",
       "      <td>2018-07-20</td>\n",
       "      <td>A31QU3NVR4AG5X</td>\n",
       "      <td>2015-03-01</td>\n",
       "      <td>2018-07-21</td>\n",
       "      <td>504.0</td>\n",
       "    </tr>\n",
       "    <tr>\n",
       "      <th>2</th>\n",
       "      <td>2015-04-04</td>\n",
       "      <td>2018-02-17</td>\n",
       "      <td>A6UJRMSRD8FNY</td>\n",
       "      <td>NaN</td>\n",
       "      <td>NaN</td>\n",
       "      <td>NaN</td>\n",
       "    </tr>\n",
       "    <tr>\n",
       "      <th>3</th>\n",
       "      <td>2015-04-11</td>\n",
       "      <td>2016-07-17</td>\n",
       "      <td>A1HW0CX14BQGNQ</td>\n",
       "      <td>2014-08-21</td>\n",
       "      <td>2018-07-21</td>\n",
       "      <td>534.0</td>\n",
       "    </tr>\n",
       "    <tr>\n",
       "      <th>4</th>\n",
       "      <td>2015-09-11</td>\n",
       "      <td>2018-05-26</td>\n",
       "      <td>A1FBDWNT380YWF</td>\n",
       "      <td>2015-07-01</td>\n",
       "      <td>2018-07-18</td>\n",
       "      <td>207.0</td>\n",
       "    </tr>\n",
       "  </tbody>\n",
       "</table>\n",
       "</div>"
      ],
      "text/plain": [
       "  first_TVOD_date last_TVOD_date encrypted_customer_id first_SVOD_date  \\\n",
       "0      2014-05-02     2018-06-09         AKWWP4IN06KAW      2014-03-08   \n",
       "1      2015-03-02     2018-07-20        A31QU3NVR4AG5X      2015-03-01   \n",
       "2      2015-04-04     2018-02-17         A6UJRMSRD8FNY             NaN   \n",
       "3      2015-04-11     2016-07-17        A1HW0CX14BQGNQ      2014-08-21   \n",
       "4      2015-09-11     2018-05-26        A1FBDWNT380YWF      2015-07-01   \n",
       "\n",
       "  last_SVOD_date  distinct_SVOD_DSD  \n",
       "0     2018-07-01              145.0  \n",
       "1     2018-07-21              504.0  \n",
       "2            NaN                NaN  \n",
       "3     2018-07-21              534.0  \n",
       "4     2018-07-18              207.0  "
      ]
     },
     "execution_count": 3,
     "metadata": {},
     "output_type": "execute_result"
    }
   ],
   "source": [
    "print(df.shape)\n",
    "df.head()"
   ]
  },
  {
   "cell_type": "code",
   "execution_count": 4,
   "metadata": {},
   "outputs": [
    {
     "data": {
      "text/plain": [
       "(406735, 6)"
      ]
     },
     "execution_count": 4,
     "metadata": {},
     "output_type": "execute_result"
    }
   ],
   "source": [
    "df[df['first_SVOD_date'].isnull()].shape"
   ]
  },
  {
   "cell_type": "code",
   "execution_count": 5,
   "metadata": {
    "collapsed": true
   },
   "outputs": [],
   "source": [
    "def get_prep_dataset(df):\n",
    "    df['first_TVOD_date'] = pd.to_datetime(df['first_TVOD_date'])\n",
    "    df['last_TVOD_date'] = pd.to_datetime(df['last_TVOD_date'])\n",
    "    df['first_SVOD_date'] = pd.to_datetime(df['first_SVOD_date'])\n",
    "    df['last_SVOD_date'] = pd.to_datetime(df['last_SVOD_date'])\n",
    "    \n",
    "    df['tenure'] = (df['last_TVOD_date'].max() - df['first_TVOD_date']) / np.timedelta64(1,\"D\")\n",
    "    df['is_SVOD_older'] = np.where(df['first_TVOD_date'] < df['first_SVOD_date'], 0 , 1)\n",
    "    df['time_btw_first_TVOD_and_first_SVOD'] = (df['first_TVOD_date'] - df['first_SVOD_date']) / np.timedelta64(1,\"D\")\n",
    "    \n",
    "    #tenure rank for \n",
    "    #df['binned'] = pd.cut(df['tenure'], np.linspace(0,df['tenure'].max(),100))\n",
    "    return df"
   ]
  },
  {
   "cell_type": "code",
   "execution_count": 6,
   "metadata": {
    "collapsed": true
   },
   "outputs": [],
   "source": [
    "df = get_prep_dataset(df)"
   ]
  },
  {
   "cell_type": "code",
   "execution_count": 7,
   "metadata": {},
   "outputs": [
    {
     "data": {
      "text/html": [
       "<div>\n",
       "<style>\n",
       "    .dataframe thead tr:only-child th {\n",
       "        text-align: right;\n",
       "    }\n",
       "\n",
       "    .dataframe thead th {\n",
       "        text-align: left;\n",
       "    }\n",
       "\n",
       "    .dataframe tbody tr th {\n",
       "        vertical-align: top;\n",
       "    }\n",
       "</style>\n",
       "<table border=\"1\" class=\"dataframe\">\n",
       "  <thead>\n",
       "    <tr style=\"text-align: right;\">\n",
       "      <th></th>\n",
       "      <th>first_TVOD_date</th>\n",
       "      <th>last_TVOD_date</th>\n",
       "      <th>encrypted_customer_id</th>\n",
       "      <th>first_SVOD_date</th>\n",
       "      <th>last_SVOD_date</th>\n",
       "      <th>distinct_SVOD_DSD</th>\n",
       "      <th>tenure</th>\n",
       "      <th>is_SVOD_older</th>\n",
       "      <th>time_btw_first_TVOD_and_first_SVOD</th>\n",
       "    </tr>\n",
       "  </thead>\n",
       "  <tbody>\n",
       "    <tr>\n",
       "      <th>0</th>\n",
       "      <td>2014-05-02</td>\n",
       "      <td>2018-06-09</td>\n",
       "      <td>AKWWP4IN06KAW</td>\n",
       "      <td>2014-03-08</td>\n",
       "      <td>2018-07-01</td>\n",
       "      <td>145.0</td>\n",
       "      <td>1542.0</td>\n",
       "      <td>1</td>\n",
       "      <td>55.0</td>\n",
       "    </tr>\n",
       "    <tr>\n",
       "      <th>1</th>\n",
       "      <td>2015-03-02</td>\n",
       "      <td>2018-07-20</td>\n",
       "      <td>A31QU3NVR4AG5X</td>\n",
       "      <td>2015-03-01</td>\n",
       "      <td>2018-07-21</td>\n",
       "      <td>504.0</td>\n",
       "      <td>1238.0</td>\n",
       "      <td>1</td>\n",
       "      <td>1.0</td>\n",
       "    </tr>\n",
       "    <tr>\n",
       "      <th>2</th>\n",
       "      <td>2015-04-04</td>\n",
       "      <td>2018-02-17</td>\n",
       "      <td>A6UJRMSRD8FNY</td>\n",
       "      <td>NaT</td>\n",
       "      <td>NaT</td>\n",
       "      <td>NaN</td>\n",
       "      <td>1205.0</td>\n",
       "      <td>1</td>\n",
       "      <td>NaN</td>\n",
       "    </tr>\n",
       "    <tr>\n",
       "      <th>3</th>\n",
       "      <td>2015-04-11</td>\n",
       "      <td>2016-07-17</td>\n",
       "      <td>A1HW0CX14BQGNQ</td>\n",
       "      <td>2014-08-21</td>\n",
       "      <td>2018-07-21</td>\n",
       "      <td>534.0</td>\n",
       "      <td>1198.0</td>\n",
       "      <td>1</td>\n",
       "      <td>233.0</td>\n",
       "    </tr>\n",
       "    <tr>\n",
       "      <th>4</th>\n",
       "      <td>2015-09-11</td>\n",
       "      <td>2018-05-26</td>\n",
       "      <td>A1FBDWNT380YWF</td>\n",
       "      <td>2015-07-01</td>\n",
       "      <td>2018-07-18</td>\n",
       "      <td>207.0</td>\n",
       "      <td>1045.0</td>\n",
       "      <td>1</td>\n",
       "      <td>72.0</td>\n",
       "    </tr>\n",
       "    <tr>\n",
       "      <th>5</th>\n",
       "      <td>2016-01-15</td>\n",
       "      <td>2016-01-15</td>\n",
       "      <td>A1MPBHX229T17R</td>\n",
       "      <td>2015-10-26</td>\n",
       "      <td>2018-06-25</td>\n",
       "      <td>36.0</td>\n",
       "      <td>919.0</td>\n",
       "      <td>1</td>\n",
       "      <td>81.0</td>\n",
       "    </tr>\n",
       "    <tr>\n",
       "      <th>6</th>\n",
       "      <td>2016-02-14</td>\n",
       "      <td>2018-07-16</td>\n",
       "      <td>AUW66D4JD44UW</td>\n",
       "      <td>2014-04-02</td>\n",
       "      <td>2018-06-24</td>\n",
       "      <td>397.0</td>\n",
       "      <td>889.0</td>\n",
       "      <td>1</td>\n",
       "      <td>683.0</td>\n",
       "    </tr>\n",
       "    <tr>\n",
       "      <th>7</th>\n",
       "      <td>2016-02-28</td>\n",
       "      <td>2018-05-31</td>\n",
       "      <td>A2ZJ20FWP1QAPT</td>\n",
       "      <td>2014-08-14</td>\n",
       "      <td>2018-07-10</td>\n",
       "      <td>358.0</td>\n",
       "      <td>875.0</td>\n",
       "      <td>1</td>\n",
       "      <td>563.0</td>\n",
       "    </tr>\n",
       "    <tr>\n",
       "      <th>8</th>\n",
       "      <td>2016-03-12</td>\n",
       "      <td>2017-12-27</td>\n",
       "      <td>A3739J09YQG0M5</td>\n",
       "      <td>2014-12-13</td>\n",
       "      <td>2018-07-19</td>\n",
       "      <td>892.0</td>\n",
       "      <td>862.0</td>\n",
       "      <td>1</td>\n",
       "      <td>455.0</td>\n",
       "    </tr>\n",
       "    <tr>\n",
       "      <th>9</th>\n",
       "      <td>2016-04-01</td>\n",
       "      <td>2016-04-01</td>\n",
       "      <td>A12EU5ITEUKAV9</td>\n",
       "      <td>2015-06-27</td>\n",
       "      <td>2018-07-21</td>\n",
       "      <td>78.0</td>\n",
       "      <td>842.0</td>\n",
       "      <td>1</td>\n",
       "      <td>279.0</td>\n",
       "    </tr>\n",
       "  </tbody>\n",
       "</table>\n",
       "</div>"
      ],
      "text/plain": [
       "  first_TVOD_date last_TVOD_date encrypted_customer_id first_SVOD_date  \\\n",
       "0      2014-05-02     2018-06-09         AKWWP4IN06KAW      2014-03-08   \n",
       "1      2015-03-02     2018-07-20        A31QU3NVR4AG5X      2015-03-01   \n",
       "2      2015-04-04     2018-02-17         A6UJRMSRD8FNY             NaT   \n",
       "3      2015-04-11     2016-07-17        A1HW0CX14BQGNQ      2014-08-21   \n",
       "4      2015-09-11     2018-05-26        A1FBDWNT380YWF      2015-07-01   \n",
       "5      2016-01-15     2016-01-15        A1MPBHX229T17R      2015-10-26   \n",
       "6      2016-02-14     2018-07-16         AUW66D4JD44UW      2014-04-02   \n",
       "7      2016-02-28     2018-05-31        A2ZJ20FWP1QAPT      2014-08-14   \n",
       "8      2016-03-12     2017-12-27        A3739J09YQG0M5      2014-12-13   \n",
       "9      2016-04-01     2016-04-01        A12EU5ITEUKAV9      2015-06-27   \n",
       "\n",
       "  last_SVOD_date  distinct_SVOD_DSD  tenure  is_SVOD_older  \\\n",
       "0     2018-07-01              145.0  1542.0              1   \n",
       "1     2018-07-21              504.0  1238.0              1   \n",
       "2            NaT                NaN  1205.0              1   \n",
       "3     2018-07-21              534.0  1198.0              1   \n",
       "4     2018-07-18              207.0  1045.0              1   \n",
       "5     2018-06-25               36.0   919.0              1   \n",
       "6     2018-06-24              397.0   889.0              1   \n",
       "7     2018-07-10              358.0   875.0              1   \n",
       "8     2018-07-19              892.0   862.0              1   \n",
       "9     2018-07-21               78.0   842.0              1   \n",
       "\n",
       "   time_btw_first_TVOD_and_first_SVOD  \n",
       "0                                55.0  \n",
       "1                                 1.0  \n",
       "2                                 NaN  \n",
       "3                               233.0  \n",
       "4                                72.0  \n",
       "5                                81.0  \n",
       "6                               683.0  \n",
       "7                               563.0  \n",
       "8                               455.0  \n",
       "9                               279.0  "
      ]
     },
     "execution_count": 7,
     "metadata": {},
     "output_type": "execute_result"
    }
   ],
   "source": [
    "df[0:10]"
   ]
  },
  {
   "cell_type": "code",
   "execution_count": 8,
   "metadata": {
    "collapsed": true
   },
   "outputs": [],
   "source": [
    "def get_overall_size(df):\n",
    "    a = df[(df['distinct_SVOD_DSD'].notnull())].groupby(['is_SVOD_older']).size().reset_index()\n",
    "    a.columns = ['is_SVOD_older','size']\n",
    "    a['share'] = a['size'] / a['size'].sum()\n",
    "    return a"
   ]
  },
  {
   "cell_type": "code",
   "execution_count": 9,
   "metadata": {},
   "outputs": [
    {
     "data": {
      "text/html": [
       "<div>\n",
       "<style>\n",
       "    .dataframe thead tr:only-child th {\n",
       "        text-align: right;\n",
       "    }\n",
       "\n",
       "    .dataframe thead th {\n",
       "        text-align: left;\n",
       "    }\n",
       "\n",
       "    .dataframe tbody tr th {\n",
       "        vertical-align: top;\n",
       "    }\n",
       "</style>\n",
       "<table border=\"1\" class=\"dataframe\">\n",
       "  <thead>\n",
       "    <tr style=\"text-align: right;\">\n",
       "      <th></th>\n",
       "      <th>is_SVOD_older</th>\n",
       "      <th>size</th>\n",
       "      <th>share</th>\n",
       "    </tr>\n",
       "  </thead>\n",
       "  <tbody>\n",
       "    <tr>\n",
       "      <th>0</th>\n",
       "      <td>0</td>\n",
       "      <td>392124</td>\n",
       "      <td>0.109127</td>\n",
       "    </tr>\n",
       "    <tr>\n",
       "      <th>1</th>\n",
       "      <td>1</td>\n",
       "      <td>3201141</td>\n",
       "      <td>0.890873</td>\n",
       "    </tr>\n",
       "  </tbody>\n",
       "</table>\n",
       "</div>"
      ],
      "text/plain": [
       "   is_SVOD_older     size     share\n",
       "0              0   392124  0.109127\n",
       "1              1  3201141  0.890873"
      ]
     },
     "execution_count": 9,
     "metadata": {},
     "output_type": "execute_result"
    }
   ],
   "source": [
    "sizes = get_overall_size(df)\n",
    "sizes                       "
   ]
  },
  {
   "cell_type": "code",
   "execution_count": 84,
   "metadata": {},
   "outputs": [
    {
     "name": "stdout",
     "output_type": "stream",
     "text": [
      "count    3.201141e+06\n",
      "mean     2.954924e+02\n",
      "std      3.259353e+02\n",
      "min      0.000000e+00\n",
      "25%      4.000000e+01\n",
      "50%      1.740000e+02\n",
      "75%      4.490000e+02\n",
      "max      1.607000e+03\n",
      "Name: time_btw_first_TVOD_and_first_SVOD, dtype: float64\n",
      "295.4924066137668\n",
      "174.0\n"
     ]
    }
   ],
   "source": [
    "print(df[(df['distinct_SVOD_DSD'].notnull()) & (df['is_SVOD_older'] == 1)]['time_btw_first_TVOD_and_first_SVOD'].describe())\n",
    "print(df[(df['distinct_SVOD_DSD'].notnull()) & (df['is_SVOD_older'] == 1)]['time_btw_first_TVOD_and_first_SVOD'].mean())\n",
    "print(df[(df['distinct_SVOD_DSD'].notnull()) & (df['is_SVOD_older'] == 1)]['time_btw_first_TVOD_and_first_SVOD'].median())"
   ]
  },
  {
   "cell_type": "code",
   "execution_count": 92,
   "metadata": {
    "collapsed": true
   },
   "outputs": [],
   "source": [
    "def by_tenure(df, metric):\n",
    "    by_tenure = df[(df['distinct_SVOD_DSD'].notnull()) & (df['is_SVOD_older'] == 1)].groupby(metric)['time_btw_first_TVOD_and_first_SVOD'].median().reset_index()\n",
    "    \n",
    "    size = df[(df['distinct_SVOD_DSD'].notnull()) & (df['is_SVOD_older'] == 1)].groupby(metric).size().reset_index()\n",
    "    size.columns = [metric,\"size\"]\n",
    "    \n",
    "    m = pd.merge(left = by_tenure, right = size, left_on = metric, right_on = metric, how = 'left' )\n",
    "    m['ranked'] = np.arange(len(m.index)) // 360\n",
    "    \n",
    "    t1 = m.groupby(\"ranked\")['size'].sum().reset_index()\n",
    "    t2 = m.groupby(\"ranked\")['time_btw_first_TVOD_and_first_SVOD'].mean().reset_index() #change to median if needed!\n",
    "    \n",
    "    t = pd.merge(left = t1, right = t2, left_on = 'ranked', right_on = 'ranked', how ='left')\n",
    "    t['year_with_TVOD'] = t['ranked'] + 1\n",
    "    return t,m"
   ]
  },
  {
   "cell_type": "code",
   "execution_count": 93,
   "metadata": {},
   "outputs": [
    {
     "name": "stdout",
     "output_type": "stream",
     "text": [
      "3201141\n",
      "(1622, 4)\n"
     ]
    },
    {
     "data": {
      "text/html": [
       "<div>\n",
       "<style>\n",
       "    .dataframe thead tr:only-child th {\n",
       "        text-align: right;\n",
       "    }\n",
       "\n",
       "    .dataframe thead th {\n",
       "        text-align: left;\n",
       "    }\n",
       "\n",
       "    .dataframe tbody tr th {\n",
       "        vertical-align: top;\n",
       "    }\n",
       "</style>\n",
       "<table border=\"1\" class=\"dataframe\">\n",
       "  <thead>\n",
       "    <tr style=\"text-align: right;\">\n",
       "      <th></th>\n",
       "      <th>tenure</th>\n",
       "      <th>time_btw_first_TVOD_and_first_SVOD</th>\n",
       "      <th>size</th>\n",
       "      <th>ranked</th>\n",
       "    </tr>\n",
       "  </thead>\n",
       "  <tbody>\n",
       "    <tr>\n",
       "      <th>0</th>\n",
       "      <td>0.0</td>\n",
       "      <td>364.0</td>\n",
       "      <td>99</td>\n",
       "      <td>0</td>\n",
       "    </tr>\n",
       "    <tr>\n",
       "      <th>1</th>\n",
       "      <td>1.0</td>\n",
       "      <td>309.0</td>\n",
       "      <td>3016</td>\n",
       "      <td>0</td>\n",
       "    </tr>\n",
       "    <tr>\n",
       "      <th>2</th>\n",
       "      <td>2.0</td>\n",
       "      <td>314.0</td>\n",
       "      <td>1842</td>\n",
       "      <td>0</td>\n",
       "    </tr>\n",
       "    <tr>\n",
       "      <th>3</th>\n",
       "      <td>3.0</td>\n",
       "      <td>283.0</td>\n",
       "      <td>1417</td>\n",
       "      <td>0</td>\n",
       "    </tr>\n",
       "    <tr>\n",
       "      <th>4</th>\n",
       "      <td>4.0</td>\n",
       "      <td>291.0</td>\n",
       "      <td>1413</td>\n",
       "      <td>0</td>\n",
       "    </tr>\n",
       "  </tbody>\n",
       "</table>\n",
       "</div>"
      ],
      "text/plain": [
       "   tenure  time_btw_first_TVOD_and_first_SVOD  size  ranked\n",
       "0     0.0                               364.0    99       0\n",
       "1     1.0                               309.0  3016       0\n",
       "2     2.0                               314.0  1842       0\n",
       "3     3.0                               283.0  1417       0\n",
       "4     4.0                               291.0  1413       0"
      ]
     },
     "execution_count": 93,
     "metadata": {},
     "output_type": "execute_result"
    }
   ],
   "source": [
    "t,m = by_tenure(df, \"tenure\")\n",
    "print(m['size'].sum())\n",
    "print(m.shape)\n",
    "m.head()"
   ]
  },
  {
   "cell_type": "code",
   "execution_count": 94,
   "metadata": {},
   "outputs": [
    {
     "data": {
      "text/plain": [
       "<matplotlib.axes._subplots.AxesSubplot at 0x1c93732bdd8>"
      ]
     },
     "execution_count": 94,
     "metadata": {},
     "output_type": "execute_result"
    },
    {
     "data": {
      "image/png": "[encoded data removed]",
      "text/plain": [
       "<matplotlib.figure.Figure at 0x1c937348b38>"
      ]
     },
     "metadata": {},
     "output_type": "display_data"
    }
   ],
   "source": [
    "m.plot(x = 'tenure', y = 'time_btw_first_TVOD_and_first_SVOD',figsize = (15,8))"
   ]
  },
  {
   "cell_type": "code",
   "execution_count": 95,
   "metadata": {},
   "outputs": [
    {
     "data": {
      "text/plain": [
       "364.0"
      ]
     },
     "execution_count": 95,
     "metadata": {},
     "output_type": "execute_result"
    }
   ],
   "source": [
    "df[(df['distinct_SVOD_DSD'].notnull()) & (df['is_SVOD_older'] == 1) & (df['tenure'] == 0)]['time_btw_first_TVOD_and_first_SVOD'].median()"
   ]
  },
  {
   "cell_type": "code",
   "execution_count": 96,
   "metadata": {},
   "outputs": [
    {
     "data": {
      "text/plain": [
       "<matplotlib.axes._subplots.AxesSubplot at 0x1c9372df828>"
      ]
     },
     "execution_count": 96,
     "metadata": {},
     "output_type": "execute_result"
    },
    {
     "data": {
      "image/png": "[encoded data removed]",
      "text/plain": [
       "<matplotlib.figure.Figure at 0x1c937f625c0>"
      ]
     },
     "metadata": {},
     "output_type": "display_data"
    }
   ],
   "source": [
    "t.plot(x = 'year_with_TVOD', y = 'time_btw_first_TVOD_and_first_SVOD', figsize=(15,8))"
   ]
  },
  {
   "cell_type": "code",
   "execution_count": 97,
   "metadata": {},
   "outputs": [
    {
     "data": {
      "text/html": [
       "<div>\n",
       "<style>\n",
       "    .dataframe thead tr:only-child th {\n",
       "        text-align: right;\n",
       "    }\n",
       "\n",
       "    .dataframe thead th {\n",
       "        text-align: left;\n",
       "    }\n",
       "\n",
       "    .dataframe tbody tr th {\n",
       "        vertical-align: top;\n",
       "    }\n",
       "</style>\n",
       "<table border=\"1\" class=\"dataframe\">\n",
       "  <thead>\n",
       "    <tr style=\"text-align: right;\">\n",
       "      <th></th>\n",
       "      <th>ranked</th>\n",
       "      <th>size</th>\n",
       "      <th>time_btw_first_TVOD_and_first_SVOD</th>\n",
       "      <th>year_with_TVOD</th>\n",
       "    </tr>\n",
       "  </thead>\n",
       "  <tbody>\n",
       "    <tr>\n",
       "      <th>0</th>\n",
       "      <td>0</td>\n",
       "      <td>875196</td>\n",
       "      <td>274.083333</td>\n",
       "      <td>1</td>\n",
       "    </tr>\n",
       "    <tr>\n",
       "      <th>1</th>\n",
       "      <td>1</td>\n",
       "      <td>843016</td>\n",
       "      <td>224.906944</td>\n",
       "      <td>2</td>\n",
       "    </tr>\n",
       "    <tr>\n",
       "      <th>2</th>\n",
       "      <td>2</td>\n",
       "      <td>778861</td>\n",
       "      <td>162.650000</td>\n",
       "      <td>3</td>\n",
       "    </tr>\n",
       "    <tr>\n",
       "      <th>3</th>\n",
       "      <td>3</td>\n",
       "      <td>566815</td>\n",
       "      <td>118.854167</td>\n",
       "      <td>4</td>\n",
       "    </tr>\n",
       "    <tr>\n",
       "      <th>4</th>\n",
       "      <td>4</td>\n",
       "      <td>137253</td>\n",
       "      <td>60.365385</td>\n",
       "      <td>5</td>\n",
       "    </tr>\n",
       "  </tbody>\n",
       "</table>\n",
       "</div>"
      ],
      "text/plain": [
       "   ranked    size  time_btw_first_TVOD_and_first_SVOD  year_with_TVOD\n",
       "0       0  875196                          274.083333               1\n",
       "1       1  843016                          224.906944               2\n",
       "2       2  778861                          162.650000               3\n",
       "3       3  566815                          118.854167               4\n",
       "4       4  137253                           60.365385               5"
      ]
     },
     "execution_count": 97,
     "metadata": {},
     "output_type": "execute_result"
    }
   ],
   "source": [
    "t"
   ]
  },
  {
   "cell_type": "code",
   "execution_count": 98,
   "metadata": {},
   "outputs": [
    {
     "name": "stdout",
     "output_type": "stream",
     "text": [
      "(137253, 9)\n",
      "(566815, 9)\n",
      "(778861, 9)\n",
      "(843016, 9)\n",
      "(875196, 9)\n"
     ]
    }
   ],
   "source": [
    "#Create dataframes according to rank\n",
    "r4 = df[(df['distinct_SVOD_DSD'].notnull()) & (df['is_SVOD_older'] == 1) & (df['tenure'] >= m[m['ranked'] == 4]['tenure'].min())]\n",
    "print(r4.shape)\n",
    "r3 = df[(df['distinct_SVOD_DSD'].notnull()) & (df['is_SVOD_older'] == 1) & (df['tenure'] >= m[m['ranked'] == 3]['tenure'].min()) \n",
    "       & (df['tenure'] < m[m['ranked'] == 4]['tenure'].min())]\n",
    "print(r3.shape)\n",
    "r2 = df[(df['distinct_SVOD_DSD'].notnull()) & (df['is_SVOD_older'] == 1) & (df['tenure'] >= m[m['ranked'] == 2]['tenure'].min())\n",
    "       & (df['tenure'] < m[m['ranked'] == 3]['tenure'].min())]\n",
    "print(r2.shape)\n",
    "r1 = df[(df['distinct_SVOD_DSD'].notnull()) & (df['is_SVOD_older'] == 1) & (df['tenure'] >= m[m['ranked'] == 1]['tenure'].min())\n",
    "       & (df['tenure'] < m[m['ranked'] == 2]['tenure'].min())]\n",
    "print(r1.shape)\n",
    "r0 = df[(df['distinct_SVOD_DSD'].notnull()) & (df['is_SVOD_older'] == 1) & (df['tenure'] >= m[m['ranked'] == 0]['tenure'].min())\n",
    "       & (df['tenure'] < m[m['ranked'] == 1]['tenure'].min())]\n",
    "print(r0.shape)\n"
   ]
  },
  {
   "cell_type": "code",
   "execution_count": 99,
   "metadata": {},
   "outputs": [
    {
     "data": {
      "text/html": [
       "<div>\n",
       "<style>\n",
       "    .dataframe thead tr:only-child th {\n",
       "        text-align: right;\n",
       "    }\n",
       "\n",
       "    .dataframe thead th {\n",
       "        text-align: left;\n",
       "    }\n",
       "\n",
       "    .dataframe tbody tr th {\n",
       "        vertical-align: top;\n",
       "    }\n",
       "</style>\n",
       "<table border=\"1\" class=\"dataframe\">\n",
       "  <thead>\n",
       "    <tr style=\"text-align: right;\">\n",
       "      <th></th>\n",
       "      <th>first_TVOD_date</th>\n",
       "      <th>last_TVOD_date</th>\n",
       "      <th>encrypted_customer_id</th>\n",
       "      <th>first_SVOD_date</th>\n",
       "      <th>last_SVOD_date</th>\n",
       "      <th>distinct_SVOD_DSD</th>\n",
       "      <th>tenure</th>\n",
       "      <th>is_SVOD_older</th>\n",
       "      <th>time_btw_first_TVOD_and_first_SVOD</th>\n",
       "    </tr>\n",
       "  </thead>\n",
       "  <tbody>\n",
       "    <tr>\n",
       "      <th>0</th>\n",
       "      <td>2014-05-02</td>\n",
       "      <td>2018-06-09</td>\n",
       "      <td>AKWWP4IN06KAW</td>\n",
       "      <td>2014-03-08</td>\n",
       "      <td>2018-07-01</td>\n",
       "      <td>145.0</td>\n",
       "      <td>1542.0</td>\n",
       "      <td>1</td>\n",
       "      <td>55.0</td>\n",
       "    </tr>\n",
       "    <tr>\n",
       "      <th>78</th>\n",
       "      <td>2014-03-18</td>\n",
       "      <td>2018-04-10</td>\n",
       "      <td>A3JCPMDSEZYXK9</td>\n",
       "      <td>2014-02-27</td>\n",
       "      <td>2018-05-05</td>\n",
       "      <td>667.0</td>\n",
       "      <td>1587.0</td>\n",
       "      <td>1</td>\n",
       "      <td>19.0</td>\n",
       "    </tr>\n",
       "    <tr>\n",
       "      <th>79</th>\n",
       "      <td>2014-08-01</td>\n",
       "      <td>2017-09-09</td>\n",
       "      <td>A2NCQ3COHSNQ2I</td>\n",
       "      <td>2014-03-09</td>\n",
       "      <td>2018-07-19</td>\n",
       "      <td>544.0</td>\n",
       "      <td>1451.0</td>\n",
       "      <td>1</td>\n",
       "      <td>145.0</td>\n",
       "    </tr>\n",
       "    <tr>\n",
       "      <th>99</th>\n",
       "      <td>2014-07-18</td>\n",
       "      <td>2018-03-08</td>\n",
       "      <td>A3RVBWE912TDFN</td>\n",
       "      <td>2014-06-16</td>\n",
       "      <td>2018-07-17</td>\n",
       "      <td>240.0</td>\n",
       "      <td>1465.0</td>\n",
       "      <td>1</td>\n",
       "      <td>32.0</td>\n",
       "    </tr>\n",
       "    <tr>\n",
       "      <th>122</th>\n",
       "      <td>2014-08-08</td>\n",
       "      <td>2018-06-15</td>\n",
       "      <td>A5ZLMF03YSKEL</td>\n",
       "      <td>2014-03-19</td>\n",
       "      <td>2018-07-10</td>\n",
       "      <td>113.0</td>\n",
       "      <td>1444.0</td>\n",
       "      <td>1</td>\n",
       "      <td>142.0</td>\n",
       "    </tr>\n",
       "  </tbody>\n",
       "</table>\n",
       "</div>"
      ],
      "text/plain": [
       "    first_TVOD_date last_TVOD_date encrypted_customer_id first_SVOD_date  \\\n",
       "0        2014-05-02     2018-06-09         AKWWP4IN06KAW      2014-03-08   \n",
       "78       2014-03-18     2018-04-10        A3JCPMDSEZYXK9      2014-02-27   \n",
       "79       2014-08-01     2017-09-09        A2NCQ3COHSNQ2I      2014-03-09   \n",
       "99       2014-07-18     2018-03-08        A3RVBWE912TDFN      2014-06-16   \n",
       "122      2014-08-08     2018-06-15         A5ZLMF03YSKEL      2014-03-19   \n",
       "\n",
       "    last_SVOD_date  distinct_SVOD_DSD  tenure  is_SVOD_older  \\\n",
       "0       2018-07-01              145.0  1542.0              1   \n",
       "78      2018-05-05              667.0  1587.0              1   \n",
       "79      2018-07-19              544.0  1451.0              1   \n",
       "99      2018-07-17              240.0  1465.0              1   \n",
       "122     2018-07-10              113.0  1444.0              1   \n",
       "\n",
       "     time_btw_first_TVOD_and_first_SVOD  \n",
       "0                                  55.0  \n",
       "78                                 19.0  \n",
       "79                                145.0  \n",
       "99                                 32.0  \n",
       "122                               142.0  "
      ]
     },
     "execution_count": 99,
     "metadata": {},
     "output_type": "execute_result"
    }
   ],
   "source": [
    "r4.head()"
   ]
  },
  {
   "cell_type": "code",
   "execution_count": 83,
   "metadata": {},
   "outputs": [],
   "source": [
    "# # Example\n",
    "# from sklearn.datasets import load_iris\n",
    "\n",
    "# iris = load_iris()\n",
    "# iris = pd.DataFrame(data=np.c_[iris['data'], iris['target']],\n",
    "#                     columns=iris['feature_names'] + ['target'])\n",
    "\n",
    "# # Sort the dataframe by target\n",
    "# target_0 = iris.loc[iris['target'] == 0]\n",
    "# target_1 = iris.loc[iris['target'] == 1]\n",
    "# target_2 = iris.loc[iris['target'] == 2]\n",
    "\n",
    "# sns.distplot(target_0[['sepal length (cm)']], hist=False, rug=True, label = \"0\")\n",
    "# sns.distplot(target_1[['sepal length (cm)']], hist=False, rug=True, label = \"1\")\n",
    "# sns.distplot(target_2[['sepal length (cm)']], hist=False, rug=True, label = \"2\")\n",
    "\n",
    "# plt.legend()\n",
    "# plt.show()"
   ]
  },
  {
   "cell_type": "code",
   "execution_count": 100,
   "metadata": {},
   "outputs": [
    {
     "data": {
      "image/png": "[encoded data removed]",
      "text/plain": [
       "<matplotlib.figure.Figure at 0x1c9371b87b8>"
      ]
     },
     "metadata": {},
     "output_type": "display_data"
    }
   ],
   "source": [
    "plt.figure(figsize = (15,10))\n",
    "sns.distplot(r4[['time_btw_first_TVOD_and_first_SVOD']], hist = False, rug = False, label = '5yr tenure')\n",
    "sns.distplot(r3[['time_btw_first_TVOD_and_first_SVOD']], hist = False, rug = False, label = '4yr tenure')\n",
    "sns.distplot(r2[['time_btw_first_TVOD_and_first_SVOD']], hist = False, rug = False, label = '3yr tenure')\n",
    "sns.distplot(r1[['time_btw_first_TVOD_and_first_SVOD']], hist = False, rug = False, label = '2yr tenure')\n",
    "sns.distplot(r0[['time_btw_first_TVOD_and_first_SVOD']], hist = False, rug = False, label = '1yr tenure')\n",
    "\n",
    "plt.legend()\n",
    "plt.show()"
   ]
  },
  {
   "cell_type": "code",
   "execution_count": null,
   "metadata": {},
   "outputs": [],
   "source": [
    "plt.figure(figsize = (15,10))\n",
    "\n",
    "sns.distplot(r3[['time_btw_first_TVOD_and_first_SVOD']], hist = False, rug = False, label = '4yr tenure')\n",
    "sns.distplot(r2[['time_btw_first_TVOD_and_first_SVOD']], hist = False, rug = False, label = '3yr tenure')\n",
    "sns.distplot(r1[['time_btw_first_TVOD_and_first_SVOD']], hist = False, rug = False, label = '2yr tenure')\n",
    "sns.distplot(r0[['time_btw_first_TVOD_and_first_SVOD']], hist = False, rug = False, label = '1yr tenure')\n",
    "\n",
    "\n",
    "plt.legend()\n",
    "plt.show()"
   ]
  }
 ],
 "metadata": {
  "kernelspec": {
   "display_name": "Python 3",
   "language": "python",
   "name": "python3"
  },
  "language_info": {
   "codemirror_mode": {
    "name": "ipython",
    "version": 3
   },
   "file_extension": ".py",
   "mimetype": "text/x-python",
   "name": "python",
   "nbconvert_exporter": "python",
   "pygments_lexer": "ipython3",
   "version": "3.6.3"
  }
 },
 "nbformat": 4,
 "nbformat_minor": 2
}
