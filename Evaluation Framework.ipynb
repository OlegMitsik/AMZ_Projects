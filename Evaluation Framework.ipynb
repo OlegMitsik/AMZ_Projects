{
 "cells": [
  {
   "cell_type": "code",
   "execution_count": 1,
   "metadata": {
    "collapsed": true
   },
   "outputs": [],
   "source": [
    "import pandas as pd\n",
    "import numpy as np"
   ]
  },
  {
   "cell_type": "code",
   "execution_count": null,
   "metadata": {
    "collapsed": true
   },
   "outputs": [],
   "source": [
    "def rename_cols(df):\n",
    "    df.columns = ['marketplace','encrypted_customer_id','segment',\n",
    "                  'is_pmd_ever','is_pmd_in_this_one','cohort_start_month',\n",
    "                  'revenue','units','is_promo','is_pmd','what_period']\n",
    "    \n",
    "    df['cohort_start_month'] = pd.to_datetime(df['cohort_start_month'])\n",
    "    \n",
    "    return df"
   ]
  },
  {
   "cell_type": "markdown",
   "metadata": {},
   "source": [
    "# Load cohorts by PMD engagement "
   ]
  },
  {
   "cell_type": "code",
   "execution_count": null,
   "metadata": {
    "collapsed": true
   },
   "outputs": [],
   "source": [
    "df1 = pd.read_csv(\"../data/pmd_customers_in_one_campaign.txt\", sep = \"\\t\", header=None)\n",
    "df1 = rename_cols(df1)\n",
    "df1['pmd'] = 'pmd'\n",
    "\n",
    "df2 = pd.read_csv(\"../data/non_pmd_customers.txt\", sep = \"\\t\", header=None)\n",
    "df2 = rename_cols(df2)\n",
    "df2['pmd'] = 'non_pmd'"
   ]
  },
  {
   "cell_type": "code",
   "execution_count": null,
   "metadata": {},
   "outputs": [],
   "source": [
    "print(df1['encrypted_customer_id'].nunique(), df1.shape)\n",
    "print(df2['encrypted_customer_id'].nunique(), df2.shape)"
   ]
  },
  {
   "cell_type": "code",
   "execution_count": null,
   "metadata": {},
   "outputs": [],
   "source": [
    "print(df1['is_pmd_in_this_one'].unique())\n",
    "print(df2['is_pmd_in_this_one'].unique())"
   ]
  },
  {
   "cell_type": "code",
   "execution_count": null,
   "metadata": {
    "collapsed": true
   },
   "outputs": [],
   "source": [
    "frames = [df1,df2]\n",
    "combined_df = pd.concat(frames)"
   ]
  },
  {
   "cell_type": "code",
   "execution_count": null,
   "metadata": {},
   "outputs": [],
   "source": [
    "combined_df.shape[0] == df1.shape[0] + df2.shape[0]"
   ]
  },
  {
   "cell_type": "code",
   "execution_count": null,
   "metadata": {},
   "outputs": [],
   "source": [
    "combined_df.head()"
   ]
  },
  {
   "cell_type": "code",
   "execution_count": null,
   "metadata": {
    "collapsed": true
   },
   "outputs": [],
   "source": [
    "def agg_top_level(df, metric, parameter = None):\n",
    "    \n",
    "    if parameter == 'segment':\n",
    "        aggregates_top_level = df.groupby(['pmd','what_period',parameter]).agg({'revenue':['sum','median'],\n",
    "                                               'units':['sum','median'],\n",
    "                                               'encrypted_customer_id': lambda x: x.nunique()}).reset_index()\n",
    "\n",
    "        aggregates_top_level.columns = aggregates_top_level.columns.droplevel()\n",
    "        aggregates_top_level.columns = ['pmd','what_period',parameter,'revenue_sum','revenue_median',\n",
    "                                   'units_sum','units_median','distinct_customers']\n",
    "\n",
    "        aggregates_top_level['asp']  = aggregates_top_level['revenue_sum'] / aggregates_top_level['units_sum']\n",
    "        aggregates_top_level['upc']  = aggregates_top_level['units_sum'] / aggregates_top_level['distinct_customers']\n",
    "        aggregates_top_level['arpu'] = aggregates_top_level['revenue_sum'] / aggregates_top_level['distinct_customers']\n",
    "\n",
    "        out = pd.pivot_table(aggregates_top_level, index = ['pmd','segment'], columns = 'what_period', values=metric).reset_index()\n",
    "        out['change'] = out['post_period'] / out['pre_period'] - 1\n",
    "        \n",
    "    else: \n",
    "        aggregates_top_level = df.groupby(['pmd','what_period']).agg({'revenue':['sum','median'],\n",
    "                                               'units':['sum','median'],\n",
    "                                               'encrypted_customer_id': lambda x: x.nunique()}).reset_index()\n",
    "\n",
    "        aggregates_top_level.columns = aggregates_top_level.columns.droplevel()\n",
    "        aggregates_top_level.columns = ['pmd','what_period','revenue_sum','revenue_median',\n",
    "                                   'units_sum','units_median','distinct_customers']\n",
    "\n",
    "        aggregates_top_level['asp']  = aggregates_top_level['revenue_sum'] / aggregates_top_level['units_sum']\n",
    "        aggregates_top_level['upc']  = aggregates_top_level['units_sum'] / aggregates_top_level['distinct_customers']\n",
    "        aggregates_top_level['arpu'] = aggregates_top_level['revenue_sum'] / aggregates_top_level['distinct_customers']\n",
    "        \n",
    "        out = pd.pivot_table(aggregates_top_level, index = ['pmd'], columns = 'what_period', values=metric).reset_index()\n",
    "        out['change'] = out['post_period'] / out['pre_period'] - 1\n",
    "        \n",
    "    return aggregates_top_level, out"
   ]
  },
  {
   "cell_type": "markdown",
   "metadata": {},
   "source": [
    "# Top Level PMD"
   ]
  },
  {
   "cell_type": "code",
   "execution_count": null,
   "metadata": {
    "collapsed": true
   },
   "outputs": [],
   "source": [
    "def to_pivot(df):\n",
    "    new_df = pd.pivot_table(df, index = ['encrypted_customer_id', 'segment','cohort_start_month'],\n",
    "                     columns = ['what_period','is_promo', 'is_pmd'], values = ['revenue','units']).reset_index()\n",
    "    new_df = new_df.fillna(0)\n",
    "    return new_df"
   ]
  },
  {
   "cell_type": "code",
   "execution_count": null,
   "metadata": {
    "collapsed": true
   },
   "outputs": [],
   "source": [
    "agg, out = agg_top_level(combined_df, \"arpu\")"
   ]
  },
  {
   "cell_type": "code",
   "execution_count": null,
   "metadata": {},
   "outputs": [],
   "source": [
    "agg.head()"
   ]
  },
  {
   "cell_type": "code",
   "execution_count": null,
   "metadata": {},
   "outputs": [],
   "source": [
    "out"
   ]
  },
  {
   "cell_type": "markdown",
   "metadata": {},
   "source": [
    "# Testing PMD"
   ]
  },
  {
   "cell_type": "code",
   "execution_count": null,
   "metadata": {},
   "outputs": [],
   "source": [
    "# Assert that no one from pre or post period is absent from campaign period\n",
    "print(df1[(df1['what_period'] == 'post_period') \n",
    "    & (~df1['encrypted_customer_id'].isin(df1[df1['what_period'] == 'campaign_period']['encrypted_customer_id']))])\n",
    "print(df1[(df1['what_period'] == 'pre_period') \n",
    "    & (~df1['encrypted_customer_id'].isin(df1[df1['what_period'] == 'campaign_period']['encrypted_customer_id']))])\n",
    "\n",
    "\n",
    "print(df2[(df2['what_period'] == 'post_period') \n",
    "    & (~df2['encrypted_customer_id'].isin(df2[df2['what_period'] == 'campaign_period']['encrypted_customer_id']))])\n",
    "print(df2[(df2['what_period'] == 'pre_period') \n",
    "    & (~df2['encrypted_customer_id'].isin(df2[df2['what_period'] == 'campaign_period']['encrypted_customer_id']))])"
   ]
  },
  {
   "cell_type": "code",
   "execution_count": null,
   "metadata": {
    "collapsed": true
   },
   "outputs": [],
   "source": [
    "agg_deep, out_deep = agg_top_level(combined_df, \"arpu\", \"segment\")"
   ]
  },
  {
   "cell_type": "code",
   "execution_count": null,
   "metadata": {},
   "outputs": [],
   "source": [
    "out_deep.head()"
   ]
  },
  {
   "cell_type": "code",
   "execution_count": null,
   "metadata": {},
   "outputs": [],
   "source": [
    "def max_levels(df, metric):\n",
    "    \n",
    "    d = df.groupby(['pmd','what_period',\"segment\",\"is_promo\",\"is_pmd\"]).agg({'revenue':['sum','median'],\n",
    "                                               'units':['sum','median'],\n",
    "                                               'encrypted_customer_id': lambda x: x.nunique()}).reset_index()\n",
    "\n",
    "    d.columns = d.columns.droplevel()\n",
    "    d.columns = ['pmd','what_period',\"segment\",\"is_promo\",\"is_pmd\",'revenue_sum','revenue_median',\n",
    "                                   'units_sum','units_median','distinct_customers']\n",
    "\n",
    "    d['asp']  = d['revenue_sum'] / d['units_sum']\n",
    "    d['upc']  = d['units_sum'] / d['distinct_customers']\n",
    "    d['arpu'] = d['revenue_sum'] / d['distinct_customers']\n",
    "\n",
    "\n",
    "    out = pd.pivot_table(d, index = ['pmd','segment'], columns = ['what_period','is_promo','is_pmd'], \n",
    "                         values=[metric]).reset_index()   \n",
    "\n",
    "    out.columns = out.columns.droplevel(0)\n",
    "\n",
    "    final = out.iloc[:,[0,1,13,12,11,10,9,8]]\n",
    "\n",
    "    return d, final  "
   ]
  },
  {
   "cell_type": "code",
   "execution_count": null,
   "metadata": {},
   "outputs": [],
   "source": [
    "d, m = max_levels(combined_df,\"revenue_sum\")"
   ]
  },
  {
   "cell_type": "code",
   "execution_count": null,
   "metadata": {},
   "outputs": [],
   "source": [
    "def max_levels_all(df):\n",
    "    \n",
    "    d = df.groupby(['pmd','what_period',\"segment\",\"is_promo\",\"is_pmd\"]).agg({'revenue':['sum','median'],\n",
    "                                               'units':['sum','median'],\n",
    "                                               'encrypted_customer_id': lambda x: x.nunique()}).reset_index()\n",
    "\n",
    "    d.columns = d.columns.droplevel()\n",
    "    d.columns = ['pmd','what_period',\"segment\",\"is_promo\",\"is_pmd\",'revenue_sum','revenue_median',\n",
    "                                   'units_sum','units_median','distinct_customers']\n",
    "\n",
    "    d['asp']  = d['revenue_sum'] / d['units_sum']\n",
    "    d['upc']  = d['units_sum'] / d['distinct_customers']\n",
    "    d['arpu'] = d['revenue_sum'] / d['distinct_customers']\n",
    "\n",
    "\n",
    "    out = pd.pivot_table(d, index = ['pmd','segment'], columns = ['what_period','is_promo','is_pmd'], \n",
    "                         values=['revenue_sum','units_sum','distinct_customers']).reset_index()   \n",
    "\n",
    "   \n",
    "    return d, out"
   ]
  },
  {
   "cell_type": "code",
   "execution_count": null,
   "metadata": {},
   "outputs": [],
   "source": [
    "r, t = max_levels_all(combined_df)"
   ]
  }
 ],
 "metadata": {
  "kernelspec": {
   "display_name": "Python 3",
   "language": "python",
   "name": "python3"
  },
  "language_info": {
   "codemirror_mode": {
    "name": "ipython",
    "version": 3
   },
   "file_extension": ".py",
   "mimetype": "text/x-python",
   "name": "python",
   "nbconvert_exporter": "python",
   "pygments_lexer": "ipython3",
   "version": "3.6.3"
  }
 },
 "nbformat": 4,
 "nbformat_minor": 2
}
