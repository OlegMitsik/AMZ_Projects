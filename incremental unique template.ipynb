{
 "cells": [
  {
   "cell_type": "code",
   "execution_count": 17,
   "metadata": {
    "collapsed": true
   },
   "outputs": [],
   "source": [
    "import pandas as pd\n",
    "import numpy as np"
   ]
  },
  {
   "cell_type": "code",
   "execution_count": 18,
   "metadata": {
    "collapsed": true
   },
   "outputs": [],
   "source": [
    "data = pd.read_csv(\"../Incremental_unique/data/popcorn_pmd.txt\", sep=\"\\t\",\n",
    "                   encoding = \"ISO-8859-1\", header = None)\n",
    "data.columns = ['master_asin','title_name','encrypted_customer_id','units','revenue']"
   ]
  },
  {
   "cell_type": "code",
   "execution_count": 19,
   "metadata": {},
   "outputs": [
    {
     "data": {
      "text/html": [
       "<div>\n",
       "<style>\n",
       "    .dataframe thead tr:only-child th {\n",
       "        text-align: right;\n",
       "    }\n",
       "\n",
       "    .dataframe thead th {\n",
       "        text-align: left;\n",
       "    }\n",
       "\n",
       "    .dataframe tbody tr th {\n",
       "        vertical-align: top;\n",
       "    }\n",
       "</style>\n",
       "<table border=\"1\" class=\"dataframe\">\n",
       "  <thead>\n",
       "    <tr style=\"text-align: right;\">\n",
       "      <th></th>\n",
       "      <th>master_asin</th>\n",
       "      <th>title_name</th>\n",
       "      <th>encrypted_customer_id</th>\n",
       "      <th>units</th>\n",
       "      <th>revenue</th>\n",
       "    </tr>\n",
       "  </thead>\n",
       "  <tbody>\n",
       "    <tr>\n",
       "      <th>0</th>\n",
       "      <td>B07PCKXFRZ</td>\n",
       "      <td>Marvel Studios' Captain Marvel [dt./OV]</td>\n",
       "      <td>A3ROIDMCQM08QC</td>\n",
       "      <td>1</td>\n",
       "      <td>0.83</td>\n",
       "    </tr>\n",
       "    <tr>\n",
       "      <th>1</th>\n",
       "      <td>B00FYITMZM</td>\n",
       "      <td>In meinem Himmel [dt./OV]</td>\n",
       "      <td>A11MNFOUOHHQF1</td>\n",
       "      <td>1</td>\n",
       "      <td>0.83</td>\n",
       "    </tr>\n",
       "    <tr>\n",
       "      <th>2</th>\n",
       "      <td>B071DMKRQB</td>\n",
       "      <td>Guardians of the Galaxy Vol. 2 [dt./OV]</td>\n",
       "      <td>A10O5EFNIT3UGG</td>\n",
       "      <td>1</td>\n",
       "      <td>0.83</td>\n",
       "    </tr>\n",
       "    <tr>\n",
       "      <th>3</th>\n",
       "      <td>B07QLP2YPY</td>\n",
       "      <td>Escape Room [dt./OV]</td>\n",
       "      <td>A6JL85IN8IHQ6</td>\n",
       "      <td>1</td>\n",
       "      <td>0.83</td>\n",
       "    </tr>\n",
       "    <tr>\n",
       "      <th>4</th>\n",
       "      <td>B01MQXW497</td>\n",
       "      <td>Vaiana [dt./OV]</td>\n",
       "      <td>AJQUIKLIMH42K</td>\n",
       "      <td>1</td>\n",
       "      <td>0.83</td>\n",
       "    </tr>\n",
       "  </tbody>\n",
       "</table>\n",
       "</div>"
      ],
      "text/plain": [
       "  master_asin                               title_name encrypted_customer_id  \\\n",
       "0  B07PCKXFRZ  Marvel Studios' Captain Marvel [dt./OV]        A3ROIDMCQM08QC   \n",
       "1  B00FYITMZM                In meinem Himmel [dt./OV]        A11MNFOUOHHQF1   \n",
       "2  B071DMKRQB  Guardians of the Galaxy Vol. 2 [dt./OV]        A10O5EFNIT3UGG   \n",
       "3  B07QLP2YPY                     Escape Room [dt./OV]         A6JL85IN8IHQ6   \n",
       "4  B01MQXW497                          Vaiana [dt./OV]         AJQUIKLIMH42K   \n",
       "\n",
       "   units  revenue  \n",
       "0      1     0.83  \n",
       "1      1     0.83  \n",
       "2      1     0.83  \n",
       "3      1     0.83  \n",
       "4      1     0.83  "
      ]
     },
     "execution_count": 19,
     "metadata": {},
     "output_type": "execute_result"
    }
   ],
   "source": [
    "data.head()"
   ]
  },
  {
   "cell_type": "code",
   "execution_count": 20,
   "metadata": {},
   "outputs": [],
   "source": [
    "# grouped = data.groupby(\"master_asin\")['encrypted_customer_id'].nunique().reset_index()\n",
    "# grouped = grouped.sort_values(by = 'encrypted_customer_id', ascending = False).reset_index()\n",
    "# grouped = grouped.drop(['index'], axis = 1)\n",
    "# grouped.head()"
   ]
  },
  {
   "cell_type": "markdown",
   "metadata": {},
   "source": [
    "# Dictionary with unique customers"
   ]
  },
  {
   "cell_type": "code",
   "execution_count": 21,
   "metadata": {},
   "outputs": [],
   "source": [
    "# to_check = ['B07PCKXFRZ','B07TBXWYW4']\n",
    "\n",
    "# saved_dict = {}\n",
    "# saved_dict = saved_dict.fromkeys(to_check)\n",
    "# saved_dict"
   ]
  },
  {
   "cell_type": "code",
   "execution_count": 22,
   "metadata": {},
   "outputs": [],
   "source": [
    "# for i in to_check:\n",
    "#     print(i)"
   ]
  },
  {
   "cell_type": "code",
   "execution_count": 23,
   "metadata": {
    "collapsed": true
   },
   "outputs": [],
   "source": [
    "# for k,v in saved_dict.items():\n",
    "#     if data[data['master_asin'].isin([k])]['encrypted_customer_id'].values.any() not in saved_dict:\n",
    "#         saved_dict.update({k:data[data['master_asin'].isin([k])]['encrypted_customer_id'].unique()})"
   ]
  },
  {
   "cell_type": "code",
   "execution_count": 24,
   "metadata": {},
   "outputs": [],
   "source": [
    "# saved_dict"
   ]
  },
  {
   "cell_type": "code",
   "execution_count": 25,
   "metadata": {},
   "outputs": [],
   "source": [
    "# for key in saved_dict.keys():\n",
    "#     print(key, len(saved_dict[key]))"
   ]
  },
  {
   "cell_type": "markdown",
   "metadata": {},
   "source": [
    "# Another approach"
   ]
  },
  {
   "cell_type": "code",
   "execution_count": 26,
   "metadata": {
    "collapsed": true
   },
   "outputs": [],
   "source": [
    "def f(x):\n",
    "    d = {}\n",
    "    d['count'] = x['encrypted_customer_id'].nunique()\n",
    "    d['list'] = x['encrypted_customer_id'].unique()\n",
    "       \n",
    "    return pd.Series(d, index = ['count','list'])"
   ]
  },
  {
   "cell_type": "code",
   "execution_count": 27,
   "metadata": {
    "collapsed": true
   },
   "outputs": [],
   "source": [
    "new_df = data.groupby('master_asin').apply(f).reset_index()\n",
    "new_df = new_df.sort_values(by = 'count', ascending = False).reset_index()\n",
    "new_df = new_df.drop(['index'], axis = 1)"
   ]
  },
  {
   "cell_type": "code",
   "execution_count": 28,
   "metadata": {
    "collapsed": true
   },
   "outputs": [],
   "source": [
    "subset = new_df.iloc[:,:]"
   ]
  },
  {
   "cell_type": "code",
   "execution_count": 29,
   "metadata": {
    "collapsed": true
   },
   "outputs": [],
   "source": [
    "# for index, row in subset.iterrows():\n",
    "#     print(index, row['master_asin'], row['list'], len(row['list']) )"
   ]
  },
  {
   "cell_type": "code",
   "execution_count": 30,
   "metadata": {
    "collapsed": true
   },
   "outputs": [],
   "source": [
    "output = []\n",
    "new_set = set()\n",
    "for index, row in subset.iterrows():\n",
    "    #print(len(new_set))\n",
    "    new_set.update(row['list'])\n",
    "    #print(\"Updated set:\" , len(new_set))\n",
    "    output.append(len(new_set))"
   ]
  },
  {
   "cell_type": "code",
   "execution_count": 31,
   "metadata": {},
   "outputs": [
    {
     "data": {
      "text/plain": [
       "[98248, 135788, 159418, 172313, 183677, 193420, 198100, 201765, 206216, 209405]"
      ]
     },
     "execution_count": 31,
     "metadata": {},
     "output_type": "execute_result"
    }
   ],
   "source": [
    "output[0:10]"
   ]
  }
 ],
 "metadata": {
  "kernelspec": {
   "display_name": "Python 3",
   "language": "python",
   "name": "python3"
  },
  "language_info": {
   "codemirror_mode": {
    "name": "ipython",
    "version": 3
   },
   "file_extension": ".py",
   "mimetype": "text/x-python",
   "name": "python",
   "nbconvert_exporter": "python",
   "pygments_lexer": "ipython3",
   "version": "3.6.3"
  }
 },
 "nbformat": 4,
 "nbformat_minor": 2
}
